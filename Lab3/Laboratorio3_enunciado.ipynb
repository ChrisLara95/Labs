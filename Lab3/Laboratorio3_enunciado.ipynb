{
 "cells": [
  {
   "cell_type": "markdown",
   "metadata": {
    "cell_id": "00000-ae4bce0d-d467-4e5f-a49a-58fb5129bd6c",
    "deepnote_cell_type": "markdown",
    "id": "XUZ1dFPHzAHl"
   },
   "source": [
    "<h1><center>Laboratorio 3: El Pandas no muerde (act. I) 🐼</center></h1>\n",
    "\n",
    "<center><strong>MDS7202: Laboratorio de Programación Científica para Ciencia de Datos</strong></center>"
   ]
  },
  {
   "cell_type": "markdown",
   "metadata": {
    "cell_id": "00001-c0f83a9b-e822-4864-8c65-718da74b60b9",
    "deepnote_cell_type": "markdown",
    "id": "UD8X1uhGzAHq"
   },
   "source": [
    "### Cuerpo Docente:\n",
    "\n",
    "- Profesor: Pablo Badilla\n",
    "- Auxiliar: Ignacio Meza D.\n",
    "- Ayudante: Constanza Peña"
   ]
  },
  {
   "cell_type": "markdown",
   "metadata": {
    "cell_id": "00002-155246d6-4c8d-43be-872f-880dede73522",
    "deepnote_cell_type": "markdown",
    "id": "tXflExjqzAHr"
   },
   "source": [
    "### Equipo: SUPER IMPORTANTE - notebooks sin nombre no serán revisados\n",
    "\n",
    "- Nombre de alumno 1: Christopher Lara \n",
    "- Nombre de alumno 2: Abiam Tamburrini\n"
   ]
  },
  {
   "cell_type": "markdown",
   "metadata": {
    "cell_id": "00003-97391d1f-df36-4c70-90b7-bfd91cd6e49e",
    "deepnote_cell_type": "markdown",
    "id": "AD-V0bbZzAHr"
   },
   "source": [
    "### **Link de repositorio de GitHub:** `https://github.com/ChrisLara95/Labs.git`"
   ]
  },
  {
   "cell_type": "markdown",
   "metadata": {
    "cell_id": "00004-0e0866f8-5d50-4988-906a-d868ede07df1",
    "deepnote_cell_type": "markdown",
    "tags": []
   },
   "source": [
    "### Reglas:\n",
    "\n",
    "- Fecha de entrega: 1 de octubre (atrasos hasta el x de octubre, 1 pto de descuento por día)\n",
    "- **Grupos de máximo 2 personas**\n",
    "- **Ausentes** deberán realizar la actividad solos. \n",
    "- Cualquier duda fuera del horario de clases al foro. Mensajes al equipo docente serán respondidos por este medio.\n",
    "- Prohibidas las copias. \n",
    "- Pueden usar cualquer matrial del curso que estimen conveniente."
   ]
  },
  {
   "cell_type": "markdown",
   "metadata": {
    "cell_id": "00005-ea6a4d75-61c0-4a2b-ac8d-1ac736216350",
    "deepnote_cell_type": "markdown",
    "tags": []
   },
   "source": [
    "### Temas a tratar\n",
    "\n",
    "- Introducción al manejo de datos tabulares por medio de la libreria `pandas`."
   ]
  },
  {
   "cell_type": "markdown",
   "metadata": {
    "cell_id": "00006-fbe17074-fb3c-4ddb-bb19-2bfd042bf921",
    "deepnote_cell_type": "markdown",
    "id": "6uBLPj1PzAHs"
   },
   "source": [
    "### Objetivos principales del laboratorio\n",
    "\n",
    "- Entender, aplicar y aprovechar las ventajas que nos ofrece la libreria `pandas` para manejar datos tabulares.\n",
    "- Aprender a utilizar la documentación de pandas (y en general, de cualquier librería de python) como también a buscar soluciones en la web.\n",
    "\n",
    "> **Nota**: El laboratorio deberá ser desarrollado sin el uso indiscriminado de iteradores nativos de python (aka \"for\", \"while\"). La idea es que aprendan a exprimir al máximo las funciones optimizadas que nos entrega `pandas`, las cuales vale mencionar, son bastante más eficientes que los iteradores nativos sobre DataFrames."
   ]
  },
  {
   "cell_type": "markdown",
   "metadata": {
    "cell_id": "00007-93c4d22f-7d4f-4cc0-bca9-a2c35a9b8b3e",
    "deepnote_cell_type": "markdown",
    "id": "MhISwri4zAHy"
   },
   "source": [
    "### Librerias utiles para el Lab 😸"
   ]
  },
  {
   "cell_type": "code",
   "execution_count": 1,
   "metadata": {
    "ExecuteTime": {
     "end_time": "2021-03-29T00:08:16.884674Z",
     "start_time": "2021-03-29T00:08:16.349846Z"
    },
    "cell_id": "00008-58834915-07fa-4589-93b7-f1fb0c08b816",
    "colab": {
     "base_uri": "https://localhost:8080/"
    },
    "deepnote_cell_type": "code",
    "deepnote_to_be_reexecuted": false,
    "executionInfo": {
     "elapsed": 4847,
     "status": "ok",
     "timestamp": 1619205948702,
     "user": {
      "displayName": "IGNACIO ALEJANDRO MEZA",
      "photoUrl": "",
      "userId": "17011121633069169364"
     },
     "user_tz": 240
    },
    "execution_millis": 4154,
    "execution_start": 1632493418117,
    "id": "uyc33dKdzAHy",
    "outputId": "0b8ebbb5-c76c-45a4-9d3e-1b6dba06a278",
    "source_hash": "8da0b14b"
   },
   "outputs": [
    {
     "name": "stdout",
     "output_type": "stream",
     "text": [
      "Requirement already satisfied: plotly in /home/abiam/anaconda3/envs/ds/lib/python3.8/site-packages (5.1.0)\n",
      "Collecting plotly\n",
      "  Using cached plotly-5.3.1-py2.py3-none-any.whl (23.9 MB)\n",
      "Requirement already satisfied: six in /home/abiam/anaconda3/envs/ds/lib/python3.8/site-packages (from plotly) (1.15.0)\n",
      "Requirement already satisfied: tenacity>=6.2.0 in /home/abiam/anaconda3/envs/ds/lib/python3.8/site-packages (from plotly) (6.3.1)\n",
      "Installing collected packages: plotly\n",
      "  Attempting uninstall: plotly\n",
      "    Found existing installation: plotly 5.1.0\n",
      "    Uninstalling plotly-5.1.0:\n",
      "      Successfully uninstalled plotly-5.1.0\n",
      "Successfully installed plotly-5.3.1\n"
     ]
    }
   ],
   "source": [
    "# Libreria Core del lab.\n",
    "import numpy as np\n",
    "import pandas as pd\n",
    "from IPython.display import display\n",
    "\n",
    "#Libreria para plotear\n",
    "!pip install --upgrade plotly\n",
    "import plotly.express as px\n",
    "\n",
    "# Librerias utiles\n",
    "from sklearn.preprocessing import StandardScaler"
   ]
  },
  {
   "cell_type": "markdown",
   "metadata": {
    "cell_id": "00009-429ae3f2-fb38-4b64-b588-014a84e630dd",
    "deepnote_cell_type": "markdown",
    "id": "xpOTbQcxbSiy"
   },
   "source": [
    "# 1. Rendimiento en Estudiantes 📚"
   ]
  },
  {
   "cell_type": "markdown",
   "metadata": {
    "cell_id": "00010-37be44cf-4558-4ba9-83df-767bf4f1905d",
    "deepnote_cell_type": "markdown",
    "id": "3Q93vbNS25bM"
   },
   "source": []
  },
  {
   "cell_type": "markdown",
   "metadata": {
    "cell_id": "00011-2ad31a90-832d-4d5e-9c29-4e5d686375fa",
    "deepnote_cell_type": "markdown",
    "id": "jnmZfFpxTTYX"
   },
   "source": [
    "Para este laboratorio deberán trabajar con el dataset `students_grades.json` el cual contiene información sobre el rendimiento de alumnos en distintos ramos. \n",
    "El objetivo principal será el de realizar un trabajo de limpieza de prepración y exploración de datos utilizando exclusivamente `DataFrames` y sus métodos asociados. \n",
    "\n",
    "\n"
   ]
  },
  {
   "cell_type": "code",
   "execution_count": 2,
   "metadata": {
    "cell_id": "00012-6ef52018-06ac-4eb8-8b0a-4142b81e04aa",
    "colab": {
     "base_uri": "https://localhost:8080/"
    },
    "deepnote_cell_type": "code",
    "deepnote_to_be_reexecuted": false,
    "executionInfo": {
     "elapsed": 625,
     "status": "ok",
     "timestamp": 1619205948705,
     "user": {
      "displayName": "IGNACIO ALEJANDRO MEZA",
      "photoUrl": "",
      "userId": "17011121633069169364"
     },
     "user_tz": 240
    },
    "execution_millis": 8,
    "execution_start": 1632493422315,
    "id": "Jqq-s010Iwl1",
    "outputId": "d90c065b-1e2f-43f6-81eb-c92ed177f5f5",
    "source_hash": "c60dc4a7"
   },
   "outputs": [
    {
     "name": "stdout",
     "output_type": "stream",
     "text": [
      "Ignorando conexión drive-colab\n"
     ]
    }
   ],
   "source": [
    "# Si usted está utilizando Colabolatory le puede ser útil este código para cargar los archivos.\n",
    "try:\n",
    "    from google.colab import drive\n",
    "    drive.mount(\"/content/drive\")\n",
    "    path = 'Dirección donde tiene los archivos en el Drive'\n",
    "except: \n",
    "    print('Ignorando conexión drive-colab')"
   ]
  },
  {
   "cell_type": "markdown",
   "metadata": {
    "cell_id": "00013-61182eec-37fa-401b-8e56-9aec91671835",
    "deepnote_cell_type": "markdown",
    "id": "Y7sGYwOpN1VJ"
   },
   "source": [
    "## 1.1 Carga e Inspección de Datos [1.5 Puntos]\n",
    "\n",
    "\n",
    "<p align=\"center\">\n",
    "  <img src=\"https://drive.google.com/uc?export=view&id=1hZZaPQlZe4VupFOXt76_wjuUA5NpUhrw\" width=\"300\" height=\"300\">\n",
    "</p>\n"
   ]
  },
  {
   "cell_type": "markdown",
   "metadata": {
    "cell_id": "00014-19b7ef4c-d646-4d3c-bc96-0fcf03730924",
    "deepnote_cell_type": "markdown",
    "tags": []
   },
   "source": [
    "*Don Caguayo*, rector de la Universidad de la Cachaña, les comenta que actualmente la Universidad no tiene una subdirección de análisis de datos, pero que tiene un gran interés en formar una. Es por esto, que se contacta con ud. y su equipo para iniciar de forma exploratoria diversas tareas de análisis y consolidación de datos respectivos al rendimiento de sus alumnos.\n",
    "\n",
    "Previo a su primera reunión con el rector, el rector le envía una copia de la base de datos, la cuál a usted y su equipo le encantaría examinar. Para esto, la primera tarea que debe realizar es abrir y cargar el dataset. \n",
    "\n",
    "\n",
    "> **Notar que es sumamente importante el formato que posee cada columna** para su manipulación y que posiblemente ustedes deberán especificar algunos tipos de datos a mano. Ver la documentación del método `read_json` para mayor información.\n",
    "\n",
    "A continuación se muestra un ejemplo de los dos primeros registros del dataset:\n",
    "\n",
    "```json\n",
    "[\n",
    "  {\n",
    "    \"names\": \"Rita Courtney\",\n",
    "    \"gender\": \"female\",\n",
    "    \"race/ethnicity\": \"group B\",\n",
    "    \"parental level of education\": \"some high school\",\n",
    "    \"lunch\": \"standard\",\n",
    "    \"test preparation course\": \"none\",\n",
    "    \"math score\": 37,\n",
    "    \"reading score\": 46,\n",
    "    \"writing score\": 46\n",
    "  },\n",
    "  {\n",
    "    \"names\": \"Madeline Fuller\",\n",
    "    \"gender\": \"female\",\n",
    "    \"race/ethnicity\": \"group C\",\n",
    "    \"parental level of education\": \"some high school\",\n",
    "    \"lunch\": \"standard\",\n",
    "    \"test preparation course\": \"none\",\n",
    "    \"math score\": 124,\n",
    "    \"reading score\": 142,\n",
    "    \"writing score\": 142\n",
    "  }\n",
    "]\n",
    "```\n",
    "\n",
    "\n",
    "\n"
   ]
  },
  {
   "cell_type": "code",
   "execution_count": 3,
   "metadata": {
    "cell_id": "00014-cf0912c5-504c-459e-a7cb-0bfae6cff886",
    "deepnote_cell_type": "code",
    "tags": []
   },
   "outputs": [
    {
     "data": {
      "text/html": [
       "<div>\n",
       "<style scoped>\n",
       "    .dataframe tbody tr th:only-of-type {\n",
       "        vertical-align: middle;\n",
       "    }\n",
       "\n",
       "    .dataframe tbody tr th {\n",
       "        vertical-align: top;\n",
       "    }\n",
       "\n",
       "    .dataframe thead th {\n",
       "        text-align: right;\n",
       "    }\n",
       "</style>\n",
       "<table border=\"1\" class=\"dataframe\">\n",
       "  <thead>\n",
       "    <tr style=\"text-align: right;\">\n",
       "      <th></th>\n",
       "      <th>names</th>\n",
       "      <th>gender</th>\n",
       "      <th>race/ethnicity</th>\n",
       "      <th>parental level of education</th>\n",
       "      <th>lunch</th>\n",
       "      <th>test preparation course</th>\n",
       "      <th>math score</th>\n",
       "      <th>reading score</th>\n",
       "      <th>writing score</th>\n",
       "    </tr>\n",
       "  </thead>\n",
       "  <tbody>\n",
       "    <tr>\n",
       "      <th>0</th>\n",
       "      <td>Rita Courtney</td>\n",
       "      <td>female</td>\n",
       "      <td>group B</td>\n",
       "      <td>some high school</td>\n",
       "      <td>standard</td>\n",
       "      <td>none</td>\n",
       "      <td>37</td>\n",
       "      <td>46</td>\n",
       "      <td>46</td>\n",
       "    </tr>\n",
       "    <tr>\n",
       "      <th>1</th>\n",
       "      <td>Madeline Fuller</td>\n",
       "      <td>female</td>\n",
       "      <td>group C</td>\n",
       "      <td>some high school</td>\n",
       "      <td>standard</td>\n",
       "      <td>none</td>\n",
       "      <td>124</td>\n",
       "      <td>142</td>\n",
       "      <td>142</td>\n",
       "    </tr>\n",
       "    <tr>\n",
       "      <th>2</th>\n",
       "      <td>Daniel Rester</td>\n",
       "      <td>male</td>\n",
       "      <td>group E</td>\n",
       "      <td>associate's degree</td>\n",
       "      <td>standard</td>\n",
       "      <td>none</td>\n",
       "      <td>156</td>\n",
       "      <td>196</td>\n",
       "      <td>193</td>\n",
       "    </tr>\n",
       "    <tr>\n",
       "      <th>3</th>\n",
       "      <td>Charles Linstrom</td>\n",
       "      <td>male</td>\n",
       "      <td>group A</td>\n",
       "      <td>bachelor's degree</td>\n",
       "      <td>standard</td>\n",
       "      <td>completed</td>\n",
       "      <td>80</td>\n",
       "      <td>78</td>\n",
       "      <td>81</td>\n",
       "    </tr>\n",
       "    <tr>\n",
       "      <th>4</th>\n",
       "      <td>Geraldine Hale</td>\n",
       "      <td>female</td>\n",
       "      <td>group A</td>\n",
       "      <td>associate's degree</td>\n",
       "      <td>standard</td>\n",
       "      <td>none</td>\n",
       "      <td>131</td>\n",
       "      <td>166</td>\n",
       "      <td>166</td>\n",
       "    </tr>\n",
       "    <tr>\n",
       "      <th>...</th>\n",
       "      <td>...</td>\n",
       "      <td>...</td>\n",
       "      <td>...</td>\n",
       "      <td>...</td>\n",
       "      <td>...</td>\n",
       "      <td>...</td>\n",
       "      <td>...</td>\n",
       "      <td>...</td>\n",
       "      <td>...</td>\n",
       "    </tr>\n",
       "    <tr>\n",
       "      <th>1395</th>\n",
       "      <td>Alexander Dillon</td>\n",
       "      <td>male</td>\n",
       "      <td>group D</td>\n",
       "      <td>associate's degree</td>\n",
       "      <td>standard</td>\n",
       "      <td>none</td>\n",
       "      <td>193</td>\n",
       "      <td>142</td>\n",
       "      <td>193</td>\n",
       "    </tr>\n",
       "    <tr>\n",
       "      <th>1396</th>\n",
       "      <td>Marina Zeigler</td>\n",
       "      <td>female</td>\n",
       "      <td>group C</td>\n",
       "      <td>bachelor's degree</td>\n",
       "      <td>free/reduced</td>\n",
       "      <td>completed</td>\n",
       "      <td>66</td>\n",
       "      <td>74</td>\n",
       "      <td>81</td>\n",
       "    </tr>\n",
       "    <tr>\n",
       "      <th>1397</th>\n",
       "      <td>Laurie Carter</td>\n",
       "      <td>female</td>\n",
       "      <td>group B</td>\n",
       "      <td>some high school</td>\n",
       "      <td>standard</td>\n",
       "      <td>completed</td>\n",
       "      <td>54</td>\n",
       "      <td>61</td>\n",
       "      <td>62</td>\n",
       "    </tr>\n",
       "    <tr>\n",
       "      <th>1398</th>\n",
       "      <td>Joseph Mccoy</td>\n",
       "      <td>male</td>\n",
       "      <td>group D</td>\n",
       "      <td>some college</td>\n",
       "      <td>free/reduced</td>\n",
       "      <td>none</td>\n",
       "      <td>193</td>\n",
       "      <td>196</td>\n",
       "      <td>193</td>\n",
       "    </tr>\n",
       "    <tr>\n",
       "      <th>1399</th>\n",
       "      <td>Amanda Perez</td>\n",
       "      <td>female</td>\n",
       "      <td>group A</td>\n",
       "      <td>high school</td>\n",
       "      <td>standard</td>\n",
       "      <td>completed</td>\n",
       "      <td>68</td>\n",
       "      <td>80</td>\n",
       "      <td>76</td>\n",
       "    </tr>\n",
       "  </tbody>\n",
       "</table>\n",
       "<p>1400 rows × 9 columns</p>\n",
       "</div>"
      ],
      "text/plain": [
       "                 names  gender race/ethnicity parental level of education  \\\n",
       "0        Rita Courtney  female        group B            some high school   \n",
       "1      Madeline Fuller  female        group C            some high school   \n",
       "2        Daniel Rester    male        group E          associate's degree   \n",
       "3     Charles Linstrom    male        group A           bachelor's degree   \n",
       "4       Geraldine Hale  female        group A          associate's degree   \n",
       "...                ...     ...            ...                         ...   \n",
       "1395  Alexander Dillon    male        group D          associate's degree   \n",
       "1396    Marina Zeigler  female        group C           bachelor's degree   \n",
       "1397     Laurie Carter  female        group B            some high school   \n",
       "1398      Joseph Mccoy    male        group D                some college   \n",
       "1399      Amanda Perez  female        group A                 high school   \n",
       "\n",
       "             lunch test preparation course math score reading score  \\\n",
       "0         standard                    none         37            46   \n",
       "1         standard                    none        124           142   \n",
       "2         standard                    none        156           196   \n",
       "3         standard               completed         80            78   \n",
       "4         standard                    none        131           166   \n",
       "...            ...                     ...        ...           ...   \n",
       "1395      standard                    none        193           142   \n",
       "1396  free/reduced               completed         66            74   \n",
       "1397      standard               completed         54            61   \n",
       "1398  free/reduced                    none        193           196   \n",
       "1399      standard               completed         68            80   \n",
       "\n",
       "     writing score  \n",
       "0               46  \n",
       "1              142  \n",
       "2              193  \n",
       "3               81  \n",
       "4              166  \n",
       "...            ...  \n",
       "1395           193  \n",
       "1396            81  \n",
       "1397            62  \n",
       "1398           193  \n",
       "1399            76  \n",
       "\n",
       "[1400 rows x 9 columns]"
      ]
     },
     "execution_count": 3,
     "metadata": {},
     "output_type": "execute_result"
    }
   ],
   "source": [
    "df_grades = pd.read_json('./students_grades.json')\n",
    "df_grades"
   ]
  },
  {
   "cell_type": "markdown",
   "metadata": {
    "cell_id": "00014-21b2a755-ee5d-4b46-88cc-1d6ec13f2d8e",
    "deepnote_cell_type": "markdown",
    "id": "sgVJGeVMMshn"
   },
   "source": [
    "\n",
    "<p align=\"center\">\n",
    "  <img src=\"https://media2.giphy.com/media/4FQMuOKR6zQRO/giphy.gif?cid=ecf05e47ii9lhu9tc9tb31d6lafrysp2zyf6u8w3y348mk8t&rid=giphy.gif&ct=g\">\n",
    "</p>\n",
    "\n",
    "\n",
    "Posteriormente, el rector les comenta que la sección de TI posee una base de datos con más de **875** filas, en donde cada fila representa un alumno matriculado. Sin embargo, cree fuertemente que existen errores en esta: solo tiene registro de **875** matriculas. Por este motivo, especula que se han realizado malas prácticas al registrar dichos datos.\n",
    "\n",
    "En consecuencia, el rector les solicita a ustedes como tarea inicial que exploren la base de datos y encuentre posibles falencias dentro de sus registros. Para esto, usted debe estar al tanto que las notas están en una escala que van del **0 al 100** (porcentaje de logro) y **no es posible que un alumno haya dado más de una vez el mismo examen**. Cualquier alumno que posea un valor diferente a esta escala, debería ser eliminado de la base de datos.\n",
    "\n",
    "\n",
    "\n",
    "HACER FILTRO LOC RESPECTO AL PORCENTAJE Y A LA RENDICIÓN\n"
   ]
  },
  {
   "cell_type": "markdown",
   "metadata": {
    "cell_id": "00015-e3e66248-1ff0-488e-8455-35ab2d49d172",
    "deepnote_cell_type": "markdown",
    "tags": []
   },
   "source": [
    "> **Instrucciones**\n",
    "\n",
    "**Cree una función** que tome un `DataFrame` y que le permita revisar si las diferentes variables que lo componen son coherentes y si es posible observar anomalías en estas. \n",
    "\n",
    "**To-Do**\n",
    "1. [X] Imprimir un mensaje con las dimensiones del Dataframe.\n",
    "2. [X] Imprimir un mensaje con los nombres de las columnas que conforman el DataFrame.\n",
    "3. [X] Mostrar los primeros 5, los últimos 5 elementos del DataFrame y realice un muestreo de 5 elementos de forma aleatoria.\n",
    "4. [X] Mostrar una descripción rápida de las variables numéricas del DataFrame (utilice un método visto en clases).\n",
    "5. [X] Imprimir un mensaje con la cantidad de valores nulos (investigue el método `isna()` y `sum()` de los DataFrames).\n",
    "6. [X] Imprimir un mensaje que detalle la cantidad de valores unicos (investigue `nunique()`) .\n",
    "7. [X] Imprimir un mensaje con el total de filas que contengan nombres duplicados (investigue `duplicated()` y su parámetro `subset`).\n",
    "8. [X] Mostrar las filas que contengan nombres sean duplicados (investigue `duplicated()` y su parámetro `subset`).\n",
    "9. [X] A traves de `.plot.box()` plotear el boxplot de las notas. De ser necesario, invetigue como funcionan los gráficos de caja (esta sección es provista).\n",
    "10. [X] Finalmente responda la siguiente pregunta:\n",
    "\n",
    "> ¿Que anomalias es posible observar de los datos que componen el DataFrame? ¿Existen valores nulos o duplicados? ¿Qué puede interpretar de la distribución de las notas en el boxplot? (), comente esto en la celda ubicada debajo de **justificación**.\n",
    "\n",
    "> **Nota:** Para imprmir utilice `print(...)`. Para mostrar `DataFrames`, utilice `display(...)` ya que este permite mostrar estos elementos como tablas.\n",
    "\n",
    "> **Nota 2:** Utilice la documentación de [pandas](https://pandas.pydata.org/docs/index.html) como también StackOverflow para resolver cualquier problema o inconveniente.\n",
    "\n",
    "> **Nota 3:** Si no ha trabajado con boxplot antes, el siguiente link puede serle de mucha ayuda: [boxplot](https://medium.com/dayem-siddiqui/understanding-and-interpreting-box-plots-d07aab9d1b6c) "
   ]
  },
  {
   "cell_type": "markdown",
   "metadata": {
    "cell_id": "00016-f844817e-2dbb-4ef6-8b07-bfb37043bb52",
    "deepnote_cell_type": "markdown",
    "tags": []
   },
   "source": [
    "**Respuesta:**"
   ]
  },
  {
   "cell_type": "code",
   "execution_count": 4,
   "metadata": {
    "cell_id": "00017-5f922af5-3edd-4012-8688-1573576c2703",
    "deepnote_cell_type": "code",
    "tags": []
   },
   "outputs": [
    {
     "name": "stdout",
     "output_type": "stream",
     "text": [
      "1.- El Dataframe tiene 1400 filas y 9 columnas \n",
      "\n",
      "2.- El DataFrame está compuesto por las siguientes columnas: ['names', 'gender', 'race/ethnicity', 'parental level of education', 'lunch', 'test preparation course', 'math score', 'reading score', 'writing score']\n",
      "\n",
      "3.- El ejemplo de las filas del DataFrame: \n",
      " \n",
      "Primeras 5 lineas:\n"
     ]
    },
    {
     "data": {
      "text/html": [
       "<div>\n",
       "<style scoped>\n",
       "    .dataframe tbody tr th:only-of-type {\n",
       "        vertical-align: middle;\n",
       "    }\n",
       "\n",
       "    .dataframe tbody tr th {\n",
       "        vertical-align: top;\n",
       "    }\n",
       "\n",
       "    .dataframe thead th {\n",
       "        text-align: right;\n",
       "    }\n",
       "</style>\n",
       "<table border=\"1\" class=\"dataframe\">\n",
       "  <thead>\n",
       "    <tr style=\"text-align: right;\">\n",
       "      <th></th>\n",
       "      <th>names</th>\n",
       "      <th>gender</th>\n",
       "      <th>race/ethnicity</th>\n",
       "      <th>parental level of education</th>\n",
       "      <th>lunch</th>\n",
       "      <th>test preparation course</th>\n",
       "      <th>math score</th>\n",
       "      <th>reading score</th>\n",
       "      <th>writing score</th>\n",
       "    </tr>\n",
       "  </thead>\n",
       "  <tbody>\n",
       "    <tr>\n",
       "      <th>0</th>\n",
       "      <td>Rita Courtney</td>\n",
       "      <td>female</td>\n",
       "      <td>group B</td>\n",
       "      <td>some high school</td>\n",
       "      <td>standard</td>\n",
       "      <td>none</td>\n",
       "      <td>37.0</td>\n",
       "      <td>46.0</td>\n",
       "      <td>46.0</td>\n",
       "    </tr>\n",
       "    <tr>\n",
       "      <th>1</th>\n",
       "      <td>Madeline Fuller</td>\n",
       "      <td>female</td>\n",
       "      <td>group C</td>\n",
       "      <td>some high school</td>\n",
       "      <td>standard</td>\n",
       "      <td>none</td>\n",
       "      <td>124.0</td>\n",
       "      <td>142.0</td>\n",
       "      <td>142.0</td>\n",
       "    </tr>\n",
       "    <tr>\n",
       "      <th>2</th>\n",
       "      <td>Daniel Rester</td>\n",
       "      <td>male</td>\n",
       "      <td>group E</td>\n",
       "      <td>associate's degree</td>\n",
       "      <td>standard</td>\n",
       "      <td>none</td>\n",
       "      <td>156.0</td>\n",
       "      <td>196.0</td>\n",
       "      <td>193.0</td>\n",
       "    </tr>\n",
       "    <tr>\n",
       "      <th>3</th>\n",
       "      <td>Charles Linstrom</td>\n",
       "      <td>male</td>\n",
       "      <td>group A</td>\n",
       "      <td>bachelor's degree</td>\n",
       "      <td>standard</td>\n",
       "      <td>completed</td>\n",
       "      <td>80.0</td>\n",
       "      <td>78.0</td>\n",
       "      <td>81.0</td>\n",
       "    </tr>\n",
       "    <tr>\n",
       "      <th>4</th>\n",
       "      <td>Geraldine Hale</td>\n",
       "      <td>female</td>\n",
       "      <td>group A</td>\n",
       "      <td>associate's degree</td>\n",
       "      <td>standard</td>\n",
       "      <td>none</td>\n",
       "      <td>131.0</td>\n",
       "      <td>166.0</td>\n",
       "      <td>166.0</td>\n",
       "    </tr>\n",
       "  </tbody>\n",
       "</table>\n",
       "</div>"
      ],
      "text/plain": [
       "              names  gender race/ethnicity parental level of education  \\\n",
       "0     Rita Courtney  female        group B            some high school   \n",
       "1   Madeline Fuller  female        group C            some high school   \n",
       "2     Daniel Rester    male        group E          associate's degree   \n",
       "3  Charles Linstrom    male        group A           bachelor's degree   \n",
       "4    Geraldine Hale  female        group A          associate's degree   \n",
       "\n",
       "      lunch test preparation course  math score  reading score  writing score  \n",
       "0  standard                    none        37.0           46.0           46.0  \n",
       "1  standard                    none       124.0          142.0          142.0  \n",
       "2  standard                    none       156.0          196.0          193.0  \n",
       "3  standard               completed        80.0           78.0           81.0  \n",
       "4  standard                    none       131.0          166.0          166.0  "
      ]
     },
     "metadata": {},
     "output_type": "display_data"
    },
    {
     "name": "stdout",
     "output_type": "stream",
     "text": [
      "Últimas 5 lineas:\n"
     ]
    },
    {
     "data": {
      "text/html": [
       "<div>\n",
       "<style scoped>\n",
       "    .dataframe tbody tr th:only-of-type {\n",
       "        vertical-align: middle;\n",
       "    }\n",
       "\n",
       "    .dataframe tbody tr th {\n",
       "        vertical-align: top;\n",
       "    }\n",
       "\n",
       "    .dataframe thead th {\n",
       "        text-align: right;\n",
       "    }\n",
       "</style>\n",
       "<table border=\"1\" class=\"dataframe\">\n",
       "  <thead>\n",
       "    <tr style=\"text-align: right;\">\n",
       "      <th></th>\n",
       "      <th>names</th>\n",
       "      <th>gender</th>\n",
       "      <th>race/ethnicity</th>\n",
       "      <th>parental level of education</th>\n",
       "      <th>lunch</th>\n",
       "      <th>test preparation course</th>\n",
       "      <th>math score</th>\n",
       "      <th>reading score</th>\n",
       "      <th>writing score</th>\n",
       "    </tr>\n",
       "  </thead>\n",
       "  <tbody>\n",
       "    <tr>\n",
       "      <th>1395</th>\n",
       "      <td>Alexander Dillon</td>\n",
       "      <td>male</td>\n",
       "      <td>group D</td>\n",
       "      <td>associate's degree</td>\n",
       "      <td>standard</td>\n",
       "      <td>none</td>\n",
       "      <td>193.0</td>\n",
       "      <td>142.0</td>\n",
       "      <td>193.0</td>\n",
       "    </tr>\n",
       "    <tr>\n",
       "      <th>1396</th>\n",
       "      <td>Marina Zeigler</td>\n",
       "      <td>female</td>\n",
       "      <td>group C</td>\n",
       "      <td>bachelor's degree</td>\n",
       "      <td>free/reduced</td>\n",
       "      <td>completed</td>\n",
       "      <td>66.0</td>\n",
       "      <td>74.0</td>\n",
       "      <td>81.0</td>\n",
       "    </tr>\n",
       "    <tr>\n",
       "      <th>1397</th>\n",
       "      <td>Laurie Carter</td>\n",
       "      <td>female</td>\n",
       "      <td>group B</td>\n",
       "      <td>some high school</td>\n",
       "      <td>standard</td>\n",
       "      <td>completed</td>\n",
       "      <td>54.0</td>\n",
       "      <td>61.0</td>\n",
       "      <td>62.0</td>\n",
       "    </tr>\n",
       "    <tr>\n",
       "      <th>1398</th>\n",
       "      <td>Joseph Mccoy</td>\n",
       "      <td>male</td>\n",
       "      <td>group D</td>\n",
       "      <td>some college</td>\n",
       "      <td>free/reduced</td>\n",
       "      <td>none</td>\n",
       "      <td>193.0</td>\n",
       "      <td>196.0</td>\n",
       "      <td>193.0</td>\n",
       "    </tr>\n",
       "    <tr>\n",
       "      <th>1399</th>\n",
       "      <td>Amanda Perez</td>\n",
       "      <td>female</td>\n",
       "      <td>group A</td>\n",
       "      <td>high school</td>\n",
       "      <td>standard</td>\n",
       "      <td>completed</td>\n",
       "      <td>68.0</td>\n",
       "      <td>80.0</td>\n",
       "      <td>76.0</td>\n",
       "    </tr>\n",
       "  </tbody>\n",
       "</table>\n",
       "</div>"
      ],
      "text/plain": [
       "                 names  gender race/ethnicity parental level of education  \\\n",
       "1395  Alexander Dillon    male        group D          associate's degree   \n",
       "1396    Marina Zeigler  female        group C           bachelor's degree   \n",
       "1397     Laurie Carter  female        group B            some high school   \n",
       "1398      Joseph Mccoy    male        group D                some college   \n",
       "1399      Amanda Perez  female        group A                 high school   \n",
       "\n",
       "             lunch test preparation course  math score  reading score  \\\n",
       "1395      standard                    none       193.0          142.0   \n",
       "1396  free/reduced               completed        66.0           74.0   \n",
       "1397      standard               completed        54.0           61.0   \n",
       "1398  free/reduced                    none       193.0          196.0   \n",
       "1399      standard               completed        68.0           80.0   \n",
       "\n",
       "      writing score  \n",
       "1395          193.0  \n",
       "1396           81.0  \n",
       "1397           62.0  \n",
       "1398          193.0  \n",
       "1399           76.0  "
      ]
     },
     "metadata": {},
     "output_type": "display_data"
    },
    {
     "name": "stdout",
     "output_type": "stream",
     "text": [
      "Muestreo aleatorio 5 filas:\n"
     ]
    },
    {
     "data": {
      "text/html": [
       "<div>\n",
       "<style scoped>\n",
       "    .dataframe tbody tr th:only-of-type {\n",
       "        vertical-align: middle;\n",
       "    }\n",
       "\n",
       "    .dataframe tbody tr th {\n",
       "        vertical-align: top;\n",
       "    }\n",
       "\n",
       "    .dataframe thead th {\n",
       "        text-align: right;\n",
       "    }\n",
       "</style>\n",
       "<table border=\"1\" class=\"dataframe\">\n",
       "  <thead>\n",
       "    <tr style=\"text-align: right;\">\n",
       "      <th></th>\n",
       "      <th>names</th>\n",
       "      <th>gender</th>\n",
       "      <th>race/ethnicity</th>\n",
       "      <th>parental level of education</th>\n",
       "      <th>lunch</th>\n",
       "      <th>test preparation course</th>\n",
       "      <th>math score</th>\n",
       "      <th>reading score</th>\n",
       "      <th>writing score</th>\n",
       "    </tr>\n",
       "  </thead>\n",
       "  <tbody>\n",
       "    <tr>\n",
       "      <th>994</th>\n",
       "      <td>Anne Scheer</td>\n",
       "      <td>female</td>\n",
       "      <td>group C</td>\n",
       "      <td>high school</td>\n",
       "      <td>standard</td>\n",
       "      <td>none</td>\n",
       "      <td>72.0</td>\n",
       "      <td>80.0</td>\n",
       "      <td>75.0</td>\n",
       "    </tr>\n",
       "    <tr>\n",
       "      <th>59</th>\n",
       "      <td>Robert Cupp</td>\n",
       "      <td>male</td>\n",
       "      <td>group B</td>\n",
       "      <td>some college</td>\n",
       "      <td>standard</td>\n",
       "      <td>completed</td>\n",
       "      <td>122.0</td>\n",
       "      <td>124.0</td>\n",
       "      <td>193.0</td>\n",
       "    </tr>\n",
       "    <tr>\n",
       "      <th>904</th>\n",
       "      <td>Rebecca Hammond</td>\n",
       "      <td>female</td>\n",
       "      <td>group C</td>\n",
       "      <td>associate's degree</td>\n",
       "      <td>free/reduced</td>\n",
       "      <td>none</td>\n",
       "      <td>60.0</td>\n",
       "      <td>75.0</td>\n",
       "      <td>74.0</td>\n",
       "    </tr>\n",
       "    <tr>\n",
       "      <th>1137</th>\n",
       "      <td>Anthony Pedigo</td>\n",
       "      <td>male</td>\n",
       "      <td>group B</td>\n",
       "      <td>bachelor's degree</td>\n",
       "      <td>free/reduced</td>\n",
       "      <td>completed</td>\n",
       "      <td>87.0</td>\n",
       "      <td>90.0</td>\n",
       "      <td>88.0</td>\n",
       "    </tr>\n",
       "    <tr>\n",
       "      <th>1036</th>\n",
       "      <td>David Moya</td>\n",
       "      <td>male</td>\n",
       "      <td>group B</td>\n",
       "      <td>bachelor's degree</td>\n",
       "      <td>standard</td>\n",
       "      <td>none</td>\n",
       "      <td>NaN</td>\n",
       "      <td>142.0</td>\n",
       "      <td>196.0</td>\n",
       "    </tr>\n",
       "  </tbody>\n",
       "</table>\n",
       "</div>"
      ],
      "text/plain": [
       "                names  gender race/ethnicity parental level of education  \\\n",
       "994       Anne Scheer  female        group C                 high school   \n",
       "59        Robert Cupp    male        group B                some college   \n",
       "904   Rebecca Hammond  female        group C          associate's degree   \n",
       "1137   Anthony Pedigo    male        group B           bachelor's degree   \n",
       "1036       David Moya    male        group B           bachelor's degree   \n",
       "\n",
       "             lunch test preparation course  math score  reading score  \\\n",
       "994       standard                    none        72.0           80.0   \n",
       "59        standard               completed       122.0          124.0   \n",
       "904   free/reduced                    none        60.0           75.0   \n",
       "1137  free/reduced               completed        87.0           90.0   \n",
       "1036      standard                    none         NaN          142.0   \n",
       "\n",
       "      writing score  \n",
       "994            75.0  \n",
       "59            193.0  \n",
       "904            74.0  \n",
       "1137           88.0  \n",
       "1036          196.0  "
      ]
     },
     "metadata": {},
     "output_type": "display_data"
    },
    {
     "name": "stdout",
     "output_type": "stream",
     "text": [
      "4.- Descripción numérica del DataFrame:\n"
     ]
    },
    {
     "data": {
      "text/html": [
       "<div>\n",
       "<style scoped>\n",
       "    .dataframe tbody tr th:only-of-type {\n",
       "        vertical-align: middle;\n",
       "    }\n",
       "\n",
       "    .dataframe tbody tr th {\n",
       "        vertical-align: top;\n",
       "    }\n",
       "\n",
       "    .dataframe thead th {\n",
       "        text-align: right;\n",
       "    }\n",
       "</style>\n",
       "<table border=\"1\" class=\"dataframe\">\n",
       "  <thead>\n",
       "    <tr style=\"text-align: right;\">\n",
       "      <th></th>\n",
       "      <th>math score</th>\n",
       "      <th>reading score</th>\n",
       "      <th>writing score</th>\n",
       "    </tr>\n",
       "  </thead>\n",
       "  <tbody>\n",
       "    <tr>\n",
       "      <th>count</th>\n",
       "      <td>1360.000000</td>\n",
       "      <td>1360.000000</td>\n",
       "      <td>1353.000000</td>\n",
       "    </tr>\n",
       "    <tr>\n",
       "      <th>mean</th>\n",
       "      <td>89.538971</td>\n",
       "      <td>93.086029</td>\n",
       "      <td>91.852919</td>\n",
       "    </tr>\n",
       "    <tr>\n",
       "      <th>std</th>\n",
       "      <td>47.152422</td>\n",
       "      <td>46.385775</td>\n",
       "      <td>47.043570</td>\n",
       "    </tr>\n",
       "    <tr>\n",
       "      <th>min</th>\n",
       "      <td>0.000000</td>\n",
       "      <td>17.000000</td>\n",
       "      <td>10.000000</td>\n",
       "    </tr>\n",
       "    <tr>\n",
       "      <th>25%</th>\n",
       "      <td>59.000000</td>\n",
       "      <td>63.000000</td>\n",
       "      <td>62.000000</td>\n",
       "    </tr>\n",
       "    <tr>\n",
       "      <th>50%</th>\n",
       "      <td>72.000000</td>\n",
       "      <td>76.000000</td>\n",
       "      <td>75.000000</td>\n",
       "    </tr>\n",
       "    <tr>\n",
       "      <th>75%</th>\n",
       "      <td>97.250000</td>\n",
       "      <td>100.000000</td>\n",
       "      <td>100.000000</td>\n",
       "    </tr>\n",
       "    <tr>\n",
       "      <th>max</th>\n",
       "      <td>196.000000</td>\n",
       "      <td>196.000000</td>\n",
       "      <td>196.000000</td>\n",
       "    </tr>\n",
       "  </tbody>\n",
       "</table>\n",
       "</div>"
      ],
      "text/plain": [
       "        math score  reading score  writing score\n",
       "count  1360.000000    1360.000000    1353.000000\n",
       "mean     89.538971      93.086029      91.852919\n",
       "std      47.152422      46.385775      47.043570\n",
       "min       0.000000      17.000000      10.000000\n",
       "25%      59.000000      63.000000      62.000000\n",
       "50%      72.000000      76.000000      75.000000\n",
       "75%      97.250000     100.000000     100.000000\n",
       "max     196.000000     196.000000     196.000000"
      ]
     },
     "metadata": {},
     "output_type": "display_data"
    },
    {
     "name": "stdout",
     "output_type": "stream",
     "text": [
      "5.- Cantidad de valores nulos por columna:\n"
     ]
    },
    {
     "data": {
      "text/plain": [
       "names                           0\n",
       "gender                          0\n",
       "race/ethnicity                  0\n",
       "parental level of education     0\n",
       "lunch                           0\n",
       "test preparation course         0\n",
       "math score                     40\n",
       "reading score                  40\n",
       "writing score                  47\n",
       "dtype: int64"
      ]
     },
     "metadata": {},
     "output_type": "display_data"
    },
    {
     "name": "stdout",
     "output_type": "stream",
     "text": [
      "6-. Cantidad de valores únicos por columna:\n"
     ]
    },
    {
     "data": {
      "text/plain": [
       "names                          1153\n",
       "gender                            2\n",
       "race/ethnicity                    5\n",
       "parental level of education       6\n",
       "lunch                             2\n",
       "test preparation course           2\n",
       "math score                       96\n",
       "reading score                    88\n",
       "writing score                    92\n",
       "dtype: int64"
      ]
     },
     "metadata": {},
     "output_type": "display_data"
    },
    {
     "name": "stdout",
     "output_type": "stream",
     "text": [
      "7-. Presenta un total de 247 filas con nombres duplicadas.\n"
     ]
    },
    {
     "data": {
      "text/html": [
       "<div>\n",
       "<style scoped>\n",
       "    .dataframe tbody tr th:only-of-type {\n",
       "        vertical-align: middle;\n",
       "    }\n",
       "\n",
       "    .dataframe tbody tr th {\n",
       "        vertical-align: top;\n",
       "    }\n",
       "\n",
       "    .dataframe thead th {\n",
       "        text-align: right;\n",
       "    }\n",
       "</style>\n",
       "<table border=\"1\" class=\"dataframe\">\n",
       "  <thead>\n",
       "    <tr style=\"text-align: right;\">\n",
       "      <th></th>\n",
       "      <th>names</th>\n",
       "      <th>gender</th>\n",
       "      <th>race/ethnicity</th>\n",
       "      <th>parental level of education</th>\n",
       "      <th>lunch</th>\n",
       "      <th>test preparation course</th>\n",
       "      <th>math score</th>\n",
       "      <th>reading score</th>\n",
       "      <th>writing score</th>\n",
       "    </tr>\n",
       "  </thead>\n",
       "  <tbody>\n",
       "    <tr>\n",
       "      <th>12</th>\n",
       "      <td>Rita Courtney</td>\n",
       "      <td>female</td>\n",
       "      <td>group B</td>\n",
       "      <td>some high school</td>\n",
       "      <td>standard</td>\n",
       "      <td>none</td>\n",
       "      <td>193.0</td>\n",
       "      <td>193.0</td>\n",
       "      <td>193.0</td>\n",
       "    </tr>\n",
       "    <tr>\n",
       "      <th>81</th>\n",
       "      <td>Elizabeth Quintero</td>\n",
       "      <td>female</td>\n",
       "      <td>group B</td>\n",
       "      <td>some college</td>\n",
       "      <td>standard</td>\n",
       "      <td>none</td>\n",
       "      <td>82.0</td>\n",
       "      <td>85.0</td>\n",
       "      <td>87.0</td>\n",
       "    </tr>\n",
       "    <tr>\n",
       "      <th>160</th>\n",
       "      <td>Michelle Gonzales</td>\n",
       "      <td>female</td>\n",
       "      <td>group B</td>\n",
       "      <td>some high school</td>\n",
       "      <td>standard</td>\n",
       "      <td>completed</td>\n",
       "      <td>60.0</td>\n",
       "      <td>70.0</td>\n",
       "      <td>74.0</td>\n",
       "    </tr>\n",
       "    <tr>\n",
       "      <th>170</th>\n",
       "      <td>Carla Mendoza</td>\n",
       "      <td>female</td>\n",
       "      <td>group D</td>\n",
       "      <td>associate's degree</td>\n",
       "      <td>free/reduced</td>\n",
       "      <td>none</td>\n",
       "      <td>43.0</td>\n",
       "      <td>60.0</td>\n",
       "      <td>58.0</td>\n",
       "    </tr>\n",
       "    <tr>\n",
       "      <th>176</th>\n",
       "      <td>Darlene Parker</td>\n",
       "      <td>female</td>\n",
       "      <td>group C</td>\n",
       "      <td>associate's degree</td>\n",
       "      <td>standard</td>\n",
       "      <td>none</td>\n",
       "      <td>54.0</td>\n",
       "      <td>61.0</td>\n",
       "      <td>58.0</td>\n",
       "    </tr>\n",
       "    <tr>\n",
       "      <th>...</th>\n",
       "      <td>...</td>\n",
       "      <td>...</td>\n",
       "      <td>...</td>\n",
       "      <td>...</td>\n",
       "      <td>...</td>\n",
       "      <td>...</td>\n",
       "      <td>...</td>\n",
       "      <td>...</td>\n",
       "      <td>...</td>\n",
       "    </tr>\n",
       "    <tr>\n",
       "      <th>1385</th>\n",
       "      <td>James Crawford</td>\n",
       "      <td>male</td>\n",
       "      <td>group D</td>\n",
       "      <td>master's degree</td>\n",
       "      <td>standard</td>\n",
       "      <td>none</td>\n",
       "      <td>193.0</td>\n",
       "      <td>147.0</td>\n",
       "      <td>131.0</td>\n",
       "    </tr>\n",
       "    <tr>\n",
       "      <th>1390</th>\n",
       "      <td>Gloria Bradford</td>\n",
       "      <td>female</td>\n",
       "      <td>group B</td>\n",
       "      <td>high school</td>\n",
       "      <td>standard</td>\n",
       "      <td>none</td>\n",
       "      <td>124.0</td>\n",
       "      <td>64.0</td>\n",
       "      <td>193.0</td>\n",
       "    </tr>\n",
       "    <tr>\n",
       "      <th>1393</th>\n",
       "      <td>Adam Romero</td>\n",
       "      <td>male</td>\n",
       "      <td>group C</td>\n",
       "      <td>high school</td>\n",
       "      <td>standard</td>\n",
       "      <td>completed</td>\n",
       "      <td>124.0</td>\n",
       "      <td>193.0</td>\n",
       "      <td>49.0</td>\n",
       "    </tr>\n",
       "    <tr>\n",
       "      <th>1395</th>\n",
       "      <td>Alexander Dillon</td>\n",
       "      <td>male</td>\n",
       "      <td>group D</td>\n",
       "      <td>associate's degree</td>\n",
       "      <td>standard</td>\n",
       "      <td>none</td>\n",
       "      <td>193.0</td>\n",
       "      <td>142.0</td>\n",
       "      <td>193.0</td>\n",
       "    </tr>\n",
       "    <tr>\n",
       "      <th>1398</th>\n",
       "      <td>Joseph Mccoy</td>\n",
       "      <td>male</td>\n",
       "      <td>group D</td>\n",
       "      <td>some college</td>\n",
       "      <td>free/reduced</td>\n",
       "      <td>none</td>\n",
       "      <td>193.0</td>\n",
       "      <td>196.0</td>\n",
       "      <td>193.0</td>\n",
       "    </tr>\n",
       "  </tbody>\n",
       "</table>\n",
       "<p>247 rows × 9 columns</p>\n",
       "</div>"
      ],
      "text/plain": [
       "                   names  gender race/ethnicity parental level of education  \\\n",
       "12         Rita Courtney  female        group B            some high school   \n",
       "81    Elizabeth Quintero  female        group B                some college   \n",
       "160    Michelle Gonzales  female        group B            some high school   \n",
       "170        Carla Mendoza  female        group D          associate's degree   \n",
       "176       Darlene Parker  female        group C          associate's degree   \n",
       "...                  ...     ...            ...                         ...   \n",
       "1385      James Crawford    male        group D             master's degree   \n",
       "1390     Gloria Bradford  female        group B                 high school   \n",
       "1393         Adam Romero    male        group C                 high school   \n",
       "1395    Alexander Dillon    male        group D          associate's degree   \n",
       "1398        Joseph Mccoy    male        group D                some college   \n",
       "\n",
       "             lunch test preparation course  math score  reading score  \\\n",
       "12        standard                    none       193.0          193.0   \n",
       "81        standard                    none        82.0           85.0   \n",
       "160       standard               completed        60.0           70.0   \n",
       "170   free/reduced                    none        43.0           60.0   \n",
       "176       standard                    none        54.0           61.0   \n",
       "...            ...                     ...         ...            ...   \n",
       "1385      standard                    none       193.0          147.0   \n",
       "1390      standard                    none       124.0           64.0   \n",
       "1393      standard               completed       124.0          193.0   \n",
       "1395      standard                    none       193.0          142.0   \n",
       "1398  free/reduced                    none       193.0          196.0   \n",
       "\n",
       "      writing score  \n",
       "12            193.0  \n",
       "81             87.0  \n",
       "160            74.0  \n",
       "170            58.0  \n",
       "176            58.0  \n",
       "...             ...  \n",
       "1385          131.0  \n",
       "1390          193.0  \n",
       "1393           49.0  \n",
       "1395          193.0  \n",
       "1398          193.0  \n",
       "\n",
       "[247 rows x 9 columns]"
      ]
     },
     "metadata": {},
     "output_type": "display_data"
    },
    {
     "data": {
      "image/png": "[encoded data removed]",
      "text/plain": [
       "<Figure size 432x288 with 1 Axes>"
      ]
     },
     "metadata": {
      "needs_background": "light"
     },
     "output_type": "display_data"
    }
   ],
   "source": [
    "def exploratory_data_analysis(dataframe):\n",
    "    \n",
    "    #df_grades['math score']=df_grades['math score'].astype('float64')\n",
    "    dataframe['math score']=pd.to_numeric(dataframe['math score'])\n",
    "    dataframe['reading score']=pd.to_numeric(dataframe['reading score'])\n",
    "    dataframe['writing score']=pd.to_numeric(dataframe['writing score'])\n",
    "    print ('1.- El Dataframe tiene '+str(dataframe.shape[0])+' filas y '+str(dataframe.shape[1])+' columnas \\n')\n",
    "\n",
    "    print ('2.- El DataFrame está compuesto por las siguientes columnas: '+str(list(dataframe.columns.values))+'\\n')\n",
    "\n",
    "    print ('3.- El ejemplo de las filas del DataFrame: \\n \\nPrimeras 5 lineas:')\n",
    "    display(dataframe.head(5))\n",
    "          \n",
    "    print ('Últimas 5 lineas:')\n",
    "    display(dataframe.tail(5))\n",
    "    \n",
    "    print ('Muestreo aleatorio 5 filas:')\n",
    "    display(dataframe.sample(5))\n",
    "    \n",
    "    print ('4.- Descripción numérica del DataFrame:')\n",
    "    descripcion = dataframe.describe(exclude=[object])\n",
    "    display(descripcion)\n",
    "        \n",
    "    print ('5.- Cantidad de valores nulos por columna:')\n",
    "    display(dataframe.isna().sum())\n",
    "    \n",
    "    print ('6-. Cantidad de valores únicos por columna:')\n",
    "    display(dataframe.nunique())\n",
    "    \n",
    "    duplicated_name=dataframe.duplicated(subset=['names'])\n",
    "    print ('7-. Presenta un total de '+str((duplicated_name).sum())+' filas con nombres duplicadas.')\n",
    "    \n",
    "    display(dataframe.loc[duplicated_name==True])\n",
    "    \n",
    "    dataframe.plot.box()\n",
    "    \n",
    "    \n",
    "    pass\n",
    "\n",
    "exploratory_data_analysis(df_grades)\n",
    "\n"
   ]
  },
  {
   "cell_type": "markdown",
   "metadata": {
    "cell_id": "00021-f548a297-97a4-4d9b-9501-ae5571aa3068",
    "deepnote_cell_type": "markdown",
    "id": "nxRj-Hi2QUHQ"
   },
   "source": [
    "**Justificación:**"
   ]
  },
  {
   "cell_type": "markdown",
   "metadata": {
    "cell_id": "00022-a0fee108-5903-4074-8b11-104b98a94a67",
    "deepnote_cell_type": "markdown",
    "id": "CR2ZEOcbQW9X"
   },
   "source": [
    "```\n",
    "¿Que anomalias es posible observar de los datos que componen el DataFrame? ¿Existen valores nulos o duplicados? ¿Qué puede interpretar de la distribución de las notas en el boxplot? (), comente esto en la celda ubicada debajo de \n",
    "**justificación**\n",
    "De forma inmediata es notorio que no todos los valores que debiesen ser numéricos lo son, hay mas filas que las que debiesen haber, existen valores nulos en algunas columnas y presenta filas duplicadas. Es notorio del gráfico que existen muchos datos fuera de los rangos en que deberían estar \n",
    "```"
   ]
  },
  {
   "cell_type": "markdown",
   "metadata": {
    "cell_id": "00017-b4a9f1a1-c50d-47f6-95af-4ce1416feed7",
    "deepnote_cell_type": "markdown",
    "id": "45jxMTJHNPC3"
   },
   "source": [
    "**Respuesta Esperada:**"
   ]
  },
  {
   "cell_type": "code",
   "execution_count": 5,
   "metadata": {
    "cell_id": "00020-9bc24dfa-b47a-4545-8336-6470008a1527",
    "colab": {
     "base_uri": "https://localhost:8080/",
     "height": 1000
    },
    "deepnote_cell_type": "code",
    "deepnote_to_be_reexecuted": false,
    "executionInfo": {
     "elapsed": 565,
     "status": "ok",
     "timestamp": 1619205954456,
     "user": {
      "displayName": "IGNACIO ALEJANDRO MEZA",
      "photoUrl": "",
      "userId": "17011121633069169364"
     },
     "user_tz": 240
    },
    "execution_millis": 1940,
    "execution_start": 1632493422320,
    "id": "Vu2Y7Q4wuBXg",
    "outputId": "589784c1-3dc8-4c6a-c63d-2d0aa4211878",
    "source_hash": "fc6a5c17"
   },
   "outputs": [
    {
     "name": "stdout",
     "output_type": "stream",
     "text": [
      "1.- El Dataframe tiene 1400 filas y 9 columnas \n",
      "\n",
      "2.- El DataFrame está compuesto por las siguientes columnas: ['names', 'gender', 'race/ethnicity', 'parental level of education', 'lunch', 'test preparation course', 'math score', 'reading score', 'writing score']\n",
      "\n",
      "3.- El ejemplo de las filas del DataFrame: \n",
      " \n",
      "Primeras 5 lineas:\n"
     ]
    },
    {
     "data": {
      "text/html": [
       "<div>\n",
       "<style scoped>\n",
       "    .dataframe tbody tr th:only-of-type {\n",
       "        vertical-align: middle;\n",
       "    }\n",
       "\n",
       "    .dataframe tbody tr th {\n",
       "        vertical-align: top;\n",
       "    }\n",
       "\n",
       "    .dataframe thead th {\n",
       "        text-align: right;\n",
       "    }\n",
       "</style>\n",
       "<table border=\"1\" class=\"dataframe\">\n",
       "  <thead>\n",
       "    <tr style=\"text-align: right;\">\n",
       "      <th></th>\n",
       "      <th>names</th>\n",
       "      <th>gender</th>\n",
       "      <th>race/ethnicity</th>\n",
       "      <th>parental level of education</th>\n",
       "      <th>lunch</th>\n",
       "      <th>test preparation course</th>\n",
       "      <th>math score</th>\n",
       "      <th>reading score</th>\n",
       "      <th>writing score</th>\n",
       "    </tr>\n",
       "  </thead>\n",
       "  <tbody>\n",
       "    <tr>\n",
       "      <th>0</th>\n",
       "      <td>Rita Courtney</td>\n",
       "      <td>female</td>\n",
       "      <td>group B</td>\n",
       "      <td>some high school</td>\n",
       "      <td>standard</td>\n",
       "      <td>none</td>\n",
       "      <td>37.0</td>\n",
       "      <td>46.0</td>\n",
       "      <td>46.0</td>\n",
       "    </tr>\n",
       "    <tr>\n",
       "      <th>1</th>\n",
       "      <td>Madeline Fuller</td>\n",
       "      <td>female</td>\n",
       "      <td>group C</td>\n",
       "      <td>some high school</td>\n",
       "      <td>standard</td>\n",
       "      <td>none</td>\n",
       "      <td>124.0</td>\n",
       "      <td>142.0</td>\n",
       "      <td>142.0</td>\n",
       "    </tr>\n",
       "    <tr>\n",
       "      <th>2</th>\n",
       "      <td>Daniel Rester</td>\n",
       "      <td>male</td>\n",
       "      <td>group E</td>\n",
       "      <td>associate's degree</td>\n",
       "      <td>standard</td>\n",
       "      <td>none</td>\n",
       "      <td>156.0</td>\n",
       "      <td>196.0</td>\n",
       "      <td>193.0</td>\n",
       "    </tr>\n",
       "    <tr>\n",
       "      <th>3</th>\n",
       "      <td>Charles Linstrom</td>\n",
       "      <td>male</td>\n",
       "      <td>group A</td>\n",
       "      <td>bachelor's degree</td>\n",
       "      <td>standard</td>\n",
       "      <td>completed</td>\n",
       "      <td>80.0</td>\n",
       "      <td>78.0</td>\n",
       "      <td>81.0</td>\n",
       "    </tr>\n",
       "    <tr>\n",
       "      <th>4</th>\n",
       "      <td>Geraldine Hale</td>\n",
       "      <td>female</td>\n",
       "      <td>group A</td>\n",
       "      <td>associate's degree</td>\n",
       "      <td>standard</td>\n",
       "      <td>none</td>\n",
       "      <td>131.0</td>\n",
       "      <td>166.0</td>\n",
       "      <td>166.0</td>\n",
       "    </tr>\n",
       "  </tbody>\n",
       "</table>\n",
       "</div>"
      ],
      "text/plain": [
       "              names  gender race/ethnicity parental level of education  \\\n",
       "0     Rita Courtney  female        group B            some high school   \n",
       "1   Madeline Fuller  female        group C            some high school   \n",
       "2     Daniel Rester    male        group E          associate's degree   \n",
       "3  Charles Linstrom    male        group A           bachelor's degree   \n",
       "4    Geraldine Hale  female        group A          associate's degree   \n",
       "\n",
       "      lunch test preparation course  math score  reading score  writing score  \n",
       "0  standard                    none        37.0           46.0           46.0  \n",
       "1  standard                    none       124.0          142.0          142.0  \n",
       "2  standard                    none       156.0          196.0          193.0  \n",
       "3  standard               completed        80.0           78.0           81.0  \n",
       "4  standard                    none       131.0          166.0          166.0  "
      ]
     },
     "metadata": {},
     "output_type": "display_data"
    },
    {
     "name": "stdout",
     "output_type": "stream",
     "text": [
      "Últimas 5 lineas:\n"
     ]
    },
    {
     "data": {
      "text/html": [
       "<div>\n",
       "<style scoped>\n",
       "    .dataframe tbody tr th:only-of-type {\n",
       "        vertical-align: middle;\n",
       "    }\n",
       "\n",
       "    .dataframe tbody tr th {\n",
       "        vertical-align: top;\n",
       "    }\n",
       "\n",
       "    .dataframe thead th {\n",
       "        text-align: right;\n",
       "    }\n",
       "</style>\n",
       "<table border=\"1\" class=\"dataframe\">\n",
       "  <thead>\n",
       "    <tr style=\"text-align: right;\">\n",
       "      <th></th>\n",
       "      <th>names</th>\n",
       "      <th>gender</th>\n",
       "      <th>race/ethnicity</th>\n",
       "      <th>parental level of education</th>\n",
       "      <th>lunch</th>\n",
       "      <th>test preparation course</th>\n",
       "      <th>math score</th>\n",
       "      <th>reading score</th>\n",
       "      <th>writing score</th>\n",
       "    </tr>\n",
       "  </thead>\n",
       "  <tbody>\n",
       "    <tr>\n",
       "      <th>1395</th>\n",
       "      <td>Alexander Dillon</td>\n",
       "      <td>male</td>\n",
       "      <td>group D</td>\n",
       "      <td>associate's degree</td>\n",
       "      <td>standard</td>\n",
       "      <td>none</td>\n",
       "      <td>193.0</td>\n",
       "      <td>142.0</td>\n",
       "      <td>193.0</td>\n",
       "    </tr>\n",
       "    <tr>\n",
       "      <th>1396</th>\n",
       "      <td>Marina Zeigler</td>\n",
       "      <td>female</td>\n",
       "      <td>group C</td>\n",
       "      <td>bachelor's degree</td>\n",
       "      <td>free/reduced</td>\n",
       "      <td>completed</td>\n",
       "      <td>66.0</td>\n",
       "      <td>74.0</td>\n",
       "      <td>81.0</td>\n",
       "    </tr>\n",
       "    <tr>\n",
       "      <th>1397</th>\n",
       "      <td>Laurie Carter</td>\n",
       "      <td>female</td>\n",
       "      <td>group B</td>\n",
       "      <td>some high school</td>\n",
       "      <td>standard</td>\n",
       "      <td>completed</td>\n",
       "      <td>54.0</td>\n",
       "      <td>61.0</td>\n",
       "      <td>62.0</td>\n",
       "    </tr>\n",
       "    <tr>\n",
       "      <th>1398</th>\n",
       "      <td>Joseph Mccoy</td>\n",
       "      <td>male</td>\n",
       "      <td>group D</td>\n",
       "      <td>some college</td>\n",
       "      <td>free/reduced</td>\n",
       "      <td>none</td>\n",
       "      <td>193.0</td>\n",
       "      <td>196.0</td>\n",
       "      <td>193.0</td>\n",
       "    </tr>\n",
       "    <tr>\n",
       "      <th>1399</th>\n",
       "      <td>Amanda Perez</td>\n",
       "      <td>female</td>\n",
       "      <td>group A</td>\n",
       "      <td>high school</td>\n",
       "      <td>standard</td>\n",
       "      <td>completed</td>\n",
       "      <td>68.0</td>\n",
       "      <td>80.0</td>\n",
       "      <td>76.0</td>\n",
       "    </tr>\n",
       "  </tbody>\n",
       "</table>\n",
       "</div>"
      ],
      "text/plain": [
       "                 names  gender race/ethnicity parental level of education  \\\n",
       "1395  Alexander Dillon    male        group D          associate's degree   \n",
       "1396    Marina Zeigler  female        group C           bachelor's degree   \n",
       "1397     Laurie Carter  female        group B            some high school   \n",
       "1398      Joseph Mccoy    male        group D                some college   \n",
       "1399      Amanda Perez  female        group A                 high school   \n",
       "\n",
       "             lunch test preparation course  math score  reading score  \\\n",
       "1395      standard                    none       193.0          142.0   \n",
       "1396  free/reduced               completed        66.0           74.0   \n",
       "1397      standard               completed        54.0           61.0   \n",
       "1398  free/reduced                    none       193.0          196.0   \n",
       "1399      standard               completed        68.0           80.0   \n",
       "\n",
       "      writing score  \n",
       "1395          193.0  \n",
       "1396           81.0  \n",
       "1397           62.0  \n",
       "1398          193.0  \n",
       "1399           76.0  "
      ]
     },
     "metadata": {},
     "output_type": "display_data"
    },
    {
     "name": "stdout",
     "output_type": "stream",
     "text": [
      "Muestreo aleatorio 5 filas:\n"
     ]
    },
    {
     "data": {
      "text/html": [
       "<div>\n",
       "<style scoped>\n",
       "    .dataframe tbody tr th:only-of-type {\n",
       "        vertical-align: middle;\n",
       "    }\n",
       "\n",
       "    .dataframe tbody tr th {\n",
       "        vertical-align: top;\n",
       "    }\n",
       "\n",
       "    .dataframe thead th {\n",
       "        text-align: right;\n",
       "    }\n",
       "</style>\n",
       "<table border=\"1\" class=\"dataframe\">\n",
       "  <thead>\n",
       "    <tr style=\"text-align: right;\">\n",
       "      <th></th>\n",
       "      <th>names</th>\n",
       "      <th>gender</th>\n",
       "      <th>race/ethnicity</th>\n",
       "      <th>parental level of education</th>\n",
       "      <th>lunch</th>\n",
       "      <th>test preparation course</th>\n",
       "      <th>math score</th>\n",
       "      <th>reading score</th>\n",
       "      <th>writing score</th>\n",
       "    </tr>\n",
       "  </thead>\n",
       "  <tbody>\n",
       "    <tr>\n",
       "      <th>986</th>\n",
       "      <td>Leann Widrick</td>\n",
       "      <td>female</td>\n",
       "      <td>group D</td>\n",
       "      <td>master's degree</td>\n",
       "      <td>standard</td>\n",
       "      <td>completed</td>\n",
       "      <td>70.0</td>\n",
       "      <td>71.0</td>\n",
       "      <td>74.0</td>\n",
       "    </tr>\n",
       "    <tr>\n",
       "      <th>151</th>\n",
       "      <td>Dana Kramer</td>\n",
       "      <td>female</td>\n",
       "      <td>group C</td>\n",
       "      <td>high school</td>\n",
       "      <td>free/reduced</td>\n",
       "      <td>none</td>\n",
       "      <td>34.0</td>\n",
       "      <td>42.0</td>\n",
       "      <td>151.0</td>\n",
       "    </tr>\n",
       "    <tr>\n",
       "      <th>935</th>\n",
       "      <td>Amanda Terrell</td>\n",
       "      <td>female</td>\n",
       "      <td>group A</td>\n",
       "      <td>high school</td>\n",
       "      <td>standard</td>\n",
       "      <td>completed</td>\n",
       "      <td>75.0</td>\n",
       "      <td>82.0</td>\n",
       "      <td>79.0</td>\n",
       "    </tr>\n",
       "    <tr>\n",
       "      <th>280</th>\n",
       "      <td>Michael Young</td>\n",
       "      <td>male</td>\n",
       "      <td>group B</td>\n",
       "      <td>associate's degree</td>\n",
       "      <td>free/reduced</td>\n",
       "      <td>none</td>\n",
       "      <td>61.0</td>\n",
       "      <td>58.0</td>\n",
       "      <td>56.0</td>\n",
       "    </tr>\n",
       "    <tr>\n",
       "      <th>371</th>\n",
       "      <td>Sherri Turner</td>\n",
       "      <td>female</td>\n",
       "      <td>group E</td>\n",
       "      <td>associate's degree</td>\n",
       "      <td>standard</td>\n",
       "      <td>completed</td>\n",
       "      <td>79.0</td>\n",
       "      <td>88.0</td>\n",
       "      <td>94.0</td>\n",
       "    </tr>\n",
       "  </tbody>\n",
       "</table>\n",
       "</div>"
      ],
      "text/plain": [
       "              names  gender race/ethnicity parental level of education  \\\n",
       "986   Leann Widrick  female        group D             master's degree   \n",
       "151     Dana Kramer  female        group C                 high school   \n",
       "935  Amanda Terrell  female        group A                 high school   \n",
       "280   Michael Young    male        group B          associate's degree   \n",
       "371   Sherri Turner  female        group E          associate's degree   \n",
       "\n",
       "            lunch test preparation course  math score  reading score  \\\n",
       "986      standard               completed        70.0           71.0   \n",
       "151  free/reduced                    none        34.0           42.0   \n",
       "935      standard               completed        75.0           82.0   \n",
       "280  free/reduced                    none        61.0           58.0   \n",
       "371      standard               completed        79.0           88.0   \n",
       "\n",
       "     writing score  \n",
       "986           74.0  \n",
       "151          151.0  \n",
       "935           79.0  \n",
       "280           56.0  \n",
       "371           94.0  "
      ]
     },
     "metadata": {},
     "output_type": "display_data"
    },
    {
     "name": "stdout",
     "output_type": "stream",
     "text": [
      "4.- Descripción numérica del DataFrame:\n"
     ]
    },
    {
     "data": {
      "text/html": [
       "<div>\n",
       "<style scoped>\n",
       "    .dataframe tbody tr th:only-of-type {\n",
       "        vertical-align: middle;\n",
       "    }\n",
       "\n",
       "    .dataframe tbody tr th {\n",
       "        vertical-align: top;\n",
       "    }\n",
       "\n",
       "    .dataframe thead th {\n",
       "        text-align: right;\n",
       "    }\n",
       "</style>\n",
       "<table border=\"1\" class=\"dataframe\">\n",
       "  <thead>\n",
       "    <tr style=\"text-align: right;\">\n",
       "      <th></th>\n",
       "      <th>math score</th>\n",
       "      <th>reading score</th>\n",
       "      <th>writing score</th>\n",
       "    </tr>\n",
       "  </thead>\n",
       "  <tbody>\n",
       "    <tr>\n",
       "      <th>count</th>\n",
       "      <td>1360.000000</td>\n",
       "      <td>1360.000000</td>\n",
       "      <td>1353.000000</td>\n",
       "    </tr>\n",
       "    <tr>\n",
       "      <th>mean</th>\n",
       "      <td>89.538971</td>\n",
       "      <td>93.086029</td>\n",
       "      <td>91.852919</td>\n",
       "    </tr>\n",
       "    <tr>\n",
       "      <th>std</th>\n",
       "      <td>47.152422</td>\n",
       "      <td>46.385775</td>\n",
       "      <td>47.043570</td>\n",
       "    </tr>\n",
       "    <tr>\n",
       "      <th>min</th>\n",
       "      <td>0.000000</td>\n",
       "      <td>17.000000</td>\n",
       "      <td>10.000000</td>\n",
       "    </tr>\n",
       "    <tr>\n",
       "      <th>25%</th>\n",
       "      <td>59.000000</td>\n",
       "      <td>63.000000</td>\n",
       "      <td>62.000000</td>\n",
       "    </tr>\n",
       "    <tr>\n",
       "      <th>50%</th>\n",
       "      <td>72.000000</td>\n",
       "      <td>76.000000</td>\n",
       "      <td>75.000000</td>\n",
       "    </tr>\n",
       "    <tr>\n",
       "      <th>75%</th>\n",
       "      <td>97.250000</td>\n",
       "      <td>100.000000</td>\n",
       "      <td>100.000000</td>\n",
       "    </tr>\n",
       "    <tr>\n",
       "      <th>max</th>\n",
       "      <td>196.000000</td>\n",
       "      <td>196.000000</td>\n",
       "      <td>196.000000</td>\n",
       "    </tr>\n",
       "  </tbody>\n",
       "</table>\n",
       "</div>"
      ],
      "text/plain": [
       "        math score  reading score  writing score\n",
       "count  1360.000000    1360.000000    1353.000000\n",
       "mean     89.538971      93.086029      91.852919\n",
       "std      47.152422      46.385775      47.043570\n",
       "min       0.000000      17.000000      10.000000\n",
       "25%      59.000000      63.000000      62.000000\n",
       "50%      72.000000      76.000000      75.000000\n",
       "75%      97.250000     100.000000     100.000000\n",
       "max     196.000000     196.000000     196.000000"
      ]
     },
     "metadata": {},
     "output_type": "display_data"
    },
    {
     "name": "stdout",
     "output_type": "stream",
     "text": [
      "5.- Cantidad de valores nulos por columna:\n"
     ]
    },
    {
     "data": {
      "text/plain": [
       "names                           0\n",
       "gender                          0\n",
       "race/ethnicity                  0\n",
       "parental level of education     0\n",
       "lunch                           0\n",
       "test preparation course         0\n",
       "math score                     40\n",
       "reading score                  40\n",
       "writing score                  47\n",
       "dtype: int64"
      ]
     },
     "metadata": {},
     "output_type": "display_data"
    },
    {
     "name": "stdout",
     "output_type": "stream",
     "text": [
      "6-. Cantidad de valores únicos por columna:\n"
     ]
    },
    {
     "data": {
      "text/plain": [
       "names                          1153\n",
       "gender                            2\n",
       "race/ethnicity                    5\n",
       "parental level of education       6\n",
       "lunch                             2\n",
       "test preparation course           2\n",
       "math score                       96\n",
       "reading score                    88\n",
       "writing score                    92\n",
       "dtype: int64"
      ]
     },
     "metadata": {},
     "output_type": "display_data"
    },
    {
     "name": "stdout",
     "output_type": "stream",
     "text": [
      "7-. Presenta un total de 247 filas con nombres duplicadas.\n"
     ]
    },
    {
     "data": {
      "text/html": [
       "<div>\n",
       "<style scoped>\n",
       "    .dataframe tbody tr th:only-of-type {\n",
       "        vertical-align: middle;\n",
       "    }\n",
       "\n",
       "    .dataframe tbody tr th {\n",
       "        vertical-align: top;\n",
       "    }\n",
       "\n",
       "    .dataframe thead th {\n",
       "        text-align: right;\n",
       "    }\n",
       "</style>\n",
       "<table border=\"1\" class=\"dataframe\">\n",
       "  <thead>\n",
       "    <tr style=\"text-align: right;\">\n",
       "      <th></th>\n",
       "      <th>names</th>\n",
       "      <th>gender</th>\n",
       "      <th>race/ethnicity</th>\n",
       "      <th>parental level of education</th>\n",
       "      <th>lunch</th>\n",
       "      <th>test preparation course</th>\n",
       "      <th>math score</th>\n",
       "      <th>reading score</th>\n",
       "      <th>writing score</th>\n",
       "    </tr>\n",
       "  </thead>\n",
       "  <tbody>\n",
       "    <tr>\n",
       "      <th>12</th>\n",
       "      <td>Rita Courtney</td>\n",
       "      <td>female</td>\n",
       "      <td>group B</td>\n",
       "      <td>some high school</td>\n",
       "      <td>standard</td>\n",
       "      <td>none</td>\n",
       "      <td>193.0</td>\n",
       "      <td>193.0</td>\n",
       "      <td>193.0</td>\n",
       "    </tr>\n",
       "    <tr>\n",
       "      <th>81</th>\n",
       "      <td>Elizabeth Quintero</td>\n",
       "      <td>female</td>\n",
       "      <td>group B</td>\n",
       "      <td>some college</td>\n",
       "      <td>standard</td>\n",
       "      <td>none</td>\n",
       "      <td>82.0</td>\n",
       "      <td>85.0</td>\n",
       "      <td>87.0</td>\n",
       "    </tr>\n",
       "    <tr>\n",
       "      <th>160</th>\n",
       "      <td>Michelle Gonzales</td>\n",
       "      <td>female</td>\n",
       "      <td>group B</td>\n",
       "      <td>some high school</td>\n",
       "      <td>standard</td>\n",
       "      <td>completed</td>\n",
       "      <td>60.0</td>\n",
       "      <td>70.0</td>\n",
       "      <td>74.0</td>\n",
       "    </tr>\n",
       "    <tr>\n",
       "      <th>170</th>\n",
       "      <td>Carla Mendoza</td>\n",
       "      <td>female</td>\n",
       "      <td>group D</td>\n",
       "      <td>associate's degree</td>\n",
       "      <td>free/reduced</td>\n",
       "      <td>none</td>\n",
       "      <td>43.0</td>\n",
       "      <td>60.0</td>\n",
       "      <td>58.0</td>\n",
       "    </tr>\n",
       "    <tr>\n",
       "      <th>176</th>\n",
       "      <td>Darlene Parker</td>\n",
       "      <td>female</td>\n",
       "      <td>group C</td>\n",
       "      <td>associate's degree</td>\n",
       "      <td>standard</td>\n",
       "      <td>none</td>\n",
       "      <td>54.0</td>\n",
       "      <td>61.0</td>\n",
       "      <td>58.0</td>\n",
       "    </tr>\n",
       "    <tr>\n",
       "      <th>...</th>\n",
       "      <td>...</td>\n",
       "      <td>...</td>\n",
       "      <td>...</td>\n",
       "      <td>...</td>\n",
       "      <td>...</td>\n",
       "      <td>...</td>\n",
       "      <td>...</td>\n",
       "      <td>...</td>\n",
       "      <td>...</td>\n",
       "    </tr>\n",
       "    <tr>\n",
       "      <th>1385</th>\n",
       "      <td>James Crawford</td>\n",
       "      <td>male</td>\n",
       "      <td>group D</td>\n",
       "      <td>master's degree</td>\n",
       "      <td>standard</td>\n",
       "      <td>none</td>\n",
       "      <td>193.0</td>\n",
       "      <td>147.0</td>\n",
       "      <td>131.0</td>\n",
       "    </tr>\n",
       "    <tr>\n",
       "      <th>1390</th>\n",
       "      <td>Gloria Bradford</td>\n",
       "      <td>female</td>\n",
       "      <td>group B</td>\n",
       "      <td>high school</td>\n",
       "      <td>standard</td>\n",
       "      <td>none</td>\n",
       "      <td>124.0</td>\n",
       "      <td>64.0</td>\n",
       "      <td>193.0</td>\n",
       "    </tr>\n",
       "    <tr>\n",
       "      <th>1393</th>\n",
       "      <td>Adam Romero</td>\n",
       "      <td>male</td>\n",
       "      <td>group C</td>\n",
       "      <td>high school</td>\n",
       "      <td>standard</td>\n",
       "      <td>completed</td>\n",
       "      <td>124.0</td>\n",
       "      <td>193.0</td>\n",
       "      <td>49.0</td>\n",
       "    </tr>\n",
       "    <tr>\n",
       "      <th>1395</th>\n",
       "      <td>Alexander Dillon</td>\n",
       "      <td>male</td>\n",
       "      <td>group D</td>\n",
       "      <td>associate's degree</td>\n",
       "      <td>standard</td>\n",
       "      <td>none</td>\n",
       "      <td>193.0</td>\n",
       "      <td>142.0</td>\n",
       "      <td>193.0</td>\n",
       "    </tr>\n",
       "    <tr>\n",
       "      <th>1398</th>\n",
       "      <td>Joseph Mccoy</td>\n",
       "      <td>male</td>\n",
       "      <td>group D</td>\n",
       "      <td>some college</td>\n",
       "      <td>free/reduced</td>\n",
       "      <td>none</td>\n",
       "      <td>193.0</td>\n",
       "      <td>196.0</td>\n",
       "      <td>193.0</td>\n",
       "    </tr>\n",
       "  </tbody>\n",
       "</table>\n",
       "<p>247 rows × 9 columns</p>\n",
       "</div>"
      ],
      "text/plain": [
       "                   names  gender race/ethnicity parental level of education  \\\n",
       "12         Rita Courtney  female        group B            some high school   \n",
       "81    Elizabeth Quintero  female        group B                some college   \n",
       "160    Michelle Gonzales  female        group B            some high school   \n",
       "170        Carla Mendoza  female        group D          associate's degree   \n",
       "176       Darlene Parker  female        group C          associate's degree   \n",
       "...                  ...     ...            ...                         ...   \n",
       "1385      James Crawford    male        group D             master's degree   \n",
       "1390     Gloria Bradford  female        group B                 high school   \n",
       "1393         Adam Romero    male        group C                 high school   \n",
       "1395    Alexander Dillon    male        group D          associate's degree   \n",
       "1398        Joseph Mccoy    male        group D                some college   \n",
       "\n",
       "             lunch test preparation course  math score  reading score  \\\n",
       "12        standard                    none       193.0          193.0   \n",
       "81        standard                    none        82.0           85.0   \n",
       "160       standard               completed        60.0           70.0   \n",
       "170   free/reduced                    none        43.0           60.0   \n",
       "176       standard                    none        54.0           61.0   \n",
       "...            ...                     ...         ...            ...   \n",
       "1385      standard                    none       193.0          147.0   \n",
       "1390      standard                    none       124.0           64.0   \n",
       "1393      standard               completed       124.0          193.0   \n",
       "1395      standard                    none       193.0          142.0   \n",
       "1398  free/reduced                    none       193.0          196.0   \n",
       "\n",
       "      writing score  \n",
       "12            193.0  \n",
       "81             87.0  \n",
       "160            74.0  \n",
       "170            58.0  \n",
       "176            58.0  \n",
       "...             ...  \n",
       "1385          131.0  \n",
       "1390          193.0  \n",
       "1393           49.0  \n",
       "1395          193.0  \n",
       "1398          193.0  \n",
       "\n",
       "[247 rows x 9 columns]"
      ]
     },
     "metadata": {},
     "output_type": "display_data"
    },
    {
     "data": {
      "image/png": "[encoded data removed]",
      "text/plain": [
       "<Figure size 432x288 with 1 Axes>"
      ]
     },
     "metadata": {
      "needs_background": "light"
     },
     "output_type": "display_data"
    }
   ],
   "source": [
    "exploratory_data_analysis(df_grades)"
   ]
  },
  {
   "cell_type": "markdown",
   "metadata": {
    "cell_id": "00023-ff3bb417-54d5-425c-9dfc-d6bb2115277e",
    "deepnote_cell_type": "markdown",
    "id": "YJfqPXFZjQiA"
   },
   "source": [
    "## 1.2 Limpieza de Datos [1 punto]\n",
    "\n",
    "<p align=\"center\">\n",
    "  <img src=\"https://media3.giphy.com/media/c09yGbnSyaFRS/giphy.gif?cid=ecf05e47d0ejjjnpfj0ywcbwz7zk7sw2rfdpis890gmdpvj2&rid=giphy.gif&ct=g\">\n",
    "</p>\n"
   ]
  },
  {
   "cell_type": "markdown",
   "metadata": {
    "cell_id": "00024-a0d43035-41b5-4b1c-99c6-f93dc8847789",
    "deepnote_cell_type": "markdown",
    "id": "syO5lHKvv6Wt"
   },
   "source": [
    "En base a lo realizado anteriormente, realice una limpieza de los dataset. Asuma los supuestos señalados en la pregunta anterior para limpiar el `DataFrame` y cree una función que le permita limpiar los datos. Una vez limpiado cada uno de los `DataFrames` compruebe nuevamente los datos con la función creada en la sección 1.1.\n",
    "\n",
    "**To-Do:**\n",
    "\n",
    "- [X] Crear función que permita limpiar el dataset.\n",
    "- [X] Comprobar que no existen anomalías en los datos a traves de la función de la sección 1.1.\n",
    "\n",
    "**Hint**\n",
    "\n",
    "Puede ser útil los métodos ```.drop_duplicates()``` y ```.dropna()``` como también utilizar queries con máscaras booleanas.\n"
   ]
  },
  {
   "cell_type": "markdown",
   "metadata": {
    "cell_id": "00025-7728a191-b359-4030-ac04-3b7d9070c53d",
    "deepnote_cell_type": "markdown",
    "tags": []
   },
   "source": [
    "**Respuesta:**"
   ]
  },
  {
   "cell_type": "code",
   "execution_count": 6,
   "metadata": {
    "cell_id": "00027-afa227d9-32aa-49eb-9ae8-7c2fb625253a",
    "colab": {
     "base_uri": "https://localhost:8080/",
     "height": 419
    },
    "deepnote_cell_type": "code",
    "deepnote_to_be_reexecuted": false,
    "executionInfo": {
     "elapsed": 571,
     "status": "ok",
     "timestamp": 1619205960363,
     "user": {
      "displayName": "IGNACIO ALEJANDRO MEZA",
      "photoUrl": "",
      "userId": "17011121633069169364"
     },
     "user_tz": 240
    },
    "execution_millis": 73,
    "execution_start": 1632493424310,
    "id": "Vl6MkQYHhXao",
    "outputId": "f070312b-113e-4e31-f676-3ed33e06ef91",
    "source_hash": "2f2b6eb"
   },
   "outputs": [
    {
     "name": "stdout",
     "output_type": "stream",
     "text": [
      "1.- El Dataframe tiene 875 filas y 9 columnas \n",
      "\n",
      "2.- El DataFrame está compuesto por las siguientes columnas: ['names', 'gender', 'race/ethnicity', 'parental level of education', 'lunch', 'test preparation course', 'math score', 'reading score', 'writing score']\n",
      "\n",
      "3.- El ejemplo de las filas del DataFrame: \n",
      " \n",
      "Primeras 5 lineas:\n"
     ]
    },
    {
     "data": {
      "text/html": [
       "<div>\n",
       "<style scoped>\n",
       "    .dataframe tbody tr th:only-of-type {\n",
       "        vertical-align: middle;\n",
       "    }\n",
       "\n",
       "    .dataframe tbody tr th {\n",
       "        vertical-align: top;\n",
       "    }\n",
       "\n",
       "    .dataframe thead th {\n",
       "        text-align: right;\n",
       "    }\n",
       "</style>\n",
       "<table border=\"1\" class=\"dataframe\">\n",
       "  <thead>\n",
       "    <tr style=\"text-align: right;\">\n",
       "      <th></th>\n",
       "      <th>names</th>\n",
       "      <th>gender</th>\n",
       "      <th>race/ethnicity</th>\n",
       "      <th>parental level of education</th>\n",
       "      <th>lunch</th>\n",
       "      <th>test preparation course</th>\n",
       "      <th>math score</th>\n",
       "      <th>reading score</th>\n",
       "      <th>writing score</th>\n",
       "    </tr>\n",
       "  </thead>\n",
       "  <tbody>\n",
       "    <tr>\n",
       "      <th>0</th>\n",
       "      <td>Rita Courtney</td>\n",
       "      <td>female</td>\n",
       "      <td>group B</td>\n",
       "      <td>some high school</td>\n",
       "      <td>standard</td>\n",
       "      <td>none</td>\n",
       "      <td>37.0</td>\n",
       "      <td>46.0</td>\n",
       "      <td>46.0</td>\n",
       "    </tr>\n",
       "    <tr>\n",
       "      <th>3</th>\n",
       "      <td>Charles Linstrom</td>\n",
       "      <td>male</td>\n",
       "      <td>group A</td>\n",
       "      <td>bachelor's degree</td>\n",
       "      <td>standard</td>\n",
       "      <td>completed</td>\n",
       "      <td>80.0</td>\n",
       "      <td>78.0</td>\n",
       "      <td>81.0</td>\n",
       "    </tr>\n",
       "    <tr>\n",
       "      <th>5</th>\n",
       "      <td>Brian Young</td>\n",
       "      <td>male</td>\n",
       "      <td>group C</td>\n",
       "      <td>some high school</td>\n",
       "      <td>standard</td>\n",
       "      <td>none</td>\n",
       "      <td>73.0</td>\n",
       "      <td>66.0</td>\n",
       "      <td>63.0</td>\n",
       "    </tr>\n",
       "    <tr>\n",
       "      <th>6</th>\n",
       "      <td>Howard Jimenez</td>\n",
       "      <td>male</td>\n",
       "      <td>group E</td>\n",
       "      <td>some high school</td>\n",
       "      <td>standard</td>\n",
       "      <td>completed</td>\n",
       "      <td>81.0</td>\n",
       "      <td>75.0</td>\n",
       "      <td>76.0</td>\n",
       "    </tr>\n",
       "    <tr>\n",
       "      <th>7</th>\n",
       "      <td>Wayne Wilson</td>\n",
       "      <td>male</td>\n",
       "      <td>group B</td>\n",
       "      <td>some high school</td>\n",
       "      <td>standard</td>\n",
       "      <td>completed</td>\n",
       "      <td>94.0</td>\n",
       "      <td>86.0</td>\n",
       "      <td>87.0</td>\n",
       "    </tr>\n",
       "  </tbody>\n",
       "</table>\n",
       "</div>"
      ],
      "text/plain": [
       "              names  gender race/ethnicity parental level of education  \\\n",
       "0     Rita Courtney  female        group B            some high school   \n",
       "3  Charles Linstrom    male        group A           bachelor's degree   \n",
       "5       Brian Young    male        group C            some high school   \n",
       "6    Howard Jimenez    male        group E            some high school   \n",
       "7      Wayne Wilson    male        group B            some high school   \n",
       "\n",
       "      lunch test preparation course  math score  reading score  writing score  \n",
       "0  standard                    none        37.0           46.0           46.0  \n",
       "3  standard               completed        80.0           78.0           81.0  \n",
       "5  standard                    none        73.0           66.0           63.0  \n",
       "6  standard               completed        81.0           75.0           76.0  \n",
       "7  standard               completed        94.0           86.0           87.0  "
      ]
     },
     "metadata": {},
     "output_type": "display_data"
    },
    {
     "name": "stdout",
     "output_type": "stream",
     "text": [
      "Últimas 5 lineas:\n"
     ]
    },
    {
     "data": {
      "text/html": [
       "<div>\n",
       "<style scoped>\n",
       "    .dataframe tbody tr th:only-of-type {\n",
       "        vertical-align: middle;\n",
       "    }\n",
       "\n",
       "    .dataframe tbody tr th {\n",
       "        vertical-align: top;\n",
       "    }\n",
       "\n",
       "    .dataframe thead th {\n",
       "        text-align: right;\n",
       "    }\n",
       "</style>\n",
       "<table border=\"1\" class=\"dataframe\">\n",
       "  <thead>\n",
       "    <tr style=\"text-align: right;\">\n",
       "      <th></th>\n",
       "      <th>names</th>\n",
       "      <th>gender</th>\n",
       "      <th>race/ethnicity</th>\n",
       "      <th>parental level of education</th>\n",
       "      <th>lunch</th>\n",
       "      <th>test preparation course</th>\n",
       "      <th>math score</th>\n",
       "      <th>reading score</th>\n",
       "      <th>writing score</th>\n",
       "    </tr>\n",
       "  </thead>\n",
       "  <tbody>\n",
       "    <tr>\n",
       "      <th>1392</th>\n",
       "      <td>Richard Young</td>\n",
       "      <td>male</td>\n",
       "      <td>group D</td>\n",
       "      <td>high school</td>\n",
       "      <td>standard</td>\n",
       "      <td>none</td>\n",
       "      <td>69.0</td>\n",
       "      <td>75.0</td>\n",
       "      <td>71.0</td>\n",
       "    </tr>\n",
       "    <tr>\n",
       "      <th>1394</th>\n",
       "      <td>Wanda Russell</td>\n",
       "      <td>female</td>\n",
       "      <td>group B</td>\n",
       "      <td>high school</td>\n",
       "      <td>free/reduced</td>\n",
       "      <td>completed</td>\n",
       "      <td>23.0</td>\n",
       "      <td>44.0</td>\n",
       "      <td>36.0</td>\n",
       "    </tr>\n",
       "    <tr>\n",
       "      <th>1396</th>\n",
       "      <td>Marina Zeigler</td>\n",
       "      <td>female</td>\n",
       "      <td>group C</td>\n",
       "      <td>bachelor's degree</td>\n",
       "      <td>free/reduced</td>\n",
       "      <td>completed</td>\n",
       "      <td>66.0</td>\n",
       "      <td>74.0</td>\n",
       "      <td>81.0</td>\n",
       "    </tr>\n",
       "    <tr>\n",
       "      <th>1397</th>\n",
       "      <td>Laurie Carter</td>\n",
       "      <td>female</td>\n",
       "      <td>group B</td>\n",
       "      <td>some high school</td>\n",
       "      <td>standard</td>\n",
       "      <td>completed</td>\n",
       "      <td>54.0</td>\n",
       "      <td>61.0</td>\n",
       "      <td>62.0</td>\n",
       "    </tr>\n",
       "    <tr>\n",
       "      <th>1399</th>\n",
       "      <td>Amanda Perez</td>\n",
       "      <td>female</td>\n",
       "      <td>group A</td>\n",
       "      <td>high school</td>\n",
       "      <td>standard</td>\n",
       "      <td>completed</td>\n",
       "      <td>68.0</td>\n",
       "      <td>80.0</td>\n",
       "      <td>76.0</td>\n",
       "    </tr>\n",
       "  </tbody>\n",
       "</table>\n",
       "</div>"
      ],
      "text/plain": [
       "               names  gender race/ethnicity parental level of education  \\\n",
       "1392   Richard Young    male        group D                 high school   \n",
       "1394   Wanda Russell  female        group B                 high school   \n",
       "1396  Marina Zeigler  female        group C           bachelor's degree   \n",
       "1397   Laurie Carter  female        group B            some high school   \n",
       "1399    Amanda Perez  female        group A                 high school   \n",
       "\n",
       "             lunch test preparation course  math score  reading score  \\\n",
       "1392      standard                    none        69.0           75.0   \n",
       "1394  free/reduced               completed        23.0           44.0   \n",
       "1396  free/reduced               completed        66.0           74.0   \n",
       "1397      standard               completed        54.0           61.0   \n",
       "1399      standard               completed        68.0           80.0   \n",
       "\n",
       "      writing score  \n",
       "1392           71.0  \n",
       "1394           36.0  \n",
       "1396           81.0  \n",
       "1397           62.0  \n",
       "1399           76.0  "
      ]
     },
     "metadata": {},
     "output_type": "display_data"
    },
    {
     "name": "stdout",
     "output_type": "stream",
     "text": [
      "Muestreo aleatorio 5 filas:\n"
     ]
    },
    {
     "data": {
      "text/html": [
       "<div>\n",
       "<style scoped>\n",
       "    .dataframe tbody tr th:only-of-type {\n",
       "        vertical-align: middle;\n",
       "    }\n",
       "\n",
       "    .dataframe tbody tr th {\n",
       "        vertical-align: top;\n",
       "    }\n",
       "\n",
       "    .dataframe thead th {\n",
       "        text-align: right;\n",
       "    }\n",
       "</style>\n",
       "<table border=\"1\" class=\"dataframe\">\n",
       "  <thead>\n",
       "    <tr style=\"text-align: right;\">\n",
       "      <th></th>\n",
       "      <th>names</th>\n",
       "      <th>gender</th>\n",
       "      <th>race/ethnicity</th>\n",
       "      <th>parental level of education</th>\n",
       "      <th>lunch</th>\n",
       "      <th>test preparation course</th>\n",
       "      <th>math score</th>\n",
       "      <th>reading score</th>\n",
       "      <th>writing score</th>\n",
       "    </tr>\n",
       "  </thead>\n",
       "  <tbody>\n",
       "    <tr>\n",
       "      <th>901</th>\n",
       "      <td>Virginia Blubaugh</td>\n",
       "      <td>female</td>\n",
       "      <td>group B</td>\n",
       "      <td>some high school</td>\n",
       "      <td>standard</td>\n",
       "      <td>completed</td>\n",
       "      <td>60.0</td>\n",
       "      <td>70.0</td>\n",
       "      <td>70.0</td>\n",
       "    </tr>\n",
       "    <tr>\n",
       "      <th>0</th>\n",
       "      <td>Rita Courtney</td>\n",
       "      <td>female</td>\n",
       "      <td>group B</td>\n",
       "      <td>some high school</td>\n",
       "      <td>standard</td>\n",
       "      <td>none</td>\n",
       "      <td>37.0</td>\n",
       "      <td>46.0</td>\n",
       "      <td>46.0</td>\n",
       "    </tr>\n",
       "    <tr>\n",
       "      <th>907</th>\n",
       "      <td>Ann Polston</td>\n",
       "      <td>female</td>\n",
       "      <td>group D</td>\n",
       "      <td>master's degree</td>\n",
       "      <td>free/reduced</td>\n",
       "      <td>completed</td>\n",
       "      <td>85.0</td>\n",
       "      <td>95.0</td>\n",
       "      <td>100.0</td>\n",
       "    </tr>\n",
       "    <tr>\n",
       "      <th>453</th>\n",
       "      <td>Milton Chaput</td>\n",
       "      <td>male</td>\n",
       "      <td>group D</td>\n",
       "      <td>high school</td>\n",
       "      <td>standard</td>\n",
       "      <td>none</td>\n",
       "      <td>70.0</td>\n",
       "      <td>70.0</td>\n",
       "      <td>70.0</td>\n",
       "    </tr>\n",
       "    <tr>\n",
       "      <th>967</th>\n",
       "      <td>Thomas Kent</td>\n",
       "      <td>male</td>\n",
       "      <td>group E</td>\n",
       "      <td>associate's degree</td>\n",
       "      <td>standard</td>\n",
       "      <td>none</td>\n",
       "      <td>89.0</td>\n",
       "      <td>76.0</td>\n",
       "      <td>74.0</td>\n",
       "    </tr>\n",
       "  </tbody>\n",
       "</table>\n",
       "</div>"
      ],
      "text/plain": [
       "                 names  gender race/ethnicity parental level of education  \\\n",
       "901  Virginia Blubaugh  female        group B            some high school   \n",
       "0        Rita Courtney  female        group B            some high school   \n",
       "907        Ann Polston  female        group D             master's degree   \n",
       "453      Milton Chaput    male        group D                 high school   \n",
       "967        Thomas Kent    male        group E          associate's degree   \n",
       "\n",
       "            lunch test preparation course  math score  reading score  \\\n",
       "901      standard               completed        60.0           70.0   \n",
       "0        standard                    none        37.0           46.0   \n",
       "907  free/reduced               completed        85.0           95.0   \n",
       "453      standard                    none        70.0           70.0   \n",
       "967      standard                    none        89.0           76.0   \n",
       "\n",
       "     writing score  \n",
       "901           70.0  \n",
       "0             46.0  \n",
       "907          100.0  \n",
       "453           70.0  \n",
       "967           74.0  "
      ]
     },
     "metadata": {},
     "output_type": "display_data"
    },
    {
     "name": "stdout",
     "output_type": "stream",
     "text": [
      "4.- Descripción numérica del DataFrame:\n"
     ]
    },
    {
     "data": {
      "text/html": [
       "<div>\n",
       "<style scoped>\n",
       "    .dataframe tbody tr th:only-of-type {\n",
       "        vertical-align: middle;\n",
       "    }\n",
       "\n",
       "    .dataframe tbody tr th {\n",
       "        vertical-align: top;\n",
       "    }\n",
       "\n",
       "    .dataframe thead th {\n",
       "        text-align: right;\n",
       "    }\n",
       "</style>\n",
       "<table border=\"1\" class=\"dataframe\">\n",
       "  <thead>\n",
       "    <tr style=\"text-align: right;\">\n",
       "      <th></th>\n",
       "      <th>math score</th>\n",
       "      <th>reading score</th>\n",
       "      <th>writing score</th>\n",
       "    </tr>\n",
       "  </thead>\n",
       "  <tbody>\n",
       "    <tr>\n",
       "      <th>count</th>\n",
       "      <td>875.000000</td>\n",
       "      <td>875.000000</td>\n",
       "      <td>875.000000</td>\n",
       "    </tr>\n",
       "    <tr>\n",
       "      <th>mean</th>\n",
       "      <td>66.225143</td>\n",
       "      <td>69.195429</td>\n",
       "      <td>68.114286</td>\n",
       "    </tr>\n",
       "    <tr>\n",
       "      <th>std</th>\n",
       "      <td>15.076716</td>\n",
       "      <td>14.629270</td>\n",
       "      <td>15.174220</td>\n",
       "    </tr>\n",
       "    <tr>\n",
       "      <th>min</th>\n",
       "      <td>0.000000</td>\n",
       "      <td>17.000000</td>\n",
       "      <td>10.000000</td>\n",
       "    </tr>\n",
       "    <tr>\n",
       "      <th>25%</th>\n",
       "      <td>57.000000</td>\n",
       "      <td>59.000000</td>\n",
       "      <td>57.500000</td>\n",
       "    </tr>\n",
       "    <tr>\n",
       "      <th>50%</th>\n",
       "      <td>66.000000</td>\n",
       "      <td>70.000000</td>\n",
       "      <td>69.000000</td>\n",
       "    </tr>\n",
       "    <tr>\n",
       "      <th>75%</th>\n",
       "      <td>76.500000</td>\n",
       "      <td>79.000000</td>\n",
       "      <td>79.000000</td>\n",
       "    </tr>\n",
       "    <tr>\n",
       "      <th>max</th>\n",
       "      <td>100.000000</td>\n",
       "      <td>100.000000</td>\n",
       "      <td>100.000000</td>\n",
       "    </tr>\n",
       "  </tbody>\n",
       "</table>\n",
       "</div>"
      ],
      "text/plain": [
       "       math score  reading score  writing score\n",
       "count  875.000000     875.000000     875.000000\n",
       "mean    66.225143      69.195429      68.114286\n",
       "std     15.076716      14.629270      15.174220\n",
       "min      0.000000      17.000000      10.000000\n",
       "25%     57.000000      59.000000      57.500000\n",
       "50%     66.000000      70.000000      69.000000\n",
       "75%     76.500000      79.000000      79.000000\n",
       "max    100.000000     100.000000     100.000000"
      ]
     },
     "metadata": {},
     "output_type": "display_data"
    },
    {
     "name": "stdout",
     "output_type": "stream",
     "text": [
      "5.- Cantidad de valores nulos por columna:\n"
     ]
    },
    {
     "data": {
      "text/plain": [
       "names                          0\n",
       "gender                         0\n",
       "race/ethnicity                 0\n",
       "parental level of education    0\n",
       "lunch                          0\n",
       "test preparation course        0\n",
       "math score                     0\n",
       "reading score                  0\n",
       "writing score                  0\n",
       "dtype: int64"
      ]
     },
     "metadata": {},
     "output_type": "display_data"
    },
    {
     "name": "stdout",
     "output_type": "stream",
     "text": [
      "6-. Cantidad de valores únicos por columna:\n"
     ]
    },
    {
     "data": {
      "text/plain": [
       "names                          875\n",
       "gender                           2\n",
       "race/ethnicity                   5\n",
       "parental level of education      6\n",
       "lunch                            2\n",
       "test preparation course          2\n",
       "math score                      79\n",
       "reading score                   72\n",
       "writing score                   77\n",
       "dtype: int64"
      ]
     },
     "metadata": {},
     "output_type": "display_data"
    },
    {
     "name": "stdout",
     "output_type": "stream",
     "text": [
      "7-. Presenta un total de 0 filas con nombres duplicadas.\n"
     ]
    },
    {
     "data": {
      "text/html": [
       "<div>\n",
       "<style scoped>\n",
       "    .dataframe tbody tr th:only-of-type {\n",
       "        vertical-align: middle;\n",
       "    }\n",
       "\n",
       "    .dataframe tbody tr th {\n",
       "        vertical-align: top;\n",
       "    }\n",
       "\n",
       "    .dataframe thead th {\n",
       "        text-align: right;\n",
       "    }\n",
       "</style>\n",
       "<table border=\"1\" class=\"dataframe\">\n",
       "  <thead>\n",
       "    <tr style=\"text-align: right;\">\n",
       "      <th></th>\n",
       "      <th>names</th>\n",
       "      <th>gender</th>\n",
       "      <th>race/ethnicity</th>\n",
       "      <th>parental level of education</th>\n",
       "      <th>lunch</th>\n",
       "      <th>test preparation course</th>\n",
       "      <th>math score</th>\n",
       "      <th>reading score</th>\n",
       "      <th>writing score</th>\n",
       "    </tr>\n",
       "  </thead>\n",
       "  <tbody>\n",
       "  </tbody>\n",
       "</table>\n",
       "</div>"
      ],
      "text/plain": [
       "Empty DataFrame\n",
       "Columns: [names, gender, race/ethnicity, parental level of education, lunch, test preparation course, math score, reading score, writing score]\n",
       "Index: []"
      ]
     },
     "metadata": {},
     "output_type": "display_data"
    },
    {
     "data": {
      "image/png": "[encoded data removed]",
      "text/plain": [
       "<Figure size 432x288 with 1 Axes>"
      ]
     },
     "metadata": {
      "needs_background": "light"
     },
     "output_type": "display_data"
    }
   ],
   "source": [
    "def clean_data(data_set):\n",
    "   \n",
    "    data_set=data_set.drop_duplicates(subset=['names'])\n",
    "    data_set=data_set.dropna(subset=['math score','reading score','writing score'])\n",
    "    data_set=data_set.loc[data_set['math score']<101,:]\n",
    "    data_set=data_set.loc[data_set['reading score']<101,:]\n",
    "    data_set=data_set.loc[data_set['writing score']<101,:]\n",
    "    return (data_set)\n",
    "    pass\n",
    "\n",
    "\n",
    "df_grades2=clean_data(df_grades)\n",
    "df_grades2.shape\n",
    "#display(df_grades2)\n",
    "exploratory_data_analysis(df_grades2)\n",
    "#df_grades.index=df_grades['names']\n",
    "#localizar=df_grades.loc[['Nicole Obrien'],['math score']]\n",
    "#if (localizar.isna()==False):\n",
    "   \n",
    "    \n",
    "#display(duplicado.tail(40))\n"
   ]
  },
  {
   "cell_type": "markdown",
   "metadata": {
    "cell_id": "00028-7d461c3c-584a-437b-a3b0-8eb3a9a60b08",
    "deepnote_cell_type": "markdown",
    "id": "iAnb7kcRj9gJ"
   },
   "source": [
    "> Utilice la función creada en el punto 1.1 para verificar sus resultados."
   ]
  },
  {
   "cell_type": "markdown",
   "metadata": {
    "cell_id": "00030-826810d6-9106-4a3f-9272-16f541b88ac0",
    "deepnote_cell_type": "markdown",
    "id": "mPmHNen3jZCX"
   },
   "source": [
    "**Justificación:**"
   ]
  },
  {
   "cell_type": "markdown",
   "metadata": {
    "cell_id": "00031-04187309-a1db-4ad3-a90b-75b312d9b39f",
    "deepnote_cell_type": "markdown",
    "id": "uCK_RZEajZHI"
   },
   "source": [
    "```\n",
    "Se limpiaron los datos aplicando distintos filtros respecto a los rangos en que deberían estar, los datos repetidos y nulos. Lo que se puede evidenciar en el gráfico es que estamos trabajando con datos dentro de los rangos esperados. Por tanto, ahora el data set está en condiciones de ser trabajado.\n",
    "\n",
    "```"
   ]
  },
  {
   "cell_type": "markdown",
   "metadata": {
    "cell_id": "00032-35743f33-7587-4206-903d-5922c094c121",
    "deepnote_cell_type": "markdown",
    "id": "2tnenh4uOF6k"
   },
   "source": [
    "## 1.3 Trabajando con Datos\n",
    "\n",
    "<p align=\"center\">\n",
    "  <img src=\"https://media4.giphy.com/media/ko7twHhomhk8E/giphy.gif?cid=ecf05e47xmgfz8ftaom8saa4cwktxpb0fkui9yk3nakb4ff1&rid=giphy.gif&ct=g\">\n",
    "</p>"
   ]
  },
  {
   "cell_type": "markdown",
   "metadata": {
    "cell_id": "00033-ae1d6c24-6c73-49d9-961d-4f6a9da3f5a1",
    "deepnote_cell_type": "markdown",
    "id": "Qecw0sKor_Au"
   },
   "source": [
    "### 1.3.1 Transformación de notas a \"Nota Chilena\" [0.5 Puntos]"
   ]
  },
  {
   "cell_type": "markdown",
   "metadata": {
    "cell_id": "00034-0c2d3679-984b-4d24-8ab0-fc8de61bb42e",
    "deepnote_cell_type": "markdown",
    "id": "BfmD-9yi4PnX"
   },
   "source": [
    "En una de las reuniones con Don Caguayo este les comenta su intención de pasar todas sus notas a la \"Escala Chilena\". Para esto les facilita la siguiente ecuación:\n",
    "\n",
    "$$Nota \\, Chilena= \\% \\, de \\, logro*0.06 + 1$$\n",
    "\n",
    "Utilizando la ecuación entregada, cree una función que le permita pasar a la escala Chilena las notas que se escapan del rango [1,7] y entregue las notas redondeadas al segundo decimal.\n",
    "\n",
    "**To-Do**\n",
    "\n",
    "- [X] Tranforme los valores a la escala chilena."
   ]
  },
  {
   "cell_type": "markdown",
   "metadata": {
    "cell_id": "00035-7dd5d2b3-12e5-4cb8-a9ab-e3f0e4870b94",
    "deepnote_cell_type": "markdown",
    "tags": []
   },
   "source": [
    "**Respuesta:**"
   ]
  },
  {
   "cell_type": "code",
   "execution_count": 7,
   "metadata": {
    "cell_id": "00036-4f869d3b-f09e-4986-8f77-604d440d0b99",
    "deepnote_cell_type": "code",
    "deepnote_to_be_reexecuted": false,
    "executionInfo": {
     "elapsed": 669,
     "status": "ok",
     "timestamp": 1619205969195,
     "user": {
      "displayName": "IGNACIO ALEJANDRO MEZA",
      "photoUrl": "",
      "userId": "17011121633069169364"
     },
     "user_tz": 240
    },
    "execution_millis": 1,
    "execution_start": 1632493424541,
    "id": "GQ0gDEvd3T1m",
    "source_hash": "e84f9f19"
   },
   "outputs": [
    {
     "data": {
      "text/html": [
       "<div>\n",
       "<style scoped>\n",
       "    .dataframe tbody tr th:only-of-type {\n",
       "        vertical-align: middle;\n",
       "    }\n",
       "\n",
       "    .dataframe tbody tr th {\n",
       "        vertical-align: top;\n",
       "    }\n",
       "\n",
       "    .dataframe thead th {\n",
       "        text-align: right;\n",
       "    }\n",
       "</style>\n",
       "<table border=\"1\" class=\"dataframe\">\n",
       "  <thead>\n",
       "    <tr style=\"text-align: right;\">\n",
       "      <th></th>\n",
       "      <th>names</th>\n",
       "      <th>gender</th>\n",
       "      <th>race/ethnicity</th>\n",
       "      <th>parental level of education</th>\n",
       "      <th>lunch</th>\n",
       "      <th>test preparation course</th>\n",
       "      <th>math score</th>\n",
       "      <th>reading score</th>\n",
       "      <th>writing score</th>\n",
       "    </tr>\n",
       "  </thead>\n",
       "  <tbody>\n",
       "    <tr>\n",
       "      <th>0</th>\n",
       "      <td>Rita Courtney</td>\n",
       "      <td>female</td>\n",
       "      <td>group B</td>\n",
       "      <td>some high school</td>\n",
       "      <td>standard</td>\n",
       "      <td>none</td>\n",
       "      <td>3.22</td>\n",
       "      <td>3.76</td>\n",
       "      <td>3.76</td>\n",
       "    </tr>\n",
       "    <tr>\n",
       "      <th>3</th>\n",
       "      <td>Charles Linstrom</td>\n",
       "      <td>male</td>\n",
       "      <td>group A</td>\n",
       "      <td>bachelor's degree</td>\n",
       "      <td>standard</td>\n",
       "      <td>completed</td>\n",
       "      <td>5.80</td>\n",
       "      <td>5.68</td>\n",
       "      <td>5.86</td>\n",
       "    </tr>\n",
       "    <tr>\n",
       "      <th>5</th>\n",
       "      <td>Brian Young</td>\n",
       "      <td>male</td>\n",
       "      <td>group C</td>\n",
       "      <td>some high school</td>\n",
       "      <td>standard</td>\n",
       "      <td>none</td>\n",
       "      <td>5.38</td>\n",
       "      <td>4.96</td>\n",
       "      <td>4.78</td>\n",
       "    </tr>\n",
       "    <tr>\n",
       "      <th>6</th>\n",
       "      <td>Howard Jimenez</td>\n",
       "      <td>male</td>\n",
       "      <td>group E</td>\n",
       "      <td>some high school</td>\n",
       "      <td>standard</td>\n",
       "      <td>completed</td>\n",
       "      <td>5.86</td>\n",
       "      <td>5.50</td>\n",
       "      <td>5.56</td>\n",
       "    </tr>\n",
       "    <tr>\n",
       "      <th>7</th>\n",
       "      <td>Wayne Wilson</td>\n",
       "      <td>male</td>\n",
       "      <td>group B</td>\n",
       "      <td>some high school</td>\n",
       "      <td>standard</td>\n",
       "      <td>completed</td>\n",
       "      <td>6.64</td>\n",
       "      <td>6.16</td>\n",
       "      <td>6.22</td>\n",
       "    </tr>\n",
       "    <tr>\n",
       "      <th>...</th>\n",
       "      <td>...</td>\n",
       "      <td>...</td>\n",
       "      <td>...</td>\n",
       "      <td>...</td>\n",
       "      <td>...</td>\n",
       "      <td>...</td>\n",
       "      <td>...</td>\n",
       "      <td>...</td>\n",
       "      <td>...</td>\n",
       "    </tr>\n",
       "    <tr>\n",
       "      <th>1392</th>\n",
       "      <td>Richard Young</td>\n",
       "      <td>male</td>\n",
       "      <td>group D</td>\n",
       "      <td>high school</td>\n",
       "      <td>standard</td>\n",
       "      <td>none</td>\n",
       "      <td>5.14</td>\n",
       "      <td>5.50</td>\n",
       "      <td>5.26</td>\n",
       "    </tr>\n",
       "    <tr>\n",
       "      <th>1394</th>\n",
       "      <td>Wanda Russell</td>\n",
       "      <td>female</td>\n",
       "      <td>group B</td>\n",
       "      <td>high school</td>\n",
       "      <td>free/reduced</td>\n",
       "      <td>completed</td>\n",
       "      <td>2.38</td>\n",
       "      <td>3.64</td>\n",
       "      <td>3.16</td>\n",
       "    </tr>\n",
       "    <tr>\n",
       "      <th>1396</th>\n",
       "      <td>Marina Zeigler</td>\n",
       "      <td>female</td>\n",
       "      <td>group C</td>\n",
       "      <td>bachelor's degree</td>\n",
       "      <td>free/reduced</td>\n",
       "      <td>completed</td>\n",
       "      <td>4.96</td>\n",
       "      <td>5.44</td>\n",
       "      <td>5.86</td>\n",
       "    </tr>\n",
       "    <tr>\n",
       "      <th>1397</th>\n",
       "      <td>Laurie Carter</td>\n",
       "      <td>female</td>\n",
       "      <td>group B</td>\n",
       "      <td>some high school</td>\n",
       "      <td>standard</td>\n",
       "      <td>completed</td>\n",
       "      <td>4.24</td>\n",
       "      <td>4.66</td>\n",
       "      <td>4.72</td>\n",
       "    </tr>\n",
       "    <tr>\n",
       "      <th>1399</th>\n",
       "      <td>Amanda Perez</td>\n",
       "      <td>female</td>\n",
       "      <td>group A</td>\n",
       "      <td>high school</td>\n",
       "      <td>standard</td>\n",
       "      <td>completed</td>\n",
       "      <td>5.08</td>\n",
       "      <td>5.80</td>\n",
       "      <td>5.56</td>\n",
       "    </tr>\n",
       "  </tbody>\n",
       "</table>\n",
       "<p>875 rows × 9 columns</p>\n",
       "</div>"
      ],
      "text/plain": [
       "                 names  gender race/ethnicity parental level of education  \\\n",
       "0        Rita Courtney  female        group B            some high school   \n",
       "3     Charles Linstrom    male        group A           bachelor's degree   \n",
       "5          Brian Young    male        group C            some high school   \n",
       "6       Howard Jimenez    male        group E            some high school   \n",
       "7         Wayne Wilson    male        group B            some high school   \n",
       "...                ...     ...            ...                         ...   \n",
       "1392     Richard Young    male        group D                 high school   \n",
       "1394     Wanda Russell  female        group B                 high school   \n",
       "1396    Marina Zeigler  female        group C           bachelor's degree   \n",
       "1397     Laurie Carter  female        group B            some high school   \n",
       "1399      Amanda Perez  female        group A                 high school   \n",
       "\n",
       "             lunch test preparation course  math score  reading score  \\\n",
       "0         standard                    none        3.22           3.76   \n",
       "3         standard               completed        5.80           5.68   \n",
       "5         standard                    none        5.38           4.96   \n",
       "6         standard               completed        5.86           5.50   \n",
       "7         standard               completed        6.64           6.16   \n",
       "...            ...                     ...         ...            ...   \n",
       "1392      standard                    none        5.14           5.50   \n",
       "1394  free/reduced               completed        2.38           3.64   \n",
       "1396  free/reduced               completed        4.96           5.44   \n",
       "1397      standard               completed        4.24           4.66   \n",
       "1399      standard               completed        5.08           5.80   \n",
       "\n",
       "      writing score  \n",
       "0              3.76  \n",
       "3              5.86  \n",
       "5              4.78  \n",
       "6              5.56  \n",
       "7              6.22  \n",
       "...             ...  \n",
       "1392           5.26  \n",
       "1394           3.16  \n",
       "1396           5.86  \n",
       "1397           4.72  \n",
       "1399           5.56  \n",
       "\n",
       "[875 rows x 9 columns]"
      ]
     },
     "metadata": {},
     "output_type": "display_data"
    }
   ],
   "source": [
    "def nota_chilena(dataframe_in, columna):\n",
    "    \n",
    "    dataframe_in[columna]=dataframe_in[columna].apply(lambda x : (x*0.06)+1 )\n",
    "    return (dataframe_in)\n",
    "    pass\n",
    "\n",
    "display(nota_chilena(df_grades2,['math score','reading score','writing score']))\n",
    "\n",
    "#display(df_grades2.head(5))\n",
    "#df_grades3=df_grades2['math score'].apply(lambda x : (x*0.06)+1)\n",
    "#display(df_grades3.head(5))"
   ]
  },
  {
   "cell_type": "code",
   "execution_count": null,
   "metadata": {},
   "outputs": [],
   "source": []
  },
  {
   "cell_type": "markdown",
   "metadata": {
    "cell_id": "00038-3045a9c7-3dc1-4909-a993-3346ce27103d",
    "deepnote_cell_type": "markdown",
    "id": "QGe-Hb2UTAE1"
   },
   "source": [
    "### 1.3.2 Obtención de promedio de alumnos [0.5]"
   ]
  },
  {
   "cell_type": "markdown",
   "metadata": {
    "cell_id": "00039-5e16ce47-71fb-4750-9d81-c7bdb854141d",
    "deepnote_cell_type": "markdown",
    "id": "AEkWI5K-OZgt"
   },
   "source": [
    "Con todas las notas adjuntadas, la prestigiosa Universidad De la Cachaña necesita obtener el promedio general de cada uno de los alumnos. Para esto se le solicita que calcule el promedio con cada una de las asignaturas y el promedio se anexe como una nueva columna al final del DataFrame original. Cabe señalar que las notas deben ser redondeadas al segundo decimal.\n",
    "\n",
    "**To-Do:**\n",
    "- [X] Crear función que nos permite obtener el promedio de cada uno de los alumnos y anexar esta información en el DataFrame original.\n"
   ]
  },
  {
   "cell_type": "markdown",
   "metadata": {
    "cell_id": "00040-ed949f3e-dd9b-44a7-aa8c-b75d7651546d",
    "deepnote_cell_type": "markdown",
    "tags": []
   },
   "source": [
    "**Respuesta:**"
   ]
  },
  {
   "cell_type": "code",
   "execution_count": 10,
   "metadata": {
    "cell_id": "00041-71c0f72b-1361-4b83-a3d2-cd5a916f0bb0",
    "deepnote_cell_type": "code",
    "deepnote_to_be_reexecuted": false,
    "executionInfo": {
     "elapsed": 644,
     "status": "ok",
     "timestamp": 1619205973016,
     "user": {
      "displayName": "IGNACIO ALEJANDRO MEZA",
      "photoUrl": "",
      "userId": "17011121633069169364"
     },
     "user_tz": 240
    },
    "execution_millis": 0,
    "execution_start": 1632493424597,
    "id": "b6CTPp5TAMhE",
    "source_hash": "810948b"
   },
   "outputs": [
    {
     "data": {
      "text/html": [
       "<div>\n",
       "<style scoped>\n",
       "    .dataframe tbody tr th:only-of-type {\n",
       "        vertical-align: middle;\n",
       "    }\n",
       "\n",
       "    .dataframe tbody tr th {\n",
       "        vertical-align: top;\n",
       "    }\n",
       "\n",
       "    .dataframe thead th {\n",
       "        text-align: right;\n",
       "    }\n",
       "</style>\n",
       "<table border=\"1\" class=\"dataframe\">\n",
       "  <thead>\n",
       "    <tr style=\"text-align: right;\">\n",
       "      <th></th>\n",
       "      <th>names</th>\n",
       "      <th>gender</th>\n",
       "      <th>race/ethnicity</th>\n",
       "      <th>parental level of education</th>\n",
       "      <th>lunch</th>\n",
       "      <th>test preparation course</th>\n",
       "      <th>math score</th>\n",
       "      <th>reading score</th>\n",
       "      <th>writing score</th>\n",
       "      <th>GPA</th>\n",
       "    </tr>\n",
       "  </thead>\n",
       "  <tbody>\n",
       "    <tr>\n",
       "      <th>0</th>\n",
       "      <td>Rita Courtney</td>\n",
       "      <td>female</td>\n",
       "      <td>group B</td>\n",
       "      <td>some high school</td>\n",
       "      <td>standard</td>\n",
       "      <td>none</td>\n",
       "      <td>3.22</td>\n",
       "      <td>3.76</td>\n",
       "      <td>3.76</td>\n",
       "      <td>3.58</td>\n",
       "    </tr>\n",
       "    <tr>\n",
       "      <th>3</th>\n",
       "      <td>Charles Linstrom</td>\n",
       "      <td>male</td>\n",
       "      <td>group A</td>\n",
       "      <td>bachelor's degree</td>\n",
       "      <td>standard</td>\n",
       "      <td>completed</td>\n",
       "      <td>5.80</td>\n",
       "      <td>5.68</td>\n",
       "      <td>5.86</td>\n",
       "      <td>5.78</td>\n",
       "    </tr>\n",
       "    <tr>\n",
       "      <th>5</th>\n",
       "      <td>Brian Young</td>\n",
       "      <td>male</td>\n",
       "      <td>group C</td>\n",
       "      <td>some high school</td>\n",
       "      <td>standard</td>\n",
       "      <td>none</td>\n",
       "      <td>5.38</td>\n",
       "      <td>4.96</td>\n",
       "      <td>4.78</td>\n",
       "      <td>5.04</td>\n",
       "    </tr>\n",
       "    <tr>\n",
       "      <th>6</th>\n",
       "      <td>Howard Jimenez</td>\n",
       "      <td>male</td>\n",
       "      <td>group E</td>\n",
       "      <td>some high school</td>\n",
       "      <td>standard</td>\n",
       "      <td>completed</td>\n",
       "      <td>5.86</td>\n",
       "      <td>5.50</td>\n",
       "      <td>5.56</td>\n",
       "      <td>5.64</td>\n",
       "    </tr>\n",
       "    <tr>\n",
       "      <th>7</th>\n",
       "      <td>Wayne Wilson</td>\n",
       "      <td>male</td>\n",
       "      <td>group B</td>\n",
       "      <td>some high school</td>\n",
       "      <td>standard</td>\n",
       "      <td>completed</td>\n",
       "      <td>6.64</td>\n",
       "      <td>6.16</td>\n",
       "      <td>6.22</td>\n",
       "      <td>6.34</td>\n",
       "    </tr>\n",
       "    <tr>\n",
       "      <th>...</th>\n",
       "      <td>...</td>\n",
       "      <td>...</td>\n",
       "      <td>...</td>\n",
       "      <td>...</td>\n",
       "      <td>...</td>\n",
       "      <td>...</td>\n",
       "      <td>...</td>\n",
       "      <td>...</td>\n",
       "      <td>...</td>\n",
       "      <td>...</td>\n",
       "    </tr>\n",
       "    <tr>\n",
       "      <th>1392</th>\n",
       "      <td>Richard Young</td>\n",
       "      <td>male</td>\n",
       "      <td>group D</td>\n",
       "      <td>high school</td>\n",
       "      <td>standard</td>\n",
       "      <td>none</td>\n",
       "      <td>5.14</td>\n",
       "      <td>5.50</td>\n",
       "      <td>5.26</td>\n",
       "      <td>5.30</td>\n",
       "    </tr>\n",
       "    <tr>\n",
       "      <th>1394</th>\n",
       "      <td>Wanda Russell</td>\n",
       "      <td>female</td>\n",
       "      <td>group B</td>\n",
       "      <td>high school</td>\n",
       "      <td>free/reduced</td>\n",
       "      <td>completed</td>\n",
       "      <td>2.38</td>\n",
       "      <td>3.64</td>\n",
       "      <td>3.16</td>\n",
       "      <td>3.06</td>\n",
       "    </tr>\n",
       "    <tr>\n",
       "      <th>1396</th>\n",
       "      <td>Marina Zeigler</td>\n",
       "      <td>female</td>\n",
       "      <td>group C</td>\n",
       "      <td>bachelor's degree</td>\n",
       "      <td>free/reduced</td>\n",
       "      <td>completed</td>\n",
       "      <td>4.96</td>\n",
       "      <td>5.44</td>\n",
       "      <td>5.86</td>\n",
       "      <td>5.42</td>\n",
       "    </tr>\n",
       "    <tr>\n",
       "      <th>1397</th>\n",
       "      <td>Laurie Carter</td>\n",
       "      <td>female</td>\n",
       "      <td>group B</td>\n",
       "      <td>some high school</td>\n",
       "      <td>standard</td>\n",
       "      <td>completed</td>\n",
       "      <td>4.24</td>\n",
       "      <td>4.66</td>\n",
       "      <td>4.72</td>\n",
       "      <td>4.54</td>\n",
       "    </tr>\n",
       "    <tr>\n",
       "      <th>1399</th>\n",
       "      <td>Amanda Perez</td>\n",
       "      <td>female</td>\n",
       "      <td>group A</td>\n",
       "      <td>high school</td>\n",
       "      <td>standard</td>\n",
       "      <td>completed</td>\n",
       "      <td>5.08</td>\n",
       "      <td>5.80</td>\n",
       "      <td>5.56</td>\n",
       "      <td>5.48</td>\n",
       "    </tr>\n",
       "  </tbody>\n",
       "</table>\n",
       "<p>875 rows × 10 columns</p>\n",
       "</div>"
      ],
      "text/plain": [
       "                 names  gender race/ethnicity parental level of education  \\\n",
       "0        Rita Courtney  female        group B            some high school   \n",
       "3     Charles Linstrom    male        group A           bachelor's degree   \n",
       "5          Brian Young    male        group C            some high school   \n",
       "6       Howard Jimenez    male        group E            some high school   \n",
       "7         Wayne Wilson    male        group B            some high school   \n",
       "...                ...     ...            ...                         ...   \n",
       "1392     Richard Young    male        group D                 high school   \n",
       "1394     Wanda Russell  female        group B                 high school   \n",
       "1396    Marina Zeigler  female        group C           bachelor's degree   \n",
       "1397     Laurie Carter  female        group B            some high school   \n",
       "1399      Amanda Perez  female        group A                 high school   \n",
       "\n",
       "             lunch test preparation course  math score  reading score  \\\n",
       "0         standard                    none        3.22           3.76   \n",
       "3         standard               completed        5.80           5.68   \n",
       "5         standard                    none        5.38           4.96   \n",
       "6         standard               completed        5.86           5.50   \n",
       "7         standard               completed        6.64           6.16   \n",
       "...            ...                     ...         ...            ...   \n",
       "1392      standard                    none        5.14           5.50   \n",
       "1394  free/reduced               completed        2.38           3.64   \n",
       "1396  free/reduced               completed        4.96           5.44   \n",
       "1397      standard               completed        4.24           4.66   \n",
       "1399      standard               completed        5.08           5.80   \n",
       "\n",
       "      writing score   GPA  \n",
       "0              3.76  3.58  \n",
       "3              5.86  5.78  \n",
       "5              4.78  5.04  \n",
       "6              5.56  5.64  \n",
       "7              6.22  6.34  \n",
       "...             ...   ...  \n",
       "1392           5.26  5.30  \n",
       "1394           3.16  3.06  \n",
       "1396           5.86  5.42  \n",
       "1397           4.72  4.54  \n",
       "1399           5.56  5.48  \n",
       "\n",
       "[875 rows x 10 columns]"
      ]
     },
     "metadata": {},
     "output_type": "display_data"
    }
   ],
   "source": [
    "def alumnos_promedio(dataframe_in):\n",
    "    #columna_promedio = dataframe_in.loc[]\n",
    "    columna_promedio=dataframe_in.mean(axis=1, numeric_only=True)\n",
    "    dataframe_in=pd.concat([dataframe_in,columna_promedio],axis=1)\n",
    "    dataframe_in=dataframe_in.rename(columns={0:'GPA'})\n",
    "\n",
    "    return(dataframe_in)\n",
    "    pass\n",
    "\n",
    "df_grades3=alumnos_promedio(df_grades2)\n",
    "#display(alumnos_promedio(df_grades2))\n",
    "display(df_grades3)"
   ]
  },
  {
   "cell_type": "markdown",
   "metadata": {
    "cell_id": "00042-507bb30d-9670-4be3-9854-1617ba8f2095",
    "deepnote_cell_type": "markdown",
    "id": "hrakfq02Si8z"
   },
   "source": [
    "**Respuesta Esperada:**"
   ]
  },
  {
   "cell_type": "code",
   "execution_count": 9,
   "metadata": {
    "cell_id": "00043-e16930f7-fe82-453a-8e9a-7421732ac929",
    "colab": {
     "base_uri": "https://localhost:8080/",
     "height": 204
    },
    "deepnote_cell_type": "code",
    "deepnote_to_be_reexecuted": false,
    "executionInfo": {
     "elapsed": 783,
     "status": "ok",
     "timestamp": 1619205975187,
     "user": {
      "displayName": "IGNACIO ALEJANDRO MEZA",
      "photoUrl": "",
      "userId": "17011121633069169364"
     },
     "user_tz": 240
    },
    "execution_millis": 43,
    "execution_start": 1632493424603,
    "id": "g9Fiwt8USiac",
    "outputId": "1e4da1d8-62d8-41b1-923d-68bfd65bed38",
    "source_hash": "55e53e3b"
   },
   "outputs": [
    {
     "data": {
      "text/html": [
       "<div>\n",
       "<style scoped>\n",
       "    .dataframe tbody tr th:only-of-type {\n",
       "        vertical-align: middle;\n",
       "    }\n",
       "\n",
       "    .dataframe tbody tr th {\n",
       "        vertical-align: top;\n",
       "    }\n",
       "\n",
       "    .dataframe thead th {\n",
       "        text-align: right;\n",
       "    }\n",
       "</style>\n",
       "<table border=\"1\" class=\"dataframe\">\n",
       "  <thead>\n",
       "    <tr style=\"text-align: right;\">\n",
       "      <th></th>\n",
       "      <th>names</th>\n",
       "      <th>gender</th>\n",
       "      <th>race/ethnicity</th>\n",
       "      <th>parental level of education</th>\n",
       "      <th>lunch</th>\n",
       "      <th>test preparation course</th>\n",
       "      <th>math score</th>\n",
       "      <th>reading score</th>\n",
       "      <th>writing score</th>\n",
       "      <th>GPA</th>\n",
       "    </tr>\n",
       "  </thead>\n",
       "  <tbody>\n",
       "    <tr>\n",
       "      <th>0</th>\n",
       "      <td>Rita Courtney</td>\n",
       "      <td>female</td>\n",
       "      <td>group B</td>\n",
       "      <td>some high school</td>\n",
       "      <td>standard</td>\n",
       "      <td>none</td>\n",
       "      <td>37.0</td>\n",
       "      <td>46.0</td>\n",
       "      <td>46.0</td>\n",
       "      <td>43.000000</td>\n",
       "    </tr>\n",
       "    <tr>\n",
       "      <th>1</th>\n",
       "      <td>Madeline Fuller</td>\n",
       "      <td>female</td>\n",
       "      <td>group C</td>\n",
       "      <td>some high school</td>\n",
       "      <td>standard</td>\n",
       "      <td>none</td>\n",
       "      <td>124.0</td>\n",
       "      <td>142.0</td>\n",
       "      <td>142.0</td>\n",
       "      <td>136.000000</td>\n",
       "    </tr>\n",
       "    <tr>\n",
       "      <th>2</th>\n",
       "      <td>Daniel Rester</td>\n",
       "      <td>male</td>\n",
       "      <td>group E</td>\n",
       "      <td>associate's degree</td>\n",
       "      <td>standard</td>\n",
       "      <td>none</td>\n",
       "      <td>156.0</td>\n",
       "      <td>196.0</td>\n",
       "      <td>193.0</td>\n",
       "      <td>181.666667</td>\n",
       "    </tr>\n",
       "    <tr>\n",
       "      <th>3</th>\n",
       "      <td>Charles Linstrom</td>\n",
       "      <td>male</td>\n",
       "      <td>group A</td>\n",
       "      <td>bachelor's degree</td>\n",
       "      <td>standard</td>\n",
       "      <td>completed</td>\n",
       "      <td>80.0</td>\n",
       "      <td>78.0</td>\n",
       "      <td>81.0</td>\n",
       "      <td>79.666667</td>\n",
       "    </tr>\n",
       "    <tr>\n",
       "      <th>4</th>\n",
       "      <td>Geraldine Hale</td>\n",
       "      <td>female</td>\n",
       "      <td>group A</td>\n",
       "      <td>associate's degree</td>\n",
       "      <td>standard</td>\n",
       "      <td>none</td>\n",
       "      <td>131.0</td>\n",
       "      <td>166.0</td>\n",
       "      <td>166.0</td>\n",
       "      <td>154.333333</td>\n",
       "    </tr>\n",
       "  </tbody>\n",
       "</table>\n",
       "</div>"
      ],
      "text/plain": [
       "              names  gender race/ethnicity parental level of education  \\\n",
       "0     Rita Courtney  female        group B            some high school   \n",
       "1   Madeline Fuller  female        group C            some high school   \n",
       "2     Daniel Rester    male        group E          associate's degree   \n",
       "3  Charles Linstrom    male        group A           bachelor's degree   \n",
       "4    Geraldine Hale  female        group A          associate's degree   \n",
       "\n",
       "      lunch test preparation course  math score  reading score  writing score  \\\n",
       "0  standard                    none        37.0           46.0           46.0   \n",
       "1  standard                    none       124.0          142.0          142.0   \n",
       "2  standard                    none       156.0          196.0          193.0   \n",
       "3  standard               completed        80.0           78.0           81.0   \n",
       "4  standard                    none       131.0          166.0          166.0   \n",
       "\n",
       "          GPA  \n",
       "0   43.000000  \n",
       "1  136.000000  \n",
       "2  181.666667  \n",
       "3   79.666667  \n",
       "4  154.333333  "
      ]
     },
     "execution_count": 9,
     "metadata": {},
     "output_type": "execute_result"
    }
   ],
   "source": [
    "df_grades = alumnos_promedio(df_grades)\n",
    "df_grades.head()"
   ]
  },
  {
   "cell_type": "markdown",
   "metadata": {
    "cell_id": "00044-362969a2-b0d5-4d45-a6f1-0293e36c0417",
    "deepnote_cell_type": "markdown",
    "id": "uA0ZXAWyBoLX"
   },
   "source": [
    "### 1.3.3 Reprobados y Destacados [1.5 Punto, 0.5 Cada DataFrame]"
   ]
  },
  {
   "cell_type": "markdown",
   "metadata": {
    "cell_id": "00045-7514bdf0-01ec-4c0a-83d1-12a2a8c8d3c3",
    "deepnote_cell_type": "markdown",
    "id": "k1FKahC3_g5_"
   },
   "source": [
    "Contentos con su desempeño, la Universidad les solicita que obtengan los alumnos quienes han reprobado el año y los que han tenido desempeño de destacado. Para esto se considerará que un alumno ha reprobado el año cuando el promedio de notas es inferior a 4.0 en la Escala Chilena, y se considerará destacado si posee notas superiores a 5.8 en todas las asignaturas (o sea notas superiores a 5.8 en `math score`, `reading score` y `writing score`).\n",
    "\n",
    "Cree una función que permita obtener tres Dataframes: \n",
    "- El primero deberá poseer solamente los alumnos que han reprobado en la prestigiosa universidad.\n",
    "- El segundo debe entregar un DataFrame similar al original, pero marcado con una \"R\" el promedio de notas de los alumnos reprobados.\n",
    "- El tercero será un Data Frame con los alumnos destacados ordenados de mayor a menor.\n",
    "\n",
    "**To-Do:**\n",
    "\n",
    "- [X] Obtener DataFrame con los alumnos que reprobaron el año.\n",
    "- [X] Obtener DataFrame similar al original, pero marcados con una \"R\" el atributo GPA de los alumnos reprobados.\n",
    "- [X] Obtener DataFrame con los alumnos destacados ordenados de mayor a menor."
   ]
  },
  {
   "cell_type": "markdown",
   "metadata": {
    "cell_id": "00046-8337183c-cd19-4dc0-b936-9dadeda8418e",
    "deepnote_cell_type": "markdown",
    "tags": []
   },
   "source": [
    "**Respuesta:**"
   ]
  },
  {
   "cell_type": "code",
   "execution_count": 13,
   "metadata": {
    "cell_id": "00047-d6f8abcb-8fba-4e2a-9dde-de6844e4868b",
    "deepnote_cell_type": "code",
    "deepnote_to_be_reexecuted": false,
    "executionInfo": {
     "elapsed": 641,
     "status": "ok",
     "timestamp": 1619205977306,
     "user": {
      "displayName": "IGNACIO ALEJANDRO MEZA",
      "photoUrl": "",
      "userId": "17011121633069169364"
     },
     "user_tz": 240
    },
    "execution_millis": 2,
    "execution_start": 1632493424637,
    "id": "Yw52wzwMAXHW",
    "source_hash": "e3c68478"
   },
   "outputs": [
    {
     "data": {
      "text/html": [
       "<div>\n",
       "<style scoped>\n",
       "    .dataframe tbody tr th:only-of-type {\n",
       "        vertical-align: middle;\n",
       "    }\n",
       "\n",
       "    .dataframe tbody tr th {\n",
       "        vertical-align: top;\n",
       "    }\n",
       "\n",
       "    .dataframe thead th {\n",
       "        text-align: right;\n",
       "    }\n",
       "</style>\n",
       "<table border=\"1\" class=\"dataframe\">\n",
       "  <thead>\n",
       "    <tr style=\"text-align: right;\">\n",
       "      <th></th>\n",
       "      <th>names</th>\n",
       "      <th>gender</th>\n",
       "      <th>race/ethnicity</th>\n",
       "      <th>parental level of education</th>\n",
       "      <th>lunch</th>\n",
       "      <th>test preparation course</th>\n",
       "      <th>math score</th>\n",
       "      <th>reading score</th>\n",
       "      <th>writing score</th>\n",
       "      <th>GPA</th>\n",
       "    </tr>\n",
       "  </thead>\n",
       "  <tbody>\n",
       "    <tr>\n",
       "      <th>0</th>\n",
       "      <td>Rita Courtney</td>\n",
       "      <td>female</td>\n",
       "      <td>group B</td>\n",
       "      <td>some high school</td>\n",
       "      <td>standard</td>\n",
       "      <td>none</td>\n",
       "      <td>3.22</td>\n",
       "      <td>3.76</td>\n",
       "      <td>3.76</td>\n",
       "      <td>3.58</td>\n",
       "    </tr>\n",
       "    <tr>\n",
       "      <th>13</th>\n",
       "      <td>Mikki Amaya</td>\n",
       "      <td>female</td>\n",
       "      <td>group A</td>\n",
       "      <td>high school</td>\n",
       "      <td>free/reduced</td>\n",
       "      <td>completed</td>\n",
       "      <td>3.04</td>\n",
       "      <td>3.88</td>\n",
       "      <td>3.46</td>\n",
       "      <td>3.46</td>\n",
       "    </tr>\n",
       "    <tr>\n",
       "      <th>26</th>\n",
       "      <td>Samuel Dougal</td>\n",
       "      <td>male</td>\n",
       "      <td>group C</td>\n",
       "      <td>master's degree</td>\n",
       "      <td>free/reduced</td>\n",
       "      <td>completed</td>\n",
       "      <td>3.76</td>\n",
       "      <td>3.52</td>\n",
       "      <td>3.76</td>\n",
       "      <td>3.68</td>\n",
       "    </tr>\n",
       "    <tr>\n",
       "      <th>55</th>\n",
       "      <td>Rodger Talavera</td>\n",
       "      <td>male</td>\n",
       "      <td>group B</td>\n",
       "      <td>high school</td>\n",
       "      <td>free/reduced</td>\n",
       "      <td>none</td>\n",
       "      <td>3.16</td>\n",
       "      <td>2.74</td>\n",
       "      <td>2.62</td>\n",
       "      <td>2.84</td>\n",
       "    </tr>\n",
       "    <tr>\n",
       "      <th>63</th>\n",
       "      <td>Morris Johnson</td>\n",
       "      <td>male</td>\n",
       "      <td>group A</td>\n",
       "      <td>associate's degree</td>\n",
       "      <td>free/reduced</td>\n",
       "      <td>completed</td>\n",
       "      <td>3.40</td>\n",
       "      <td>4.30</td>\n",
       "      <td>4.18</td>\n",
       "      <td>3.96</td>\n",
       "    </tr>\n",
       "    <tr>\n",
       "      <th>...</th>\n",
       "      <td>...</td>\n",
       "      <td>...</td>\n",
       "      <td>...</td>\n",
       "      <td>...</td>\n",
       "      <td>...</td>\n",
       "      <td>...</td>\n",
       "      <td>...</td>\n",
       "      <td>...</td>\n",
       "      <td>...</td>\n",
       "      <td>...</td>\n",
       "    </tr>\n",
       "    <tr>\n",
       "      <th>1371</th>\n",
       "      <td>Charles Harian</td>\n",
       "      <td>male</td>\n",
       "      <td>group C</td>\n",
       "      <td>some high school</td>\n",
       "      <td>free/reduced</td>\n",
       "      <td>completed</td>\n",
       "      <td>3.70</td>\n",
       "      <td>4.12</td>\n",
       "      <td>3.94</td>\n",
       "      <td>3.92</td>\n",
       "    </tr>\n",
       "    <tr>\n",
       "      <th>1373</th>\n",
       "      <td>Wendy Gunnell</td>\n",
       "      <td>female</td>\n",
       "      <td>group D</td>\n",
       "      <td>some high school</td>\n",
       "      <td>free/reduced</td>\n",
       "      <td>none</td>\n",
       "      <td>2.62</td>\n",
       "      <td>3.04</td>\n",
       "      <td>2.92</td>\n",
       "      <td>2.86</td>\n",
       "    </tr>\n",
       "    <tr>\n",
       "      <th>1389</th>\n",
       "      <td>Diana Costa</td>\n",
       "      <td>female</td>\n",
       "      <td>group C</td>\n",
       "      <td>high school</td>\n",
       "      <td>free/reduced</td>\n",
       "      <td>none</td>\n",
       "      <td>3.46</td>\n",
       "      <td>3.76</td>\n",
       "      <td>3.58</td>\n",
       "      <td>3.60</td>\n",
       "    </tr>\n",
       "    <tr>\n",
       "      <th>1391</th>\n",
       "      <td>Amy Sieving</td>\n",
       "      <td>female</td>\n",
       "      <td>group C</td>\n",
       "      <td>high school</td>\n",
       "      <td>standard</td>\n",
       "      <td>none</td>\n",
       "      <td>2.74</td>\n",
       "      <td>2.74</td>\n",
       "      <td>2.80</td>\n",
       "      <td>2.76</td>\n",
       "    </tr>\n",
       "    <tr>\n",
       "      <th>1394</th>\n",
       "      <td>Wanda Russell</td>\n",
       "      <td>female</td>\n",
       "      <td>group B</td>\n",
       "      <td>high school</td>\n",
       "      <td>free/reduced</td>\n",
       "      <td>completed</td>\n",
       "      <td>2.38</td>\n",
       "      <td>3.64</td>\n",
       "      <td>3.16</td>\n",
       "      <td>3.06</td>\n",
       "    </tr>\n",
       "  </tbody>\n",
       "</table>\n",
       "<p>86 rows × 10 columns</p>\n",
       "</div>"
      ],
      "text/plain": [
       "                names  gender race/ethnicity parental level of education  \\\n",
       "0       Rita Courtney  female        group B            some high school   \n",
       "13        Mikki Amaya  female        group A                 high school   \n",
       "26      Samuel Dougal    male        group C             master's degree   \n",
       "55    Rodger Talavera    male        group B                 high school   \n",
       "63     Morris Johnson    male        group A          associate's degree   \n",
       "...               ...     ...            ...                         ...   \n",
       "1371   Charles Harian    male        group C            some high school   \n",
       "1373    Wendy Gunnell  female        group D            some high school   \n",
       "1389      Diana Costa  female        group C                 high school   \n",
       "1391      Amy Sieving  female        group C                 high school   \n",
       "1394    Wanda Russell  female        group B                 high school   \n",
       "\n",
       "             lunch test preparation course  math score  reading score  \\\n",
       "0         standard                    none        3.22           3.76   \n",
       "13    free/reduced               completed        3.04           3.88   \n",
       "26    free/reduced               completed        3.76           3.52   \n",
       "55    free/reduced                    none        3.16           2.74   \n",
       "63    free/reduced               completed        3.40           4.30   \n",
       "...            ...                     ...         ...            ...   \n",
       "1371  free/reduced               completed        3.70           4.12   \n",
       "1373  free/reduced                    none        2.62           3.04   \n",
       "1389  free/reduced                    none        3.46           3.76   \n",
       "1391      standard                    none        2.74           2.74   \n",
       "1394  free/reduced               completed        2.38           3.64   \n",
       "\n",
       "      writing score   GPA  \n",
       "0              3.76  3.58  \n",
       "13             3.46  3.46  \n",
       "26             3.76  3.68  \n",
       "55             2.62  2.84  \n",
       "63             4.18  3.96  \n",
       "...             ...   ...  \n",
       "1371           3.94  3.92  \n",
       "1373           2.92  2.86  \n",
       "1389           3.58  3.60  \n",
       "1391           2.80  2.76  \n",
       "1394           3.16  3.06  \n",
       "\n",
       "[86 rows x 10 columns]"
      ]
     },
     "metadata": {},
     "output_type": "display_data"
    }
   ],
   "source": [
    "def reprobados_destacados(dataframe_in):\n",
    "    \n",
    "    reprobados=dataframe_in.loc[dataframe_in['GPA']<4.0]\n",
    "    \n",
    "    total_r=dataframe_in.copy(deep=True)\n",
    "    total_r.loc[total_r['GPA'] < 4.0,'GPA']='R'\n",
    "    \n",
    "    destacados=dataframe_in.loc[(dataframe_in['math score']>5.8) & (dataframe_in['writing score']>5.8) & (dataframe_in['reading score']>5.8)]\n",
    "    destacados=destacados.sort_values('GPA',ascending=False)\n",
    "    return(reprobados, total_r, destacados)\n",
    "    pass\n",
    "#display(df_grades3)\n",
    "df_1,df_2,df_3=reprobados_destacados(df_grades3)\n",
    "display(df_1)\n",
    "\n"
   ]
  },
  {
   "cell_type": "code",
   "execution_count": 15,
   "metadata": {
    "cell_id": "00048-58c77591-f1eb-4497-af40-252bcc9ed099",
    "colab": {
     "base_uri": "https://localhost:8080/",
     "height": 419
    },
    "deepnote_cell_type": "code",
    "deepnote_to_be_reexecuted": false,
    "executionInfo": {
     "elapsed": 611,
     "status": "ok",
     "timestamp": 1619205978676,
     "user": {
      "displayName": "IGNACIO ALEJANDRO MEZA",
      "photoUrl": "",
      "userId": "17011121633069169364"
     },
     "user_tz": 240
    },
    "execution_millis": 69,
    "execution_start": 1632493424642,
    "id": "LlxNXK11XBGn",
    "outputId": "a4572fe2-0758-4c0c-c9f3-cb444233134f",
    "source_hash": "73b6de2"
   },
   "outputs": [
    {
     "data": {
      "text/html": [
       "<div>\n",
       "<style scoped>\n",
       "    .dataframe tbody tr th:only-of-type {\n",
       "        vertical-align: middle;\n",
       "    }\n",
       "\n",
       "    .dataframe tbody tr th {\n",
       "        vertical-align: top;\n",
       "    }\n",
       "\n",
       "    .dataframe thead th {\n",
       "        text-align: right;\n",
       "    }\n",
       "</style>\n",
       "<table border=\"1\" class=\"dataframe\">\n",
       "  <thead>\n",
       "    <tr style=\"text-align: right;\">\n",
       "      <th></th>\n",
       "      <th>names</th>\n",
       "      <th>gender</th>\n",
       "      <th>race/ethnicity</th>\n",
       "      <th>parental level of education</th>\n",
       "      <th>lunch</th>\n",
       "      <th>test preparation course</th>\n",
       "      <th>math score</th>\n",
       "      <th>reading score</th>\n",
       "      <th>writing score</th>\n",
       "      <th>GPA</th>\n",
       "    </tr>\n",
       "  </thead>\n",
       "  <tbody>\n",
       "    <tr>\n",
       "      <th>0</th>\n",
       "      <td>Rita Courtney</td>\n",
       "      <td>female</td>\n",
       "      <td>group B</td>\n",
       "      <td>some high school</td>\n",
       "      <td>standard</td>\n",
       "      <td>none</td>\n",
       "      <td>37.0</td>\n",
       "      <td>46.0</td>\n",
       "      <td>46.0</td>\n",
       "      <td>43.0</td>\n",
       "    </tr>\n",
       "    <tr>\n",
       "      <th>1</th>\n",
       "      <td>Madeline Fuller</td>\n",
       "      <td>female</td>\n",
       "      <td>group C</td>\n",
       "      <td>some high school</td>\n",
       "      <td>standard</td>\n",
       "      <td>none</td>\n",
       "      <td>124.0</td>\n",
       "      <td>142.0</td>\n",
       "      <td>142.0</td>\n",
       "      <td>136.0</td>\n",
       "    </tr>\n",
       "    <tr>\n",
       "      <th>2</th>\n",
       "      <td>Daniel Rester</td>\n",
       "      <td>male</td>\n",
       "      <td>group E</td>\n",
       "      <td>associate's degree</td>\n",
       "      <td>standard</td>\n",
       "      <td>none</td>\n",
       "      <td>156.0</td>\n",
       "      <td>196.0</td>\n",
       "      <td>193.0</td>\n",
       "      <td>181.666667</td>\n",
       "    </tr>\n",
       "    <tr>\n",
       "      <th>3</th>\n",
       "      <td>Charles Linstrom</td>\n",
       "      <td>male</td>\n",
       "      <td>group A</td>\n",
       "      <td>bachelor's degree</td>\n",
       "      <td>standard</td>\n",
       "      <td>completed</td>\n",
       "      <td>80.0</td>\n",
       "      <td>78.0</td>\n",
       "      <td>81.0</td>\n",
       "      <td>79.666667</td>\n",
       "    </tr>\n",
       "    <tr>\n",
       "      <th>4</th>\n",
       "      <td>Geraldine Hale</td>\n",
       "      <td>female</td>\n",
       "      <td>group A</td>\n",
       "      <td>associate's degree</td>\n",
       "      <td>standard</td>\n",
       "      <td>none</td>\n",
       "      <td>131.0</td>\n",
       "      <td>166.0</td>\n",
       "      <td>166.0</td>\n",
       "      <td>154.333333</td>\n",
       "    </tr>\n",
       "    <tr>\n",
       "      <th>...</th>\n",
       "      <td>...</td>\n",
       "      <td>...</td>\n",
       "      <td>...</td>\n",
       "      <td>...</td>\n",
       "      <td>...</td>\n",
       "      <td>...</td>\n",
       "      <td>...</td>\n",
       "      <td>...</td>\n",
       "      <td>...</td>\n",
       "      <td>...</td>\n",
       "    </tr>\n",
       "    <tr>\n",
       "      <th>1395</th>\n",
       "      <td>Alexander Dillon</td>\n",
       "      <td>male</td>\n",
       "      <td>group D</td>\n",
       "      <td>associate's degree</td>\n",
       "      <td>standard</td>\n",
       "      <td>none</td>\n",
       "      <td>193.0</td>\n",
       "      <td>142.0</td>\n",
       "      <td>193.0</td>\n",
       "      <td>176.0</td>\n",
       "    </tr>\n",
       "    <tr>\n",
       "      <th>1396</th>\n",
       "      <td>Marina Zeigler</td>\n",
       "      <td>female</td>\n",
       "      <td>group C</td>\n",
       "      <td>bachelor's degree</td>\n",
       "      <td>free/reduced</td>\n",
       "      <td>completed</td>\n",
       "      <td>66.0</td>\n",
       "      <td>74.0</td>\n",
       "      <td>81.0</td>\n",
       "      <td>73.666667</td>\n",
       "    </tr>\n",
       "    <tr>\n",
       "      <th>1397</th>\n",
       "      <td>Laurie Carter</td>\n",
       "      <td>female</td>\n",
       "      <td>group B</td>\n",
       "      <td>some high school</td>\n",
       "      <td>standard</td>\n",
       "      <td>completed</td>\n",
       "      <td>54.0</td>\n",
       "      <td>61.0</td>\n",
       "      <td>62.0</td>\n",
       "      <td>59.0</td>\n",
       "    </tr>\n",
       "    <tr>\n",
       "      <th>1398</th>\n",
       "      <td>Joseph Mccoy</td>\n",
       "      <td>male</td>\n",
       "      <td>group D</td>\n",
       "      <td>some college</td>\n",
       "      <td>free/reduced</td>\n",
       "      <td>none</td>\n",
       "      <td>193.0</td>\n",
       "      <td>196.0</td>\n",
       "      <td>193.0</td>\n",
       "      <td>194.0</td>\n",
       "    </tr>\n",
       "    <tr>\n",
       "      <th>1399</th>\n",
       "      <td>Amanda Perez</td>\n",
       "      <td>female</td>\n",
       "      <td>group A</td>\n",
       "      <td>high school</td>\n",
       "      <td>standard</td>\n",
       "      <td>completed</td>\n",
       "      <td>68.0</td>\n",
       "      <td>80.0</td>\n",
       "      <td>76.0</td>\n",
       "      <td>74.666667</td>\n",
       "    </tr>\n",
       "  </tbody>\n",
       "</table>\n",
       "<p>1400 rows × 10 columns</p>\n",
       "</div>"
      ],
      "text/plain": [
       "                 names  gender race/ethnicity parental level of education  \\\n",
       "0        Rita Courtney  female        group B            some high school   \n",
       "1      Madeline Fuller  female        group C            some high school   \n",
       "2        Daniel Rester    male        group E          associate's degree   \n",
       "3     Charles Linstrom    male        group A           bachelor's degree   \n",
       "4       Geraldine Hale  female        group A          associate's degree   \n",
       "...                ...     ...            ...                         ...   \n",
       "1395  Alexander Dillon    male        group D          associate's degree   \n",
       "1396    Marina Zeigler  female        group C           bachelor's degree   \n",
       "1397     Laurie Carter  female        group B            some high school   \n",
       "1398      Joseph Mccoy    male        group D                some college   \n",
       "1399      Amanda Perez  female        group A                 high school   \n",
       "\n",
       "             lunch test preparation course  math score  reading score  \\\n",
       "0         standard                    none        37.0           46.0   \n",
       "1         standard                    none       124.0          142.0   \n",
       "2         standard                    none       156.0          196.0   \n",
       "3         standard               completed        80.0           78.0   \n",
       "4         standard                    none       131.0          166.0   \n",
       "...            ...                     ...         ...            ...   \n",
       "1395      standard                    none       193.0          142.0   \n",
       "1396  free/reduced               completed        66.0           74.0   \n",
       "1397      standard               completed        54.0           61.0   \n",
       "1398  free/reduced                    none       193.0          196.0   \n",
       "1399      standard               completed        68.0           80.0   \n",
       "\n",
       "      writing score         GPA  \n",
       "0              46.0        43.0  \n",
       "1             142.0       136.0  \n",
       "2             193.0  181.666667  \n",
       "3              81.0   79.666667  \n",
       "4             166.0  154.333333  \n",
       "...             ...         ...  \n",
       "1395          193.0       176.0  \n",
       "1396           81.0   73.666667  \n",
       "1397           62.0        59.0  \n",
       "1398          193.0       194.0  \n",
       "1399           76.0   74.666667  \n",
       "\n",
       "[1400 rows x 10 columns]"
      ]
     },
     "execution_count": 15,
     "metadata": {},
     "output_type": "execute_result"
    }
   ],
   "source": [
    "dataframe1, dataframe2, dataframe3 = reprobados_destacados(df_grades)\n",
    "dataframe2"
   ]
  },
  {
   "cell_type": "code",
   "execution_count": null,
   "metadata": {
    "cell_id": "00049-8240c0ec-b1ea-41d3-8b5e-4970d3ef59dc",
    "colab": {
     "base_uri": "https://localhost:8080/",
     "height": 419
    },
    "deepnote_cell_type": "code",
    "deepnote_to_be_reexecuted": false,
    "executionInfo": {
     "elapsed": 492,
     "status": "ok",
     "timestamp": 1619192503533,
     "user": {
      "displayName": "IGNACIO ALEJANDRO MEZA",
      "photoUrl": "",
      "userId": "17011121633069169364"
     },
     "user_tz": 240
    },
    "execution_millis": 67,
    "execution_start": 1632493424700,
    "id": "tpG_2VzNEpf7",
    "outputId": "08aaa113-1055-4075-a0f5-5b8f1a1b9b1f",
    "source_hash": "6205a86b"
   },
   "outputs": [
    {
     "data": {
      "application/vnd.deepnote.dataframe.v2+json": {
       "column_count": 10,
       "columns": [
        {
         "dtype": "object",
         "name": "names",
         "stats": {
          "categories": [
           {
            "count": 1,
            "name": "Rita Courtney"
           },
           {
            "count": 1,
            "name": "Charles Linstrom"
           },
           {
            "count": 873,
            "name": "873 others"
           }
          ],
          "nan_count": 0,
          "unique_count": 875
         }
        },
        {
         "dtype": "object",
         "name": "gender",
         "stats": {
          "categories": [
           {
            "count": 448,
            "name": "female"
           },
           {
            "count": 427,
            "name": "male"
           }
          ],
          "nan_count": 0,
          "unique_count": 2
         }
        },
        {
         "dtype": "object",
         "name": "race/ethnicity",
         "stats": {
          "categories": [
           {
            "count": 272,
            "name": "group C"
           },
           {
            "count": 239,
            "name": "group D"
           },
           {
            "count": 364,
            "name": "3 others"
           }
          ],
          "nan_count": 0,
          "unique_count": 5
         }
        },
        {
         "dtype": "object",
         "name": "parental level of education",
         "stats": {
          "categories": [
           {
            "count": 196,
            "name": "associate's degree"
           },
           {
            "count": 191,
            "name": "some college"
           },
           {
            "count": 488,
            "name": "4 others"
           }
          ],
          "nan_count": 0,
          "unique_count": 6
         }
        },
        {
         "dtype": "object",
         "name": "lunch",
         "stats": {
          "categories": [
           {
            "count": 562,
            "name": "standard"
           },
           {
            "count": 313,
            "name": "free/reduced"
           }
          ],
          "nan_count": 0,
          "unique_count": 2
         }
        },
        {
         "dtype": "object",
         "name": "test preparation course",
         "stats": {
          "categories": [
           {
            "count": 563,
            "name": "none"
           },
           {
            "count": 312,
            "name": "completed"
           }
          ],
          "nan_count": 0,
          "unique_count": 2
         }
        },
        {
         "dtype": "float64",
         "name": "math score",
         "stats": {
          "histogram": [
           {
            "bin_end": 1.6,
            "bin_start": 1,
            "count": 2
           },
           {
            "bin_end": 2.2,
            "bin_start": 1.6,
            "count": 2
           },
           {
            "bin_end": 2.8,
            "bin_start": 2.2,
            "count": 10
           },
           {
            "bin_end": 3.4,
            "bin_start": 2.8,
            "count": 19
           },
           {
            "bin_end": 4,
            "bin_start": 3.4,
            "count": 81
           },
           {
            "bin_end": 4.6,
            "bin_start": 4,
            "count": 158
           },
           {
            "bin_end": 5.2,
            "bin_start": 4.6,
            "count": 245
           },
           {
            "bin_end": 5.8,
            "bin_start": 5.2,
            "count": 191
           },
           {
            "bin_end": 6.3999999999999995,
            "bin_start": 5.8,
            "count": 116
           },
           {
            "bin_end": 7,
            "bin_start": 6.3999999999999995,
            "count": 51
           }
          ],
          "max": "7.0",
          "min": "1.0",
          "nan_count": 0,
          "unique_count": 79
         }
        },
        {
         "dtype": "float64",
         "name": "reading score",
         "stats": {
          "histogram": [
           {
            "bin_end": 2.5180000000000002,
            "bin_start": 2.02,
            "count": 4
           },
           {
            "bin_end": 3.016,
            "bin_start": 2.5180000000000002,
            "count": 7
           },
           {
            "bin_end": 3.5140000000000002,
            "bin_start": 3.016,
            "count": 19
           },
           {
            "bin_end": 4.0120000000000005,
            "bin_start": 3.5140000000000002,
            "count": 53
           },
           {
            "bin_end": 4.51,
            "bin_start": 4.0120000000000005,
            "count": 124
           },
           {
            "bin_end": 5.008000000000001,
            "bin_start": 4.51,
            "count": 157
           },
           {
            "bin_end": 5.506,
            "bin_start": 5.008000000000001,
            "count": 212
           },
           {
            "bin_end": 6.0040000000000004,
            "bin_start": 5.506,
            "count": 147
           },
           {
            "bin_end": 6.502000000000001,
            "bin_start": 6.0040000000000004,
            "count": 101
           },
           {
            "bin_end": 7,
            "bin_start": 6.502000000000001,
            "count": 51
           }
          ],
          "max": "7.0",
          "min": "2.02",
          "nan_count": 0,
          "unique_count": 72
         }
        },
        {
         "dtype": "float64",
         "name": "writing score",
         "stats": {
          "histogram": [
           {
            "bin_end": 2.14,
            "bin_start": 1.6,
            "count": 2
           },
           {
            "bin_end": 2.68,
            "bin_start": 2.14,
            "count": 6
           },
           {
            "bin_end": 3.22,
            "bin_start": 2.68,
            "count": 13
           },
           {
            "bin_end": 3.7600000000000002,
            "bin_start": 3.22,
            "count": 52
           },
           {
            "bin_end": 4.300000000000001,
            "bin_start": 3.7600000000000002,
            "count": 115
           },
           {
            "bin_end": 4.84,
            "bin_start": 4.300000000000001,
            "count": 129
           },
           {
            "bin_end": 5.380000000000001,
            "bin_start": 4.84,
            "count": 218
           },
           {
            "bin_end": 5.92,
            "bin_start": 5.380000000000001,
            "count": 174
           },
           {
            "bin_end": 6.460000000000001,
            "bin_start": 5.92,
            "count": 116
           },
           {
            "bin_end": 7,
            "bin_start": 6.460000000000001,
            "count": 50
           }
          ],
          "max": "7.0",
          "min": "1.6",
          "nan_count": 0,
          "unique_count": 77
         }
        },
        {
         "dtype": "object",
         "name": "GPA",
         "stats": {
          "categories": [
           {
            "count": 86,
            "name": "R"
           },
           {
            "count": 12,
            "name": "5.2"
           },
           {
            "count": 777,
            "name": "142 others"
           }
          ],
          "nan_count": 0,
          "unique_count": 144
         }
        },
        {
         "dtype": "int64",
         "name": "_deepnote_index_column"
        }
       ],
       "row_count": 875,
       "rows_bottom": [
        {
         "GPA": "4.2",
         "_deepnote_index_column": 825,
         "gender": "female",
         "lunch": "standard",
         "math score": 3.88,
         "names": "Kelly Bowar",
         "parental level of education": "some high school",
         "race/ethnicity": "group D",
         "reading score": 4.48,
         "test preparation course": "none",
         "writing score": 4.24
        },
        {
         "GPA": "4.52",
         "_deepnote_index_column": 826,
         "gender": "female",
         "lunch": "free/reduced",
         "math score": 4.18,
         "names": "Kelly Greer",
         "parental level of education": "associate's degree",
         "race/ethnicity": "group C",
         "reading score": 4.66,
         "test preparation course": "none",
         "writing score": 4.72
        },
        {
         "GPA": "5.44",
         "_deepnote_index_column": 827,
         "gender": "male",
         "lunch": "standard",
         "math score": 6.1,
         "names": "Fred Jaeger",
         "parental level of education": "bachelor's degree",
         "race/ethnicity": "group E",
         "reading score": 4.96,
         "test preparation course": "completed",
         "writing score": 5.26
        },
        {
         "GPA": "4.86",
         "_deepnote_index_column": 828,
         "gender": "female",
         "lunch": "free/reduced",
         "math score": 4.72,
         "names": "Haydee Kunkel",
         "parental level of education": "high school",
         "race/ethnicity": "group C",
         "reading score": 5.02,
         "test preparation course": "none",
         "writing score": 4.84
        },
        {
         "GPA": "5.66",
         "_deepnote_index_column": 829,
         "gender": "female",
         "lunch": "standard",
         "math score": 4.9,
         "names": "Kayla Lopez",
         "parental level of education": "associate's degree",
         "race/ethnicity": "group C",
         "reading score": 6.04,
         "test preparation course": "completed",
         "writing score": 6.04
        },
        {
         "GPA": "5.88",
         "_deepnote_index_column": 830,
         "gender": "male",
         "lunch": "standard",
         "math score": 5.92,
         "names": "Paul Brownell",
         "parental level of education": "high school",
         "race/ethnicity": "group B",
         "reading score": 5.92,
         "test preparation course": "none",
         "writing score": 5.8
        },
        {
         "GPA": "5.06",
         "_deepnote_index_column": 831,
         "gender": "male",
         "lunch": "free/reduced",
         "math score": 5.62,
         "names": "Jose Rogers",
         "parental level of education": "some college",
         "race/ethnicity": "group D",
         "reading score": 4.72,
         "test preparation course": "none",
         "writing score": 4.84
        },
        {
         "GPA": "4.46",
         "_deepnote_index_column": 832,
         "gender": "female",
         "lunch": "free/reduced",
         "math score": 4,
         "names": "Joyce Bland",
         "parental level of education": "some high school",
         "race/ethnicity": "group D",
         "reading score": 4.84,
         "test preparation course": "none",
         "writing score": 4.54
        },
        {
         "GPA": "5.16",
         "_deepnote_index_column": 833,
         "gender": "female",
         "lunch": "free/reduced",
         "math score": 5.14,
         "names": "Fannie Alvarez",
         "parental level of education": "some college",
         "race/ethnicity": "group D",
         "reading score": 4.9,
         "test preparation course": "none",
         "writing score": 5.44
        },
        {
         "GPA": "R",
         "_deepnote_index_column": 834,
         "gender": "female",
         "lunch": "free/reduced",
         "math score": 1,
         "names": "Melissa Johnston",
         "parental level of education": "some high school",
         "race/ethnicity": "group C",
         "reading score": 2.02,
         "test preparation course": "none",
         "writing score": 1.6
        },
        {
         "GPA": "4.88",
         "_deepnote_index_column": 835,
         "gender": "female",
         "lunch": "standard",
         "math score": 4.9,
         "names": "Judith Mcenany",
         "parental level of education": "bachelor's degree",
         "race/ethnicity": "group D",
         "reading score": 5.02,
         "test preparation course": "none",
         "writing score": 4.72
        },
        {
         "GPA": "5.72",
         "_deepnote_index_column": 836,
         "gender": "female",
         "lunch": "free/reduced",
         "math score": 5.14,
         "names": "Nancy Mccormick",
         "parental level of education": "some high school",
         "race/ethnicity": "group D",
         "reading score": 6.16,
         "test preparation course": "completed",
         "writing score": 5.86
        },
        {
         "GPA": "5.06",
         "_deepnote_index_column": 837,
         "gender": "male",
         "lunch": "standard",
         "math score": 5.32,
         "names": "Timothy Long",
         "parental level of education": "high school",
         "race/ethnicity": "group C",
         "reading score": 5.02,
         "test preparation course": "completed",
         "writing score": 4.84
        },
        {
         "GPA": "7.0",
         "_deepnote_index_column": 838,
         "gender": "female",
         "lunch": "standard",
         "math score": 7,
         "names": "Sandra Pompey",
         "parental level of education": "associate's degree",
         "race/ethnicity": "group E",
         "reading score": 7,
         "test preparation course": "none",
         "writing score": 7
        },
        {
         "GPA": "4.44",
         "_deepnote_index_column": 839,
         "gender": "male",
         "lunch": "free/reduced",
         "math score": 4.9,
         "names": "Steven Marriot",
         "parental level of education": "some college",
         "race/ethnicity": "group C",
         "reading score": 4.48,
         "test preparation course": "none",
         "writing score": 3.94
        },
        {
         "GPA": "R",
         "_deepnote_index_column": 840,
         "gender": "male",
         "lunch": "free/reduced",
         "math score": 3.82,
         "names": "Stanley Chappell",
         "parental level of education": "associate's degree",
         "race/ethnicity": "group A",
         "reading score": 4.42,
         "test preparation course": "none",
         "writing score": 3.64
        },
        {
         "GPA": "4.12",
         "_deepnote_index_column": 841,
         "gender": "female",
         "lunch": "standard",
         "math score": 4.06,
         "names": "Michelle Smithson",
         "parental level of education": "associate's degree",
         "race/ethnicity": "group E",
         "reading score": 4.06,
         "test preparation course": "none",
         "writing score": 4.24
        },
        {
         "GPA": "5.26",
         "_deepnote_index_column": 842,
         "gender": "male",
         "lunch": "standard",
         "math score": 5.26,
         "names": "Jeffrey Bostrom",
         "parental level of education": "associate's degree",
         "race/ethnicity": "group E",
         "reading score": 5.44,
         "test preparation course": "completed",
         "writing score": 5.08
        },
        {
         "GPA": "6.04",
         "_deepnote_index_column": 843,
         "gender": "male",
         "lunch": "standard",
         "math score": 5.92,
         "names": "Earnest Cole",
         "parental level of education": "some college",
         "race/ethnicity": "group D",
         "reading score": 5.92,
         "test preparation course": "completed",
         "writing score": 6.28
        },
        {
         "GPA": "4.64",
         "_deepnote_index_column": 844,
         "gender": "female",
         "lunch": "free/reduced",
         "math score": 4.3,
         "names": "Sharon Garcia",
         "parental level of education": "some high school",
         "race/ethnicity": "group C",
         "reading score": 4.9,
         "test preparation course": "none",
         "writing score": 4.72
        },
        {
         "GPA": "5.94",
         "_deepnote_index_column": 845,
         "gender": "female",
         "lunch": "standard",
         "math score": 5.5,
         "names": "Carol Miller",
         "parental level of education": "associate's degree",
         "race/ethnicity": "group C",
         "reading score": 5.92,
         "test preparation course": "completed",
         "writing score": 6.4
        },
        {
         "GPA": "4.82",
         "_deepnote_index_column": 846,
         "gender": "male",
         "lunch": "free/reduced",
         "math score": 4.96,
         "names": "Antonio Evans",
         "parental level of education": "high school",
         "race/ethnicity": "group C",
         "reading score": 4.96,
         "test preparation course": "none",
         "writing score": 4.54
        },
        {
         "GPA": "5.36",
         "_deepnote_index_column": 847,
         "gender": "female",
         "lunch": "standard",
         "math score": 5.32,
         "names": "Pam Otoole",
         "parental level of education": "bachelor's degree",
         "race/ethnicity": "group B",
         "reading score": 5.32,
         "test preparation course": "none",
         "writing score": 5.44
        },
        {
         "GPA": "4.62",
         "_deepnote_index_column": 848,
         "gender": "male",
         "lunch": "standard",
         "math score": 5.2,
         "names": "Matthew Burns",
         "parental level of education": "high school",
         "race/ethnicity": "group E",
         "reading score": 4.3,
         "test preparation course": "none",
         "writing score": 4.36
        },
        {
         "GPA": "4.34",
         "_deepnote_index_column": 849,
         "gender": "male",
         "lunch": "free/reduced",
         "math score": 4.42,
         "names": "Gregory Fernandez",
         "parental level of education": "high school",
         "race/ethnicity": "group E",
         "reading score": 4.36,
         "test preparation course": "completed",
         "writing score": 4.24
        },
        {
         "GPA": "6.26",
         "_deepnote_index_column": 850,
         "gender": "male",
         "lunch": "free/reduced",
         "math score": 6.04,
         "names": "Charles Herandez",
         "parental level of education": "master's degree",
         "race/ethnicity": "group D",
         "reading score": 6.34,
         "test preparation course": "completed",
         "writing score": 6.4
        },
        {
         "GPA": "4.1",
         "_deepnote_index_column": 851,
         "gender": "male",
         "lunch": "standard",
         "math score": 4.66,
         "names": "Aaron Shelly",
         "parental level of education": "associate's degree",
         "race/ethnicity": "group D",
         "reading score": 3.88,
         "test preparation course": "none",
         "writing score": 3.76
        },
        {
         "GPA": "R",
         "_deepnote_index_column": 852,
         "gender": "male",
         "lunch": "free/reduced",
         "math score": 3.7,
         "names": "Charles Harian",
         "parental level of education": "some high school",
         "race/ethnicity": "group C",
         "reading score": 4.12,
         "test preparation course": "completed",
         "writing score": 3.94
        },
        {
         "GPA": "4.54",
         "_deepnote_index_column": 853,
         "gender": "male",
         "lunch": "free/reduced",
         "math score": 4.9,
         "names": "Steven Hacker",
         "parental level of education": "some high school",
         "race/ethnicity": "group A",
         "reading score": 4.54,
         "test preparation course": "none",
         "writing score": 4.18
        },
        {
         "GPA": "R",
         "_deepnote_index_column": 854,
         "gender": "female",
         "lunch": "free/reduced",
         "math score": 2.62,
         "names": "Wendy Gunnell",
         "parental level of education": "some high school",
         "race/ethnicity": "group D",
         "reading score": 3.04,
         "test preparation course": "none",
         "writing score": 2.92
        },
        {
         "GPA": "5.78",
         "_deepnote_index_column": 855,
         "gender": "male",
         "lunch": "standard",
         "math score": 6.28,
         "names": "Manuel Glover",
         "parental level of education": "some college",
         "race/ethnicity": "group D",
         "reading score": 5.38,
         "test preparation course": "none",
         "writing score": 5.68
        },
        {
         "GPA": "5.5",
         "_deepnote_index_column": 856,
         "gender": "female",
         "lunch": "standard",
         "math score": 4.9,
         "names": "Linda Nevin",
         "parental level of education": "some high school",
         "race/ethnicity": "group B",
         "reading score": 5.92,
         "test preparation course": "completed",
         "writing score": 5.68
        },
        {
         "GPA": "4.92",
         "_deepnote_index_column": 857,
         "gender": "male",
         "lunch": "free/reduced",
         "math score": 4.78,
         "names": "James Piper",
         "parental level of education": "bachelor's degree",
         "race/ethnicity": "group D",
         "reading score": 4.96,
         "test preparation course": "none",
         "writing score": 5.02
        },
        {
         "GPA": "5.82",
         "_deepnote_index_column": 858,
         "gender": "male",
         "lunch": "free/reduced",
         "math score": 5.68,
         "names": "Timothy Anderson",
         "parental level of education": "associate's degree",
         "race/ethnicity": "group C",
         "reading score": 5.86,
         "test preparation course": "completed",
         "writing score": 5.92
        },
        {
         "GPA": "5.22",
         "_deepnote_index_column": 859,
         "gender": "female",
         "lunch": "standard",
         "math score": 4.9,
         "names": "Julie Sciancalepore",
         "parental level of education": "bachelor's degree",
         "race/ethnicity": "group C",
         "reading score": 5.32,
         "test preparation course": "none",
         "writing score": 5.44
        },
        {
         "GPA": "6.04",
         "_deepnote_index_column": 860,
         "gender": "male",
         "lunch": "free/reduced",
         "math score": 6.4,
         "names": "Brandon Palmer",
         "parental level of education": "associate's degree",
         "race/ethnicity": "group D",
         "reading score": 6.22,
         "test preparation course": "none",
         "writing score": 5.5
        },
        {
         "GPA": "6.92",
         "_deepnote_index_column": 861,
         "gender": "male",
         "lunch": "standard",
         "math score": 7,
         "names": "Robert Morrison",
         "parental level of education": "some college",
         "race/ethnicity": "group D",
         "reading score": 6.82,
         "test preparation course": "completed",
         "writing score": 6.94
        },
        {
         "GPA": "5.22",
         "_deepnote_index_column": 862,
         "gender": "male",
         "lunch": "free/reduced",
         "math score": 5.02,
         "names": "Claudio Millender",
         "parental level of education": "some college",
         "race/ethnicity": "group C",
         "reading score": 5.44,
         "test preparation course": "completed",
         "writing score": 5.2
        },
        {
         "GPA": "5.56",
         "_deepnote_index_column": 863,
         "gender": "female",
         "lunch": "standard",
         "math score": 5.44,
         "names": "Emily King",
         "parental level of education": "some college",
         "race/ethnicity": "group D",
         "reading score": 5.5,
         "test preparation course": "completed",
         "writing score": 5.74
        },
        {
         "GPA": "5.2",
         "_deepnote_index_column": 864,
         "gender": "male",
         "lunch": "standard",
         "math score": 5.56,
         "names": "William Sakkinen",
         "parental level of education": "some college",
         "race/ethnicity": "group E",
         "reading score": 5.02,
         "test preparation course": "none",
         "writing score": 5.02
        },
        {
         "GPA": "5.16",
         "_deepnote_index_column": 865,
         "gender": "female",
         "lunch": "standard",
         "math score": 4.96,
         "names": "Elsa Hyman",
         "parental level of education": "high school",
         "race/ethnicity": "group B",
         "reading score": 5.32,
         "test preparation course": "none",
         "writing score": 5.2
        },
        {
         "GPA": "4.96",
         "_deepnote_index_column": 866,
         "gender": "female",
         "lunch": "standard",
         "math score": 4.54,
         "names": "Virginia Sievers",
         "parental level of education": "bachelor's degree",
         "race/ethnicity": "group C",
         "reading score": 4.84,
         "test preparation course": "completed",
         "writing score": 5.5
        },
        {
         "GPA": "5.36",
         "_deepnote_index_column": 867,
         "gender": "female",
         "lunch": "standard",
         "math score": 4.72,
         "names": "Laura Cavanaugh",
         "parental level of education": "associate's degree",
         "race/ethnicity": "group C",
         "reading score": 5.56,
         "test preparation course": "completed",
         "writing score": 5.8
        },
        {
         "GPA": "R",
         "_deepnote_index_column": 868,
         "gender": "female",
         "lunch": "free/reduced",
         "math score": 3.46,
         "names": "Diana Costa",
         "parental level of education": "high school",
         "race/ethnicity": "group C",
         "reading score": 3.76,
         "test preparation course": "none",
         "writing score": 3.58
        },
        {
         "GPA": "R",
         "_deepnote_index_column": 869,
         "gender": "female",
         "lunch": "standard",
         "math score": 2.74,
         "names": "Amy Sieving",
         "parental level of education": "high school",
         "race/ethnicity": "group C",
         "reading score": 2.74,
         "test preparation course": "none",
         "writing score": 2.8
        },
        {
         "GPA": "5.3",
         "_deepnote_index_column": 870,
         "gender": "male",
         "lunch": "standard",
         "math score": 5.14,
         "names": "Richard Young",
         "parental level of education": "high school",
         "race/ethnicity": "group D",
         "reading score": 5.5,
         "test preparation course": "none",
         "writing score": 5.26
        },
        {
         "GPA": "R",
         "_deepnote_index_column": 871,
         "gender": "female",
         "lunch": "free/reduced",
         "math score": 2.38,
         "names": "Wanda Russell",
         "parental level of education": "high school",
         "race/ethnicity": "group B",
         "reading score": 3.64,
         "test preparation course": "completed",
         "writing score": 3.16
        },
        {
         "GPA": "5.42",
         "_deepnote_index_column": 872,
         "gender": "female",
         "lunch": "free/reduced",
         "math score": 4.96,
         "names": "Marina Zeigler",
         "parental level of education": "bachelor's degree",
         "race/ethnicity": "group C",
         "reading score": 5.44,
         "test preparation course": "completed",
         "writing score": 5.86
        },
        {
         "GPA": "4.54",
         "_deepnote_index_column": 873,
         "gender": "female",
         "lunch": "standard",
         "math score": 4.24,
         "names": "Laurie Carter",
         "parental level of education": "some high school",
         "race/ethnicity": "group B",
         "reading score": 4.66,
         "test preparation course": "completed",
         "writing score": 4.72
        },
        {
         "GPA": "5.48",
         "_deepnote_index_column": 874,
         "gender": "female",
         "lunch": "standard",
         "math score": 5.08,
         "names": "Amanda Perez",
         "parental level of education": "high school",
         "race/ethnicity": "group A",
         "reading score": 5.8,
         "test preparation course": "completed",
         "writing score": 5.56
        }
       ],
       "rows_top": [
        {
         "GPA": "R",
         "_deepnote_index_column": 0,
         "gender": "female",
         "lunch": "standard",
         "math score": 3.22,
         "names": "Rita Courtney",
         "parental level of education": "some high school",
         "race/ethnicity": "group B",
         "reading score": 3.76,
         "test preparation course": "none",
         "writing score": 3.76
        },
        {
         "GPA": "5.78",
         "_deepnote_index_column": 1,
         "gender": "male",
         "lunch": "standard",
         "math score": 5.8,
         "names": "Charles Linstrom",
         "parental level of education": "bachelor's degree",
         "race/ethnicity": "group A",
         "reading score": 5.68,
         "test preparation course": "completed",
         "writing score": 5.86
        },
        {
         "GPA": "5.04",
         "_deepnote_index_column": 2,
         "gender": "male",
         "lunch": "standard",
         "math score": 5.38,
         "names": "Brian Young",
         "parental level of education": "some high school",
         "race/ethnicity": "group C",
         "reading score": 4.96,
         "test preparation course": "none",
         "writing score": 4.78
        },
        {
         "GPA": "5.64",
         "_deepnote_index_column": 3,
         "gender": "male",
         "lunch": "standard",
         "math score": 5.86,
         "names": "Howard Jimenez",
         "parental level of education": "some high school",
         "race/ethnicity": "group E",
         "reading score": 5.5,
         "test preparation course": "completed",
         "writing score": 5.56
        },
        {
         "GPA": "6.34",
         "_deepnote_index_column": 4,
         "gender": "male",
         "lunch": "standard",
         "math score": 6.64,
         "names": "Wayne Wilson",
         "parental level of education": "some high school",
         "race/ethnicity": "group B",
         "reading score": 6.16,
         "test preparation course": "completed",
         "writing score": 6.22
        },
        {
         "GPA": "5.02",
         "_deepnote_index_column": 5,
         "gender": "male",
         "lunch": "standard",
         "math score": 5.26,
         "names": "Jonathan Clingan",
         "parental level of education": "some college",
         "race/ethnicity": "group D",
         "reading score": 4.66,
         "test preparation course": "completed",
         "writing score": 5.14
        },
        {
         "GPA": "5.14",
         "_deepnote_index_column": 6,
         "gender": "male",
         "lunch": "standard",
         "math score": 5.5,
         "names": "William Tang",
         "parental level of education": "associate's degree",
         "race/ethnicity": "group D",
         "reading score": 5.08,
         "test preparation course": "none",
         "writing score": 4.84
        },
        {
         "GPA": "R",
         "_deepnote_index_column": 7,
         "gender": "female",
         "lunch": "free/reduced",
         "math score": 3.04,
         "names": "Mikki Amaya",
         "parental level of education": "high school",
         "race/ethnicity": "group A",
         "reading score": 3.88,
         "test preparation course": "completed",
         "writing score": 3.46
        },
        {
         "GPA": "4.7",
         "_deepnote_index_column": 8,
         "gender": "male",
         "lunch": "standard",
         "math score": 4.78,
         "names": "Gerald Wilson",
         "parental level of education": "associate's degree",
         "race/ethnicity": "group A",
         "reading score": 4.66,
         "test preparation course": "none",
         "writing score": 4.66
        },
        {
         "GPA": "5.76",
         "_deepnote_index_column": 9,
         "gender": "male",
         "lunch": "standard",
         "math score": 6.64,
         "names": "Damon Mckee",
         "parental level of education": "high school",
         "race/ethnicity": "group E",
         "reading score": 5.38,
         "test preparation course": "none",
         "writing score": 5.26
        },
        {
         "GPA": "5.5",
         "_deepnote_index_column": 10,
         "gender": "female",
         "lunch": "standard",
         "math score": 4.9,
         "names": "Sophia Bijou",
         "parental level of education": "some high school",
         "race/ethnicity": "group D",
         "reading score": 5.68,
         "test preparation course": "completed",
         "writing score": 5.92
        },
        {
         "GPA": "4.96",
         "_deepnote_index_column": 11,
         "gender": "female",
         "lunch": "free/reduced",
         "math score": 4.12,
         "names": "Monica Schwartz",
         "parental level of education": "associate's degree",
         "race/ethnicity": "group B",
         "reading score": 5.56,
         "test preparation course": "none",
         "writing score": 5.2
        },
        {
         "GPA": "4.7",
         "_deepnote_index_column": 12,
         "gender": "male",
         "lunch": "standard",
         "math score": 4.72,
         "names": "Donald Upchurch",
         "parental level of education": "associate's degree",
         "race/ethnicity": "group C",
         "reading score": 4.9,
         "test preparation course": "none",
         "writing score": 4.48
        },
        {
         "GPA": "5.4",
         "_deepnote_index_column": 13,
         "gender": "male",
         "lunch": "standard",
         "math score": 5.44,
         "names": "Donald Dunnings",
         "parental level of education": "some high school",
         "race/ethnicity": "group D",
         "reading score": 5.44,
         "test preparation course": "none",
         "writing score": 5.32
        },
        {
         "GPA": "4.62",
         "_deepnote_index_column": 14,
         "gender": "male",
         "lunch": "free/reduced",
         "math score": 4.72,
         "names": "Joseph Mccoy",
         "parental level of education": "some college",
         "race/ethnicity": "group D",
         "reading score": 4.42,
         "test preparation course": "none",
         "writing score": 4.72
        },
        {
         "GPA": "5.2",
         "_deepnote_index_column": 15,
         "gender": "male",
         "lunch": "standard",
         "math score": 5.38,
         "names": "David Dupree",
         "parental level of education": "high school",
         "race/ethnicity": "group B",
         "reading score": 5.14,
         "test preparation course": "completed",
         "writing score": 5.08
        },
        {
         "GPA": "R",
         "_deepnote_index_column": 16,
         "gender": "male",
         "lunch": "free/reduced",
         "math score": 3.76,
         "names": "Samuel Dougal",
         "parental level of education": "master's degree",
         "race/ethnicity": "group C",
         "reading score": 3.52,
         "test preparation course": "completed",
         "writing score": 3.76
        },
        {
         "GPA": "5.76",
         "_deepnote_index_column": 17,
         "gender": "male",
         "lunch": "standard",
         "math score": 5.92,
         "names": "Richard Pina",
         "parental level of education": "master's degree",
         "race/ethnicity": "group D",
         "reading score": 5.92,
         "test preparation course": "none",
         "writing score": 5.44
        },
        {
         "GPA": "4.68",
         "_deepnote_index_column": 18,
         "gender": "male",
         "lunch": "free/reduced",
         "math score": 4.78,
         "names": "Dale Sylvain",
         "parental level of education": "some college",
         "race/ethnicity": "group D",
         "reading score": 4.66,
         "test preparation course": "none",
         "writing score": 4.6
        },
        {
         "GPA": "5.1",
         "_deepnote_index_column": 19,
         "gender": "female",
         "lunch": "free/reduced",
         "math score": 4.84,
         "names": "Janine Taylor",
         "parental level of education": "associate's degree",
         "race/ethnicity": "group C",
         "reading score": 5.38,
         "test preparation course": "none",
         "writing score": 5.08
        },
        {
         "GPA": "5.64",
         "_deepnote_index_column": 20,
         "gender": "male",
         "lunch": "standard",
         "math score": 5.8,
         "names": "Alexander Dillon",
         "parental level of education": "associate's degree",
         "race/ethnicity": "group D",
         "reading score": 5.5,
         "test preparation course": "none",
         "writing score": 5.62
        },
        {
         "GPA": "6.86",
         "_deepnote_index_column": 21,
         "gender": "female",
         "lunch": "free/reduced",
         "math score": 6.58,
         "names": "Shanna Braswell",
         "parental level of education": "bachelor's degree",
         "race/ethnicity": "group D",
         "reading score": 7,
         "test preparation course": "completed",
         "writing score": 7
        },
        {
         "GPA": "5.38",
         "_deepnote_index_column": 22,
         "gender": "female",
         "lunch": "standard",
         "math score": 5.14,
         "names": "Bonnie Ramos",
         "parental level of education": "high school",
         "race/ethnicity": "group B",
         "reading score": 5.56,
         "test preparation course": "completed",
         "writing score": 5.44
        },
        {
         "GPA": "4.24",
         "_deepnote_index_column": 23,
         "gender": "female",
         "lunch": "free/reduced",
         "math score": 3.76,
         "names": "Connie Shinn",
         "parental level of education": "associate's degree",
         "race/ethnicity": "group B",
         "reading score": 4.66,
         "test preparation course": "none",
         "writing score": 4.3
        },
        {
         "GPA": "5.94",
         "_deepnote_index_column": 24,
         "gender": "male",
         "lunch": "standard",
         "math score": 6.16,
         "names": "Daniel Cartwright",
         "parental level of education": "high school",
         "race/ethnicity": "group C",
         "reading score": 5.86,
         "test preparation course": "completed",
         "writing score": 5.8
        },
        {
         "GPA": "5.02",
         "_deepnote_index_column": 25,
         "gender": "female",
         "lunch": "standard",
         "math score": 4.54,
         "names": "Betty Buntin",
         "parental level of education": "bachelor's degree",
         "race/ethnicity": "group A",
         "reading score": 5.32,
         "test preparation course": "none",
         "writing score": 5.2
        },
        {
         "GPA": "5.84",
         "_deepnote_index_column": 26,
         "gender": "male",
         "lunch": "standard",
         "math score": 6.04,
         "names": "Francis Seibold",
         "parental level of education": "some high school",
         "race/ethnicity": "group B",
         "reading score": 5.98,
         "test preparation course": "completed",
         "writing score": 5.5
        },
        {
         "GPA": "4.9",
         "_deepnote_index_column": 27,
         "gender": "male",
         "lunch": "free/reduced",
         "math score": 4.84,
         "names": "Arthur Byer",
         "parental level of education": "high school",
         "race/ethnicity": "group D",
         "reading score": 4.84,
         "test preparation course": "completed",
         "writing score": 5.02
        },
        {
         "GPA": "5.54",
         "_deepnote_index_column": 28,
         "gender": "female",
         "lunch": "free/reduced",
         "math score": 5.38,
         "names": "Willie Neff",
         "parental level of education": "associate's degree",
         "race/ethnicity": "group E",
         "reading score": 5.56,
         "test preparation course": "none",
         "writing score": 5.68
        },
        {
         "GPA": "6.14",
         "_deepnote_index_column": 29,
         "gender": "female",
         "lunch": "free/reduced",
         "math score": 5.98,
         "names": "Thelma Yeates",
         "parental level of education": "associate's degree",
         "race/ethnicity": "group E",
         "reading score": 6.16,
         "test preparation course": "completed",
         "writing score": 6.28
        },
        {
         "GPA": "5.96",
         "_deepnote_index_column": 30,
         "gender": "female",
         "lunch": "free/reduced",
         "math score": 5.5,
         "names": "Mary Piotrowski",
         "parental level of education": "some college",
         "race/ethnicity": "group E",
         "reading score": 6.28,
         "test preparation course": "completed",
         "writing score": 6.1
        },
        {
         "GPA": "5.34",
         "_deepnote_index_column": 31,
         "gender": "female",
         "lunch": "standard",
         "math score": 5.14,
         "names": "Hazel Montoya",
         "parental level of education": "some college",
         "race/ethnicity": "group D",
         "reading score": 5.44,
         "test preparation course": "none",
         "writing score": 5.44
        },
        {
         "GPA": "5.1",
         "_deepnote_index_column": 32,
         "gender": "male",
         "lunch": "standard",
         "math score": 5.08,
         "names": "James Eury",
         "parental level of education": "some college",
         "race/ethnicity": "group E",
         "reading score": 5.32,
         "test preparation course": "none",
         "writing score": 4.9
        },
        {
         "GPA": "4.44",
         "_deepnote_index_column": 33,
         "gender": "male",
         "lunch": "standard",
         "math score": 4.42,
         "names": "Larry Dunn",
         "parental level of education": "some high school",
         "race/ethnicity": "group C",
         "reading score": 4.66,
         "test preparation course": "none",
         "writing score": 4.24
        },
        {
         "GPA": "4.84",
         "_deepnote_index_column": 34,
         "gender": "male",
         "lunch": "standard",
         "math score": 4.96,
         "names": "David Dunham",
         "parental level of education": "bachelor's degree",
         "race/ethnicity": "group A",
         "reading score": 4.84,
         "test preparation course": "none",
         "writing score": 4.72
        },
        {
         "GPA": "4.68",
         "_deepnote_index_column": 35,
         "gender": "male",
         "lunch": "standard",
         "math score": 4.66,
         "names": "Jeffery Wiedmann",
         "parental level of education": "some college",
         "race/ethnicity": "group C",
         "reading score": 4.66,
         "test preparation course": "none",
         "writing score": 4.72
        },
        {
         "GPA": "4.06",
         "_deepnote_index_column": 36,
         "gender": "female",
         "lunch": "free/reduced",
         "math score": 3.4,
         "names": "Lisa Watters",
         "parental level of education": "master's degree",
         "race/ethnicity": "group D",
         "reading score": 4.54,
         "test preparation course": "none",
         "writing score": 4.24
        },
        {
         "GPA": "4.6",
         "_deepnote_index_column": 37,
         "gender": "female",
         "lunch": "free/reduced",
         "math score": 4,
         "names": "Katharine Kellum",
         "parental level of education": "high school",
         "race/ethnicity": "group B",
         "reading score": 5.02,
         "test preparation course": "none",
         "writing score": 4.78
        },
        {
         "GPA": "4.4",
         "_deepnote_index_column": 38,
         "gender": "female",
         "lunch": "standard",
         "math score": 3.88,
         "names": "Marjorie Brown",
         "parental level of education": "high school",
         "race/ethnicity": "group B",
         "reading score": 4.72,
         "test preparation course": "none",
         "writing score": 4.6
        },
        {
         "GPA": "R",
         "_deepnote_index_column": 39,
         "gender": "male",
         "lunch": "free/reduced",
         "math score": 3.16,
         "names": "Rodger Talavera",
         "parental level of education": "high school",
         "race/ethnicity": "group B",
         "reading score": 2.74,
         "test preparation course": "none",
         "writing score": 2.62
        },
        {
         "GPA": "5.66",
         "_deepnote_index_column": 40,
         "gender": "female",
         "lunch": "free/reduced",
         "math score": 5.68,
         "names": "Mary Jackson",
         "parental level of education": "bachelor's degree",
         "race/ethnicity": "group B",
         "reading score": 5.74,
         "test preparation course": "none",
         "writing score": 5.56
        },
        {
         "GPA": "4.92",
         "_deepnote_index_column": 41,
         "gender": "female",
         "lunch": "standard",
         "math score": 4.42,
         "names": "Rebecca Dalton",
         "parental level of education": "some high school",
         "race/ethnicity": "group B",
         "reading score": 5.02,
         "test preparation course": "none",
         "writing score": 5.32
        },
        {
         "GPA": "4.68",
         "_deepnote_index_column": 42,
         "gender": "male",
         "lunch": "standard",
         "math score": 5.14,
         "names": "David Fisk",
         "parental level of education": "bachelor's degree",
         "race/ethnicity": "group D",
         "reading score": 4.48,
         "test preparation course": "none",
         "writing score": 4.42
        },
        {
         "GPA": "R",
         "_deepnote_index_column": 43,
         "gender": "male",
         "lunch": "free/reduced",
         "math score": 3.4,
         "names": "Morris Johnson",
         "parental level of education": "associate's degree",
         "race/ethnicity": "group A",
         "reading score": 4.3,
         "test preparation course": "completed",
         "writing score": 4.18
        },
        {
         "GPA": "6.14",
         "_deepnote_index_column": 44,
         "gender": "male",
         "lunch": "standard",
         "math score": 6.52,
         "names": "Rodrick Rasch",
         "parental level of education": "some high school",
         "race/ethnicity": "group E",
         "reading score": 6.22,
         "test preparation course": "none",
         "writing score": 5.68
        },
        {
         "GPA": "R",
         "_deepnote_index_column": 45,
         "gender": "male",
         "lunch": "free/reduced",
         "math score": 3.1,
         "names": "Anthony Malcomb",
         "parental level of education": "some college",
         "race/ethnicity": "group C",
         "reading score": 2.68,
         "test preparation course": "none",
         "writing score": 2.62
        },
        {
         "GPA": "5.0",
         "_deepnote_index_column": 46,
         "gender": "female",
         "lunch": "standard",
         "math score": 4.78,
         "names": "Joyce Amos",
         "parental level of education": "associate's degree",
         "race/ethnicity": "group C",
         "reading score": 5.02,
         "test preparation course": "none",
         "writing score": 5.2
        },
        {
         "GPA": "5.16",
         "_deepnote_index_column": 47,
         "gender": "male",
         "lunch": "standard",
         "math score": 5.38,
         "names": "Donald Chestnut",
         "parental level of education": "some college",
         "race/ethnicity": "group C",
         "reading score": 5.44,
         "test preparation course": "none",
         "writing score": 4.66
        },
        {
         "GPA": "4.88",
         "_deepnote_index_column": 48,
         "gender": "female",
         "lunch": "standard",
         "math score": 4.78,
         "names": "Lynne Rodgers",
         "parental level of education": "some college",
         "race/ethnicity": "group D",
         "reading score": 4.84,
         "test preparation course": "none",
         "writing score": 5.02
        },
        {
         "GPA": "4.52",
         "_deepnote_index_column": 49,
         "gender": "female",
         "lunch": "free/reduced",
         "math score": 4.12,
         "names": "Diane Preister",
         "parental level of education": "some college",
         "race/ethnicity": "group D",
         "reading score": 4.54,
         "test preparation course": "completed",
         "writing score": 4.9
        }
       ]
      },
      "text/html": [
       "<div>\n",
       "<style scoped>\n",
       "    .dataframe tbody tr th:only-of-type {\n",
       "        vertical-align: middle;\n",
       "    }\n",
       "\n",
       "    .dataframe tbody tr th {\n",
       "        vertical-align: top;\n",
       "    }\n",
       "\n",
       "    .dataframe thead th {\n",
       "        text-align: right;\n",
       "    }\n",
       "</style>\n",
       "<table border=\"1\" class=\"dataframe\">\n",
       "  <thead>\n",
       "    <tr style=\"text-align: right;\">\n",
       "      <th></th>\n",
       "      <th>names</th>\n",
       "      <th>gender</th>\n",
       "      <th>race/ethnicity</th>\n",
       "      <th>parental level of education</th>\n",
       "      <th>lunch</th>\n",
       "      <th>test preparation course</th>\n",
       "      <th>math score</th>\n",
       "      <th>reading score</th>\n",
       "      <th>writing score</th>\n",
       "      <th>GPA</th>\n",
       "    </tr>\n",
       "  </thead>\n",
       "  <tbody>\n",
       "    <tr>\n",
       "      <th>0</th>\n",
       "      <td>Rita Courtney</td>\n",
       "      <td>female</td>\n",
       "      <td>group B</td>\n",
       "      <td>some high school</td>\n",
       "      <td>standard</td>\n",
       "      <td>none</td>\n",
       "      <td>3.22</td>\n",
       "      <td>3.76</td>\n",
       "      <td>3.76</td>\n",
       "      <td>R</td>\n",
       "    </tr>\n",
       "    <tr>\n",
       "      <th>1</th>\n",
       "      <td>Charles Linstrom</td>\n",
       "      <td>male</td>\n",
       "      <td>group A</td>\n",
       "      <td>bachelor's degree</td>\n",
       "      <td>standard</td>\n",
       "      <td>completed</td>\n",
       "      <td>5.80</td>\n",
       "      <td>5.68</td>\n",
       "      <td>5.86</td>\n",
       "      <td>5.78</td>\n",
       "    </tr>\n",
       "    <tr>\n",
       "      <th>2</th>\n",
       "      <td>Brian Young</td>\n",
       "      <td>male</td>\n",
       "      <td>group C</td>\n",
       "      <td>some high school</td>\n",
       "      <td>standard</td>\n",
       "      <td>none</td>\n",
       "      <td>5.38</td>\n",
       "      <td>4.96</td>\n",
       "      <td>4.78</td>\n",
       "      <td>5.04</td>\n",
       "    </tr>\n",
       "    <tr>\n",
       "      <th>3</th>\n",
       "      <td>Howard Jimenez</td>\n",
       "      <td>male</td>\n",
       "      <td>group E</td>\n",
       "      <td>some high school</td>\n",
       "      <td>standard</td>\n",
       "      <td>completed</td>\n",
       "      <td>5.86</td>\n",
       "      <td>5.50</td>\n",
       "      <td>5.56</td>\n",
       "      <td>5.64</td>\n",
       "    </tr>\n",
       "    <tr>\n",
       "      <th>4</th>\n",
       "      <td>Wayne Wilson</td>\n",
       "      <td>male</td>\n",
       "      <td>group B</td>\n",
       "      <td>some high school</td>\n",
       "      <td>standard</td>\n",
       "      <td>completed</td>\n",
       "      <td>6.64</td>\n",
       "      <td>6.16</td>\n",
       "      <td>6.22</td>\n",
       "      <td>6.34</td>\n",
       "    </tr>\n",
       "    <tr>\n",
       "      <th>...</th>\n",
       "      <td>...</td>\n",
       "      <td>...</td>\n",
       "      <td>...</td>\n",
       "      <td>...</td>\n",
       "      <td>...</td>\n",
       "      <td>...</td>\n",
       "      <td>...</td>\n",
       "      <td>...</td>\n",
       "      <td>...</td>\n",
       "      <td>...</td>\n",
       "    </tr>\n",
       "    <tr>\n",
       "      <th>870</th>\n",
       "      <td>Richard Young</td>\n",
       "      <td>male</td>\n",
       "      <td>group D</td>\n",
       "      <td>high school</td>\n",
       "      <td>standard</td>\n",
       "      <td>none</td>\n",
       "      <td>5.14</td>\n",
       "      <td>5.50</td>\n",
       "      <td>5.26</td>\n",
       "      <td>5.3</td>\n",
       "    </tr>\n",
       "    <tr>\n",
       "      <th>871</th>\n",
       "      <td>Wanda Russell</td>\n",
       "      <td>female</td>\n",
       "      <td>group B</td>\n",
       "      <td>high school</td>\n",
       "      <td>free/reduced</td>\n",
       "      <td>completed</td>\n",
       "      <td>2.38</td>\n",
       "      <td>3.64</td>\n",
       "      <td>3.16</td>\n",
       "      <td>R</td>\n",
       "    </tr>\n",
       "    <tr>\n",
       "      <th>872</th>\n",
       "      <td>Marina Zeigler</td>\n",
       "      <td>female</td>\n",
       "      <td>group C</td>\n",
       "      <td>bachelor's degree</td>\n",
       "      <td>free/reduced</td>\n",
       "      <td>completed</td>\n",
       "      <td>4.96</td>\n",
       "      <td>5.44</td>\n",
       "      <td>5.86</td>\n",
       "      <td>5.42</td>\n",
       "    </tr>\n",
       "    <tr>\n",
       "      <th>873</th>\n",
       "      <td>Laurie Carter</td>\n",
       "      <td>female</td>\n",
       "      <td>group B</td>\n",
       "      <td>some high school</td>\n",
       "      <td>standard</td>\n",
       "      <td>completed</td>\n",
       "      <td>4.24</td>\n",
       "      <td>4.66</td>\n",
       "      <td>4.72</td>\n",
       "      <td>4.54</td>\n",
       "    </tr>\n",
       "    <tr>\n",
       "      <th>874</th>\n",
       "      <td>Amanda Perez</td>\n",
       "      <td>female</td>\n",
       "      <td>group A</td>\n",
       "      <td>high school</td>\n",
       "      <td>standard</td>\n",
       "      <td>completed</td>\n",
       "      <td>5.08</td>\n",
       "      <td>5.80</td>\n",
       "      <td>5.56</td>\n",
       "      <td>5.48</td>\n",
       "    </tr>\n",
       "  </tbody>\n",
       "</table>\n",
       "<p>875 rows × 10 columns</p>\n",
       "</div>"
      ],
      "text/plain": [
       "                names  gender race/ethnicity parental level of education  \\\n",
       "0       Rita Courtney  female        group B            some high school   \n",
       "1    Charles Linstrom    male        group A           bachelor's degree   \n",
       "2         Brian Young    male        group C            some high school   \n",
       "3      Howard Jimenez    male        group E            some high school   \n",
       "4        Wayne Wilson    male        group B            some high school   \n",
       "..                ...     ...            ...                         ...   \n",
       "870     Richard Young    male        group D                 high school   \n",
       "871     Wanda Russell  female        group B                 high school   \n",
       "872    Marina Zeigler  female        group C           bachelor's degree   \n",
       "873     Laurie Carter  female        group B            some high school   \n",
       "874      Amanda Perez  female        group A                 high school   \n",
       "\n",
       "            lunch test preparation course  math score  reading score  \\\n",
       "0        standard                    none        3.22           3.76   \n",
       "1        standard               completed        5.80           5.68   \n",
       "2        standard                    none        5.38           4.96   \n",
       "3        standard               completed        5.86           5.50   \n",
       "4        standard               completed        6.64           6.16   \n",
       "..            ...                     ...         ...            ...   \n",
       "870      standard                    none        5.14           5.50   \n",
       "871  free/reduced               completed        2.38           3.64   \n",
       "872  free/reduced               completed        4.96           5.44   \n",
       "873      standard               completed        4.24           4.66   \n",
       "874      standard               completed        5.08           5.80   \n",
       "\n",
       "     writing score   GPA  \n",
       "0             3.76     R  \n",
       "1             5.86  5.78  \n",
       "2             4.78  5.04  \n",
       "3             5.56  5.64  \n",
       "4             6.22  6.34  \n",
       "..             ...   ...  \n",
       "870           5.26   5.3  \n",
       "871           3.16     R  \n",
       "872           5.86  5.42  \n",
       "873           4.72  4.54  \n",
       "874           5.56  5.48  \n",
       "\n",
       "[875 rows x 10 columns]"
      ]
     },
     "execution_count": 15,
     "metadata": {},
     "output_type": "execute_result"
    }
   ],
   "source": [
    "dataframe2"
   ]
  },
  {
   "cell_type": "code",
   "execution_count": 16,
   "metadata": {
    "cell_id": "00050-19596313-6c35-480a-b2e2-0e17df76f2b9",
    "deepnote_cell_type": "code",
    "deepnote_to_be_reexecuted": false,
    "execution_millis": 44,
    "execution_start": 1632493424750,
    "source_hash": "142d1b25",
    "tags": []
   },
   "outputs": [
    {
     "data": {
      "text/html": [
       "<div>\n",
       "<style scoped>\n",
       "    .dataframe tbody tr th:only-of-type {\n",
       "        vertical-align: middle;\n",
       "    }\n",
       "\n",
       "    .dataframe tbody tr th {\n",
       "        vertical-align: top;\n",
       "    }\n",
       "\n",
       "    .dataframe thead th {\n",
       "        text-align: right;\n",
       "    }\n",
       "</style>\n",
       "<table border=\"1\" class=\"dataframe\">\n",
       "  <thead>\n",
       "    <tr style=\"text-align: right;\">\n",
       "      <th></th>\n",
       "      <th>names</th>\n",
       "      <th>gender</th>\n",
       "      <th>race/ethnicity</th>\n",
       "      <th>parental level of education</th>\n",
       "      <th>lunch</th>\n",
       "      <th>test preparation course</th>\n",
       "      <th>math score</th>\n",
       "      <th>reading score</th>\n",
       "      <th>writing score</th>\n",
       "      <th>GPA</th>\n",
       "    </tr>\n",
       "  </thead>\n",
       "  <tbody>\n",
       "    <tr>\n",
       "      <th>326</th>\n",
       "      <td>Kristen Drayton</td>\n",
       "      <td>female</td>\n",
       "      <td>group E</td>\n",
       "      <td>bachelor's degree</td>\n",
       "      <td>standard</td>\n",
       "      <td>none</td>\n",
       "      <td>196.0</td>\n",
       "      <td>196.0</td>\n",
       "      <td>196.0</td>\n",
       "      <td>196.000000</td>\n",
       "    </tr>\n",
       "    <tr>\n",
       "      <th>894</th>\n",
       "      <td>Carole Rehrig</td>\n",
       "      <td>female</td>\n",
       "      <td>group E</td>\n",
       "      <td>high school</td>\n",
       "      <td>free/reduced</td>\n",
       "      <td>none</td>\n",
       "      <td>196.0</td>\n",
       "      <td>193.0</td>\n",
       "      <td>196.0</td>\n",
       "      <td>195.000000</td>\n",
       "    </tr>\n",
       "    <tr>\n",
       "      <th>553</th>\n",
       "      <td>Tosha Benson</td>\n",
       "      <td>female</td>\n",
       "      <td>group E</td>\n",
       "      <td>bachelor's degree</td>\n",
       "      <td>free/reduced</td>\n",
       "      <td>completed</td>\n",
       "      <td>193.0</td>\n",
       "      <td>196.0</td>\n",
       "      <td>196.0</td>\n",
       "      <td>195.000000</td>\n",
       "    </tr>\n",
       "    <tr>\n",
       "      <th>1022</th>\n",
       "      <td>Anthony Latouche</td>\n",
       "      <td>male</td>\n",
       "      <td>group B</td>\n",
       "      <td>bachelor's degree</td>\n",
       "      <td>free/reduced</td>\n",
       "      <td>none</td>\n",
       "      <td>193.0</td>\n",
       "      <td>196.0</td>\n",
       "      <td>193.0</td>\n",
       "      <td>194.000000</td>\n",
       "    </tr>\n",
       "    <tr>\n",
       "      <th>933</th>\n",
       "      <td>Dawn Cummings</td>\n",
       "      <td>female</td>\n",
       "      <td>group C</td>\n",
       "      <td>associate's degree</td>\n",
       "      <td>standard</td>\n",
       "      <td>none</td>\n",
       "      <td>193.0</td>\n",
       "      <td>193.0</td>\n",
       "      <td>196.0</td>\n",
       "      <td>194.000000</td>\n",
       "    </tr>\n",
       "    <tr>\n",
       "      <th>...</th>\n",
       "      <td>...</td>\n",
       "      <td>...</td>\n",
       "      <td>...</td>\n",
       "      <td>...</td>\n",
       "      <td>...</td>\n",
       "      <td>...</td>\n",
       "      <td>...</td>\n",
       "      <td>...</td>\n",
       "      <td>...</td>\n",
       "      <td>...</td>\n",
       "    </tr>\n",
       "    <tr>\n",
       "      <th>1223</th>\n",
       "      <td>Charles Jackson</td>\n",
       "      <td>male</td>\n",
       "      <td>group E</td>\n",
       "      <td>some high school</td>\n",
       "      <td>standard</td>\n",
       "      <td>none</td>\n",
       "      <td>30.0</td>\n",
       "      <td>26.0</td>\n",
       "      <td>22.0</td>\n",
       "      <td>26.000000</td>\n",
       "    </tr>\n",
       "    <tr>\n",
       "      <th>1256</th>\n",
       "      <td>Sonia Brent</td>\n",
       "      <td>female</td>\n",
       "      <td>group B</td>\n",
       "      <td>some high school</td>\n",
       "      <td>free/reduced</td>\n",
       "      <td>none</td>\n",
       "      <td>18.0</td>\n",
       "      <td>32.0</td>\n",
       "      <td>28.0</td>\n",
       "      <td>26.000000</td>\n",
       "    </tr>\n",
       "    <tr>\n",
       "      <th>372</th>\n",
       "      <td>John Gunter</td>\n",
       "      <td>male</td>\n",
       "      <td>group A</td>\n",
       "      <td>some college</td>\n",
       "      <td>free/reduced</td>\n",
       "      <td>none</td>\n",
       "      <td>28.0</td>\n",
       "      <td>23.0</td>\n",
       "      <td>19.0</td>\n",
       "      <td>23.333333</td>\n",
       "    </tr>\n",
       "    <tr>\n",
       "      <th>1145</th>\n",
       "      <td>Richard Guercio</td>\n",
       "      <td>male</td>\n",
       "      <td>group B</td>\n",
       "      <td>high school</td>\n",
       "      <td>free/reduced</td>\n",
       "      <td>none</td>\n",
       "      <td>30.0</td>\n",
       "      <td>24.0</td>\n",
       "      <td>15.0</td>\n",
       "      <td>23.000000</td>\n",
       "    </tr>\n",
       "    <tr>\n",
       "      <th>679</th>\n",
       "      <td>Luetta Caponigro</td>\n",
       "      <td>female</td>\n",
       "      <td>group B</td>\n",
       "      <td>high school</td>\n",
       "      <td>free/reduced</td>\n",
       "      <td>none</td>\n",
       "      <td>8.0</td>\n",
       "      <td>24.0</td>\n",
       "      <td>23.0</td>\n",
       "      <td>18.333333</td>\n",
       "    </tr>\n",
       "  </tbody>\n",
       "</table>\n",
       "<p>1297 rows × 10 columns</p>\n",
       "</div>"
      ],
      "text/plain": [
       "                 names  gender race/ethnicity parental level of education  \\\n",
       "326    Kristen Drayton  female        group E           bachelor's degree   \n",
       "894      Carole Rehrig  female        group E                 high school   \n",
       "553       Tosha Benson  female        group E           bachelor's degree   \n",
       "1022  Anthony Latouche    male        group B           bachelor's degree   \n",
       "933      Dawn Cummings  female        group C          associate's degree   \n",
       "...                ...     ...            ...                         ...   \n",
       "1223   Charles Jackson    male        group E            some high school   \n",
       "1256       Sonia Brent  female        group B            some high school   \n",
       "372        John Gunter    male        group A                some college   \n",
       "1145   Richard Guercio    male        group B                 high school   \n",
       "679   Luetta Caponigro  female        group B                 high school   \n",
       "\n",
       "             lunch test preparation course  math score  reading score  \\\n",
       "326       standard                    none       196.0          196.0   \n",
       "894   free/reduced                    none       196.0          193.0   \n",
       "553   free/reduced               completed       193.0          196.0   \n",
       "1022  free/reduced                    none       193.0          196.0   \n",
       "933       standard                    none       193.0          193.0   \n",
       "...            ...                     ...         ...            ...   \n",
       "1223      standard                    none        30.0           26.0   \n",
       "1256  free/reduced                    none        18.0           32.0   \n",
       "372   free/reduced                    none        28.0           23.0   \n",
       "1145  free/reduced                    none        30.0           24.0   \n",
       "679   free/reduced                    none         8.0           24.0   \n",
       "\n",
       "      writing score         GPA  \n",
       "326           196.0  196.000000  \n",
       "894           196.0  195.000000  \n",
       "553           196.0  195.000000  \n",
       "1022          193.0  194.000000  \n",
       "933           196.0  194.000000  \n",
       "...             ...         ...  \n",
       "1223           22.0   26.000000  \n",
       "1256           28.0   26.000000  \n",
       "372            19.0   23.333333  \n",
       "1145           15.0   23.000000  \n",
       "679            23.0   18.333333  \n",
       "\n",
       "[1297 rows x 10 columns]"
      ]
     },
     "execution_count": 16,
     "metadata": {},
     "output_type": "execute_result"
    }
   ],
   "source": [
    "dataframe3"
   ]
  },
  {
   "cell_type": "markdown",
   "metadata": {
    "cell_id": "00051-1765b59c-25ca-4dc5-ac88-29805642f748",
    "deepnote_cell_type": "markdown",
    "id": "jb9sjfJlwolM"
   },
   "source": [
    "**Respuesta:**"
   ]
  },
  {
   "cell_type": "markdown",
   "metadata": {
    "cell_id": "00052-4e2f07e8-ce26-4d48-ba89-4c04132729ca",
    "deepnote_cell_type": "markdown",
    "id": "vDl7h7JbwrKh"
   },
   "source": [
    "```\n",
    "Se destaca el uso de instancis como apply y lambda que permiten operar sobre los elementos de alguna columna recorriendolo de forma optimizada y el uso de loc para utilizar condiciones que permiten filtrar datos .\n",
    "```"
   ]
  },
  {
   "cell_type": "markdown",
   "metadata": {
    "cell_id": "00053-c26e032f-9917-4088-ac1d-9ba2983ba419",
    "deepnote_cell_type": "markdown",
    "tags": []
   },
   "source": [
    "### 1.3.4 Consultas de Alumnos [0.5 Puntos]"
   ]
  },
  {
   "cell_type": "markdown",
   "metadata": {
    "cell_id": "00054-265dbcea-43c7-4418-b289-48906d0c1626",
    "deepnote_cell_type": "markdown",
    "tags": []
   },
   "source": [
    "Algunos padres (extremadamente entrometidos y...) preocupados por el desempeño de sus hijes, desean saber estos han aprobado o no el año. Como la tarea de buscar a mano cada uno de estos alumnos en el `DataFrame` resulta demasiado tedioso, el rector le solicita crear una función que tenga como entrada el `DataFrame` donde se realizará la busqueda y una lista con los nombres de los alumnos, luego la función deberá retornar un `DataFrame` con los nombres de los alumnos y el promedio general de cada uno. \n",
    "\n",
    "Creada la función busque el promedio general de los siguientes alumnos en el segundo Data frame creado en la sección 1.3.3:\n",
    "\n",
    "`['Lucille Stanphill','Marcus Mcfarland', 'Matthew Freeman', 'Dana Mojica', 'Paul Hyder', 'Jeffrey Korn', 'Robert Strain',\n",
    "'Ronald Jett', 'Lorena Reed', 'Hazel Posey']`\n",
    "\n",
    "**Hint:** Puede serle de utilidad utilizar `isin()`."
   ]
  },
  {
   "cell_type": "markdown",
   "metadata": {
    "cell_id": "00055-f296cada-4f15-4a9b-900c-cde55391c32b",
    "deepnote_cell_type": "markdown",
    "tags": []
   },
   "source": [
    "**Respuesta:**"
   ]
  },
  {
   "cell_type": "code",
   "execution_count": 17,
   "metadata": {
    "cell_id": "00056-1625f6ad-80ec-45be-9bbb-c08ddd6df2fb",
    "deepnote_cell_type": "code",
    "deepnote_to_be_reexecuted": false,
    "execution_millis": 21,
    "execution_start": 1632493424802,
    "source_hash": "f3ff8aa7",
    "tags": []
   },
   "outputs": [
    {
     "data": {
      "text/html": [
       "<div>\n",
       "<style scoped>\n",
       "    .dataframe tbody tr th:only-of-type {\n",
       "        vertical-align: middle;\n",
       "    }\n",
       "\n",
       "    .dataframe tbody tr th {\n",
       "        vertical-align: top;\n",
       "    }\n",
       "\n",
       "    .dataframe thead th {\n",
       "        text-align: right;\n",
       "    }\n",
       "</style>\n",
       "<table border=\"1\" class=\"dataframe\">\n",
       "  <thead>\n",
       "    <tr style=\"text-align: right;\">\n",
       "      <th></th>\n",
       "      <th>names</th>\n",
       "      <th>GPA</th>\n",
       "    </tr>\n",
       "  </thead>\n",
       "  <tbody>\n",
       "    <tr>\n",
       "      <th>296</th>\n",
       "      <td>Lucille Stanphill</td>\n",
       "      <td>5.94</td>\n",
       "    </tr>\n",
       "    <tr>\n",
       "      <th>564</th>\n",
       "      <td>Marcus Mcfarland</td>\n",
       "      <td>4.86</td>\n",
       "    </tr>\n",
       "    <tr>\n",
       "      <th>637</th>\n",
       "      <td>Matthew Freeman</td>\n",
       "      <td>R</td>\n",
       "    </tr>\n",
       "    <tr>\n",
       "      <th>640</th>\n",
       "      <td>Dana Mojica</td>\n",
       "      <td>R</td>\n",
       "    </tr>\n",
       "    <tr>\n",
       "      <th>1054</th>\n",
       "      <td>Robert Strain</td>\n",
       "      <td>4.4</td>\n",
       "    </tr>\n",
       "    <tr>\n",
       "      <th>1065</th>\n",
       "      <td>Ronald Jett</td>\n",
       "      <td>R</td>\n",
       "    </tr>\n",
       "    <tr>\n",
       "      <th>1068</th>\n",
       "      <td>Hazel Posey</td>\n",
       "      <td>R</td>\n",
       "    </tr>\n",
       "    <tr>\n",
       "      <th>1195</th>\n",
       "      <td>Lorena Reed</td>\n",
       "      <td>R</td>\n",
       "    </tr>\n",
       "  </tbody>\n",
       "</table>\n",
       "</div>"
      ],
      "text/plain": [
       "                  names   GPA\n",
       "296   Lucille Stanphill  5.94\n",
       "564    Marcus Mcfarland  4.86\n",
       "637     Matthew Freeman     R\n",
       "640         Dana Mojica     R\n",
       "1054      Robert Strain   4.4\n",
       "1065        Ronald Jett     R\n",
       "1068        Hazel Posey     R\n",
       "1195        Lorena Reed     R"
      ]
     },
     "metadata": {},
     "output_type": "display_data"
    }
   ],
   "source": [
    "def consulta_gpa(dataframe_in, lista_alumnos):\n",
    "\n",
    "    alumnes=dataframe_in.loc[dataframe_in['names'].isin(lista_alumnos)]\n",
    "    #alumnes_prom=alumnes.loc[:,['names','GPA']]\n",
    "    return(alumnes[['names','GPA']])\n",
    "    pass\n",
    "\n",
    "lista_alumnos = [\n",
    "    \"Lucille Stanphill\",\n",
    "    \"Marcus Mcfarland\",\n",
    "    \"Matthew Freeman\",\n",
    "    \"Dana Mojica\",\n",
    "    \"Paul Hyder\",\n",
    "    \"Jeffrey Korn\",\n",
    "    \"Robert Strain\",\n",
    "    \"Ronald Jett\",\n",
    "    \"Lorena Reed\",\n",
    "    \"Hazel Posey\",\n",
    "]\n",
    "consulta=consulta_gpa(df_2,lista_alumnos)\n",
    "display(consulta)"
   ]
  },
  {
   "cell_type": "markdown",
   "metadata": {
    "cell_id": "00057-ce0783ee-ebbf-47e2-a857-88811fd99f73",
    "deepnote_cell_type": "markdown",
    "tags": []
   },
   "source": [
    "### 1.3.5 Quintiles de Rendimiento [0.5 Puntos]"
   ]
  },
  {
   "cell_type": "markdown",
   "metadata": {
    "cell_id": "00058-f22b06aa-362f-481f-a003-b9e5796120b0",
    "deepnote_cell_type": "markdown",
    "tags": []
   },
   "source": [
    "El rector, intrigado por saber si existe una relación entre el nivel educacional de los padres y las notas de sus hijos les plantea estudiar dicha relación. Para esto, les solicita que desde el `DataFrame` que posee a todos los alumnos (`DataFrame` obtenido tras la limpieza), generen una nueva columna que clasifique en quintiles de rendimiento para sus alumnos: `['Bajísimo', 'Bajo', 'Medio', 'Alto', 'Muy alto']`. (investigar `qcut()`)\n",
    "\n",
    "Hecho esto, grafique a través de un scatter plot el nivel educacional de los padres v/s el promedio de los alumnos, utilice los cuantiles generados anteriormente para mostrar en que cuantil se encuentra cada uno de los datos.\n",
    "\n",
    "Realizado el grafico, responda la siguiente pregunta: **¿Es posible visualizar alguna tendencia en el gráfico?.**\n",
    "\n"
   ]
  },
  {
   "cell_type": "markdown",
   "metadata": {
    "cell_id": "00059-9f08f4c4-c59b-443a-83c3-677c0e9be877",
    "deepnote_cell_type": "markdown",
    "tags": []
   },
   "source": [
    "**Respuesta:**"
   ]
  },
  {
   "cell_type": "code",
   "execution_count": 112,
   "metadata": {
    "cell_id": "00061-795d8f8c-5718-4f38-adc1-4a1733bd3ccb",
    "deepnote_cell_type": "code",
    "deepnote_to_be_reexecuted": false,
    "execution_millis": 134,
    "execution_start": 1632493424819,
    "scrolled": false,
    "source_hash": "8fe13806",
    "tags": []
   },
   "outputs": [
    {
     "data": {
      "text/html": [
       "<div>\n",
       "<style scoped>\n",
       "    .dataframe tbody tr th:only-of-type {\n",
       "        vertical-align: middle;\n",
       "    }\n",
       "\n",
       "    .dataframe tbody tr th {\n",
       "        vertical-align: top;\n",
       "    }\n",
       "\n",
       "    .dataframe thead th {\n",
       "        text-align: right;\n",
       "    }\n",
       "</style>\n",
       "<table border=\"1\" class=\"dataframe\">\n",
       "  <thead>\n",
       "    <tr style=\"text-align: right;\">\n",
       "      <th></th>\n",
       "      <th>names</th>\n",
       "      <th>gender</th>\n",
       "      <th>race/ethnicity</th>\n",
       "      <th>parental level of education</th>\n",
       "      <th>lunch</th>\n",
       "      <th>test preparation course</th>\n",
       "      <th>math score</th>\n",
       "      <th>reading score</th>\n",
       "      <th>writing score</th>\n",
       "      <th>GPA</th>\n",
       "      <th>GPA cuantiles</th>\n",
       "    </tr>\n",
       "  </thead>\n",
       "  <tbody>\n",
       "    <tr>\n",
       "      <th>0</th>\n",
       "      <td>Rita Courtney</td>\n",
       "      <td>female</td>\n",
       "      <td>group B</td>\n",
       "      <td>some high school</td>\n",
       "      <td>standard</td>\n",
       "      <td>none</td>\n",
       "      <td>3.22</td>\n",
       "      <td>3.76</td>\n",
       "      <td>3.76</td>\n",
       "      <td>3.58</td>\n",
       "      <td>Bajisimo</td>\n",
       "    </tr>\n",
       "    <tr>\n",
       "      <th>3</th>\n",
       "      <td>Charles Linstrom</td>\n",
       "      <td>male</td>\n",
       "      <td>group A</td>\n",
       "      <td>bachelor's degree</td>\n",
       "      <td>standard</td>\n",
       "      <td>completed</td>\n",
       "      <td>5.80</td>\n",
       "      <td>5.68</td>\n",
       "      <td>5.86</td>\n",
       "      <td>5.78</td>\n",
       "      <td>Alto</td>\n",
       "    </tr>\n",
       "    <tr>\n",
       "      <th>5</th>\n",
       "      <td>Brian Young</td>\n",
       "      <td>male</td>\n",
       "      <td>group C</td>\n",
       "      <td>some high school</td>\n",
       "      <td>standard</td>\n",
       "      <td>none</td>\n",
       "      <td>5.38</td>\n",
       "      <td>4.96</td>\n",
       "      <td>4.78</td>\n",
       "      <td>5.04</td>\n",
       "      <td>Medio</td>\n",
       "    </tr>\n",
       "    <tr>\n",
       "      <th>6</th>\n",
       "      <td>Howard Jimenez</td>\n",
       "      <td>male</td>\n",
       "      <td>group E</td>\n",
       "      <td>some high school</td>\n",
       "      <td>standard</td>\n",
       "      <td>completed</td>\n",
       "      <td>5.86</td>\n",
       "      <td>5.50</td>\n",
       "      <td>5.56</td>\n",
       "      <td>5.64</td>\n",
       "      <td>Alto</td>\n",
       "    </tr>\n",
       "    <tr>\n",
       "      <th>7</th>\n",
       "      <td>Wayne Wilson</td>\n",
       "      <td>male</td>\n",
       "      <td>group B</td>\n",
       "      <td>some high school</td>\n",
       "      <td>standard</td>\n",
       "      <td>completed</td>\n",
       "      <td>6.64</td>\n",
       "      <td>6.16</td>\n",
       "      <td>6.22</td>\n",
       "      <td>6.34</td>\n",
       "      <td>Muy alto</td>\n",
       "    </tr>\n",
       "    <tr>\n",
       "      <th>...</th>\n",
       "      <td>...</td>\n",
       "      <td>...</td>\n",
       "      <td>...</td>\n",
       "      <td>...</td>\n",
       "      <td>...</td>\n",
       "      <td>...</td>\n",
       "      <td>...</td>\n",
       "      <td>...</td>\n",
       "      <td>...</td>\n",
       "      <td>...</td>\n",
       "      <td>...</td>\n",
       "    </tr>\n",
       "    <tr>\n",
       "      <th>1392</th>\n",
       "      <td>Richard Young</td>\n",
       "      <td>male</td>\n",
       "      <td>group D</td>\n",
       "      <td>high school</td>\n",
       "      <td>standard</td>\n",
       "      <td>none</td>\n",
       "      <td>5.14</td>\n",
       "      <td>5.50</td>\n",
       "      <td>5.26</td>\n",
       "      <td>5.30</td>\n",
       "      <td>Medio</td>\n",
       "    </tr>\n",
       "    <tr>\n",
       "      <th>1394</th>\n",
       "      <td>Wanda Russell</td>\n",
       "      <td>female</td>\n",
       "      <td>group B</td>\n",
       "      <td>high school</td>\n",
       "      <td>free/reduced</td>\n",
       "      <td>completed</td>\n",
       "      <td>2.38</td>\n",
       "      <td>3.64</td>\n",
       "      <td>3.16</td>\n",
       "      <td>3.06</td>\n",
       "      <td>Bajisimo</td>\n",
       "    </tr>\n",
       "    <tr>\n",
       "      <th>1396</th>\n",
       "      <td>Marina Zeigler</td>\n",
       "      <td>female</td>\n",
       "      <td>group C</td>\n",
       "      <td>bachelor's degree</td>\n",
       "      <td>free/reduced</td>\n",
       "      <td>completed</td>\n",
       "      <td>4.96</td>\n",
       "      <td>5.44</td>\n",
       "      <td>5.86</td>\n",
       "      <td>5.42</td>\n",
       "      <td>Alto</td>\n",
       "    </tr>\n",
       "    <tr>\n",
       "      <th>1397</th>\n",
       "      <td>Laurie Carter</td>\n",
       "      <td>female</td>\n",
       "      <td>group B</td>\n",
       "      <td>some high school</td>\n",
       "      <td>standard</td>\n",
       "      <td>completed</td>\n",
       "      <td>4.24</td>\n",
       "      <td>4.66</td>\n",
       "      <td>4.72</td>\n",
       "      <td>4.54</td>\n",
       "      <td>Bajo</td>\n",
       "    </tr>\n",
       "    <tr>\n",
       "      <th>1399</th>\n",
       "      <td>Amanda Perez</td>\n",
       "      <td>female</td>\n",
       "      <td>group A</td>\n",
       "      <td>high school</td>\n",
       "      <td>standard</td>\n",
       "      <td>completed</td>\n",
       "      <td>5.08</td>\n",
       "      <td>5.80</td>\n",
       "      <td>5.56</td>\n",
       "      <td>5.48</td>\n",
       "      <td>Alto</td>\n",
       "    </tr>\n",
       "  </tbody>\n",
       "</table>\n",
       "<p>875 rows × 11 columns</p>\n",
       "</div>"
      ],
      "text/plain": [
       "                 names  gender race/ethnicity parental level of education  \\\n",
       "0        Rita Courtney  female        group B            some high school   \n",
       "3     Charles Linstrom    male        group A           bachelor's degree   \n",
       "5          Brian Young    male        group C            some high school   \n",
       "6       Howard Jimenez    male        group E            some high school   \n",
       "7         Wayne Wilson    male        group B            some high school   \n",
       "...                ...     ...            ...                         ...   \n",
       "1392     Richard Young    male        group D                 high school   \n",
       "1394     Wanda Russell  female        group B                 high school   \n",
       "1396    Marina Zeigler  female        group C           bachelor's degree   \n",
       "1397     Laurie Carter  female        group B            some high school   \n",
       "1399      Amanda Perez  female        group A                 high school   \n",
       "\n",
       "             lunch test preparation course  math score  reading score  \\\n",
       "0         standard                    none        3.22           3.76   \n",
       "3         standard               completed        5.80           5.68   \n",
       "5         standard                    none        5.38           4.96   \n",
       "6         standard               completed        5.86           5.50   \n",
       "7         standard               completed        6.64           6.16   \n",
       "...            ...                     ...         ...            ...   \n",
       "1392      standard                    none        5.14           5.50   \n",
       "1394  free/reduced               completed        2.38           3.64   \n",
       "1396  free/reduced               completed        4.96           5.44   \n",
       "1397      standard               completed        4.24           4.66   \n",
       "1399      standard               completed        5.08           5.80   \n",
       "\n",
       "      writing score   GPA GPA cuantiles  \n",
       "0              3.76  3.58      Bajisimo  \n",
       "3              5.86  5.78          Alto  \n",
       "5              4.78  5.04         Medio  \n",
       "6              5.56  5.64          Alto  \n",
       "7              6.22  6.34      Muy alto  \n",
       "...             ...   ...           ...  \n",
       "1392           5.26  5.30         Medio  \n",
       "1394           3.16  3.06      Bajisimo  \n",
       "1396           5.86  5.42          Alto  \n",
       "1397           4.72  4.54          Bajo  \n",
       "1399           5.56  5.48          Alto  \n",
       "\n",
       "[875 rows x 11 columns]"
      ]
     },
     "metadata": {},
     "output_type": "display_data"
    },
    {
     "data": {
      "application/vnd.plotly.v1+json": {
       "config": {
        "plotlyServerURL": "https://plot.ly"
       },
       "data": [
        {
         "customdata": [
          [
           "female"
          ],
          [
           "female"
          ],
          [
           "male"
          ],
          [
           "male"
          ],
          [
           "male"
          ],
          [
           "female"
          ],
          [
           "female"
          ],
          [
           "female"
          ],
          [
           "female"
          ],
          [
           "male"
          ],
          [
           "male"
          ],
          [
           "female"
          ],
          [
           "female"
          ],
          [
           "female"
          ],
          [
           "male"
          ],
          [
           "female"
          ],
          [
           "female"
          ],
          [
           "male"
          ],
          [
           "female"
          ],
          [
           "male"
          ],
          [
           "male"
          ],
          [
           "male"
          ],
          [
           "female"
          ],
          [
           "male"
          ],
          [
           "male"
          ],
          [
           "male"
          ],
          [
           "male"
          ],
          [
           "male"
          ],
          [
           "female"
          ],
          [
           "male"
          ],
          [
           "female"
          ],
          [
           "female"
          ],
          [
           "female"
          ],
          [
           "female"
          ],
          [
           "male"
          ],
          [
           "male"
          ],
          [
           "female"
          ],
          [
           "male"
          ],
          [
           "female"
          ],
          [
           "female"
          ],
          [
           "male"
          ],
          [
           "female"
          ],
          [
           "male"
          ],
          [
           "female"
          ],
          [
           "male"
          ],
          [
           "male"
          ],
          [
           "male"
          ],
          [
           "male"
          ],
          [
           "female"
          ],
          [
           "male"
          ],
          [
           "male"
          ],
          [
           "female"
          ],
          [
           "male"
          ],
          [
           "male"
          ],
          [
           "male"
          ],
          [
           "male"
          ],
          [
           "male"
          ],
          [
           "male"
          ],
          [
           "male"
          ],
          [
           "male"
          ],
          [
           "female"
          ],
          [
           "male"
          ],
          [
           "male"
          ],
          [
           "male"
          ],
          [
           "male"
          ],
          [
           "male"
          ],
          [
           "male"
          ],
          [
           "male"
          ],
          [
           "male"
          ],
          [
           "male"
          ],
          [
           "female"
          ],
          [
           "male"
          ],
          [
           "male"
          ],
          [
           "female"
          ],
          [
           "male"
          ],
          [
           "male"
          ],
          [
           "female"
          ],
          [
           "male"
          ],
          [
           "male"
          ],
          [
           "male"
          ],
          [
           "male"
          ],
          [
           "female"
          ],
          [
           "male"
          ],
          [
           "male"
          ],
          [
           "female"
          ],
          [
           "male"
          ],
          [
           "female"
          ],
          [
           "female"
          ],
          [
           "male"
          ],
          [
           "female"
          ],
          [
           "male"
          ],
          [
           "male"
          ],
          [
           "male"
          ],
          [
           "female"
          ],
          [
           "male"
          ],
          [
           "female"
          ],
          [
           "male"
          ],
          [
           "female"
          ],
          [
           "male"
          ],
          [
           "male"
          ],
          [
           "male"
          ],
          [
           "male"
          ],
          [
           "female"
          ],
          [
           "female"
          ],
          [
           "male"
          ],
          [
           "male"
          ],
          [
           "male"
          ],
          [
           "female"
          ],
          [
           "male"
          ],
          [
           "male"
          ],
          [
           "female"
          ],
          [
           "female"
          ],
          [
           "male"
          ],
          [
           "female"
          ],
          [
           "female"
          ],
          [
           "male"
          ],
          [
           "male"
          ],
          [
           "male"
          ],
          [
           "male"
          ],
          [
           "female"
          ],
          [
           "female"
          ],
          [
           "female"
          ],
          [
           "male"
          ],
          [
           "male"
          ],
          [
           "male"
          ],
          [
           "male"
          ],
          [
           "male"
          ],
          [
           "female"
          ],
          [
           "male"
          ],
          [
           "female"
          ],
          [
           "female"
          ],
          [
           "female"
          ],
          [
           "female"
          ],
          [
           "male"
          ],
          [
           "female"
          ],
          [
           "male"
          ],
          [
           "female"
          ],
          [
           "female"
          ],
          [
           "female"
          ],
          [
           "male"
          ],
          [
           "female"
          ],
          [
           "male"
          ],
          [
           "female"
          ],
          [
           "male"
          ],
          [
           "male"
          ],
          [
           "female"
          ],
          [
           "female"
          ],
          [
           "male"
          ],
          [
           "female"
          ],
          [
           "female"
          ],
          [
           "male"
          ],
          [
           "female"
          ],
          [
           "male"
          ],
          [
           "female"
          ],
          [
           "male"
          ],
          [
           "female"
          ],
          [
           "male"
          ],
          [
           "male"
          ],
          [
           "male"
          ],
          [
           "female"
          ],
          [
           "male"
          ],
          [
           "male"
          ],
          [
           "male"
          ],
          [
           "female"
          ],
          [
           "male"
          ],
          [
           "male"
          ],
          [
           "female"
          ],
          [
           "female"
          ],
          [
           "male"
          ],
          [
           "male"
          ],
          [
           "male"
          ],
          [
           "female"
          ],
          [
           "male"
          ],
          [
           "male"
          ],
          [
           "female"
          ],
          [
           "male"
          ]
         ],
         "hovertemplate": "GPA cuantiles=Bajisimo<br>GPA=%{x}<br>parental level of education=%{y}<br>gender=%{customdata[0]}<extra></extra>",
         "legendgroup": "Bajisimo",
         "marker": {
          "color": "tomato",
          "symbol": "circle"
         },
         "mode": "markers",
         "name": "Bajisimo",
         "orientation": "h",
         "showlegend": true,
         "type": "scatter",
         "x": [
          1.54,
          2.1,
          2.3800000000000003,
          2.4,
          2.56,
          2.56,
          2.7600000000000002,
          2.78,
          2.78,
          2.7999999999999994,
          2.84,
          2.86,
          2.8800000000000003,
          2.9,
          2.94,
          3.06,
          3.08,
          3.2399999999999998,
          3.2600000000000002,
          3.28,
          3.2999999999999994,
          3.3200000000000003,
          3.34,
          3.36,
          3.3799999999999994,
          3.3800000000000003,
          3.4,
          3.44,
          3.44,
          3.4599999999999995,
          3.4599999999999995,
          3.48,
          3.5400000000000005,
          3.5799999999999996,
          3.5999999999999996,
          3.6,
          3.6,
          3.6,
          3.64,
          3.64,
          3.66,
          3.6799999999999997,
          3.6799999999999997,
          3.6799999999999997,
          3.6799999999999997,
          3.6999999999999997,
          3.72,
          3.72,
          3.7399999999999998,
          3.76,
          3.76,
          3.76,
          3.78,
          3.78,
          3.78,
          3.78,
          3.78,
          3.7999999999999994,
          3.7999999999999994,
          3.8000000000000003,
          3.8000000000000003,
          3.82,
          3.84,
          3.84,
          3.86,
          3.86,
          3.8799999999999994,
          3.8800000000000003,
          3.8800000000000003,
          3.8800000000000003,
          3.9,
          3.9,
          3.9,
          3.9000000000000004,
          3.9199999999999995,
          3.92,
          3.92,
          3.9200000000000004,
          3.94,
          3.94,
          3.94,
          3.94,
          3.9599999999999995,
          3.9599999999999995,
          3.9600000000000004,
          3.98,
          4,
          4,
          4,
          4,
          4.02,
          4.02,
          4.02,
          4.0200000000000005,
          4.0200000000000005,
          4.0200000000000005,
          4.0200000000000005,
          4.04,
          4.04,
          4.04,
          4.06,
          4.06,
          4.06,
          4.06,
          4.0600000000000005,
          4.079999999999999,
          4.08,
          4.08,
          4.08,
          4.08,
          4.080000000000001,
          4.1,
          4.1,
          4.1,
          4.1,
          4.1000000000000005,
          4.1000000000000005,
          4.1000000000000005,
          4.1000000000000005,
          4.1000000000000005,
          4.12,
          4.12,
          4.12,
          4.12,
          4.14,
          4.14,
          4.14,
          4.140000000000001,
          4.16,
          4.16,
          4.16,
          4.16,
          4.16,
          4.16,
          4.16,
          4.18,
          4.18,
          4.2,
          4.2,
          4.2,
          4.2,
          4.22,
          4.22,
          4.22,
          4.22,
          4.22,
          4.239999999999999,
          4.239999999999999,
          4.239999999999999,
          4.239999999999999,
          4.24,
          4.26,
          4.260000000000001,
          4.260000000000001,
          4.260000000000001,
          4.28,
          4.28,
          4.28,
          4.28,
          4.28,
          4.28,
          4.28,
          4.28,
          4.3,
          4.300000000000001,
          4.319999999999999,
          4.32,
          4.32,
          4.32,
          4.32,
          4.34,
          4.34,
          4.34,
          4.34,
          4.34,
          4.34
         ],
         "xaxis": "x",
         "y": [
          "some high school",
          "high school",
          "high school",
          "some college",
          "some high school",
          "some high school",
          "high school",
          "some high school",
          "some college",
          "some college",
          "high school",
          "some high school",
          "some college",
          "associate's degree",
          "high school",
          "high school",
          "some high school",
          "some high school",
          "some high school",
          "some college",
          "high school",
          "high school",
          "bachelor's degree",
          "some high school",
          "associate's degree",
          "some high school",
          "some college",
          "some college",
          "some college",
          "associate's degree",
          "high school",
          "some high school",
          "some high school",
          "some high school",
          "some high school",
          "associate's degree",
          "high school",
          "some high school",
          "some high school",
          "high school",
          "associate's degree",
          "some high school",
          "master's degree",
          "high school",
          "high school",
          "associate's degree",
          "high school",
          "associate's degree",
          "high school",
          "associate's degree",
          "associate's degree",
          "associate's degree",
          "some college",
          "high school",
          "high school",
          "some high school",
          "some college",
          "bachelor's degree",
          "bachelor's degree",
          "high school",
          "associate's degree",
          "high school",
          "some college",
          "some high school",
          "high school",
          "associate's degree",
          "some high school",
          "high school",
          "associate's degree",
          "high school",
          "some high school",
          "some high school",
          "bachelor's degree",
          "high school",
          "some high school",
          "some high school",
          "associate's degree",
          "some high school",
          "high school",
          "high school",
          "high school",
          "some high school",
          "associate's degree",
          "associate's degree",
          "bachelor's degree",
          "high school",
          "associate's degree",
          "high school",
          "bachelor's degree",
          "some high school",
          "high school",
          "some college",
          "some college",
          "some college",
          "associate's degree",
          "bachelor's degree",
          "some college",
          "master's degree",
          "some college",
          "some college",
          "some college",
          "some college",
          "some college",
          "master's degree",
          "some college",
          "master's degree",
          "high school",
          "some high school",
          "associate's degree",
          "high school",
          "some college",
          "associate's degree",
          "associate's degree",
          "some high school",
          "master's degree",
          "high school",
          "high school",
          "some high school",
          "associate's degree",
          "associate's degree",
          "some high school",
          "associate's degree",
          "high school",
          "associate's degree",
          "some high school",
          "some college",
          "some college",
          "high school",
          "high school",
          "some high school",
          "high school",
          "high school",
          "high school",
          "high school",
          "associate's degree",
          "associate's degree",
          "associate's degree",
          "associate's degree",
          "associate's degree",
          "some high school",
          "some high school",
          "high school",
          "associate's degree",
          "high school",
          "bachelor's degree",
          "associate's degree",
          "associate's degree",
          "some high school",
          "some high school",
          "some college",
          "high school",
          "high school",
          "some high school",
          "high school",
          "master's degree",
          "high school",
          "associate's degree",
          "some college",
          "high school",
          "associate's degree",
          "high school",
          "some college",
          "bachelor's degree",
          "high school",
          "some college",
          "high school",
          "some high school",
          "bachelor's degree",
          "associate's degree",
          "bachelor's degree",
          "associate's degree",
          "associate's degree",
          "high school",
          "bachelor's degree",
          "high school",
          "associate's degree"
         ],
         "yaxis": "y"
        },
        {
         "customdata": [
          [
           "female"
          ],
          [
           "female"
          ],
          [
           "male"
          ],
          [
           "male"
          ],
          [
           "male"
          ],
          [
           "female"
          ],
          [
           "female"
          ],
          [
           "male"
          ],
          [
           "male"
          ],
          [
           "female"
          ],
          [
           "female"
          ],
          [
           "male"
          ],
          [
           "female"
          ],
          [
           "female"
          ],
          [
           "female"
          ],
          [
           "female"
          ],
          [
           "male"
          ],
          [
           "female"
          ],
          [
           "male"
          ],
          [
           "male"
          ],
          [
           "male"
          ],
          [
           "male"
          ],
          [
           "male"
          ],
          [
           "male"
          ],
          [
           "male"
          ],
          [
           "female"
          ],
          [
           "male"
          ],
          [
           "female"
          ],
          [
           "male"
          ],
          [
           "female"
          ],
          [
           "female"
          ],
          [
           "male"
          ],
          [
           "male"
          ],
          [
           "female"
          ],
          [
           "male"
          ],
          [
           "male"
          ],
          [
           "male"
          ],
          [
           "male"
          ],
          [
           "male"
          ],
          [
           "female"
          ],
          [
           "male"
          ],
          [
           "female"
          ],
          [
           "male"
          ],
          [
           "male"
          ],
          [
           "male"
          ],
          [
           "male"
          ],
          [
           "female"
          ],
          [
           "female"
          ],
          [
           "female"
          ],
          [
           "female"
          ],
          [
           "female"
          ],
          [
           "male"
          ],
          [
           "male"
          ],
          [
           "female"
          ],
          [
           "female"
          ],
          [
           "male"
          ],
          [
           "male"
          ],
          [
           "female"
          ],
          [
           "male"
          ],
          [
           "male"
          ],
          [
           "male"
          ],
          [
           "male"
          ],
          [
           "female"
          ],
          [
           "female"
          ],
          [
           "male"
          ],
          [
           "female"
          ],
          [
           "female"
          ],
          [
           "female"
          ],
          [
           "female"
          ],
          [
           "male"
          ],
          [
           "female"
          ],
          [
           "male"
          ],
          [
           "male"
          ],
          [
           "male"
          ],
          [
           "female"
          ],
          [
           "female"
          ],
          [
           "male"
          ],
          [
           "female"
          ],
          [
           "male"
          ],
          [
           "male"
          ],
          [
           "male"
          ],
          [
           "male"
          ],
          [
           "male"
          ],
          [
           "female"
          ],
          [
           "female"
          ],
          [
           "male"
          ],
          [
           "male"
          ],
          [
           "female"
          ],
          [
           "male"
          ],
          [
           "male"
          ],
          [
           "male"
          ],
          [
           "female"
          ],
          [
           "male"
          ],
          [
           "male"
          ],
          [
           "male"
          ],
          [
           "male"
          ],
          [
           "male"
          ],
          [
           "female"
          ],
          [
           "female"
          ],
          [
           "male"
          ],
          [
           "male"
          ],
          [
           "female"
          ],
          [
           "male"
          ],
          [
           "male"
          ],
          [
           "female"
          ],
          [
           "male"
          ],
          [
           "female"
          ],
          [
           "male"
          ],
          [
           "female"
          ],
          [
           "female"
          ],
          [
           "female"
          ],
          [
           "male"
          ],
          [
           "female"
          ],
          [
           "male"
          ],
          [
           "female"
          ],
          [
           "male"
          ],
          [
           "female"
          ],
          [
           "female"
          ],
          [
           "female"
          ],
          [
           "male"
          ],
          [
           "male"
          ],
          [
           "male"
          ],
          [
           "male"
          ],
          [
           "male"
          ],
          [
           "male"
          ],
          [
           "female"
          ],
          [
           "male"
          ],
          [
           "female"
          ],
          [
           "female"
          ],
          [
           "female"
          ],
          [
           "female"
          ],
          [
           "male"
          ],
          [
           "female"
          ],
          [
           "female"
          ],
          [
           "male"
          ],
          [
           "male"
          ],
          [
           "male"
          ],
          [
           "female"
          ],
          [
           "male"
          ],
          [
           "male"
          ],
          [
           "male"
          ],
          [
           "male"
          ],
          [
           "female"
          ],
          [
           "male"
          ],
          [
           "male"
          ],
          [
           "female"
          ],
          [
           "female"
          ],
          [
           "female"
          ],
          [
           "female"
          ],
          [
           "female"
          ],
          [
           "male"
          ],
          [
           "male"
          ],
          [
           "male"
          ],
          [
           "male"
          ],
          [
           "female"
          ],
          [
           "male"
          ],
          [
           "female"
          ],
          [
           "male"
          ],
          [
           "female"
          ],
          [
           "male"
          ],
          [
           "female"
          ],
          [
           "male"
          ],
          [
           "male"
          ],
          [
           "female"
          ],
          [
           "female"
          ],
          [
           "female"
          ],
          [
           "male"
          ],
          [
           "female"
          ],
          [
           "female"
          ],
          [
           "male"
          ],
          [
           "female"
          ],
          [
           "female"
          ],
          [
           "female"
          ],
          [
           "female"
          ],
          [
           "male"
          ]
         ],
         "hovertemplate": "GPA cuantiles=Bajo<br>GPA=%{x}<br>parental level of education=%{y}<br>gender=%{customdata[0]}<extra></extra>",
         "legendgroup": "Bajo",
         "marker": {
          "color": "orange",
          "symbol": "circle"
         },
         "mode": "markers",
         "name": "Bajo",
         "orientation": "h",
         "showlegend": true,
         "type": "scatter",
         "x": [
          4.359999999999999,
          4.36,
          4.36,
          4.36,
          4.36,
          4.36,
          4.36,
          4.36,
          4.36,
          4.379999999999999,
          4.38,
          4.38,
          4.38,
          4.38,
          4.3999999999999995,
          4.3999999999999995,
          4.4,
          4.419999999999999,
          4.419999999999999,
          4.42,
          4.420000000000001,
          4.44,
          4.44,
          4.44,
          4.44,
          4.44,
          4.44,
          4.44,
          4.44,
          4.46,
          4.46,
          4.46,
          4.46,
          4.46,
          4.46,
          4.4799999999999995,
          4.4799999999999995,
          4.5,
          4.5,
          4.5,
          4.5,
          4.5,
          4.5,
          4.5,
          4.52,
          4.52,
          4.52,
          4.52,
          4.52,
          4.5200000000000005,
          4.5200000000000005,
          4.5200000000000005,
          4.5200000000000005,
          4.54,
          4.54,
          4.54,
          4.54,
          4.54,
          4.54,
          4.54,
          4.54,
          4.56,
          4.56,
          4.56,
          4.56,
          4.579999999999999,
          4.58,
          4.58,
          4.580000000000001,
          4.6,
          4.6,
          4.6,
          4.6,
          4.6000000000000005,
          4.6000000000000005,
          4.6000000000000005,
          4.619999999999999,
          4.62,
          4.62,
          4.62,
          4.62,
          4.64,
          4.64,
          4.64,
          4.64,
          4.64,
          4.64,
          4.64,
          4.659999999999999,
          4.659999999999999,
          4.66,
          4.66,
          4.66,
          4.68,
          4.68,
          4.68,
          4.68,
          4.68,
          4.68,
          4.680000000000001,
          4.7,
          4.7,
          4.7,
          4.7,
          4.7,
          4.7,
          4.7,
          4.72,
          4.72,
          4.72,
          4.72,
          4.72,
          4.72,
          4.739999999999999,
          4.739999999999999,
          4.739999999999999,
          4.739999999999999,
          4.739999999999999,
          4.74,
          4.74,
          4.759999999999999,
          4.76,
          4.760000000000001,
          4.779999999999999,
          4.78,
          4.78,
          4.78,
          4.78,
          4.78,
          4.8,
          4.8,
          4.8,
          4.8,
          4.819999999999999,
          4.819999999999999,
          4.82,
          4.82,
          4.82,
          4.82,
          4.839999999999999,
          4.84,
          4.84,
          4.84,
          4.84,
          4.84,
          4.84,
          4.84,
          4.84,
          4.859999999999999,
          4.859999999999999,
          4.859999999999999,
          4.859999999999999,
          4.859999999999999,
          4.859999999999999,
          4.859999999999999,
          4.86,
          4.86,
          4.86,
          4.88,
          4.88,
          4.88,
          4.88,
          4.88,
          4.88,
          4.88,
          4.88,
          4.88,
          4.88,
          4.88,
          4.8999999999999995,
          4.8999999999999995,
          4.8999999999999995,
          4.8999999999999995,
          4.8999999999999995,
          4.8999999999999995
         ],
         "xaxis": "x",
         "y": [
          "associate's degree",
          "some college",
          "associate's degree",
          "high school",
          "associate's degree",
          "some college",
          "bachelor's degree",
          "bachelor's degree",
          "high school",
          "bachelor's degree",
          "bachelor's degree",
          "some college",
          "some college",
          "some high school",
          "some high school",
          "high school",
          "associate's degree",
          "some college",
          "associate's degree",
          "high school",
          "high school",
          "high school",
          "some college",
          "some college",
          "associate's degree",
          "master's degree",
          "high school",
          "high school",
          "some high school",
          "associate's degree",
          "some high school",
          "some high school",
          "some high school",
          "associate's degree",
          "some high school",
          "some high school",
          "some high school",
          "some high school",
          "some college",
          "some college",
          "some college",
          "bachelor's degree",
          "associate's degree",
          "some college",
          "high school",
          "high school",
          "associate's degree",
          "some college",
          "some high school",
          "some college",
          "associate's degree",
          "associate's degree",
          "some high school",
          "some high school",
          "some college",
          "associate's degree",
          "some college",
          "master's degree",
          "some college",
          "some high school",
          "some high school",
          "some college",
          "master's degree",
          "some college",
          "associate's degree",
          "high school",
          "high school",
          "some high school",
          "bachelor's degree",
          "some college",
          "high school",
          "some high school",
          "some college",
          "high school",
          "some high school",
          "high school",
          "some college",
          "bachelor's degree",
          "bachelor's degree",
          "high school",
          "some college",
          "some college",
          "bachelor's degree",
          "associate's degree",
          "some high school",
          "some college",
          "some college",
          "master's degree",
          "bachelor's degree",
          "some college",
          "some high school",
          "some college",
          "master's degree",
          "some college",
          "some college",
          "associate's degree",
          "some high school",
          "master's degree",
          "some college",
          "bachelor's degree",
          "high school",
          "some college",
          "some high school",
          "associate's degree",
          "some college",
          "associate's degree",
          "master's degree",
          "bachelor's degree",
          "some high school",
          "high school",
          "associate's degree",
          "some college",
          "bachelor's degree",
          "some college",
          "some college",
          "high school",
          "some high school",
          "high school",
          "high school",
          "some college",
          "high school",
          "high school",
          "bachelor's degree",
          "associate's degree",
          "associate's degree",
          "some college",
          "some college",
          "high school",
          "master's degree",
          "master's degree",
          "associate's degree",
          "some high school",
          "high school",
          "some college",
          "some college",
          "high school",
          "some college",
          "high school",
          "associate's degree",
          "some college",
          "high school",
          "some high school",
          "some high school",
          "bachelor's degree",
          "associate's degree",
          "high school",
          "some college",
          "associate's degree",
          "associate's degree",
          "high school",
          "some high school",
          "bachelor's degree",
          "bachelor's degree",
          "associate's degree",
          "master's degree",
          "some high school",
          "master's degree",
          "associate's degree",
          "associate's degree",
          "some high school",
          "bachelor's degree",
          "high school",
          "associate's degree",
          "associate's degree",
          "associate's degree",
          "some college",
          "master's degree",
          "high school",
          "some college",
          "high school",
          "associate's degree",
          "some college",
          "some college",
          "some college",
          "some college"
         ],
         "yaxis": "y"
        },
        {
         "customdata": [
          [
           "male"
          ],
          [
           "female"
          ],
          [
           "female"
          ],
          [
           "male"
          ],
          [
           "female"
          ],
          [
           "male"
          ],
          [
           "male"
          ],
          [
           "female"
          ],
          [
           "male"
          ],
          [
           "female"
          ],
          [
           "male"
          ],
          [
           "male"
          ],
          [
           "male"
          ],
          [
           "female"
          ],
          [
           "male"
          ],
          [
           "female"
          ],
          [
           "female"
          ],
          [
           "female"
          ],
          [
           "female"
          ],
          [
           "female"
          ],
          [
           "female"
          ],
          [
           "male"
          ],
          [
           "female"
          ],
          [
           "female"
          ],
          [
           "female"
          ],
          [
           "male"
          ],
          [
           "male"
          ],
          [
           "female"
          ],
          [
           "female"
          ],
          [
           "male"
          ],
          [
           "male"
          ],
          [
           "male"
          ],
          [
           "male"
          ],
          [
           "female"
          ],
          [
           "female"
          ],
          [
           "female"
          ],
          [
           "female"
          ],
          [
           "female"
          ],
          [
           "female"
          ],
          [
           "male"
          ],
          [
           "male"
          ],
          [
           "female"
          ],
          [
           "female"
          ],
          [
           "female"
          ],
          [
           "male"
          ],
          [
           "female"
          ],
          [
           "male"
          ],
          [
           "male"
          ],
          [
           "male"
          ],
          [
           "female"
          ],
          [
           "male"
          ],
          [
           "female"
          ],
          [
           "male"
          ],
          [
           "male"
          ],
          [
           "male"
          ],
          [
           "male"
          ],
          [
           "female"
          ],
          [
           "female"
          ],
          [
           "female"
          ],
          [
           "male"
          ],
          [
           "female"
          ],
          [
           "male"
          ],
          [
           "female"
          ],
          [
           "male"
          ],
          [
           "female"
          ],
          [
           "male"
          ],
          [
           "male"
          ],
          [
           "male"
          ],
          [
           "male"
          ],
          [
           "female"
          ],
          [
           "female"
          ],
          [
           "male"
          ],
          [
           "male"
          ],
          [
           "male"
          ],
          [
           "male"
          ],
          [
           "male"
          ],
          [
           "female"
          ],
          [
           "male"
          ],
          [
           "female"
          ],
          [
           "male"
          ],
          [
           "male"
          ],
          [
           "female"
          ],
          [
           "female"
          ],
          [
           "male"
          ],
          [
           "female"
          ],
          [
           "female"
          ],
          [
           "female"
          ],
          [
           "female"
          ],
          [
           "male"
          ],
          [
           "male"
          ],
          [
           "male"
          ],
          [
           "male"
          ],
          [
           "female"
          ],
          [
           "male"
          ],
          [
           "female"
          ],
          [
           "female"
          ],
          [
           "female"
          ],
          [
           "female"
          ],
          [
           "female"
          ],
          [
           "male"
          ],
          [
           "female"
          ],
          [
           "male"
          ],
          [
           "male"
          ],
          [
           "male"
          ],
          [
           "female"
          ],
          [
           "male"
          ],
          [
           "female"
          ],
          [
           "female"
          ],
          [
           "female"
          ],
          [
           "female"
          ],
          [
           "male"
          ],
          [
           "male"
          ],
          [
           "male"
          ],
          [
           "male"
          ],
          [
           "male"
          ],
          [
           "female"
          ],
          [
           "male"
          ],
          [
           "female"
          ],
          [
           "male"
          ],
          [
           "female"
          ],
          [
           "male"
          ],
          [
           "male"
          ],
          [
           "male"
          ],
          [
           "male"
          ],
          [
           "female"
          ],
          [
           "female"
          ],
          [
           "male"
          ],
          [
           "male"
          ],
          [
           "female"
          ],
          [
           "female"
          ],
          [
           "female"
          ],
          [
           "female"
          ],
          [
           "female"
          ],
          [
           "male"
          ],
          [
           "female"
          ],
          [
           "female"
          ],
          [
           "male"
          ],
          [
           "female"
          ],
          [
           "female"
          ],
          [
           "female"
          ],
          [
           "male"
          ],
          [
           "male"
          ],
          [
           "female"
          ],
          [
           "female"
          ],
          [
           "female"
          ],
          [
           "male"
          ],
          [
           "female"
          ],
          [
           "male"
          ],
          [
           "male"
          ],
          [
           "female"
          ],
          [
           "male"
          ],
          [
           "male"
          ],
          [
           "female"
          ],
          [
           "female"
          ],
          [
           "female"
          ],
          [
           "male"
          ],
          [
           "female"
          ],
          [
           "female"
          ],
          [
           "male"
          ],
          [
           "female"
          ],
          [
           "female"
          ],
          [
           "male"
          ],
          [
           "male"
          ],
          [
           "male"
          ],
          [
           "male"
          ],
          [
           "female"
          ],
          [
           "female"
          ],
          [
           "male"
          ],
          [
           "female"
          ],
          [
           "male"
          ],
          [
           "male"
          ],
          [
           "male"
          ],
          [
           "female"
          ],
          [
           "male"
          ],
          [
           "female"
          ],
          [
           "female"
          ]
         ],
         "hovertemplate": "GPA cuantiles=Medio<br>GPA=%{x}<br>parental level of education=%{y}<br>gender=%{customdata[0]}<extra></extra>",
         "legendgroup": "Medio",
         "marker": {
          "color": "yellow",
          "symbol": "circle"
         },
         "mode": "markers",
         "name": "Medio",
         "orientation": "h",
         "showlegend": true,
         "type": "scatter",
         "x": [
          4.9,
          4.9,
          4.919999999999999,
          4.919999999999999,
          4.919999999999999,
          4.92,
          4.92,
          4.92,
          4.92,
          4.92,
          4.92,
          4.9399999999999995,
          4.9399999999999995,
          4.9399999999999995,
          4.94,
          4.94,
          4.94,
          4.94,
          4.96,
          4.96,
          4.96,
          4.96,
          4.96,
          4.96,
          4.96,
          4.96,
          4.96,
          4.9799999999999995,
          4.9799999999999995,
          4.9799999999999995,
          4.9799999999999995,
          4.9799999999999995,
          5,
          5,
          5,
          5,
          5,
          5,
          5,
          5.02,
          5.02,
          5.02,
          5.02,
          5.02,
          5.02,
          5.02,
          5.02,
          5.04,
          5.04,
          5.04,
          5.04,
          5.06,
          5.06,
          5.06,
          5.06,
          5.06,
          5.06,
          5.06,
          5.079999999999999,
          5.079999999999999,
          5.079999999999999,
          5.079999999999999,
          5.079999999999999,
          5.08,
          5.08,
          5.08,
          5.08,
          5.080000000000001,
          5.080000000000001,
          5.080000000000001,
          5.1,
          5.1,
          5.1,
          5.1000000000000005,
          5.1000000000000005,
          5.1000000000000005,
          5.1000000000000005,
          5.1000000000000005,
          5.1000000000000005,
          5.1000000000000005,
          5.119999999999999,
          5.119999999999999,
          5.12,
          5.12,
          5.12,
          5.12,
          5.12,
          5.12,
          5.12,
          5.12,
          5.12,
          5.12,
          5.14,
          5.14,
          5.14,
          5.14,
          5.14,
          5.14,
          5.14,
          5.14,
          5.14,
          5.140000000000001,
          5.140000000000001,
          5.159999999999999,
          5.159999999999999,
          5.159999999999999,
          5.159999999999999,
          5.159999999999999,
          5.16,
          5.16,
          5.16,
          5.16,
          5.16,
          5.18,
          5.18,
          5.18,
          5.18,
          5.180000000000001,
          5.199999999999999,
          5.199999999999999,
          5.2,
          5.2,
          5.2,
          5.2,
          5.2,
          5.2,
          5.2,
          5.2,
          5.2,
          5.2,
          5.22,
          5.22,
          5.22,
          5.22,
          5.22,
          5.22,
          5.22,
          5.22,
          5.239999999999999,
          5.239999999999999,
          5.24,
          5.24,
          5.259999999999999,
          5.259999999999999,
          5.259999999999999,
          5.26,
          5.26,
          5.26,
          5.26,
          5.26,
          5.260000000000001,
          5.260000000000001,
          5.260000000000001,
          5.279999999999999,
          5.28,
          5.28,
          5.28,
          5.28,
          5.28,
          5.28,
          5.28,
          5.28,
          5.28,
          5.3,
          5.3,
          5.3,
          5.3,
          5.3,
          5.3,
          5.3,
          5.3,
          5.319999999999999,
          5.319999999999999,
          5.319999999999999,
          5.319999999999999,
          5.319999999999999
         ],
         "xaxis": "x",
         "y": [
          "high school",
          "high school",
          "some college",
          "bachelor's degree",
          "some college",
          "some high school",
          "bachelor's degree",
          "high school",
          "some college",
          "some high school",
          "some high school",
          "associate's degree",
          "some high school",
          "high school",
          "some college",
          "high school",
          "some college",
          "high school",
          "associate's degree",
          "high school",
          "bachelor's degree",
          "high school",
          "high school",
          "associate's degree",
          "some high school",
          "high school",
          "some high school",
          "associate's degree",
          "high school",
          "bachelor's degree",
          "some high school",
          "associate's degree",
          "bachelor's degree",
          "some high school",
          "high school",
          "associate's degree",
          "some college",
          "associate's degree",
          "some college",
          "some college",
          "some college",
          "some high school",
          "high school",
          "bachelor's degree",
          "some college",
          "high school",
          "some high school",
          "high school",
          "associate's degree",
          "bachelor's degree",
          "some high school",
          "some high school",
          "some college",
          "bachelor's degree",
          "high school",
          "bachelor's degree",
          "high school",
          "bachelor's degree",
          "associate's degree",
          "bachelor's degree",
          "some college",
          "bachelor's degree",
          "associate's degree",
          "high school",
          "some high school",
          "some high school",
          "high school",
          "high school",
          "high school",
          "some college",
          "associate's degree",
          "some high school",
          "master's degree",
          "some high school",
          "high school",
          "some college",
          "some college",
          "high school",
          "high school",
          "associate's degree",
          "associate's degree",
          "high school",
          "some college",
          "associate's degree",
          "some high school",
          "some college",
          "associate's degree",
          "associate's degree",
          "associate's degree",
          "some college",
          "high school",
          "bachelor's degree",
          "bachelor's degree",
          "associate's degree",
          "some college",
          "associate's degree",
          "some high school",
          "master's degree",
          "bachelor's degree",
          "some high school",
          "associate's degree",
          "high school",
          "associate's degree",
          "some high school",
          "bachelor's degree",
          "some high school",
          "high school",
          "some college",
          "associate's degree",
          "high school",
          "associate's degree",
          "some college",
          "some college",
          "high school",
          "some high school",
          "associate's degree",
          "high school",
          "associate's degree",
          "some college",
          "some high school",
          "bachelor's degree",
          "master's degree",
          "some high school",
          "some college",
          "master's degree",
          "some college",
          "high school",
          "high school",
          "high school",
          "high school",
          "bachelor's degree",
          "some college",
          "bachelor's degree",
          "some college",
          "associate's degree",
          "bachelor's degree",
          "high school",
          "some high school",
          "master's degree",
          "some college",
          "bachelor's degree",
          "high school",
          "high school",
          "some college",
          "some college",
          "some college",
          "some college",
          "bachelor's degree",
          "associate's degree",
          "high school",
          "high school",
          "high school",
          "bachelor's degree",
          "associate's degree",
          "some high school",
          "associate's degree",
          "associate's degree",
          "bachelor's degree",
          "associate's degree",
          "associate's degree",
          "bachelor's degree",
          "associate's degree",
          "some high school",
          "associate's degree",
          "high school",
          "some high school",
          "master's degree",
          "high school",
          "some college",
          "high school",
          "some high school",
          "bachelor's degree",
          "associate's degree",
          "some college",
          "associate's degree",
          "associate's degree"
         ],
         "yaxis": "y"
        },
        {
         "customdata": [
          [
           "female"
          ],
          [
           "female"
          ],
          [
           "male"
          ],
          [
           "female"
          ],
          [
           "female"
          ],
          [
           "female"
          ],
          [
           "female"
          ],
          [
           "female"
          ],
          [
           "female"
          ],
          [
           "male"
          ],
          [
           "female"
          ],
          [
           "female"
          ],
          [
           "female"
          ],
          [
           "female"
          ],
          [
           "female"
          ],
          [
           "male"
          ],
          [
           "male"
          ],
          [
           "female"
          ],
          [
           "female"
          ],
          [
           "male"
          ],
          [
           "male"
          ],
          [
           "female"
          ],
          [
           "female"
          ],
          [
           "female"
          ],
          [
           "female"
          ],
          [
           "female"
          ],
          [
           "male"
          ],
          [
           "male"
          ],
          [
           "male"
          ],
          [
           "female"
          ],
          [
           "male"
          ],
          [
           "male"
          ],
          [
           "male"
          ],
          [
           "male"
          ],
          [
           "male"
          ],
          [
           "female"
          ],
          [
           "female"
          ],
          [
           "male"
          ],
          [
           "male"
          ],
          [
           "male"
          ],
          [
           "female"
          ],
          [
           "female"
          ],
          [
           "male"
          ],
          [
           "female"
          ],
          [
           "male"
          ],
          [
           "female"
          ],
          [
           "female"
          ],
          [
           "female"
          ],
          [
           "male"
          ],
          [
           "female"
          ],
          [
           "male"
          ],
          [
           "female"
          ],
          [
           "female"
          ],
          [
           "female"
          ],
          [
           "female"
          ],
          [
           "female"
          ],
          [
           "female"
          ],
          [
           "female"
          ],
          [
           "female"
          ],
          [
           "male"
          ],
          [
           "female"
          ],
          [
           "female"
          ],
          [
           "female"
          ],
          [
           "female"
          ],
          [
           "male"
          ],
          [
           "male"
          ],
          [
           "female"
          ],
          [
           "male"
          ],
          [
           "male"
          ],
          [
           "male"
          ],
          [
           "female"
          ],
          [
           "male"
          ],
          [
           "female"
          ],
          [
           "female"
          ],
          [
           "female"
          ],
          [
           "male"
          ],
          [
           "female"
          ],
          [
           "female"
          ],
          [
           "male"
          ],
          [
           "female"
          ],
          [
           "male"
          ],
          [
           "male"
          ],
          [
           "female"
          ],
          [
           "female"
          ],
          [
           "male"
          ],
          [
           "female"
          ],
          [
           "female"
          ],
          [
           "female"
          ],
          [
           "male"
          ],
          [
           "female"
          ],
          [
           "female"
          ],
          [
           "female"
          ],
          [
           "female"
          ],
          [
           "male"
          ],
          [
           "female"
          ],
          [
           "male"
          ],
          [
           "female"
          ],
          [
           "female"
          ],
          [
           "female"
          ],
          [
           "male"
          ],
          [
           "female"
          ],
          [
           "female"
          ],
          [
           "female"
          ],
          [
           "female"
          ],
          [
           "male"
          ],
          [
           "male"
          ],
          [
           "male"
          ],
          [
           "female"
          ],
          [
           "female"
          ],
          [
           "male"
          ],
          [
           "male"
          ],
          [
           "female"
          ],
          [
           "female"
          ],
          [
           "female"
          ],
          [
           "female"
          ],
          [
           "female"
          ],
          [
           "male"
          ],
          [
           "female"
          ],
          [
           "female"
          ],
          [
           "female"
          ],
          [
           "female"
          ],
          [
           "female"
          ],
          [
           "female"
          ],
          [
           "male"
          ],
          [
           "female"
          ],
          [
           "male"
          ],
          [
           "male"
          ],
          [
           "male"
          ],
          [
           "female"
          ],
          [
           "female"
          ],
          [
           "female"
          ],
          [
           "male"
          ],
          [
           "female"
          ],
          [
           "male"
          ],
          [
           "female"
          ],
          [
           "male"
          ],
          [
           "male"
          ],
          [
           "male"
          ],
          [
           "male"
          ],
          [
           "male"
          ],
          [
           "male"
          ],
          [
           "female"
          ],
          [
           "male"
          ],
          [
           "female"
          ],
          [
           "female"
          ],
          [
           "female"
          ],
          [
           "female"
          ],
          [
           "female"
          ],
          [
           "male"
          ],
          [
           "female"
          ],
          [
           "female"
          ],
          [
           "female"
          ],
          [
           "female"
          ],
          [
           "female"
          ],
          [
           "female"
          ],
          [
           "female"
          ],
          [
           "male"
          ],
          [
           "female"
          ],
          [
           "male"
          ],
          [
           "male"
          ],
          [
           "male"
          ],
          [
           "female"
          ],
          [
           "female"
          ],
          [
           "male"
          ],
          [
           "female"
          ],
          [
           "female"
          ],
          [
           "male"
          ],
          [
           "male"
          ],
          [
           "male"
          ],
          [
           "female"
          ],
          [
           "male"
          ],
          [
           "male"
          ],
          [
           "male"
          ],
          [
           "female"
          ],
          [
           "male"
          ],
          [
           "female"
          ]
         ],
         "hovertemplate": "GPA cuantiles=Alto<br>GPA=%{x}<br>parental level of education=%{y}<br>gender=%{customdata[0]}<extra></extra>",
         "legendgroup": "Alto",
         "marker": {
          "color": "greenyellow",
          "symbol": "circle"
         },
         "mode": "markers",
         "name": "Alto",
         "orientation": "h",
         "showlegend": true,
         "type": "scatter",
         "x": [
          5.32,
          5.32,
          5.32,
          5.32,
          5.339999999999999,
          5.34,
          5.34,
          5.34,
          5.34,
          5.34,
          5.359999999999999,
          5.359999999999999,
          5.359999999999999,
          5.359999999999999,
          5.359999999999999,
          5.359999999999999,
          5.359999999999999,
          5.359999999999999,
          5.36,
          5.38,
          5.38,
          5.38,
          5.38,
          5.38,
          5.38,
          5.38,
          5.38,
          5.38,
          5.38,
          5.38,
          5.38,
          5.3999999999999995,
          5.3999999999999995,
          5.3999999999999995,
          5.3999999999999995,
          5.3999999999999995,
          5.3999999999999995,
          5.3999999999999995,
          5.3999999999999995,
          5.400000000000001,
          5.419999999999999,
          5.419999999999999,
          5.419999999999999,
          5.419999999999999,
          5.419999999999999,
          5.44,
          5.44,
          5.44,
          5.44,
          5.44,
          5.44,
          5.46,
          5.46,
          5.46,
          5.46,
          5.46,
          5.46,
          5.46,
          5.46,
          5.46,
          5.46,
          5.4799999999999995,
          5.4799999999999995,
          5.4799999999999995,
          5.4799999999999995,
          5.4799999999999995,
          5.48,
          5.48,
          5.5,
          5.5,
          5.5,
          5.5,
          5.5,
          5.5,
          5.5,
          5.5,
          5.5,
          5.52,
          5.52,
          5.52,
          5.52,
          5.52,
          5.52,
          5.539999999999999,
          5.539999999999999,
          5.539999999999999,
          5.539999999999999,
          5.539999999999999,
          5.539999999999999,
          5.539999999999999,
          5.54,
          5.54,
          5.56,
          5.56,
          5.56,
          5.56,
          5.56,
          5.56,
          5.56,
          5.56,
          5.56,
          5.579999999999999,
          5.579999999999999,
          5.579999999999999,
          5.579999999999999,
          5.579999999999999,
          5.579999999999999,
          5.6000000000000005,
          5.6000000000000005,
          5.6000000000000005,
          5.6000000000000005,
          5.62,
          5.62,
          5.62,
          5.62,
          5.62,
          5.62,
          5.64,
          5.64,
          5.64,
          5.64,
          5.64,
          5.64,
          5.64,
          5.640000000000001,
          5.640000000000001,
          5.640000000000001,
          5.640000000000001,
          5.66,
          5.66,
          5.66,
          5.66,
          5.68,
          5.68,
          5.68,
          5.68,
          5.68,
          5.68,
          5.68,
          5.68,
          5.7,
          5.7,
          5.7,
          5.7,
          5.7,
          5.7,
          5.7,
          5.7,
          5.719999999999999,
          5.72,
          5.72,
          5.72,
          5.72,
          5.72,
          5.72,
          5.739999999999999,
          5.739999999999999,
          5.739999999999999,
          5.739999999999999,
          5.739999999999999,
          5.739999999999999,
          5.739999999999999,
          5.759999999999999,
          5.760000000000001,
          5.760000000000001,
          5.760000000000001,
          5.760000000000001,
          5.760000000000001,
          5.760000000000001,
          5.760000000000001,
          5.7799999999999985,
          5.78,
          5.78,
          5.78,
          5.78,
          5.78
         ],
         "xaxis": "x",
         "y": [
          "some high school",
          "associate's degree",
          "some college",
          "some high school",
          "some college",
          "associate's degree",
          "some college",
          "some college",
          "associate's degree",
          "high school",
          "some college",
          "associate's degree",
          "bachelor's degree",
          "some college",
          "some high school",
          "some high school",
          "master's degree",
          "high school",
          "high school",
          "some high school",
          "bachelor's degree",
          "some high school",
          "high school",
          "bachelor's degree",
          "bachelor's degree",
          "high school",
          "high school",
          "master's degree",
          "some college",
          "high school",
          "some college",
          "some college",
          "master's degree",
          "some high school",
          "associate's degree",
          "some high school",
          "some high school",
          "some college",
          "associate's degree",
          "some high school",
          "some college",
          "bachelor's degree",
          "high school",
          "bachelor's degree",
          "high school",
          "some high school",
          "some high school",
          "some college",
          "bachelor's degree",
          "some college",
          "bachelor's degree",
          "some college",
          "associate's degree",
          "some college",
          "high school",
          "some college",
          "some college",
          "some college",
          "some college",
          "associate's degree",
          "some college",
          "high school",
          "high school",
          "high school",
          "some college",
          "associate's degree",
          "some high school",
          "associate's degree",
          "bachelor's degree",
          "associate's degree",
          "bachelor's degree",
          "associate's degree",
          "some high school",
          "some high school",
          "associate's degree",
          "bachelor's degree",
          "associate's degree",
          "high school",
          "high school",
          "associate's degree",
          "associate's degree",
          "some college",
          "some college",
          "some college",
          "some college",
          "some college",
          "associate's degree",
          "master's degree",
          "high school",
          "bachelor's degree",
          "associate's degree",
          "high school",
          "some high school",
          "some college",
          "some high school",
          "associate's degree",
          "associate's degree",
          "high school",
          "some college",
          "bachelor's degree",
          "some high school",
          "high school",
          "associate's degree",
          "some college",
          "some college",
          "some high school",
          "some high school",
          "high school",
          "bachelor's degree",
          "associate's degree",
          "some high school",
          "some high school",
          "some high school",
          "some college",
          "some high school",
          "some high school",
          "some college",
          "bachelor's degree",
          "associate's degree",
          "associate's degree",
          "associate's degree",
          "associate's degree",
          "some college",
          "some high school",
          "some high school",
          "associate's degree",
          "associate's degree",
          "associate's degree",
          "some college",
          "bachelor's degree",
          "associate's degree",
          "associate's degree",
          "some college",
          "master's degree",
          "associate's degree",
          "associate's degree",
          "some high school",
          "high school",
          "associate's degree",
          "bachelor's degree",
          "high school",
          "master's degree",
          "high school",
          "some college",
          "some college",
          "some college",
          "high school",
          "associate's degree",
          "some college",
          "some high school",
          "bachelor's degree",
          "high school",
          "some high school",
          "bachelor's degree",
          "some college",
          "some college",
          "high school",
          "associate's degree",
          "some high school",
          "some high school",
          "associate's degree",
          "associate's degree",
          "associate's degree",
          "some high school",
          "associate's degree",
          "master's degree",
          "high school",
          "master's degree",
          "some college",
          "some high school",
          "associate's degree",
          "bachelor's degree",
          "bachelor's degree",
          "bachelor's degree",
          "some college",
          "bachelor's degree"
         ],
         "yaxis": "y"
        },
        {
         "customdata": [
          [
           "female"
          ],
          [
           "female"
          ],
          [
           "female"
          ],
          [
           "male"
          ],
          [
           "male"
          ],
          [
           "female"
          ],
          [
           "male"
          ],
          [
           "male"
          ],
          [
           "male"
          ],
          [
           "male"
          ],
          [
           "female"
          ],
          [
           "male"
          ],
          [
           "female"
          ],
          [
           "female"
          ],
          [
           "female"
          ],
          [
           "male"
          ],
          [
           "male"
          ],
          [
           "male"
          ],
          [
           "male"
          ],
          [
           "female"
          ],
          [
           "male"
          ],
          [
           "male"
          ],
          [
           "male"
          ],
          [
           "male"
          ],
          [
           "male"
          ],
          [
           "male"
          ],
          [
           "female"
          ],
          [
           "female"
          ],
          [
           "female"
          ],
          [
           "male"
          ],
          [
           "female"
          ],
          [
           "male"
          ],
          [
           "female"
          ],
          [
           "male"
          ],
          [
           "female"
          ],
          [
           "male"
          ],
          [
           "male"
          ],
          [
           "female"
          ],
          [
           "female"
          ],
          [
           "female"
          ],
          [
           "male"
          ],
          [
           "female"
          ],
          [
           "male"
          ],
          [
           "female"
          ],
          [
           "male"
          ],
          [
           "female"
          ],
          [
           "male"
          ],
          [
           "male"
          ],
          [
           "female"
          ],
          [
           "male"
          ],
          [
           "female"
          ],
          [
           "female"
          ],
          [
           "female"
          ],
          [
           "female"
          ],
          [
           "female"
          ],
          [
           "male"
          ],
          [
           "male"
          ],
          [
           "male"
          ],
          [
           "male"
          ],
          [
           "female"
          ],
          [
           "female"
          ],
          [
           "male"
          ],
          [
           "male"
          ],
          [
           "female"
          ],
          [
           "male"
          ],
          [
           "female"
          ],
          [
           "female"
          ],
          [
           "female"
          ],
          [
           "female"
          ],
          [
           "female"
          ],
          [
           "female"
          ],
          [
           "male"
          ],
          [
           "male"
          ],
          [
           "male"
          ],
          [
           "male"
          ],
          [
           "male"
          ],
          [
           "female"
          ],
          [
           "female"
          ],
          [
           "female"
          ],
          [
           "male"
          ],
          [
           "female"
          ],
          [
           "female"
          ],
          [
           "female"
          ],
          [
           "male"
          ],
          [
           "female"
          ],
          [
           "female"
          ],
          [
           "male"
          ],
          [
           "male"
          ],
          [
           "male"
          ],
          [
           "female"
          ],
          [
           "male"
          ],
          [
           "male"
          ],
          [
           "male"
          ],
          [
           "female"
          ],
          [
           "female"
          ],
          [
           "male"
          ],
          [
           "male"
          ],
          [
           "female"
          ],
          [
           "female"
          ],
          [
           "female"
          ],
          [
           "male"
          ],
          [
           "male"
          ],
          [
           "female"
          ],
          [
           "female"
          ],
          [
           "male"
          ],
          [
           "male"
          ],
          [
           "female"
          ],
          [
           "female"
          ],
          [
           "female"
          ],
          [
           "female"
          ],
          [
           "female"
          ],
          [
           "male"
          ],
          [
           "female"
          ],
          [
           "female"
          ],
          [
           "female"
          ],
          [
           "female"
          ],
          [
           "male"
          ],
          [
           "male"
          ],
          [
           "male"
          ],
          [
           "male"
          ],
          [
           "female"
          ],
          [
           "male"
          ],
          [
           "female"
          ],
          [
           "female"
          ],
          [
           "female"
          ],
          [
           "female"
          ],
          [
           "female"
          ],
          [
           "female"
          ],
          [
           "female"
          ],
          [
           "female"
          ],
          [
           "female"
          ],
          [
           "female"
          ],
          [
           "male"
          ],
          [
           "female"
          ],
          [
           "female"
          ],
          [
           "male"
          ],
          [
           "male"
          ],
          [
           "female"
          ],
          [
           "female"
          ],
          [
           "male"
          ],
          [
           "female"
          ],
          [
           "female"
          ],
          [
           "female"
          ],
          [
           "male"
          ],
          [
           "female"
          ],
          [
           "male"
          ],
          [
           "female"
          ],
          [
           "female"
          ],
          [
           "male"
          ],
          [
           "female"
          ],
          [
           "male"
          ],
          [
           "female"
          ],
          [
           "male"
          ],
          [
           "female"
          ],
          [
           "female"
          ],
          [
           "female"
          ],
          [
           "female"
          ],
          [
           "female"
          ],
          [
           "female"
          ],
          [
           "female"
          ],
          [
           "female"
          ],
          [
           "male"
          ],
          [
           "female"
          ],
          [
           "female"
          ],
          [
           "female"
          ],
          [
           "male"
          ],
          [
           "female"
          ],
          [
           "female"
          ],
          [
           "female"
          ],
          [
           "female"
          ],
          [
           "male"
          ],
          [
           "female"
          ]
         ],
         "hovertemplate": "GPA cuantiles=Muy alto<br>GPA=%{x}<br>parental level of education=%{y}<br>gender=%{customdata[0]}<extra></extra>",
         "legendgroup": "Muy alto",
         "marker": {
          "color": "green",
          "symbol": "circle"
         },
         "mode": "markers",
         "name": "Muy alto",
         "orientation": "h",
         "showlegend": true,
         "type": "scatter",
         "x": [
          5.8,
          5.8,
          5.8,
          5.819999999999999,
          5.82,
          5.82,
          5.82,
          5.82,
          5.82,
          5.82,
          5.84,
          5.84,
          5.84,
          5.84,
          5.84,
          5.84,
          5.84,
          5.859999999999999,
          5.88,
          5.88,
          5.88,
          5.88,
          5.8999999999999995,
          5.8999999999999995,
          5.8999999999999995,
          5.919999999999999,
          5.919999999999999,
          5.94,
          5.94,
          5.94,
          5.94,
          5.94,
          5.94,
          5.94,
          5.94,
          5.94,
          5.94,
          5.94,
          5.96,
          5.96,
          5.96,
          5.96,
          5.960000000000001,
          5.9799999999999995,
          5.9799999999999995,
          5.9799999999999995,
          5.9799999999999995,
          5.9799999999999995,
          5.9799999999999995,
          5.9799999999999995,
          5.98,
          5.98,
          6,
          6,
          6,
          6,
          6,
          6.02,
          6.0200000000000005,
          6.039999999999999,
          6.039999999999999,
          6.039999999999999,
          6.039999999999999,
          6.039999999999999,
          6.039999999999999,
          6.039999999999999,
          6.039999999999999,
          6.06,
          6.06,
          6.080000000000001,
          6.080000000000001,
          6.099999999999999,
          6.099999999999999,
          6.1000000000000005,
          6.1000000000000005,
          6.12,
          6.12,
          6.12,
          6.14,
          6.14,
          6.140000000000001,
          6.140000000000001,
          6.140000000000001,
          6.140000000000001,
          6.159999999999999,
          6.16,
          6.16,
          6.16,
          6.18,
          6.18,
          6.18,
          6.18,
          6.199999999999999,
          6.2,
          6.2,
          6.219999999999999,
          6.219999999999999,
          6.219999999999999,
          6.22,
          6.22,
          6.239999999999999,
          6.239999999999999,
          6.239999999999999,
          6.239999999999999,
          6.259999999999999,
          6.260000000000001,
          6.28,
          6.28,
          6.3,
          6.3,
          6.3,
          6.3,
          6.3,
          6.32,
          6.32,
          6.32,
          6.32,
          6.32,
          6.339999999999999,
          6.34,
          6.34,
          6.34,
          6.359999999999999,
          6.359999999999999,
          6.359999999999999,
          6.359999999999999,
          6.38,
          6.38,
          6.3999999999999995,
          6.419999999999999,
          6.419999999999999,
          6.419999999999999,
          6.44,
          6.46,
          6.4799999999999995,
          6.4799999999999995,
          6.5,
          6.5,
          6.5,
          6.5,
          6.5,
          6.52,
          6.54,
          6.56,
          6.56,
          6.56,
          6.6000000000000005,
          6.6000000000000005,
          6.62,
          6.64,
          6.64,
          6.64,
          6.640000000000001,
          6.739999999999999,
          6.760000000000001,
          6.78,
          6.78,
          6.8,
          6.82,
          6.82,
          6.84,
          6.859999999999999,
          6.859999999999999,
          6.859999999999999,
          6.919999999999999,
          6.919999999999999,
          6.94,
          6.94,
          6.9799999999999995,
          7,
          7,
          7
         ],
         "xaxis": "x",
         "y": [
          "some college",
          "high school",
          "high school",
          "some college",
          "high school",
          "some high school",
          "some high school",
          "associate's degree",
          "some high school",
          "associate's degree",
          "some high school",
          "high school",
          "bachelor's degree",
          "some high school",
          "bachelor's degree",
          "some high school",
          "some college",
          "associate's degree",
          "associate's degree",
          "some high school",
          "high school",
          "associate's degree",
          "some high school",
          "associate's degree",
          "some college",
          "master's degree",
          "bachelor's degree",
          "some college",
          "some college",
          "some high school",
          "associate's degree",
          "high school",
          "some college",
          "some high school",
          "high school",
          "some college",
          "some high school",
          "some college",
          "high school",
          "high school",
          "some high school",
          "some college",
          "high school",
          "bachelor's degree",
          "bachelor's degree",
          "bachelor's degree",
          "some college",
          "bachelor's degree",
          "high school",
          "associate's degree",
          "some college",
          "associate's degree",
          "some high school",
          "master's degree",
          "high school",
          "some high school",
          "some high school",
          "some college",
          "bachelor's degree",
          "associate's degree",
          "some high school",
          "some college",
          "some college",
          "some high school",
          "associate's degree",
          "some high school",
          "bachelor's degree",
          "associate's degree",
          "associate's degree",
          "some college",
          "some college",
          "high school",
          "master's degree",
          "bachelor's degree",
          "associate's degree",
          "associate's degree",
          "some college",
          "some high school",
          "associate's degree",
          "some high school",
          "associate's degree",
          "some college",
          "bachelor's degree",
          "some college",
          "associate's degree",
          "some college",
          "master's degree",
          "bachelor's degree",
          "master's degree",
          "master's degree",
          "high school",
          "some high school",
          "some high school",
          "bachelor's degree",
          "some high school",
          "associate's degree",
          "master's degree",
          "bachelor's degree",
          "associate's degree",
          "associate's degree",
          "associate's degree",
          "associate's degree",
          "some college",
          "associate's degree",
          "master's degree",
          "high school",
          "associate's degree",
          "master's degree",
          "bachelor's degree",
          "some college",
          "associate's degree",
          "bachelor's degree",
          "master's degree",
          "bachelor's degree",
          "some college",
          "associate's degree",
          "some college",
          "some college",
          "associate's degree",
          "some college",
          "some high school",
          "some high school",
          "associate's degree",
          "high school",
          "associate's degree",
          "master's degree",
          "associate's degree",
          "some college",
          "some high school",
          "associate's degree",
          "associate's degree",
          "bachelor's degree",
          "associate's degree",
          "associate's degree",
          "some high school",
          "some college",
          "associate's degree",
          "some college",
          "associate's degree",
          "associate's degree",
          "some college",
          "associate's degree",
          "some college",
          "bachelor's degree",
          "master's degree",
          "some college",
          "associate's degree",
          "master's degree",
          "associate's degree",
          "master's degree",
          "associate's degree",
          "high school",
          "some college",
          "high school",
          "associate's degree",
          "some college",
          "bachelor's degree",
          "bachelor's degree",
          "associate's degree",
          "bachelor's degree",
          "master's degree",
          "associate's degree",
          "master's degree",
          "bachelor's degree",
          "bachelor's degree",
          "some college",
          "some college",
          "some high school",
          "bachelor's degree",
          "associate's degree",
          "bachelor's degree",
          "bachelor's degree"
         ],
         "yaxis": "y"
        }
       ],
       "layout": {
        "legend": {
         "title": {
          "text": "GPA cuantiles"
         },
         "tracegroupgap": 0
        },
        "template": {
         "data": {
          "bar": [
           {
            "error_x": {
             "color": "#2a3f5f"
            },
            "error_y": {
             "color": "#2a3f5f"
            },
            "marker": {
             "line": {
              "color": "#E5ECF6",
              "width": 0.5
             },
             "pattern": {
              "fillmode": "overlay",
              "size": 10,
              "solidity": 0.2
             }
            },
            "type": "bar"
           }
          ],
          "barpolar": [
           {
            "marker": {
             "line": {
              "color": "#E5ECF6",
              "width": 0.5
             },
             "pattern": {
              "fillmode": "overlay",
              "size": 10,
              "solidity": 0.2
             }
            },
            "type": "barpolar"
           }
          ],
          "carpet": [
           {
            "aaxis": {
             "endlinecolor": "#2a3f5f",
             "gridcolor": "white",
             "linecolor": "white",
             "minorgridcolor": "white",
             "startlinecolor": "#2a3f5f"
            },
            "baxis": {
             "endlinecolor": "#2a3f5f",
             "gridcolor": "white",
             "linecolor": "white",
             "minorgridcolor": "white",
             "startlinecolor": "#2a3f5f"
            },
            "type": "carpet"
           }
          ],
          "choropleth": [
           {
            "colorbar": {
             "outlinewidth": 0,
             "ticks": ""
            },
            "type": "choropleth"
           }
          ],
          "contour": [
           {
            "colorbar": {
             "outlinewidth": 0,
             "ticks": ""
            },
            "colorscale": [
             [
              0,
              "#0d0887"
             ],
             [
              0.1111111111111111,
              "#46039f"
             ],
             [
              0.2222222222222222,
              "#7201a8"
             ],
             [
              0.3333333333333333,
              "#9c179e"
             ],
             [
              0.4444444444444444,
              "#bd3786"
             ],
             [
              0.5555555555555556,
              "#d8576b"
             ],
             [
              0.6666666666666666,
              "#ed7953"
             ],
             [
              0.7777777777777778,
              "#fb9f3a"
             ],
             [
              0.8888888888888888,
              "#fdca26"
             ],
             [
              1,
              "#f0f921"
             ]
            ],
            "type": "contour"
           }
          ],
          "contourcarpet": [
           {
            "colorbar": {
             "outlinewidth": 0,
             "ticks": ""
            },
            "type": "contourcarpet"
           }
          ],
          "heatmap": [
           {
            "colorbar": {
             "outlinewidth": 0,
             "ticks": ""
            },
            "colorscale": [
             [
              0,
              "#0d0887"
             ],
             [
              0.1111111111111111,
              "#46039f"
             ],
             [
              0.2222222222222222,
              "#7201a8"
             ],
             [
              0.3333333333333333,
              "#9c179e"
             ],
             [
              0.4444444444444444,
              "#bd3786"
             ],
             [
              0.5555555555555556,
              "#d8576b"
             ],
             [
              0.6666666666666666,
              "#ed7953"
             ],
             [
              0.7777777777777778,
              "#fb9f3a"
             ],
             [
              0.8888888888888888,
              "#fdca26"
             ],
             [
              1,
              "#f0f921"
             ]
            ],
            "type": "heatmap"
           }
          ],
          "heatmapgl": [
           {
            "colorbar": {
             "outlinewidth": 0,
             "ticks": ""
            },
            "colorscale": [
             [
              0,
              "#0d0887"
             ],
             [
              0.1111111111111111,
              "#46039f"
             ],
             [
              0.2222222222222222,
              "#7201a8"
             ],
             [
              0.3333333333333333,
              "#9c179e"
             ],
             [
              0.4444444444444444,
              "#bd3786"
             ],
             [
              0.5555555555555556,
              "#d8576b"
             ],
             [
              0.6666666666666666,
              "#ed7953"
             ],
             [
              0.7777777777777778,
              "#fb9f3a"
             ],
             [
              0.8888888888888888,
              "#fdca26"
             ],
             [
              1,
              "#f0f921"
             ]
            ],
            "type": "heatmapgl"
           }
          ],
          "histogram": [
           {
            "marker": {
             "pattern": {
              "fillmode": "overlay",
              "size": 10,
              "solidity": 0.2
             }
            },
            "type": "histogram"
           }
          ],
          "histogram2d": [
           {
            "colorbar": {
             "outlinewidth": 0,
             "ticks": ""
            },
            "colorscale": [
             [
              0,
              "#0d0887"
             ],
             [
              0.1111111111111111,
              "#46039f"
             ],
             [
              0.2222222222222222,
              "#7201a8"
             ],
             [
              0.3333333333333333,
              "#9c179e"
             ],
             [
              0.4444444444444444,
              "#bd3786"
             ],
             [
              0.5555555555555556,
              "#d8576b"
             ],
             [
              0.6666666666666666,
              "#ed7953"
             ],
             [
              0.7777777777777778,
              "#fb9f3a"
             ],
             [
              0.8888888888888888,
              "#fdca26"
             ],
             [
              1,
              "#f0f921"
             ]
            ],
            "type": "histogram2d"
           }
          ],
          "histogram2dcontour": [
           {
            "colorbar": {
             "outlinewidth": 0,
             "ticks": ""
            },
            "colorscale": [
             [
              0,
              "#0d0887"
             ],
             [
              0.1111111111111111,
              "#46039f"
             ],
             [
              0.2222222222222222,
              "#7201a8"
             ],
             [
              0.3333333333333333,
              "#9c179e"
             ],
             [
              0.4444444444444444,
              "#bd3786"
             ],
             [
              0.5555555555555556,
              "#d8576b"
             ],
             [
              0.6666666666666666,
              "#ed7953"
             ],
             [
              0.7777777777777778,
              "#fb9f3a"
             ],
             [
              0.8888888888888888,
              "#fdca26"
             ],
             [
              1,
              "#f0f921"
             ]
            ],
            "type": "histogram2dcontour"
           }
          ],
          "mesh3d": [
           {
            "colorbar": {
             "outlinewidth": 0,
             "ticks": ""
            },
            "type": "mesh3d"
           }
          ],
          "parcoords": [
           {
            "line": {
             "colorbar": {
              "outlinewidth": 0,
              "ticks": ""
             }
            },
            "type": "parcoords"
           }
          ],
          "pie": [
           {
            "automargin": true,
            "type": "pie"
           }
          ],
          "scatter": [
           {
            "marker": {
             "colorbar": {
              "outlinewidth": 0,
              "ticks": ""
             }
            },
            "type": "scatter"
           }
          ],
          "scatter3d": [
           {
            "line": {
             "colorbar": {
              "outlinewidth": 0,
              "ticks": ""
             }
            },
            "marker": {
             "colorbar": {
              "outlinewidth": 0,
              "ticks": ""
             }
            },
            "type": "scatter3d"
           }
          ],
          "scattercarpet": [
           {
            "marker": {
             "colorbar": {
              "outlinewidth": 0,
              "ticks": ""
             }
            },
            "type": "scattercarpet"
           }
          ],
          "scattergeo": [
           {
            "marker": {
             "colorbar": {
              "outlinewidth": 0,
              "ticks": ""
             }
            },
            "type": "scattergeo"
           }
          ],
          "scattergl": [
           {
            "marker": {
             "colorbar": {
              "outlinewidth": 0,
              "ticks": ""
             }
            },
            "type": "scattergl"
           }
          ],
          "scattermapbox": [
           {
            "marker": {
             "colorbar": {
              "outlinewidth": 0,
              "ticks": ""
             }
            },
            "type": "scattermapbox"
           }
          ],
          "scatterpolar": [
           {
            "marker": {
             "colorbar": {
              "outlinewidth": 0,
              "ticks": ""
             }
            },
            "type": "scatterpolar"
           }
          ],
          "scatterpolargl": [
           {
            "marker": {
             "colorbar": {
              "outlinewidth": 0,
              "ticks": ""
             }
            },
            "type": "scatterpolargl"
           }
          ],
          "scatterternary": [
           {
            "marker": {
             "colorbar": {
              "outlinewidth": 0,
              "ticks": ""
             }
            },
            "type": "scatterternary"
           }
          ],
          "surface": [
           {
            "colorbar": {
             "outlinewidth": 0,
             "ticks": ""
            },
            "colorscale": [
             [
              0,
              "#0d0887"
             ],
             [
              0.1111111111111111,
              "#46039f"
             ],
             [
              0.2222222222222222,
              "#7201a8"
             ],
             [
              0.3333333333333333,
              "#9c179e"
             ],
             [
              0.4444444444444444,
              "#bd3786"
             ],
             [
              0.5555555555555556,
              "#d8576b"
             ],
             [
              0.6666666666666666,
              "#ed7953"
             ],
             [
              0.7777777777777778,
              "#fb9f3a"
             ],
             [
              0.8888888888888888,
              "#fdca26"
             ],
             [
              1,
              "#f0f921"
             ]
            ],
            "type": "surface"
           }
          ],
          "table": [
           {
            "cells": {
             "fill": {
              "color": "#EBF0F8"
             },
             "line": {
              "color": "white"
             }
            },
            "header": {
             "fill": {
              "color": "#C8D4E3"
             },
             "line": {
              "color": "white"
             }
            },
            "type": "table"
           }
          ]
         },
         "layout": {
          "annotationdefaults": {
           "arrowcolor": "#2a3f5f",
           "arrowhead": 0,
           "arrowwidth": 1
          },
          "autotypenumbers": "strict",
          "coloraxis": {
           "colorbar": {
            "outlinewidth": 0,
            "ticks": ""
           }
          },
          "colorscale": {
           "diverging": [
            [
             0,
             "#8e0152"
            ],
            [
             0.1,
             "#c51b7d"
            ],
            [
             0.2,
             "#de77ae"
            ],
            [
             0.3,
             "#f1b6da"
            ],
            [
             0.4,
             "#fde0ef"
            ],
            [
             0.5,
             "#f7f7f7"
            ],
            [
             0.6,
             "#e6f5d0"
            ],
            [
             0.7,
             "#b8e186"
            ],
            [
             0.8,
             "#7fbc41"
            ],
            [
             0.9,
             "#4d9221"
            ],
            [
             1,
             "#276419"
            ]
           ],
           "sequential": [
            [
             0,
             "#0d0887"
            ],
            [
             0.1111111111111111,
             "#46039f"
            ],
            [
             0.2222222222222222,
             "#7201a8"
            ],
            [
             0.3333333333333333,
             "#9c179e"
            ],
            [
             0.4444444444444444,
             "#bd3786"
            ],
            [
             0.5555555555555556,
             "#d8576b"
            ],
            [
             0.6666666666666666,
             "#ed7953"
            ],
            [
             0.7777777777777778,
             "#fb9f3a"
            ],
            [
             0.8888888888888888,
             "#fdca26"
            ],
            [
             1,
             "#f0f921"
            ]
           ],
           "sequentialminus": [
            [
             0,
             "#0d0887"
            ],
            [
             0.1111111111111111,
             "#46039f"
            ],
            [
             0.2222222222222222,
             "#7201a8"
            ],
            [
             0.3333333333333333,
             "#9c179e"
            ],
            [
             0.4444444444444444,
             "#bd3786"
            ],
            [
             0.5555555555555556,
             "#d8576b"
            ],
            [
             0.6666666666666666,
             "#ed7953"
            ],
            [
             0.7777777777777778,
             "#fb9f3a"
            ],
            [
             0.8888888888888888,
             "#fdca26"
            ],
            [
             1,
             "#f0f921"
            ]
           ]
          },
          "colorway": [
           "#636efa",
           "#EF553B",
           "#00cc96",
           "#ab63fa",
           "#FFA15A",
           "#19d3f3",
           "#FF6692",
           "#B6E880",
           "#FF97FF",
           "#FECB52"
          ],
          "font": {
           "color": "#2a3f5f"
          },
          "geo": {
           "bgcolor": "white",
           "lakecolor": "white",
           "landcolor": "#E5ECF6",
           "showlakes": true,
           "showland": true,
           "subunitcolor": "white"
          },
          "hoverlabel": {
           "align": "left"
          },
          "hovermode": "closest",
          "mapbox": {
           "style": "light"
          },
          "paper_bgcolor": "white",
          "plot_bgcolor": "#E5ECF6",
          "polar": {
           "angularaxis": {
            "gridcolor": "white",
            "linecolor": "white",
            "ticks": ""
           },
           "bgcolor": "#E5ECF6",
           "radialaxis": {
            "gridcolor": "white",
            "linecolor": "white",
            "ticks": ""
           }
          },
          "scene": {
           "xaxis": {
            "backgroundcolor": "#E5ECF6",
            "gridcolor": "white",
            "gridwidth": 2,
            "linecolor": "white",
            "showbackground": true,
            "ticks": "",
            "zerolinecolor": "white"
           },
           "yaxis": {
            "backgroundcolor": "#E5ECF6",
            "gridcolor": "white",
            "gridwidth": 2,
            "linecolor": "white",
            "showbackground": true,
            "ticks": "",
            "zerolinecolor": "white"
           },
           "zaxis": {
            "backgroundcolor": "#E5ECF6",
            "gridcolor": "white",
            "gridwidth": 2,
            "linecolor": "white",
            "showbackground": true,
            "ticks": "",
            "zerolinecolor": "white"
           }
          },
          "shapedefaults": {
           "line": {
            "color": "#2a3f5f"
           }
          },
          "ternary": {
           "aaxis": {
            "gridcolor": "white",
            "linecolor": "white",
            "ticks": ""
           },
           "baxis": {
            "gridcolor": "white",
            "linecolor": "white",
            "ticks": ""
           },
           "bgcolor": "#E5ECF6",
           "caxis": {
            "gridcolor": "white",
            "linecolor": "white",
            "ticks": ""
           }
          },
          "title": {
           "x": 0.05
          },
          "xaxis": {
           "automargin": true,
           "gridcolor": "white",
           "linecolor": "white",
           "ticks": "",
           "title": {
            "standoff": 15
           },
           "zerolinecolor": "white",
           "zerolinewidth": 2
          },
          "yaxis": {
           "automargin": true,
           "gridcolor": "white",
           "linecolor": "white",
           "ticks": "",
           "title": {
            "standoff": 15
           },
           "zerolinecolor": "white",
           "zerolinewidth": 2
          }
         }
        },
        "title": {
         "text": "GPA por Nivel de educación de los padres"
        },
        "xaxis": {
         "anchor": "y",
         "domain": [
          0,
          1
         ],
         "title": {
          "text": "GPA"
         }
        },
        "yaxis": {
         "anchor": "x",
         "domain": [
          0,
          1
         ],
         "title": {
          "text": "parental level of education"
         }
        }
       }
      },
      "text/html": [
       "<div>                            <div id=\"1dc100af-3a04-4b5b-bafd-2c0eeff01930\" class=\"plotly-graph-div\" style=\"height:525px; width:100%;\"></div>            <script type=\"text/javascript\">                require([\"plotly\"], function(Plotly) {                    window.PLOTLYENV=window.PLOTLYENV || {};                                    if (document.getElementById(\"1dc100af-3a04-4b5b-bafd-2c0eeff01930\")) {                    Plotly.newPlot(                        \"1dc100af-3a04-4b5b-bafd-2c0eeff01930\",                        [{\"customdata\":[[\"female\"],[\"female\"],[\"male\"],[\"male\"],[\"male\"],[\"female\"],[\"female\"],[\"female\"],[\"female\"],[\"male\"],[\"male\"],[\"female\"],[\"female\"],[\"female\"],[\"male\"],[\"female\"],[\"female\"],[\"male\"],[\"female\"],[\"male\"],[\"male\"],[\"male\"],[\"female\"],[\"male\"],[\"male\"],[\"male\"],[\"male\"],[\"male\"],[\"female\"],[\"male\"],[\"female\"],[\"female\"],[\"female\"],[\"female\"],[\"male\"],[\"male\"],[\"female\"],[\"male\"],[\"female\"],[\"female\"],[\"male\"],[\"female\"],[\"male\"],[\"female\"],[\"male\"],[\"male\"],[\"male\"],[\"male\"],[\"female\"],[\"male\"],[\"male\"],[\"female\"],[\"male\"],[\"male\"],[\"male\"],[\"male\"],[\"male\"],[\"male\"],[\"male\"],[\"male\"],[\"female\"],[\"male\"],[\"male\"],[\"male\"],[\"male\"],[\"male\"],[\"male\"],[\"male\"],[\"male\"],[\"male\"],[\"female\"],[\"male\"],[\"male\"],[\"female\"],[\"male\"],[\"male\"],[\"female\"],[\"male\"],[\"male\"],[\"male\"],[\"male\"],[\"female\"],[\"male\"],[\"male\"],[\"female\"],[\"male\"],[\"female\"],[\"female\"],[\"male\"],[\"female\"],[\"male\"],[\"male\"],[\"male\"],[\"female\"],[\"male\"],[\"female\"],[\"male\"],[\"female\"],[\"male\"],[\"male\"],[\"male\"],[\"male\"],[\"female\"],[\"female\"],[\"male\"],[\"male\"],[\"male\"],[\"female\"],[\"male\"],[\"male\"],[\"female\"],[\"female\"],[\"male\"],[\"female\"],[\"female\"],[\"male\"],[\"male\"],[\"male\"],[\"male\"],[\"female\"],[\"female\"],[\"female\"],[\"male\"],[\"male\"],[\"male\"],[\"male\"],[\"male\"],[\"female\"],[\"male\"],[\"female\"],[\"female\"],[\"female\"],[\"female\"],[\"male\"],[\"female\"],[\"male\"],[\"female\"],[\"female\"],[\"female\"],[\"male\"],[\"female\"],[\"male\"],[\"female\"],[\"male\"],[\"male\"],[\"female\"],[\"female\"],[\"male\"],[\"female\"],[\"female\"],[\"male\"],[\"female\"],[\"male\"],[\"female\"],[\"male\"],[\"female\"],[\"male\"],[\"male\"],[\"male\"],[\"female\"],[\"male\"],[\"male\"],[\"male\"],[\"female\"],[\"male\"],[\"male\"],[\"female\"],[\"female\"],[\"male\"],[\"male\"],[\"male\"],[\"female\"],[\"male\"],[\"male\"],[\"female\"],[\"male\"]],\"hovertemplate\":\"GPA cuantiles=Bajisimo<br>GPA=%{x}<br>parental level of education=%{y}<br>gender=%{customdata[0]}<extra></extra>\",\"legendgroup\":\"Bajisimo\",\"marker\":{\"color\":\"tomato\",\"symbol\":\"circle\"},\"mode\":\"markers\",\"name\":\"Bajisimo\",\"orientation\":\"h\",\"showlegend\":true,\"type\":\"scatter\",\"x\":[1.54,2.1,2.3800000000000003,2.4,2.56,2.56,2.7600000000000002,2.78,2.78,2.7999999999999994,2.84,2.86,2.8800000000000003,2.9,2.94,3.06,3.08,3.2399999999999998,3.2600000000000002,3.28,3.2999999999999994,3.3200000000000003,3.34,3.36,3.3799999999999994,3.3800000000000003,3.4,3.44,3.44,3.4599999999999995,3.4599999999999995,3.48,3.5400000000000005,3.5799999999999996,3.5999999999999996,3.6,3.6,3.6,3.64,3.64,3.66,3.6799999999999997,3.6799999999999997,3.6799999999999997,3.6799999999999997,3.6999999999999997,3.72,3.72,3.7399999999999998,3.76,3.76,3.76,3.78,3.78,3.78,3.78,3.78,3.7999999999999994,3.7999999999999994,3.8000000000000003,3.8000000000000003,3.82,3.84,3.84,3.86,3.86,3.8799999999999994,3.8800000000000003,3.8800000000000003,3.8800000000000003,3.9,3.9,3.9,3.9000000000000004,3.9199999999999995,3.92,3.92,3.9200000000000004,3.94,3.94,3.94,3.94,3.9599999999999995,3.9599999999999995,3.9600000000000004,3.98,4.0,4.0,4.0,4.0,4.02,4.02,4.02,4.0200000000000005,4.0200000000000005,4.0200000000000005,4.0200000000000005,4.04,4.04,4.04,4.06,4.06,4.06,4.06,4.0600000000000005,4.079999999999999,4.08,4.08,4.08,4.08,4.080000000000001,4.1,4.1,4.1,4.1,4.1000000000000005,4.1000000000000005,4.1000000000000005,4.1000000000000005,4.1000000000000005,4.12,4.12,4.12,4.12,4.14,4.14,4.14,4.140000000000001,4.16,4.16,4.16,4.16,4.16,4.16,4.16,4.18,4.18,4.2,4.2,4.2,4.2,4.22,4.22,4.22,4.22,4.22,4.239999999999999,4.239999999999999,4.239999999999999,4.239999999999999,4.24,4.26,4.260000000000001,4.260000000000001,4.260000000000001,4.28,4.28,4.28,4.28,4.28,4.28,4.28,4.28,4.3,4.300000000000001,4.319999999999999,4.32,4.32,4.32,4.32,4.34,4.34,4.34,4.34,4.34,4.34],\"xaxis\":\"x\",\"y\":[\"some high school\",\"high school\",\"high school\",\"some college\",\"some high school\",\"some high school\",\"high school\",\"some high school\",\"some college\",\"some college\",\"high school\",\"some high school\",\"some college\",\"associate's degree\",\"high school\",\"high school\",\"some high school\",\"some high school\",\"some high school\",\"some college\",\"high school\",\"high school\",\"bachelor's degree\",\"some high school\",\"associate's degree\",\"some high school\",\"some college\",\"some college\",\"some college\",\"associate's degree\",\"high school\",\"some high school\",\"some high school\",\"some high school\",\"some high school\",\"associate's degree\",\"high school\",\"some high school\",\"some high school\",\"high school\",\"associate's degree\",\"some high school\",\"master's degree\",\"high school\",\"high school\",\"associate's degree\",\"high school\",\"associate's degree\",\"high school\",\"associate's degree\",\"associate's degree\",\"associate's degree\",\"some college\",\"high school\",\"high school\",\"some high school\",\"some college\",\"bachelor's degree\",\"bachelor's degree\",\"high school\",\"associate's degree\",\"high school\",\"some college\",\"some high school\",\"high school\",\"associate's degree\",\"some high school\",\"high school\",\"associate's degree\",\"high school\",\"some high school\",\"some high school\",\"bachelor's degree\",\"high school\",\"some high school\",\"some high school\",\"associate's degree\",\"some high school\",\"high school\",\"high school\",\"high school\",\"some high school\",\"associate's degree\",\"associate's degree\",\"bachelor's degree\",\"high school\",\"associate's degree\",\"high school\",\"bachelor's degree\",\"some high school\",\"high school\",\"some college\",\"some college\",\"some college\",\"associate's degree\",\"bachelor's degree\",\"some college\",\"master's degree\",\"some college\",\"some college\",\"some college\",\"some college\",\"some college\",\"master's degree\",\"some college\",\"master's degree\",\"high school\",\"some high school\",\"associate's degree\",\"high school\",\"some college\",\"associate's degree\",\"associate's degree\",\"some high school\",\"master's degree\",\"high school\",\"high school\",\"some high school\",\"associate's degree\",\"associate's degree\",\"some high school\",\"associate's degree\",\"high school\",\"associate's degree\",\"some high school\",\"some college\",\"some college\",\"high school\",\"high school\",\"some high school\",\"high school\",\"high school\",\"high school\",\"high school\",\"associate's degree\",\"associate's degree\",\"associate's degree\",\"associate's degree\",\"associate's degree\",\"some high school\",\"some high school\",\"high school\",\"associate's degree\",\"high school\",\"bachelor's degree\",\"associate's degree\",\"associate's degree\",\"some high school\",\"some high school\",\"some college\",\"high school\",\"high school\",\"some high school\",\"high school\",\"master's degree\",\"high school\",\"associate's degree\",\"some college\",\"high school\",\"associate's degree\",\"high school\",\"some college\",\"bachelor's degree\",\"high school\",\"some college\",\"high school\",\"some high school\",\"bachelor's degree\",\"associate's degree\",\"bachelor's degree\",\"associate's degree\",\"associate's degree\",\"high school\",\"bachelor's degree\",\"high school\",\"associate's degree\"],\"yaxis\":\"y\"},{\"customdata\":[[\"female\"],[\"female\"],[\"male\"],[\"male\"],[\"male\"],[\"female\"],[\"female\"],[\"male\"],[\"male\"],[\"female\"],[\"female\"],[\"male\"],[\"female\"],[\"female\"],[\"female\"],[\"female\"],[\"male\"],[\"female\"],[\"male\"],[\"male\"],[\"male\"],[\"male\"],[\"male\"],[\"male\"],[\"male\"],[\"female\"],[\"male\"],[\"female\"],[\"male\"],[\"female\"],[\"female\"],[\"male\"],[\"male\"],[\"female\"],[\"male\"],[\"male\"],[\"male\"],[\"male\"],[\"male\"],[\"female\"],[\"male\"],[\"female\"],[\"male\"],[\"male\"],[\"male\"],[\"male\"],[\"female\"],[\"female\"],[\"female\"],[\"female\"],[\"female\"],[\"male\"],[\"male\"],[\"female\"],[\"female\"],[\"male\"],[\"male\"],[\"female\"],[\"male\"],[\"male\"],[\"male\"],[\"male\"],[\"female\"],[\"female\"],[\"male\"],[\"female\"],[\"female\"],[\"female\"],[\"female\"],[\"male\"],[\"female\"],[\"male\"],[\"male\"],[\"male\"],[\"female\"],[\"female\"],[\"male\"],[\"female\"],[\"male\"],[\"male\"],[\"male\"],[\"male\"],[\"male\"],[\"female\"],[\"female\"],[\"male\"],[\"male\"],[\"female\"],[\"male\"],[\"male\"],[\"male\"],[\"female\"],[\"male\"],[\"male\"],[\"male\"],[\"male\"],[\"male\"],[\"female\"],[\"female\"],[\"male\"],[\"male\"],[\"female\"],[\"male\"],[\"male\"],[\"female\"],[\"male\"],[\"female\"],[\"male\"],[\"female\"],[\"female\"],[\"female\"],[\"male\"],[\"female\"],[\"male\"],[\"female\"],[\"male\"],[\"female\"],[\"female\"],[\"female\"],[\"male\"],[\"male\"],[\"male\"],[\"male\"],[\"male\"],[\"male\"],[\"female\"],[\"male\"],[\"female\"],[\"female\"],[\"female\"],[\"female\"],[\"male\"],[\"female\"],[\"female\"],[\"male\"],[\"male\"],[\"male\"],[\"female\"],[\"male\"],[\"male\"],[\"male\"],[\"male\"],[\"female\"],[\"male\"],[\"male\"],[\"female\"],[\"female\"],[\"female\"],[\"female\"],[\"female\"],[\"male\"],[\"male\"],[\"male\"],[\"male\"],[\"female\"],[\"male\"],[\"female\"],[\"male\"],[\"female\"],[\"male\"],[\"female\"],[\"male\"],[\"male\"],[\"female\"],[\"female\"],[\"female\"],[\"male\"],[\"female\"],[\"female\"],[\"male\"],[\"female\"],[\"female\"],[\"female\"],[\"female\"],[\"male\"]],\"hovertemplate\":\"GPA cuantiles=Bajo<br>GPA=%{x}<br>parental level of education=%{y}<br>gender=%{customdata[0]}<extra></extra>\",\"legendgroup\":\"Bajo\",\"marker\":{\"color\":\"orange\",\"symbol\":\"circle\"},\"mode\":\"markers\",\"name\":\"Bajo\",\"orientation\":\"h\",\"showlegend\":true,\"type\":\"scatter\",\"x\":[4.359999999999999,4.36,4.36,4.36,4.36,4.36,4.36,4.36,4.36,4.379999999999999,4.38,4.38,4.38,4.38,4.3999999999999995,4.3999999999999995,4.4,4.419999999999999,4.419999999999999,4.42,4.420000000000001,4.44,4.44,4.44,4.44,4.44,4.44,4.44,4.44,4.46,4.46,4.46,4.46,4.46,4.46,4.4799999999999995,4.4799999999999995,4.5,4.5,4.5,4.5,4.5,4.5,4.5,4.52,4.52,4.52,4.52,4.52,4.5200000000000005,4.5200000000000005,4.5200000000000005,4.5200000000000005,4.54,4.54,4.54,4.54,4.54,4.54,4.54,4.54,4.56,4.56,4.56,4.56,4.579999999999999,4.58,4.58,4.580000000000001,4.6,4.6,4.6,4.6,4.6000000000000005,4.6000000000000005,4.6000000000000005,4.619999999999999,4.62,4.62,4.62,4.62,4.64,4.64,4.64,4.64,4.64,4.64,4.64,4.659999999999999,4.659999999999999,4.66,4.66,4.66,4.68,4.68,4.68,4.68,4.68,4.68,4.680000000000001,4.7,4.7,4.7,4.7,4.7,4.7,4.7,4.72,4.72,4.72,4.72,4.72,4.72,4.739999999999999,4.739999999999999,4.739999999999999,4.739999999999999,4.739999999999999,4.74,4.74,4.759999999999999,4.76,4.760000000000001,4.779999999999999,4.78,4.78,4.78,4.78,4.78,4.8,4.8,4.8,4.8,4.819999999999999,4.819999999999999,4.82,4.82,4.82,4.82,4.839999999999999,4.84,4.84,4.84,4.84,4.84,4.84,4.84,4.84,4.859999999999999,4.859999999999999,4.859999999999999,4.859999999999999,4.859999999999999,4.859999999999999,4.859999999999999,4.86,4.86,4.86,4.88,4.88,4.88,4.88,4.88,4.88,4.88,4.88,4.88,4.88,4.88,4.8999999999999995,4.8999999999999995,4.8999999999999995,4.8999999999999995,4.8999999999999995,4.8999999999999995],\"xaxis\":\"x\",\"y\":[\"associate's degree\",\"some college\",\"associate's degree\",\"high school\",\"associate's degree\",\"some college\",\"bachelor's degree\",\"bachelor's degree\",\"high school\",\"bachelor's degree\",\"bachelor's degree\",\"some college\",\"some college\",\"some high school\",\"some high school\",\"high school\",\"associate's degree\",\"some college\",\"associate's degree\",\"high school\",\"high school\",\"high school\",\"some college\",\"some college\",\"associate's degree\",\"master's degree\",\"high school\",\"high school\",\"some high school\",\"associate's degree\",\"some high school\",\"some high school\",\"some high school\",\"associate's degree\",\"some high school\",\"some high school\",\"some high school\",\"some high school\",\"some college\",\"some college\",\"some college\",\"bachelor's degree\",\"associate's degree\",\"some college\",\"high school\",\"high school\",\"associate's degree\",\"some college\",\"some high school\",\"some college\",\"associate's degree\",\"associate's degree\",\"some high school\",\"some high school\",\"some college\",\"associate's degree\",\"some college\",\"master's degree\",\"some college\",\"some high school\",\"some high school\",\"some college\",\"master's degree\",\"some college\",\"associate's degree\",\"high school\",\"high school\",\"some high school\",\"bachelor's degree\",\"some college\",\"high school\",\"some high school\",\"some college\",\"high school\",\"some high school\",\"high school\",\"some college\",\"bachelor's degree\",\"bachelor's degree\",\"high school\",\"some college\",\"some college\",\"bachelor's degree\",\"associate's degree\",\"some high school\",\"some college\",\"some college\",\"master's degree\",\"bachelor's degree\",\"some college\",\"some high school\",\"some college\",\"master's degree\",\"some college\",\"some college\",\"associate's degree\",\"some high school\",\"master's degree\",\"some college\",\"bachelor's degree\",\"high school\",\"some college\",\"some high school\",\"associate's degree\",\"some college\",\"associate's degree\",\"master's degree\",\"bachelor's degree\",\"some high school\",\"high school\",\"associate's degree\",\"some college\",\"bachelor's degree\",\"some college\",\"some college\",\"high school\",\"some high school\",\"high school\",\"high school\",\"some college\",\"high school\",\"high school\",\"bachelor's degree\",\"associate's degree\",\"associate's degree\",\"some college\",\"some college\",\"high school\",\"master's degree\",\"master's degree\",\"associate's degree\",\"some high school\",\"high school\",\"some college\",\"some college\",\"high school\",\"some college\",\"high school\",\"associate's degree\",\"some college\",\"high school\",\"some high school\",\"some high school\",\"bachelor's degree\",\"associate's degree\",\"high school\",\"some college\",\"associate's degree\",\"associate's degree\",\"high school\",\"some high school\",\"bachelor's degree\",\"bachelor's degree\",\"associate's degree\",\"master's degree\",\"some high school\",\"master's degree\",\"associate's degree\",\"associate's degree\",\"some high school\",\"bachelor's degree\",\"high school\",\"associate's degree\",\"associate's degree\",\"associate's degree\",\"some college\",\"master's degree\",\"high school\",\"some college\",\"high school\",\"associate's degree\",\"some college\",\"some college\",\"some college\",\"some college\"],\"yaxis\":\"y\"},{\"customdata\":[[\"male\"],[\"female\"],[\"female\"],[\"male\"],[\"female\"],[\"male\"],[\"male\"],[\"female\"],[\"male\"],[\"female\"],[\"male\"],[\"male\"],[\"male\"],[\"female\"],[\"male\"],[\"female\"],[\"female\"],[\"female\"],[\"female\"],[\"female\"],[\"female\"],[\"male\"],[\"female\"],[\"female\"],[\"female\"],[\"male\"],[\"male\"],[\"female\"],[\"female\"],[\"male\"],[\"male\"],[\"male\"],[\"male\"],[\"female\"],[\"female\"],[\"female\"],[\"female\"],[\"female\"],[\"female\"],[\"male\"],[\"male\"],[\"female\"],[\"female\"],[\"female\"],[\"male\"],[\"female\"],[\"male\"],[\"male\"],[\"male\"],[\"female\"],[\"male\"],[\"female\"],[\"male\"],[\"male\"],[\"male\"],[\"male\"],[\"female\"],[\"female\"],[\"female\"],[\"male\"],[\"female\"],[\"male\"],[\"female\"],[\"male\"],[\"female\"],[\"male\"],[\"male\"],[\"male\"],[\"male\"],[\"female\"],[\"female\"],[\"male\"],[\"male\"],[\"male\"],[\"male\"],[\"male\"],[\"female\"],[\"male\"],[\"female\"],[\"male\"],[\"male\"],[\"female\"],[\"female\"],[\"male\"],[\"female\"],[\"female\"],[\"female\"],[\"female\"],[\"male\"],[\"male\"],[\"male\"],[\"male\"],[\"female\"],[\"male\"],[\"female\"],[\"female\"],[\"female\"],[\"female\"],[\"female\"],[\"male\"],[\"female\"],[\"male\"],[\"male\"],[\"male\"],[\"female\"],[\"male\"],[\"female\"],[\"female\"],[\"female\"],[\"female\"],[\"male\"],[\"male\"],[\"male\"],[\"male\"],[\"male\"],[\"female\"],[\"male\"],[\"female\"],[\"male\"],[\"female\"],[\"male\"],[\"male\"],[\"male\"],[\"male\"],[\"female\"],[\"female\"],[\"male\"],[\"male\"],[\"female\"],[\"female\"],[\"female\"],[\"female\"],[\"female\"],[\"male\"],[\"female\"],[\"female\"],[\"male\"],[\"female\"],[\"female\"],[\"female\"],[\"male\"],[\"male\"],[\"female\"],[\"female\"],[\"female\"],[\"male\"],[\"female\"],[\"male\"],[\"male\"],[\"female\"],[\"male\"],[\"male\"],[\"female\"],[\"female\"],[\"female\"],[\"male\"],[\"female\"],[\"female\"],[\"male\"],[\"female\"],[\"female\"],[\"male\"],[\"male\"],[\"male\"],[\"male\"],[\"female\"],[\"female\"],[\"male\"],[\"female\"],[\"male\"],[\"male\"],[\"male\"],[\"female\"],[\"male\"],[\"female\"],[\"female\"]],\"hovertemplate\":\"GPA cuantiles=Medio<br>GPA=%{x}<br>parental level of education=%{y}<br>gender=%{customdata[0]}<extra></extra>\",\"legendgroup\":\"Medio\",\"marker\":{\"color\":\"yellow\",\"symbol\":\"circle\"},\"mode\":\"markers\",\"name\":\"Medio\",\"orientation\":\"h\",\"showlegend\":true,\"type\":\"scatter\",\"x\":[4.9,4.9,4.919999999999999,4.919999999999999,4.919999999999999,4.92,4.92,4.92,4.92,4.92,4.92,4.9399999999999995,4.9399999999999995,4.9399999999999995,4.94,4.94,4.94,4.94,4.96,4.96,4.96,4.96,4.96,4.96,4.96,4.96,4.96,4.9799999999999995,4.9799999999999995,4.9799999999999995,4.9799999999999995,4.9799999999999995,5.0,5.0,5.0,5.0,5.0,5.0,5.0,5.02,5.02,5.02,5.02,5.02,5.02,5.02,5.02,5.04,5.04,5.04,5.04,5.06,5.06,5.06,5.06,5.06,5.06,5.06,5.079999999999999,5.079999999999999,5.079999999999999,5.079999999999999,5.079999999999999,5.08,5.08,5.08,5.08,5.080000000000001,5.080000000000001,5.080000000000001,5.1,5.1,5.1,5.1000000000000005,5.1000000000000005,5.1000000000000005,5.1000000000000005,5.1000000000000005,5.1000000000000005,5.1000000000000005,5.119999999999999,5.119999999999999,5.12,5.12,5.12,5.12,5.12,5.12,5.12,5.12,5.12,5.12,5.14,5.14,5.14,5.14,5.14,5.14,5.14,5.14,5.14,5.140000000000001,5.140000000000001,5.159999999999999,5.159999999999999,5.159999999999999,5.159999999999999,5.159999999999999,5.16,5.16,5.16,5.16,5.16,5.18,5.18,5.18,5.18,5.180000000000001,5.199999999999999,5.199999999999999,5.2,5.2,5.2,5.2,5.2,5.2,5.2,5.2,5.2,5.2,5.22,5.22,5.22,5.22,5.22,5.22,5.22,5.22,5.239999999999999,5.239999999999999,5.24,5.24,5.259999999999999,5.259999999999999,5.259999999999999,5.26,5.26,5.26,5.26,5.26,5.260000000000001,5.260000000000001,5.260000000000001,5.279999999999999,5.28,5.28,5.28,5.28,5.28,5.28,5.28,5.28,5.28,5.3,5.3,5.3,5.3,5.3,5.3,5.3,5.3,5.319999999999999,5.319999999999999,5.319999999999999,5.319999999999999,5.319999999999999],\"xaxis\":\"x\",\"y\":[\"high school\",\"high school\",\"some college\",\"bachelor's degree\",\"some college\",\"some high school\",\"bachelor's degree\",\"high school\",\"some college\",\"some high school\",\"some high school\",\"associate's degree\",\"some high school\",\"high school\",\"some college\",\"high school\",\"some college\",\"high school\",\"associate's degree\",\"high school\",\"bachelor's degree\",\"high school\",\"high school\",\"associate's degree\",\"some high school\",\"high school\",\"some high school\",\"associate's degree\",\"high school\",\"bachelor's degree\",\"some high school\",\"associate's degree\",\"bachelor's degree\",\"some high school\",\"high school\",\"associate's degree\",\"some college\",\"associate's degree\",\"some college\",\"some college\",\"some college\",\"some high school\",\"high school\",\"bachelor's degree\",\"some college\",\"high school\",\"some high school\",\"high school\",\"associate's degree\",\"bachelor's degree\",\"some high school\",\"some high school\",\"some college\",\"bachelor's degree\",\"high school\",\"bachelor's degree\",\"high school\",\"bachelor's degree\",\"associate's degree\",\"bachelor's degree\",\"some college\",\"bachelor's degree\",\"associate's degree\",\"high school\",\"some high school\",\"some high school\",\"high school\",\"high school\",\"high school\",\"some college\",\"associate's degree\",\"some high school\",\"master's degree\",\"some high school\",\"high school\",\"some college\",\"some college\",\"high school\",\"high school\",\"associate's degree\",\"associate's degree\",\"high school\",\"some college\",\"associate's degree\",\"some high school\",\"some college\",\"associate's degree\",\"associate's degree\",\"associate's degree\",\"some college\",\"high school\",\"bachelor's degree\",\"bachelor's degree\",\"associate's degree\",\"some college\",\"associate's degree\",\"some high school\",\"master's degree\",\"bachelor's degree\",\"some high school\",\"associate's degree\",\"high school\",\"associate's degree\",\"some high school\",\"bachelor's degree\",\"some high school\",\"high school\",\"some college\",\"associate's degree\",\"high school\",\"associate's degree\",\"some college\",\"some college\",\"high school\",\"some high school\",\"associate's degree\",\"high school\",\"associate's degree\",\"some college\",\"some high school\",\"bachelor's degree\",\"master's degree\",\"some high school\",\"some college\",\"master's degree\",\"some college\",\"high school\",\"high school\",\"high school\",\"high school\",\"bachelor's degree\",\"some college\",\"bachelor's degree\",\"some college\",\"associate's degree\",\"bachelor's degree\",\"high school\",\"some high school\",\"master's degree\",\"some college\",\"bachelor's degree\",\"high school\",\"high school\",\"some college\",\"some college\",\"some college\",\"some college\",\"bachelor's degree\",\"associate's degree\",\"high school\",\"high school\",\"high school\",\"bachelor's degree\",\"associate's degree\",\"some high school\",\"associate's degree\",\"associate's degree\",\"bachelor's degree\",\"associate's degree\",\"associate's degree\",\"bachelor's degree\",\"associate's degree\",\"some high school\",\"associate's degree\",\"high school\",\"some high school\",\"master's degree\",\"high school\",\"some college\",\"high school\",\"some high school\",\"bachelor's degree\",\"associate's degree\",\"some college\",\"associate's degree\",\"associate's degree\"],\"yaxis\":\"y\"},{\"customdata\":[[\"female\"],[\"female\"],[\"male\"],[\"female\"],[\"female\"],[\"female\"],[\"female\"],[\"female\"],[\"female\"],[\"male\"],[\"female\"],[\"female\"],[\"female\"],[\"female\"],[\"female\"],[\"male\"],[\"male\"],[\"female\"],[\"female\"],[\"male\"],[\"male\"],[\"female\"],[\"female\"],[\"female\"],[\"female\"],[\"female\"],[\"male\"],[\"male\"],[\"male\"],[\"female\"],[\"male\"],[\"male\"],[\"male\"],[\"male\"],[\"male\"],[\"female\"],[\"female\"],[\"male\"],[\"male\"],[\"male\"],[\"female\"],[\"female\"],[\"male\"],[\"female\"],[\"male\"],[\"female\"],[\"female\"],[\"female\"],[\"male\"],[\"female\"],[\"male\"],[\"female\"],[\"female\"],[\"female\"],[\"female\"],[\"female\"],[\"female\"],[\"female\"],[\"female\"],[\"male\"],[\"female\"],[\"female\"],[\"female\"],[\"female\"],[\"male\"],[\"male\"],[\"female\"],[\"male\"],[\"male\"],[\"male\"],[\"female\"],[\"male\"],[\"female\"],[\"female\"],[\"female\"],[\"male\"],[\"female\"],[\"female\"],[\"male\"],[\"female\"],[\"male\"],[\"male\"],[\"female\"],[\"female\"],[\"male\"],[\"female\"],[\"female\"],[\"female\"],[\"male\"],[\"female\"],[\"female\"],[\"female\"],[\"female\"],[\"male\"],[\"female\"],[\"male\"],[\"female\"],[\"female\"],[\"female\"],[\"male\"],[\"female\"],[\"female\"],[\"female\"],[\"female\"],[\"male\"],[\"male\"],[\"male\"],[\"female\"],[\"female\"],[\"male\"],[\"male\"],[\"female\"],[\"female\"],[\"female\"],[\"female\"],[\"female\"],[\"male\"],[\"female\"],[\"female\"],[\"female\"],[\"female\"],[\"female\"],[\"female\"],[\"male\"],[\"female\"],[\"male\"],[\"male\"],[\"male\"],[\"female\"],[\"female\"],[\"female\"],[\"male\"],[\"female\"],[\"male\"],[\"female\"],[\"male\"],[\"male\"],[\"male\"],[\"male\"],[\"male\"],[\"male\"],[\"female\"],[\"male\"],[\"female\"],[\"female\"],[\"female\"],[\"female\"],[\"female\"],[\"male\"],[\"female\"],[\"female\"],[\"female\"],[\"female\"],[\"female\"],[\"female\"],[\"female\"],[\"male\"],[\"female\"],[\"male\"],[\"male\"],[\"male\"],[\"female\"],[\"female\"],[\"male\"],[\"female\"],[\"female\"],[\"male\"],[\"male\"],[\"male\"],[\"female\"],[\"male\"],[\"male\"],[\"male\"],[\"female\"],[\"male\"],[\"female\"]],\"hovertemplate\":\"GPA cuantiles=Alto<br>GPA=%{x}<br>parental level of education=%{y}<br>gender=%{customdata[0]}<extra></extra>\",\"legendgroup\":\"Alto\",\"marker\":{\"color\":\"greenyellow\",\"symbol\":\"circle\"},\"mode\":\"markers\",\"name\":\"Alto\",\"orientation\":\"h\",\"showlegend\":true,\"type\":\"scatter\",\"x\":[5.32,5.32,5.32,5.32,5.339999999999999,5.34,5.34,5.34,5.34,5.34,5.359999999999999,5.359999999999999,5.359999999999999,5.359999999999999,5.359999999999999,5.359999999999999,5.359999999999999,5.359999999999999,5.36,5.38,5.38,5.38,5.38,5.38,5.38,5.38,5.38,5.38,5.38,5.38,5.38,5.3999999999999995,5.3999999999999995,5.3999999999999995,5.3999999999999995,5.3999999999999995,5.3999999999999995,5.3999999999999995,5.3999999999999995,5.400000000000001,5.419999999999999,5.419999999999999,5.419999999999999,5.419999999999999,5.419999999999999,5.44,5.44,5.44,5.44,5.44,5.44,5.46,5.46,5.46,5.46,5.46,5.46,5.46,5.46,5.46,5.46,5.4799999999999995,5.4799999999999995,5.4799999999999995,5.4799999999999995,5.4799999999999995,5.48,5.48,5.5,5.5,5.5,5.5,5.5,5.5,5.5,5.5,5.5,5.52,5.52,5.52,5.52,5.52,5.52,5.539999999999999,5.539999999999999,5.539999999999999,5.539999999999999,5.539999999999999,5.539999999999999,5.539999999999999,5.54,5.54,5.56,5.56,5.56,5.56,5.56,5.56,5.56,5.56,5.56,5.579999999999999,5.579999999999999,5.579999999999999,5.579999999999999,5.579999999999999,5.579999999999999,5.6000000000000005,5.6000000000000005,5.6000000000000005,5.6000000000000005,5.62,5.62,5.62,5.62,5.62,5.62,5.64,5.64,5.64,5.64,5.64,5.64,5.64,5.640000000000001,5.640000000000001,5.640000000000001,5.640000000000001,5.66,5.66,5.66,5.66,5.68,5.68,5.68,5.68,5.68,5.68,5.68,5.68,5.7,5.7,5.7,5.7,5.7,5.7,5.7,5.7,5.719999999999999,5.72,5.72,5.72,5.72,5.72,5.72,5.739999999999999,5.739999999999999,5.739999999999999,5.739999999999999,5.739999999999999,5.739999999999999,5.739999999999999,5.759999999999999,5.760000000000001,5.760000000000001,5.760000000000001,5.760000000000001,5.760000000000001,5.760000000000001,5.760000000000001,5.7799999999999985,5.78,5.78,5.78,5.78,5.78],\"xaxis\":\"x\",\"y\":[\"some high school\",\"associate's degree\",\"some college\",\"some high school\",\"some college\",\"associate's degree\",\"some college\",\"some college\",\"associate's degree\",\"high school\",\"some college\",\"associate's degree\",\"bachelor's degree\",\"some college\",\"some high school\",\"some high school\",\"master's degree\",\"high school\",\"high school\",\"some high school\",\"bachelor's degree\",\"some high school\",\"high school\",\"bachelor's degree\",\"bachelor's degree\",\"high school\",\"high school\",\"master's degree\",\"some college\",\"high school\",\"some college\",\"some college\",\"master's degree\",\"some high school\",\"associate's degree\",\"some high school\",\"some high school\",\"some college\",\"associate's degree\",\"some high school\",\"some college\",\"bachelor's degree\",\"high school\",\"bachelor's degree\",\"high school\",\"some high school\",\"some high school\",\"some college\",\"bachelor's degree\",\"some college\",\"bachelor's degree\",\"some college\",\"associate's degree\",\"some college\",\"high school\",\"some college\",\"some college\",\"some college\",\"some college\",\"associate's degree\",\"some college\",\"high school\",\"high school\",\"high school\",\"some college\",\"associate's degree\",\"some high school\",\"associate's degree\",\"bachelor's degree\",\"associate's degree\",\"bachelor's degree\",\"associate's degree\",\"some high school\",\"some high school\",\"associate's degree\",\"bachelor's degree\",\"associate's degree\",\"high school\",\"high school\",\"associate's degree\",\"associate's degree\",\"some college\",\"some college\",\"some college\",\"some college\",\"some college\",\"associate's degree\",\"master's degree\",\"high school\",\"bachelor's degree\",\"associate's degree\",\"high school\",\"some high school\",\"some college\",\"some high school\",\"associate's degree\",\"associate's degree\",\"high school\",\"some college\",\"bachelor's degree\",\"some high school\",\"high school\",\"associate's degree\",\"some college\",\"some college\",\"some high school\",\"some high school\",\"high school\",\"bachelor's degree\",\"associate's degree\",\"some high school\",\"some high school\",\"some high school\",\"some college\",\"some high school\",\"some high school\",\"some college\",\"bachelor's degree\",\"associate's degree\",\"associate's degree\",\"associate's degree\",\"associate's degree\",\"some college\",\"some high school\",\"some high school\",\"associate's degree\",\"associate's degree\",\"associate's degree\",\"some college\",\"bachelor's degree\",\"associate's degree\",\"associate's degree\",\"some college\",\"master's degree\",\"associate's degree\",\"associate's degree\",\"some high school\",\"high school\",\"associate's degree\",\"bachelor's degree\",\"high school\",\"master's degree\",\"high school\",\"some college\",\"some college\",\"some college\",\"high school\",\"associate's degree\",\"some college\",\"some high school\",\"bachelor's degree\",\"high school\",\"some high school\",\"bachelor's degree\",\"some college\",\"some college\",\"high school\",\"associate's degree\",\"some high school\",\"some high school\",\"associate's degree\",\"associate's degree\",\"associate's degree\",\"some high school\",\"associate's degree\",\"master's degree\",\"high school\",\"master's degree\",\"some college\",\"some high school\",\"associate's degree\",\"bachelor's degree\",\"bachelor's degree\",\"bachelor's degree\",\"some college\",\"bachelor's degree\"],\"yaxis\":\"y\"},{\"customdata\":[[\"female\"],[\"female\"],[\"female\"],[\"male\"],[\"male\"],[\"female\"],[\"male\"],[\"male\"],[\"male\"],[\"male\"],[\"female\"],[\"male\"],[\"female\"],[\"female\"],[\"female\"],[\"male\"],[\"male\"],[\"male\"],[\"male\"],[\"female\"],[\"male\"],[\"male\"],[\"male\"],[\"male\"],[\"male\"],[\"male\"],[\"female\"],[\"female\"],[\"female\"],[\"male\"],[\"female\"],[\"male\"],[\"female\"],[\"male\"],[\"female\"],[\"male\"],[\"male\"],[\"female\"],[\"female\"],[\"female\"],[\"male\"],[\"female\"],[\"male\"],[\"female\"],[\"male\"],[\"female\"],[\"male\"],[\"male\"],[\"female\"],[\"male\"],[\"female\"],[\"female\"],[\"female\"],[\"female\"],[\"female\"],[\"male\"],[\"male\"],[\"male\"],[\"male\"],[\"female\"],[\"female\"],[\"male\"],[\"male\"],[\"female\"],[\"male\"],[\"female\"],[\"female\"],[\"female\"],[\"female\"],[\"female\"],[\"female\"],[\"male\"],[\"male\"],[\"male\"],[\"male\"],[\"male\"],[\"female\"],[\"female\"],[\"female\"],[\"male\"],[\"female\"],[\"female\"],[\"female\"],[\"male\"],[\"female\"],[\"female\"],[\"male\"],[\"male\"],[\"male\"],[\"female\"],[\"male\"],[\"male\"],[\"male\"],[\"female\"],[\"female\"],[\"male\"],[\"male\"],[\"female\"],[\"female\"],[\"female\"],[\"male\"],[\"male\"],[\"female\"],[\"female\"],[\"male\"],[\"male\"],[\"female\"],[\"female\"],[\"female\"],[\"female\"],[\"female\"],[\"male\"],[\"female\"],[\"female\"],[\"female\"],[\"female\"],[\"male\"],[\"male\"],[\"male\"],[\"male\"],[\"female\"],[\"male\"],[\"female\"],[\"female\"],[\"female\"],[\"female\"],[\"female\"],[\"female\"],[\"female\"],[\"female\"],[\"female\"],[\"female\"],[\"male\"],[\"female\"],[\"female\"],[\"male\"],[\"male\"],[\"female\"],[\"female\"],[\"male\"],[\"female\"],[\"female\"],[\"female\"],[\"male\"],[\"female\"],[\"male\"],[\"female\"],[\"female\"],[\"male\"],[\"female\"],[\"male\"],[\"female\"],[\"male\"],[\"female\"],[\"female\"],[\"female\"],[\"female\"],[\"female\"],[\"female\"],[\"female\"],[\"female\"],[\"male\"],[\"female\"],[\"female\"],[\"female\"],[\"male\"],[\"female\"],[\"female\"],[\"female\"],[\"female\"],[\"male\"],[\"female\"]],\"hovertemplate\":\"GPA cuantiles=Muy alto<br>GPA=%{x}<br>parental level of education=%{y}<br>gender=%{customdata[0]}<extra></extra>\",\"legendgroup\":\"Muy alto\",\"marker\":{\"color\":\"green\",\"symbol\":\"circle\"},\"mode\":\"markers\",\"name\":\"Muy alto\",\"orientation\":\"h\",\"showlegend\":true,\"type\":\"scatter\",\"x\":[5.8,5.8,5.8,5.819999999999999,5.82,5.82,5.82,5.82,5.82,5.82,5.84,5.84,5.84,5.84,5.84,5.84,5.84,5.859999999999999,5.88,5.88,5.88,5.88,5.8999999999999995,5.8999999999999995,5.8999999999999995,5.919999999999999,5.919999999999999,5.94,5.94,5.94,5.94,5.94,5.94,5.94,5.94,5.94,5.94,5.94,5.96,5.96,5.96,5.96,5.960000000000001,5.9799999999999995,5.9799999999999995,5.9799999999999995,5.9799999999999995,5.9799999999999995,5.9799999999999995,5.9799999999999995,5.98,5.98,6.0,6.0,6.0,6.0,6.0,6.02,6.0200000000000005,6.039999999999999,6.039999999999999,6.039999999999999,6.039999999999999,6.039999999999999,6.039999999999999,6.039999999999999,6.039999999999999,6.06,6.06,6.080000000000001,6.080000000000001,6.099999999999999,6.099999999999999,6.1000000000000005,6.1000000000000005,6.12,6.12,6.12,6.14,6.14,6.140000000000001,6.140000000000001,6.140000000000001,6.140000000000001,6.159999999999999,6.16,6.16,6.16,6.18,6.18,6.18,6.18,6.199999999999999,6.2,6.2,6.219999999999999,6.219999999999999,6.219999999999999,6.22,6.22,6.239999999999999,6.239999999999999,6.239999999999999,6.239999999999999,6.259999999999999,6.260000000000001,6.28,6.28,6.3,6.3,6.3,6.3,6.3,6.32,6.32,6.32,6.32,6.32,6.339999999999999,6.34,6.34,6.34,6.359999999999999,6.359999999999999,6.359999999999999,6.359999999999999,6.38,6.38,6.3999999999999995,6.419999999999999,6.419999999999999,6.419999999999999,6.44,6.46,6.4799999999999995,6.4799999999999995,6.5,6.5,6.5,6.5,6.5,6.52,6.54,6.56,6.56,6.56,6.6000000000000005,6.6000000000000005,6.62,6.64,6.64,6.64,6.640000000000001,6.739999999999999,6.760000000000001,6.78,6.78,6.8,6.82,6.82,6.84,6.859999999999999,6.859999999999999,6.859999999999999,6.919999999999999,6.919999999999999,6.94,6.94,6.9799999999999995,7.0,7.0,7.0],\"xaxis\":\"x\",\"y\":[\"some college\",\"high school\",\"high school\",\"some college\",\"high school\",\"some high school\",\"some high school\",\"associate's degree\",\"some high school\",\"associate's degree\",\"some high school\",\"high school\",\"bachelor's degree\",\"some high school\",\"bachelor's degree\",\"some high school\",\"some college\",\"associate's degree\",\"associate's degree\",\"some high school\",\"high school\",\"associate's degree\",\"some high school\",\"associate's degree\",\"some college\",\"master's degree\",\"bachelor's degree\",\"some college\",\"some college\",\"some high school\",\"associate's degree\",\"high school\",\"some college\",\"some high school\",\"high school\",\"some college\",\"some high school\",\"some college\",\"high school\",\"high school\",\"some high school\",\"some college\",\"high school\",\"bachelor's degree\",\"bachelor's degree\",\"bachelor's degree\",\"some college\",\"bachelor's degree\",\"high school\",\"associate's degree\",\"some college\",\"associate's degree\",\"some high school\",\"master's degree\",\"high school\",\"some high school\",\"some high school\",\"some college\",\"bachelor's degree\",\"associate's degree\",\"some high school\",\"some college\",\"some college\",\"some high school\",\"associate's degree\",\"some high school\",\"bachelor's degree\",\"associate's degree\",\"associate's degree\",\"some college\",\"some college\",\"high school\",\"master's degree\",\"bachelor's degree\",\"associate's degree\",\"associate's degree\",\"some college\",\"some high school\",\"associate's degree\",\"some high school\",\"associate's degree\",\"some college\",\"bachelor's degree\",\"some college\",\"associate's degree\",\"some college\",\"master's degree\",\"bachelor's degree\",\"master's degree\",\"master's degree\",\"high school\",\"some high school\",\"some high school\",\"bachelor's degree\",\"some high school\",\"associate's degree\",\"master's degree\",\"bachelor's degree\",\"associate's degree\",\"associate's degree\",\"associate's degree\",\"associate's degree\",\"some college\",\"associate's degree\",\"master's degree\",\"high school\",\"associate's degree\",\"master's degree\",\"bachelor's degree\",\"some college\",\"associate's degree\",\"bachelor's degree\",\"master's degree\",\"bachelor's degree\",\"some college\",\"associate's degree\",\"some college\",\"some college\",\"associate's degree\",\"some college\",\"some high school\",\"some high school\",\"associate's degree\",\"high school\",\"associate's degree\",\"master's degree\",\"associate's degree\",\"some college\",\"some high school\",\"associate's degree\",\"associate's degree\",\"bachelor's degree\",\"associate's degree\",\"associate's degree\",\"some high school\",\"some college\",\"associate's degree\",\"some college\",\"associate's degree\",\"associate's degree\",\"some college\",\"associate's degree\",\"some college\",\"bachelor's degree\",\"master's degree\",\"some college\",\"associate's degree\",\"master's degree\",\"associate's degree\",\"master's degree\",\"associate's degree\",\"high school\",\"some college\",\"high school\",\"associate's degree\",\"some college\",\"bachelor's degree\",\"bachelor's degree\",\"associate's degree\",\"bachelor's degree\",\"master's degree\",\"associate's degree\",\"master's degree\",\"bachelor's degree\",\"bachelor's degree\",\"some college\",\"some college\",\"some high school\",\"bachelor's degree\",\"associate's degree\",\"bachelor's degree\",\"bachelor's degree\"],\"yaxis\":\"y\"}],                        {\"legend\":{\"title\":{\"text\":\"GPA cuantiles\"},\"tracegroupgap\":0},\"template\":{\"data\":{\"bar\":[{\"error_x\":{\"color\":\"#2a3f5f\"},\"error_y\":{\"color\":\"#2a3f5f\"},\"marker\":{\"line\":{\"color\":\"#E5ECF6\",\"width\":0.5},\"pattern\":{\"fillmode\":\"overlay\",\"size\":10,\"solidity\":0.2}},\"type\":\"bar\"}],\"barpolar\":[{\"marker\":{\"line\":{\"color\":\"#E5ECF6\",\"width\":0.5},\"pattern\":{\"fillmode\":\"overlay\",\"size\":10,\"solidity\":0.2}},\"type\":\"barpolar\"}],\"carpet\":[{\"aaxis\":{\"endlinecolor\":\"#2a3f5f\",\"gridcolor\":\"white\",\"linecolor\":\"white\",\"minorgridcolor\":\"white\",\"startlinecolor\":\"#2a3f5f\"},\"baxis\":{\"endlinecolor\":\"#2a3f5f\",\"gridcolor\":\"white\",\"linecolor\":\"white\",\"minorgridcolor\":\"white\",\"startlinecolor\":\"#2a3f5f\"},\"type\":\"carpet\"}],\"choropleth\":[{\"colorbar\":{\"outlinewidth\":0,\"ticks\":\"\"},\"type\":\"choropleth\"}],\"contour\":[{\"colorbar\":{\"outlinewidth\":0,\"ticks\":\"\"},\"colorscale\":[[0.0,\"#0d0887\"],[0.1111111111111111,\"#46039f\"],[0.2222222222222222,\"#7201a8\"],[0.3333333333333333,\"#9c179e\"],[0.4444444444444444,\"#bd3786\"],[0.5555555555555556,\"#d8576b\"],[0.6666666666666666,\"#ed7953\"],[0.7777777777777778,\"#fb9f3a\"],[0.8888888888888888,\"#fdca26\"],[1.0,\"#f0f921\"]],\"type\":\"contour\"}],\"contourcarpet\":[{\"colorbar\":{\"outlinewidth\":0,\"ticks\":\"\"},\"type\":\"contourcarpet\"}],\"heatmap\":[{\"colorbar\":{\"outlinewidth\":0,\"ticks\":\"\"},\"colorscale\":[[0.0,\"#0d0887\"],[0.1111111111111111,\"#46039f\"],[0.2222222222222222,\"#7201a8\"],[0.3333333333333333,\"#9c179e\"],[0.4444444444444444,\"#bd3786\"],[0.5555555555555556,\"#d8576b\"],[0.6666666666666666,\"#ed7953\"],[0.7777777777777778,\"#fb9f3a\"],[0.8888888888888888,\"#fdca26\"],[1.0,\"#f0f921\"]],\"type\":\"heatmap\"}],\"heatmapgl\":[{\"colorbar\":{\"outlinewidth\":0,\"ticks\":\"\"},\"colorscale\":[[0.0,\"#0d0887\"],[0.1111111111111111,\"#46039f\"],[0.2222222222222222,\"#7201a8\"],[0.3333333333333333,\"#9c179e\"],[0.4444444444444444,\"#bd3786\"],[0.5555555555555556,\"#d8576b\"],[0.6666666666666666,\"#ed7953\"],[0.7777777777777778,\"#fb9f3a\"],[0.8888888888888888,\"#fdca26\"],[1.0,\"#f0f921\"]],\"type\":\"heatmapgl\"}],\"histogram\":[{\"marker\":{\"pattern\":{\"fillmode\":\"overlay\",\"size\":10,\"solidity\":0.2}},\"type\":\"histogram\"}],\"histogram2d\":[{\"colorbar\":{\"outlinewidth\":0,\"ticks\":\"\"},\"colorscale\":[[0.0,\"#0d0887\"],[0.1111111111111111,\"#46039f\"],[0.2222222222222222,\"#7201a8\"],[0.3333333333333333,\"#9c179e\"],[0.4444444444444444,\"#bd3786\"],[0.5555555555555556,\"#d8576b\"],[0.6666666666666666,\"#ed7953\"],[0.7777777777777778,\"#fb9f3a\"],[0.8888888888888888,\"#fdca26\"],[1.0,\"#f0f921\"]],\"type\":\"histogram2d\"}],\"histogram2dcontour\":[{\"colorbar\":{\"outlinewidth\":0,\"ticks\":\"\"},\"colorscale\":[[0.0,\"#0d0887\"],[0.1111111111111111,\"#46039f\"],[0.2222222222222222,\"#7201a8\"],[0.3333333333333333,\"#9c179e\"],[0.4444444444444444,\"#bd3786\"],[0.5555555555555556,\"#d8576b\"],[0.6666666666666666,\"#ed7953\"],[0.7777777777777778,\"#fb9f3a\"],[0.8888888888888888,\"#fdca26\"],[1.0,\"#f0f921\"]],\"type\":\"histogram2dcontour\"}],\"mesh3d\":[{\"colorbar\":{\"outlinewidth\":0,\"ticks\":\"\"},\"type\":\"mesh3d\"}],\"parcoords\":[{\"line\":{\"colorbar\":{\"outlinewidth\":0,\"ticks\":\"\"}},\"type\":\"parcoords\"}],\"pie\":[{\"automargin\":true,\"type\":\"pie\"}],\"scatter\":[{\"marker\":{\"colorbar\":{\"outlinewidth\":0,\"ticks\":\"\"}},\"type\":\"scatter\"}],\"scatter3d\":[{\"line\":{\"colorbar\":{\"outlinewidth\":0,\"ticks\":\"\"}},\"marker\":{\"colorbar\":{\"outlinewidth\":0,\"ticks\":\"\"}},\"type\":\"scatter3d\"}],\"scattercarpet\":[{\"marker\":{\"colorbar\":{\"outlinewidth\":0,\"ticks\":\"\"}},\"type\":\"scattercarpet\"}],\"scattergeo\":[{\"marker\":{\"colorbar\":{\"outlinewidth\":0,\"ticks\":\"\"}},\"type\":\"scattergeo\"}],\"scattergl\":[{\"marker\":{\"colorbar\":{\"outlinewidth\":0,\"ticks\":\"\"}},\"type\":\"scattergl\"}],\"scattermapbox\":[{\"marker\":{\"colorbar\":{\"outlinewidth\":0,\"ticks\":\"\"}},\"type\":\"scattermapbox\"}],\"scatterpolar\":[{\"marker\":{\"colorbar\":{\"outlinewidth\":0,\"ticks\":\"\"}},\"type\":\"scatterpolar\"}],\"scatterpolargl\":[{\"marker\":{\"colorbar\":{\"outlinewidth\":0,\"ticks\":\"\"}},\"type\":\"scatterpolargl\"}],\"scatterternary\":[{\"marker\":{\"colorbar\":{\"outlinewidth\":0,\"ticks\":\"\"}},\"type\":\"scatterternary\"}],\"surface\":[{\"colorbar\":{\"outlinewidth\":0,\"ticks\":\"\"},\"colorscale\":[[0.0,\"#0d0887\"],[0.1111111111111111,\"#46039f\"],[0.2222222222222222,\"#7201a8\"],[0.3333333333333333,\"#9c179e\"],[0.4444444444444444,\"#bd3786\"],[0.5555555555555556,\"#d8576b\"],[0.6666666666666666,\"#ed7953\"],[0.7777777777777778,\"#fb9f3a\"],[0.8888888888888888,\"#fdca26\"],[1.0,\"#f0f921\"]],\"type\":\"surface\"}],\"table\":[{\"cells\":{\"fill\":{\"color\":\"#EBF0F8\"},\"line\":{\"color\":\"white\"}},\"header\":{\"fill\":{\"color\":\"#C8D4E3\"},\"line\":{\"color\":\"white\"}},\"type\":\"table\"}]},\"layout\":{\"annotationdefaults\":{\"arrowcolor\":\"#2a3f5f\",\"arrowhead\":0,\"arrowwidth\":1},\"autotypenumbers\":\"strict\",\"coloraxis\":{\"colorbar\":{\"outlinewidth\":0,\"ticks\":\"\"}},\"colorscale\":{\"diverging\":[[0,\"#8e0152\"],[0.1,\"#c51b7d\"],[0.2,\"#de77ae\"],[0.3,\"#f1b6da\"],[0.4,\"#fde0ef\"],[0.5,\"#f7f7f7\"],[0.6,\"#e6f5d0\"],[0.7,\"#b8e186\"],[0.8,\"#7fbc41\"],[0.9,\"#4d9221\"],[1,\"#276419\"]],\"sequential\":[[0.0,\"#0d0887\"],[0.1111111111111111,\"#46039f\"],[0.2222222222222222,\"#7201a8\"],[0.3333333333333333,\"#9c179e\"],[0.4444444444444444,\"#bd3786\"],[0.5555555555555556,\"#d8576b\"],[0.6666666666666666,\"#ed7953\"],[0.7777777777777778,\"#fb9f3a\"],[0.8888888888888888,\"#fdca26\"],[1.0,\"#f0f921\"]],\"sequentialminus\":[[0.0,\"#0d0887\"],[0.1111111111111111,\"#46039f\"],[0.2222222222222222,\"#7201a8\"],[0.3333333333333333,\"#9c179e\"],[0.4444444444444444,\"#bd3786\"],[0.5555555555555556,\"#d8576b\"],[0.6666666666666666,\"#ed7953\"],[0.7777777777777778,\"#fb9f3a\"],[0.8888888888888888,\"#fdca26\"],[1.0,\"#f0f921\"]]},\"colorway\":[\"#636efa\",\"#EF553B\",\"#00cc96\",\"#ab63fa\",\"#FFA15A\",\"#19d3f3\",\"#FF6692\",\"#B6E880\",\"#FF97FF\",\"#FECB52\"],\"font\":{\"color\":\"#2a3f5f\"},\"geo\":{\"bgcolor\":\"white\",\"lakecolor\":\"white\",\"landcolor\":\"#E5ECF6\",\"showlakes\":true,\"showland\":true,\"subunitcolor\":\"white\"},\"hoverlabel\":{\"align\":\"left\"},\"hovermode\":\"closest\",\"mapbox\":{\"style\":\"light\"},\"paper_bgcolor\":\"white\",\"plot_bgcolor\":\"#E5ECF6\",\"polar\":{\"angularaxis\":{\"gridcolor\":\"white\",\"linecolor\":\"white\",\"ticks\":\"\"},\"bgcolor\":\"#E5ECF6\",\"radialaxis\":{\"gridcolor\":\"white\",\"linecolor\":\"white\",\"ticks\":\"\"}},\"scene\":{\"xaxis\":{\"backgroundcolor\":\"#E5ECF6\",\"gridcolor\":\"white\",\"gridwidth\":2,\"linecolor\":\"white\",\"showbackground\":true,\"ticks\":\"\",\"zerolinecolor\":\"white\"},\"yaxis\":{\"backgroundcolor\":\"#E5ECF6\",\"gridcolor\":\"white\",\"gridwidth\":2,\"linecolor\":\"white\",\"showbackground\":true,\"ticks\":\"\",\"zerolinecolor\":\"white\"},\"zaxis\":{\"backgroundcolor\":\"#E5ECF6\",\"gridcolor\":\"white\",\"gridwidth\":2,\"linecolor\":\"white\",\"showbackground\":true,\"ticks\":\"\",\"zerolinecolor\":\"white\"}},\"shapedefaults\":{\"line\":{\"color\":\"#2a3f5f\"}},\"ternary\":{\"aaxis\":{\"gridcolor\":\"white\",\"linecolor\":\"white\",\"ticks\":\"\"},\"baxis\":{\"gridcolor\":\"white\",\"linecolor\":\"white\",\"ticks\":\"\"},\"bgcolor\":\"#E5ECF6\",\"caxis\":{\"gridcolor\":\"white\",\"linecolor\":\"white\",\"ticks\":\"\"}},\"title\":{\"x\":0.05},\"xaxis\":{\"automargin\":true,\"gridcolor\":\"white\",\"linecolor\":\"white\",\"ticks\":\"\",\"title\":{\"standoff\":15},\"zerolinecolor\":\"white\",\"zerolinewidth\":2},\"yaxis\":{\"automargin\":true,\"gridcolor\":\"white\",\"linecolor\":\"white\",\"ticks\":\"\",\"title\":{\"standoff\":15},\"zerolinecolor\":\"white\",\"zerolinewidth\":2}}},\"title\":{\"text\":\"GPA por Nivel de educaci\\u00f3n de los padres\"},\"xaxis\":{\"anchor\":\"y\",\"domain\":[0.0,1.0],\"title\":{\"text\":\"GPA\"}},\"yaxis\":{\"anchor\":\"x\",\"domain\":[0.0,1.0],\"title\":{\"text\":\"parental level of education\"}}},                        {\"responsive\": true}                    ).then(function(){\n",
       "                            \n",
       "var gd = document.getElementById('1dc100af-3a04-4b5b-bafd-2c0eeff01930');\n",
       "var x = new MutationObserver(function (mutations, observer) {{\n",
       "        var display = window.getComputedStyle(gd).display;\n",
       "        if (!display || display === 'none') {{\n",
       "            console.log([gd, 'removed!']);\n",
       "            Plotly.purge(gd);\n",
       "            observer.disconnect();\n",
       "        }}\n",
       "}});\n",
       "\n",
       "// Listen for the removal of the full notebook cells\n",
       "var notebookContainer = gd.closest('#notebook-container');\n",
       "if (notebookContainer) {{\n",
       "    x.observe(notebookContainer, {childList: true});\n",
       "}}\n",
       "\n",
       "// Listen for the clearing of the current output cell\n",
       "var outputEl = gd.closest('.output');\n",
       "if (outputEl) {{\n",
       "    x.observe(outputEl, {childList: true});\n",
       "}}\n",
       "\n",
       "                        })                };                });            </script>        </div>"
      ]
     },
     "metadata": {},
     "output_type": "display_data"
    }
   ],
   "source": [
    "# Código para quintiles \n",
    "# La variable que contenga los quintiles debe llamarse GPA cuantiles para que el gráfico funcione.\n",
    "#display(df_grades3['GPA'])\n",
    "df_grades4=df_grades3.loc[:,'GPA']\n",
    "df_grades4=pd.qcut(df_grades4, 5 ,labels=['Bajisimo','Bajo','Medio','Alto' ,'Muy alto'])\n",
    "df_grades4=df_grades4.rename('GPA cuantiles')\n",
    "df_grades5=pd.concat([df_grades3,df_grades4],axis=1)\n",
    "display(df_grades5)\n",
    "\n",
    "\n",
    "# Código de gráfico \n",
    "fig = px.scatter(\n",
    "    df_grades5.sort_values(by=\"GPA\"),\n",
    "    x=\"GPA\",\n",
    "    y=\"parental level of education\",\n",
    "    hover_data=[\"gender\"],\n",
    "    color=\"GPA cuantiles\",\n",
    "    title=\"GPA por Nivel de educación de los padres\",\n",
    "    color_discrete_sequence=[\"tomato\", \"orange\", \"yellow\", \"greenyellow\", \"green\"]\n",
    ")\n",
    "\n",
    "fig\n"
   ]
  },
  {
   "cell_type": "markdown",
   "metadata": {
    "cell_id": "00062-ad093927-5bf2-4f2f-bc1d-55aee96cf311",
    "deepnote_cell_type": "markdown",
    "tags": []
   },
   "source": [
    "```\n",
    "Esta forma de gráfico nos permite obserar ciertas dependencias y tendencias que presenta el data ser, por ejemplo como el nivel educacional de los padres tiene correlación con el quintíl al que pertenece el alumno según su promedio de notas, lo cual es interesante y abre un camino de investigación para adjudicar causalidad a esta correlación. Cabe destacar que el uso de colores permite notar tendencias con facilidad. \n",
    "```"
   ]
  },
  {
   "cell_type": "markdown",
   "metadata": {
    "cell_id": "00063-0d54c0f4-3d67-4c1d-92c0-dcc7882faae0",
    "deepnote_cell_type": "markdown",
    "id": "Rg4ZMq8ezAH6"
   },
   "source": [
    "# Conclusión\n",
    "Eso ha sido todo para el lab de hoy, recuerden que el laboratorio tiene un plazo de entrega de una semana. Cualquier duda del laboratorio, no duden en contactarnos por mail o U-cursos.\n",
    "\n",
    "<p align=\"center\">\n",
    "  <img src=\"https://media1.tenor.com/images/2f7df460196625edc45b8380d158e5ee/tenor.gif?itemid=16669403\">\n",
    "</p>"
   ]
  },
  {
   "cell_type": "markdown",
   "metadata": {
    "cell_id": "00064-230f1ae7-660b-4bae-822a-fee59dada1d1",
    "deepnote_cell_type": "markdown",
    "id": "wCL1lACBzAH7"
   },
   "source": [
    "<br>\n",
    "<center>\n",
    "<img src=\"https://i.kym-cdn.com/photos/images/original/001/194/195/b18.png\" width=100 height=50 />\n",
    "</center>\n",
    "<br>"
   ]
  },
  {
   "cell_type": "markdown",
   "metadata": {
    "created_in_deepnote_cell": true,
    "deepnote_cell_type": "markdown",
    "tags": []
   },
   "source": [
    "<a style='text-decoration:none;line-height:16px;display:flex;color:#5B5B62;padding:10px;justify-content:end;' href='https://deepnote.com?utm_source=created-in-deepnote-cell&projectId=87110296-876e-426f-b91d-aaf681223468' target=\"_blank\">\n",
    "<img alt='Created in deepnote.com' style='display:inline;max-height:16px;margin:0px;margin-right:7.5px;' src='data:image/svg+xml;base64,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' > </img>\n",
    "Created in <span style='font-weight:600;margin-left:4px;'>Deepnote</span></a>"
   ]
  },
  {
   "cell_type": "code",
   "execution_count": null,
   "metadata": {},
   "outputs": [],
   "source": []
  }
 ],
 "metadata": {
  "colab": {
   "collapsed_sections": [],
   "name": "Laboratorio2.ipynb",
   "provenance": [],
   "toc_visible": true
  },
  "deepnote": {},
  "deepnote_execution_queue": [],
  "deepnote_notebook_id": "7ce98c1f-486d-455c-8cea-d01f96f5dab9",
  "kernelspec": {
   "display_name": "Python 3 (ipykernel)",
   "language": "python",
   "name": "python3"
  },
  "language_info": {
   "codemirror_mode": {
    "name": "ipython",
    "version": 3
   },
   "file_extension": ".py",
   "mimetype": "text/x-python",
   "name": "python",
   "nbconvert_exporter": "python",
   "pygments_lexer": "ipython3",
   "version": "3.8.3"
  },
  "toc": {
   "base_numbering": 1,
   "nav_menu": {},
   "number_sections": true,
   "sideBar": true,
   "skip_h1_title": true,
   "title_cell": "Tabla de Contenidos",
   "title_sidebar": "Contenidos",
   "toc_cell": false,
   "toc_position": {
    "height": "calc(100% - 180px)",
    "left": "10px",
    "top": "150px",
    "width": "241.867px"
   },
   "toc_section_display": true,
   "toc_window_display": true
  },
  "varInspector": {
   "cols": {
    "lenName": 16,
    "lenType": 16,
    "lenVar": 40
   },
   "kernels_config": {
    "python": {
     "delete_cmd_postfix": "",
     "delete_cmd_prefix": "del ",
     "library": "var_list.py",
     "varRefreshCmd": "print(var_dic_list())"
    },
    "r": {
     "delete_cmd_postfix": ") ",
     "delete_cmd_prefix": "rm(",
     "library": "var_list.r",
     "varRefreshCmd": "cat(var_dic_list()) "
    }
   },
   "types_to_exclude": [
    "module",
    "function",
    "builtin_function_or_method",
    "instance",
    "_Feature"
   ],
   "window_display": false
  }
 },
 "nbformat": 4,
 "nbformat_minor": 1
}
