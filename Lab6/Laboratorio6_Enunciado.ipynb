{
 "cells": [
  {
   "cell_type": "markdown",
   "metadata": {
    "cell_id": "00000-d883b314-09da-429e-a3a3-57745182fbf1",
    "deepnote_cell_type": "markdown",
    "id": "XUZ1dFPHzAHl"
   },
   "source": [
    "<h1><center>Laboratorio 6: La desperación de Mr. Lepin 🐼</center></h1>\n",
    "\n",
    "<center><strong>MDS7202: Laboratorio de Programación Científica para Ciencia de Datos</strong></center>"
   ]
  },
  {
   "cell_type": "markdown",
   "metadata": {
    "cell_id": "00001-311235ca-1e52-4b99-a8ed-ecc0efb3fddd",
    "deepnote_cell_type": "markdown",
    "id": "UD8X1uhGzAHq"
   },
   "source": [
    "### Cuerpo Docente:\n",
    "\n",
    "- Profesor: Pablo Badilla\n",
    "- Auxiliar: Ignacio Meza D.\n",
    "- Ayudante: Constanza Peña"
   ]
  },
  {
   "cell_type": "markdown",
   "metadata": {
    "cell_id": "00002-6c6c932b-c2ca-4e5c-8f35-4bcf76e99ae9",
    "deepnote_cell_type": "markdown",
    "id": "tXflExjqzAHr"
   },
   "source": [
    "### Equipo: SUPER IMPORTANTE - notebooks sin nombre no serán revisados\n",
    "\n",
    "- Nombre de alumno 1: Christopher Lara\n",
    "- Nombre de alumno 2: Abiam Tamburrini\n"
   ]
  },
  {
   "cell_type": "markdown",
   "metadata": {
    "cell_id": "00003-78f31a0b-b9ea-415b-b6b1-c31406be9140",
    "deepnote_cell_type": "markdown",
    "id": "AD-V0bbZzAHr"
   },
   "source": [
    "### **Link de repositorio de GitHub:** `https://github.com/ChrisLara95/Labs.git`"
   ]
  },
  {
   "cell_type": "markdown",
   "metadata": {
    "cell_id": "00004-813a4b9f-ec89-4439-9b6e-4d6558759415",
    "deepnote_cell_type": "markdown",
    "id": "EcnsiQMkzAHr"
   },
   "source": [
    "### Indice \n",
    "\n",
    "1. [Temas a tratar](#Temas-a-tratar:)\n",
    "3. [Descripcción del laboratorio](#Descripción-del-laboratorio.)\n",
    "4. [Desarrollo](#Desarrollo)"
   ]
  },
  {
   "cell_type": "markdown",
   "metadata": {
    "cell_id": "00005-30720d0a-a8ea-4112-8a56-7830fced4c1e",
    "deepnote_cell_type": "markdown",
    "id": "6uBLPj1PzAHs"
   },
   "source": [
    "# Temas a tratar\n",
    "\n",
    "- Aplicar Pandas para obtener características de un DataFrame.\n",
    "- Aplicar Pipelines.\n",
    "- Aplicar Clusters sobre un conjunto de datos.\n",
    "\n",
    "## Reglas:\n",
    "\n",
    "- Fecha de entrega: 12/11/2021\n",
    "- **Grupos de 2 personas**\n",
    "- **Ausentes** deberán realizar la actividad solos. \n",
    "- Cualquier duda fuera del horario de clases al foro. Mensajes al equipo docente serán respondidos por este medio.\n",
    "- Prohibidas las copias. \n",
    "- Pueden usar cualquer matrial del curso que estimen conveniente.\n",
    "\n",
    "### Objetivos principales del laboratorio\n",
    "\n",
    "- Comprender y aprovechar las ventajas que nos ofrece la librería `pandas` con respecto a trabajar en Python 'puro'.\n",
    "- Crear nuevas características para entrenar un modelo de clustering.\n",
    "- Comprender como aplicar pipelines de Scikit-Learn para generar procesos más limpios.\n",
    "\n",
    "El laboratorio deberá ser desarrollado sin el uso indiscriminado de iteradores nativos de python (aka \"for\", \"while\"). La idea es que aprendan a exprimir al máximo las funciones optimizadas que nos entrega `numpy`, las cuales vale mencionar, son bastante más eficientes que los iteradores nativos sobre arreglos (*o tensores*)."
   ]
  },
  {
   "cell_type": "markdown",
   "metadata": {
    "cell_id": "00006-0d097eb1-85d1-4f26-8119-593d58e99a79",
    "deepnote_cell_type": "markdown",
    "id": "wrG4gYabzAHs"
   },
   "source": [
    "## Descripción del laboratorio."
   ]
  },
  {
   "cell_type": "markdown",
   "metadata": {
    "cell_id": "00007-b3b99a7c-5696-433b-a20c-3c6acdd9eb76",
    "deepnote_cell_type": "markdown",
    "id": "MhISwri4zAHy"
   },
   "source": [
    "### Importamos librerias utiles 😸"
   ]
  },
  {
   "cell_type": "code",
   "execution_count": 10,
   "metadata": {
    "ExecuteTime": {
     "end_time": "2021-03-29T00:08:16.884674Z",
     "start_time": "2021-03-29T00:08:16.349846Z"
    },
    "cell_id": "00008-147c370f-05a3-40e6-88ce-931f568c02ba",
    "colab": {
     "base_uri": "https://localhost:8080/"
    },
    "deepnote_cell_type": "code",
    "deepnote_to_be_reexecuted": false,
    "executionInfo": {
     "elapsed": 7340,
     "status": "ok",
     "timestamp": 1619926444128,
     "user": {
      "displayName": "IGNACIO ALEJANDRO MEZA",
      "photoUrl": "",
      "userId": "17011121633069169364"
     },
     "user_tz": 240
    },
    "execution_millis": 8517,
    "execution_start": 1635469788590,
    "id": "uyc33dKdzAHy",
    "outputId": "275fee3c-4ef0-4bfb-acb7-e318d613bdce",
    "source_hash": "a3741fd5"
   },
   "outputs": [
    {
     "name": "stdout",
     "output_type": "stream",
     "text": [
      "Requirement already up-to-date: plotly in ./testenv/lib/python3.8/site-packages (5.4.0)\n",
      "Requirement already satisfied, skipping upgrade: tenacity>=6.2.0 in ./testenv/lib/python3.8/site-packages (from plotly) (8.0.1)\n",
      "Requirement already satisfied, skipping upgrade: six in ./testenv/lib/python3.8/site-packages (from plotly) (1.16.0)\n",
      "\u001b[33mWARNING: You are using pip version 19.2.3, however version 21.3.1 is available.\n",
      "You should consider upgrading via the 'pip install --upgrade pip' command.\u001b[0m\n"
     ]
    }
   ],
   "source": [
    "# Libreria Core del lab.\n",
    "import numpy as np\n",
    "import pandas as pd\n",
    "import datetime\n",
    "from datetime import timedelta\n",
    "from IPython.display import HTML\n",
    "\n",
    "# Libreria para plotear (En colab esta desactualizado plotly)\n",
    "!pip install --upgrade plotly\n",
    "import plotly.express as px\n",
    "import plotly.graph_objects as go\n",
    "\n",
    "# Librerias utiles\n",
    "from sklearn.manifold import TSNE\n",
    "from sklearn.cluster import KMeans\n",
    "from sklearn.base import BaseEstimator, TransformerMixin\n",
    "from sklearn.model_selection import train_test_split \n",
    "from sklearn.pipeline import Pipeline\n",
    "from sklearn.compose import ColumnTransformer\n",
    "from sklearn.preprocessing import FunctionTransformer"
   ]
  },
  {
   "cell_type": "code",
   "execution_count": null,
   "metadata": {
    "cell_id": "00009-8a73dd07-b0c0-471a-8db1-e539107fe785",
    "deepnote_cell_type": "code",
    "deepnote_to_be_reexecuted": false,
    "execution_millis": 7,
    "execution_start": 1635165625274,
    "id": "gQ0-zPV4NNrq",
    "source_hash": "c60dc4a7"
   },
   "outputs": [],
   "source": [
    "# Si usted está utilizando Colabolatory le puede ser útil este código para cargar los archivos.\n",
    "try:\n",
    "    from google.colab import drive\n",
    "    drive.mount(\"/content/drive\")\n",
    "    path = 'Dirección donde tiene los archivos en el Drive'\n",
    "except: \n",
    "    print('Ignorando conexión drive-colab')"
   ]
  },
  {
   "cell_type": "markdown",
   "metadata": {
    "cell_id": "00011-44ff4b7f-0721-4a5a-91cf-0fed38291eb2",
    "deepnote_cell_type": "markdown",
    "id": "QDwIXTh7bK_A"
   },
   "source": [
    "# Segmentación de Clientes en Tienda de Retail 🛍️"
   ]
  },
  {
   "cell_type": "markdown",
   "metadata": {
    "cell_id": "00012-3f997299-ad75-4cd4-80b4-839d33c07b2a",
    "deepnote_cell_type": "markdown",
    "tags": []
   },
   "source": [
    "<p align=\"center\">\n",
    "  <img width=300 src=\"https://s1.eestatic.com/2018/04/14/social/la_jungla_-_social_299733421_73842361_854x640.jpg\">\n",
    "</p>"
   ]
  },
  {
   "cell_type": "markdown",
   "metadata": {
    "cell_id": "00013-21aecb33-d28d-4fcb-93db-67307326ab2b",
    "deepnote_cell_type": "markdown",
    "tags": []
   },
   "source": [
    "## 1.1 Cargar Dataset"
   ]
  },
  {
   "cell_type": "markdown",
   "metadata": {
    "cell_id": "00014-bfeb4dba-666e-4613-af4b-c609a72df95e",
    "deepnote_cell_type": "markdown",
    "tags": []
   },
   "source": [
    "Mr. Lepin, en una nueva reunión, le cuenta a ud y su equipo que los resultados derivados del análisis exploratorio de dato presentaron una gran utilidad para la empresa y que tiene un gran entusiasmo por continuar trabajando con ustedes.\n",
    "Es por esto, que Mr. Lepin les pide que cargue y visualicen algunas de las filas que componen el Dataset.\n",
    "A continuación un extracto de lo parlamentado en la reunión:\n",
    "\n",
    "    - Usted: Es un gran logro para nuestro equipo que usted haya encontrado excelente el EDA. ¿Qué tiene en mente ahora?\n",
    "    - Mr. Lepin: Resulta que hace algún tiempo, mientras tomaba un mojito en una reunión de gerentes en Panamá, oí a un *chato* acerca de **LRMFP**, que es un modelo que permite personificar a los clientes a través de la farbicación de distintos atributos que describen a los clientes. Lo encontré es-tu-pendo ñatito. \n",
    "    - Usted: Ehh bueno. Investigaremos acerca de este modelo y veremos lo que podemos hacer.\n",
    "\n",
    "Por ende, su siguiente tarea es calcular **LRMFP** sobre cada cliente y luego hacer un análisis de las características generadas. Para esto, el área de ventas les entrega un nuevo archivo llamado `online_retail_II_cleaned.pickle`, quien posee los datos del DataFrame original limpios y listos para obtener las características solicitadas por Mr. Lepin."
   ]
  },
  {
   "cell_type": "code",
   "execution_count": 11,
   "metadata": {
    "cell_id": "00015-9f304f85-cc91-43d5-b9e0-e16decca6cd0",
    "colab": {
     "base_uri": "https://localhost:8080/",
     "height": 204
    },
    "deepnote_cell_type": "code",
    "deepnote_to_be_reexecuted": false,
    "executionInfo": {
     "elapsed": 77353,
     "status": "ok",
     "timestamp": 1619717831933,
     "user": {
      "displayName": "IGNACIO ALEJANDRO MEZA",
      "photoUrl": "",
      "userId": "17011121633069169364"
     },
     "user_tz": 240
    },
    "execution_millis": 466,
    "execution_start": 1635469797118,
    "id": "7FNOu-CvjV5m",
    "outputId": "90b4f92c-71df-44d4-8084-4dd06a6179e4",
    "source_hash": "d52b246c"
   },
   "outputs": [
    {
     "data": {
      "text/html": [
       "<div>\n",
       "<style scoped>\n",
       "    .dataframe tbody tr th:only-of-type {\n",
       "        vertical-align: middle;\n",
       "    }\n",
       "\n",
       "    .dataframe tbody tr th {\n",
       "        vertical-align: top;\n",
       "    }\n",
       "\n",
       "    .dataframe thead th {\n",
       "        text-align: right;\n",
       "    }\n",
       "</style>\n",
       "<table border=\"1\" class=\"dataframe\">\n",
       "  <thead>\n",
       "    <tr style=\"text-align: right;\">\n",
       "      <th></th>\n",
       "      <th>Invoice</th>\n",
       "      <th>StockCode</th>\n",
       "      <th>Description</th>\n",
       "      <th>Quantity</th>\n",
       "      <th>InvoiceDate</th>\n",
       "      <th>Price</th>\n",
       "      <th>Customer ID</th>\n",
       "      <th>Country</th>\n",
       "    </tr>\n",
       "  </thead>\n",
       "  <tbody>\n",
       "    <tr>\n",
       "      <th>0</th>\n",
       "      <td>489434</td>\n",
       "      <td>85048</td>\n",
       "      <td>15CM CHRISTMAS GLASS BALL 20 LIGHTS</td>\n",
       "      <td>12</td>\n",
       "      <td>2009-12-01 07:45:00</td>\n",
       "      <td>6.95</td>\n",
       "      <td>13085.0</td>\n",
       "      <td>United Kingdom</td>\n",
       "    </tr>\n",
       "    <tr>\n",
       "      <th>1</th>\n",
       "      <td>489434</td>\n",
       "      <td>79323P</td>\n",
       "      <td>PINK CHERRY LIGHTS</td>\n",
       "      <td>12</td>\n",
       "      <td>2009-12-01 07:45:00</td>\n",
       "      <td>6.75</td>\n",
       "      <td>13085.0</td>\n",
       "      <td>United Kingdom</td>\n",
       "    </tr>\n",
       "    <tr>\n",
       "      <th>2</th>\n",
       "      <td>489434</td>\n",
       "      <td>79323W</td>\n",
       "      <td>WHITE CHERRY LIGHTS</td>\n",
       "      <td>12</td>\n",
       "      <td>2009-12-01 07:45:00</td>\n",
       "      <td>6.75</td>\n",
       "      <td>13085.0</td>\n",
       "      <td>United Kingdom</td>\n",
       "    </tr>\n",
       "    <tr>\n",
       "      <th>3</th>\n",
       "      <td>489434</td>\n",
       "      <td>22041</td>\n",
       "      <td>RECORD FRAME 7\" SINGLE SIZE</td>\n",
       "      <td>48</td>\n",
       "      <td>2009-12-01 07:45:00</td>\n",
       "      <td>2.10</td>\n",
       "      <td>13085.0</td>\n",
       "      <td>United Kingdom</td>\n",
       "    </tr>\n",
       "    <tr>\n",
       "      <th>4</th>\n",
       "      <td>489434</td>\n",
       "      <td>21232</td>\n",
       "      <td>STRAWBERRY CERAMIC TRINKET BOX</td>\n",
       "      <td>24</td>\n",
       "      <td>2009-12-01 07:45:00</td>\n",
       "      <td>1.25</td>\n",
       "      <td>13085.0</td>\n",
       "      <td>United Kingdom</td>\n",
       "    </tr>\n",
       "  </tbody>\n",
       "</table>\n",
       "</div>"
      ],
      "text/plain": [
       "  Invoice StockCode                          Description  Quantity  \\\n",
       "0  489434     85048  15CM CHRISTMAS GLASS BALL 20 LIGHTS        12   \n",
       "1  489434    79323P                   PINK CHERRY LIGHTS        12   \n",
       "2  489434    79323W                  WHITE CHERRY LIGHTS        12   \n",
       "3  489434     22041         RECORD FRAME 7\" SINGLE SIZE         48   \n",
       "4  489434     21232       STRAWBERRY CERAMIC TRINKET BOX        24   \n",
       "\n",
       "          InvoiceDate  Price Customer ID         Country  \n",
       "0 2009-12-01 07:45:00   6.95     13085.0  United Kingdom  \n",
       "1 2009-12-01 07:45:00   6.75     13085.0  United Kingdom  \n",
       "2 2009-12-01 07:45:00   6.75     13085.0  United Kingdom  \n",
       "3 2009-12-01 07:45:00   2.10     13085.0  United Kingdom  \n",
       "4 2009-12-01 07:45:00   1.25     13085.0  United Kingdom  "
      ]
     },
     "execution_count": 11,
     "metadata": {},
     "output_type": "execute_result"
    }
   ],
   "source": [
    "df_retail = pd.read_pickle(\"online_retail_II_cleaned.pickle\")\n",
    "df_retail = df_retail.astype(\n",
    "    {\n",
    "        \"Invoice\": \"category\",\n",
    "        \"StockCode\": \"category\",\n",
    "        \"Description\": \"category\",\n",
    "        \"Description\": str,\n",
    "        \"Customer ID\": \"category\",\n",
    "        \"Country\": \"category\"\n",
    "    }\n",
    ")\n",
    "df_retail.head()"
   ]
  },
  {
   "cell_type": "markdown",
   "metadata": {
    "cell_id": "00016-245c3eeb-d33d-4da1-b738-a91d4e055fa1",
    "deepnote_cell_type": "markdown",
    "tags": []
   },
   "source": [
    "## 1.2 Creación de nuevas Caracteristicas [2 Puntos] "
   ]
  },
  {
   "cell_type": "markdown",
   "metadata": {
    "cell_id": "00018-24bac8c8-bd63-41ac-8e0f-de55e02c56f0",
    "deepnote_cell_type": "markdown",
    "tags": []
   },
   "source": [
    "**Ejemplo de Resultado Esperado:**\n",
    "\n",
    "| Customer ID | Length | Recency | Frequency | Monetary | Periodicity |\n",
    "|------------:|-------:|--------:|----------:|---------:|------------:|\n",
    "|   12346.0   |    294 |      67 |        46 |   -64.68 |        37.0 |\n",
    "|   12347.0   |     37 |       3 |        71 |  1323.32 |         0.0 |\n",
    "|   12349.0   |    327 |      43 |       107 |  2646.99 |        78.0 |\n",
    "|   12352.0   |     16 |      11 |        18 |   343.80 |         0.0 |\n",
    "|   12356.0   |     44 |      16 |        84 |  3562.25 |        12.0 |"
   ]
  },
  {
   "cell_type": "markdown",
   "metadata": {
    "cell_id": "00017-011b89ed-d830-4f8e-9e4d-2c8d156651c3",
    "deepnote_cell_type": "markdown",
    "tags": []
   },
   "source": [
    "Como ya se les comento, Mr. Lepin esta interesado en obtener las características **LRMFP**, para esto les señala que estas características se construyen en base a las siguientes definiciones:\n",
    "\n",
    "- **Length (L)**: Intervalo de tiempo, en días, entre la primera y la última visita del cliente. Mientras mas grande sea el valor, mas fiel es el cliente.\n",
    "- **Recency (R)**: Indica la actualidad de la interacción de un cliente con la empresa, y da información sobre la tendencia a repetir la compra. Se define como: \n",
    "$$Recency(n)=\\dfrac{1}{n} \\sum^n_{i=1} date\\_diff(t_{fecha final}, t_{m-i+1})$$\n",
    "\n",
    " Donde $date\\_diff$ representa la diferencia en días entre la fecha de finalización del periodo de observación ($t_{fecha final}$), y la fecha de una visita del cliente cercana a $t_{fecha final}$, $t_{m-i+1}; t_{m}$ es la última visita del cliente; y n es el número de visitas recientes del cliente consideradas.\n",
    "\n",
    "- **Monetary (M)**: El término \"monetario\" se refiere a la cantidad media de dinero gastada por cada visita del cliente durante el período de observación y refleja la contribución del cliente a los ingresos de la empresa.\n",
    "\n",
    "- **Frequency (F)**: Se refiere al número total de visitas del cliente durante el periodo de observación. Cuanto mayor sea la frecuencia, mayor será la fidelidad del cliente. \n",
    "\n",
    "- **Periodicity (P)**: Representa si los clientes visitan las tiendas con regularidad.\n",
    "\n",
    "$$Periodicity(n)=std(IVT_1, ..., IVT_n)$$\n",
    "\n",
    "&nbsp;&nbsp; &nbsp;&nbsp;&nbsp;&nbsp;&nbsp;&nbsp;Donde $IVT$ denota el tiempo entre visitas y n representa el número de valores de tiempo entre visitas de un cliente.\n",
    " \n",
    "\n",
    "$$IVT_i=date\\_diff(t_{i+1},t)$$\n",
    "\n",
    "En base a las definiciones señaladas, diseñe una función que permita obtener las características **LRMFP** recibiendo un DataFrame como entrada. Para esto, no estará permitido el uso de iteradores, utilice todas las herramientas que les ofrece `pandas` para realizar esto.\n",
    "\n",
    "Una referencia que le puede ser útil es el [documento original](https://www.researchgate.net/publication/315979555_LRFMP_model_for_customer_segmentation_in_the_grocery_retail_industry_a_case_study) en donde se propone este método.\n",
    "\n",
    "**Nota:** Para la $fechafinal$ utilice la fecha máxima del dataset más 1 día."
   ]
  },
  {
   "cell_type": "markdown",
   "metadata": {
    "cell_id": "00019-0bbd888f-87e7-49f7-a5d5-81564c13fe16",
    "deepnote_cell_type": "markdown",
    "tags": []
   },
   "source": [
    "**Respuesta:**"
   ]
  },
  {
   "cell_type": "code",
   "execution_count": 12,
   "metadata": {},
   "outputs": [
    {
     "name": "stderr",
     "output_type": "stream",
     "text": [
      "/Users/christopherlara/DS_course/Labs/Lab6/testenv/lib/python3.8/site-packages/pandas/core/groupby/groupby.py:1973: FutureWarning: Treating datetime data as categorical rather than numeric in `.describe` is deprecated and will be removed in a future version of pandas. Specify `datetime_is_numeric=True` to silence this warning and adopt the future behavior now.\n",
      "  result = self.apply(lambda x: x.describe(**kwargs))\n",
      "/var/folders/tw/njmbb27s72j5p4r2vj1v0wnw0000gn/T/ipykernel_4442/4167995524.py:46: FutureWarning: casting datetime64[ns] values to int64 with .astype(...) is deprecated and will raise in a future version. Use .view(...) instead.\n",
      "  perio['seg']=perio['InvoiceDate'].astype(int)\n"
     ]
    }
   ],
   "source": [
    "def custom_features(dataframe_in):\n",
    "    #LRFMP\n",
    "    #crear columna de gasto por cada producto\n",
    "    dataframe_in['gastos']=dataframe_in['Price']*dataframe_in['Quantity']\n",
    "    #eliminar columnas irrelevantes\n",
    "    limpieza1=dataframe_in.drop(['StockCode', 'Quantity','Price','Description', 'Country'], axis=1)\n",
    "    \n",
    "    #######LLLLLL#####\n",
    "    ###sacar resta de días\n",
    "    agrupar=dataframe_in[['Customer ID','InvoiceDate']].groupby(['Customer ID'])\n",
    "    resultado1=agrupar.describe()\n",
    "    ida_no_unica=resultado1[resultado1[('InvoiceDate','unique')]!=1]\n",
    "    #ida_unica=resultado1[resultado1[('InvoiceDate','unique')]==1].reset_index()\n",
    "\n",
    "    length=(ida_no_unica[('InvoiceDate','last')]-ida_no_unica[('InvoiceDate','first')]).dt.days.reset_index()\n",
    "    length.columns = ['Customer ID', 'Length']\n",
    "############################################\n",
    "    #######RRRRR#####\n",
    "    #recency, fijamos fecha final de obs y luego promedio sobre la resta\n",
    "    fecha_max=limpieza1['InvoiceDate'].max() + timedelta(days=1)\n",
    "    limpieza1['t_obs']=(fecha_max-limpieza1['InvoiceDate']).dt.days\n",
    "    recency=limpieza1.drop_duplicates(subset=['Customer ID','t_obs'])\n",
    "    recency=recency[['Customer ID','t_obs']].groupby('Customer ID').mean()\n",
    "    recency=recency.reset_index()\n",
    "\n",
    "############################################\n",
    "    #######FFFFFF######len 4314\n",
    "    #eliminamos duplicado para así tener la info de 1 cliente por dia\n",
    "    frequency=limpieza1.drop_duplicates(subset=['Customer ID','t_obs'])\n",
    "    frequency=frequency.groupby('Customer ID').size().reset_index()\n",
    "    frequency.columns = ['Customer ID', 'Fre']\n",
    "\n",
    "    \n",
    "############################################\n",
    "    ######MMMMMM######4314\n",
    "    ##gasto promedio\n",
    "    monetary=limpieza1[['Customer ID','gastos']].groupby(['Customer ID']).mean().reset_index()\n",
    "\n",
    "    \n",
    "############################################\n",
    "    ######PPPPPP######\n",
    "    #periodicity, pasamos los tiempos a [ns] para poder aplicar .diff()\n",
    "    #ya que no funcionó con fechas. Luego lo pasamos a dias\n",
    "    perio=limpieza1.drop_duplicates(subset=['Customer ID','t_obs'])\n",
    "    perio=perio[['InvoiceDate','Customer ID']]\n",
    "    perio['seg']=perio['InvoiceDate'].astype(int)\n",
    "    perio['diff']=(perio[['Customer ID','seg']].groupby('Customer ID').diff())\n",
    "    perio=perio.dropna()\n",
    "    periodicity=perio[['Customer ID','diff']].groupby('Customer ID').std().fillna(0).reset_index()\n",
    "    ###pasando diff a dias\n",
    "    periodicity['diff']=periodicity['diff']*(10**(-9))/60/60/24\n",
    "   \n",
    "    #agrupamos los set de datos\n",
    "    resultado= pd.concat([recency,monetary['gastos'],frequency['Fre'],periodicity['diff']],axis=1)\n",
    "    #nos preocupamos que todos tengan el mismo largo\n",
    "    resultado= pd.merge(left=length, right=resultado, on=\"Customer ID\",\n",
    "         how=\"inner\",\n",
    "         sort=True)\n",
    "    \n",
    "    \n",
    "    resultado.columns = ['Customer ID','Length','Recency','Monetary','Frequency','Periodicity']\n",
    "    \n",
    "    return (resultado)\n",
    "\n",
    "    pass\n",
    "\n",
    "LRMFP=custom_features(df_retail)"
   ]
  },
  {
   "cell_type": "markdown",
   "metadata": {
    "cell_id": "00021-7a165a57-848e-4404-870f-cdaba339a9d8",
    "deepnote_cell_type": "markdown",
    "tags": []
   },
   "source": [
    "### **Resúesta de Pauta:**"
   ]
  },
  {
   "cell_type": "code",
   "execution_count": 13,
   "metadata": {},
   "outputs": [
    {
     "data": {
      "text/html": [
       "<div>\n",
       "<style scoped>\n",
       "    .dataframe tbody tr th:only-of-type {\n",
       "        vertical-align: middle;\n",
       "    }\n",
       "\n",
       "    .dataframe tbody tr th {\n",
       "        vertical-align: top;\n",
       "    }\n",
       "\n",
       "    .dataframe thead th {\n",
       "        text-align: right;\n",
       "    }\n",
       "</style>\n",
       "<table border=\"1\" class=\"dataframe\">\n",
       "  <thead>\n",
       "    <tr style=\"text-align: right;\">\n",
       "      <th></th>\n",
       "      <th>Customer ID</th>\n",
       "      <th>Length</th>\n",
       "      <th>Recency</th>\n",
       "      <th>Monetary</th>\n",
       "      <th>Frequency</th>\n",
       "      <th>Periodicity</th>\n",
       "    </tr>\n",
       "  </thead>\n",
       "  <tbody>\n",
       "    <tr>\n",
       "      <th>0</th>\n",
       "      <td>12346.0</td>\n",
       "      <td>196</td>\n",
       "      <td>308.285714</td>\n",
       "      <td>11.298788</td>\n",
       "      <td>7</td>\n",
       "      <td>43.601225</td>\n",
       "    </tr>\n",
       "    <tr>\n",
       "      <th>1</th>\n",
       "      <td>12347.0</td>\n",
       "      <td>37</td>\n",
       "      <td>21.500000</td>\n",
       "      <td>18.638310</td>\n",
       "      <td>2</td>\n",
       "      <td>0.000000</td>\n",
       "    </tr>\n",
       "    <tr>\n",
       "      <th>2</th>\n",
       "      <td>12349.0</td>\n",
       "      <td>181</td>\n",
       "      <td>158.000000</td>\n",
       "      <td>26.187647</td>\n",
       "      <td>3</td>\n",
       "      <td>101.876901</td>\n",
       "    </tr>\n",
       "    <tr>\n",
       "      <th>3</th>\n",
       "      <td>12352.0</td>\n",
       "      <td>16</td>\n",
       "      <td>19.500000</td>\n",
       "      <td>19.100000</td>\n",
       "      <td>2</td>\n",
       "      <td>0.000000</td>\n",
       "    </tr>\n",
       "    <tr>\n",
       "      <th>4</th>\n",
       "      <td>12356.0</td>\n",
       "      <td>44</td>\n",
       "      <td>35.000000</td>\n",
       "      <td>42.895181</td>\n",
       "      <td>3</td>\n",
       "      <td>12.924341</td>\n",
       "    </tr>\n",
       "    <tr>\n",
       "      <th>...</th>\n",
       "      <td>...</td>\n",
       "      <td>...</td>\n",
       "      <td>...</td>\n",
       "      <td>...</td>\n",
       "      <td>...</td>\n",
       "      <td>...</td>\n",
       "    </tr>\n",
       "    <tr>\n",
       "      <th>2892</th>\n",
       "      <td>18276.0</td>\n",
       "      <td>336</td>\n",
       "      <td>169.800000</td>\n",
       "      <td>16.508250</td>\n",
       "      <td>5</td>\n",
       "      <td>37.606102</td>\n",
       "    </tr>\n",
       "    <tr>\n",
       "      <th>2893</th>\n",
       "      <td>18277.0</td>\n",
       "      <td>97</td>\n",
       "      <td>71.666667</td>\n",
       "      <td>19.101250</td>\n",
       "      <td>3</td>\n",
       "      <td>41.657428</td>\n",
       "    </tr>\n",
       "    <tr>\n",
       "      <th>2894</th>\n",
       "      <td>18283.0</td>\n",
       "      <td>275</td>\n",
       "      <td>193.000000</td>\n",
       "      <td>2.854240</td>\n",
       "      <td>5</td>\n",
       "      <td>62.008786</td>\n",
       "    </tr>\n",
       "    <tr>\n",
       "      <th>2895</th>\n",
       "      <td>18286.0</td>\n",
       "      <td>247</td>\n",
       "      <td>235.500000</td>\n",
       "      <td>19.349701</td>\n",
       "      <td>2</td>\n",
       "      <td>0.000000</td>\n",
       "    </tr>\n",
       "    <tr>\n",
       "      <th>2896</th>\n",
       "      <td>18287.0</td>\n",
       "      <td>188</td>\n",
       "      <td>101.666667</td>\n",
       "      <td>27.596588</td>\n",
       "      <td>3</td>\n",
       "      <td>45.985511</td>\n",
       "    </tr>\n",
       "  </tbody>\n",
       "</table>\n",
       "<p>2897 rows × 6 columns</p>\n",
       "</div>"
      ],
      "text/plain": [
       "     Customer ID  Length     Recency   Monetary  Frequency  Periodicity\n",
       "0        12346.0     196  308.285714  11.298788          7    43.601225\n",
       "1        12347.0      37   21.500000  18.638310          2     0.000000\n",
       "2        12349.0     181  158.000000  26.187647          3   101.876901\n",
       "3        12352.0      16   19.500000  19.100000          2     0.000000\n",
       "4        12356.0      44   35.000000  42.895181          3    12.924341\n",
       "...          ...     ...         ...        ...        ...          ...\n",
       "2892     18276.0     336  169.800000  16.508250          5    37.606102\n",
       "2893     18277.0      97   71.666667  19.101250          3    41.657428\n",
       "2894     18283.0     275  193.000000   2.854240          5    62.008786\n",
       "2895     18286.0     247  235.500000  19.349701          2     0.000000\n",
       "2896     18287.0     188  101.666667  27.596588          3    45.985511\n",
       "\n",
       "[2897 rows x 6 columns]"
      ]
     },
     "metadata": {},
     "output_type": "display_data"
    }
   ],
   "source": [
    "display(LRMFP)"
   ]
  },
  {
   "cell_type": "code",
   "execution_count": 14,
   "metadata": {},
   "outputs": [],
   "source": [
    "LRMFP_f=LRMFP.astype(float)\n",
    "#paso datos a float no categoricos"
   ]
  },
  {
   "cell_type": "markdown",
   "metadata": {
    "cell_id": "00024-d2150b7a-431a-4480-a6b3-801f31c9e464",
    "deepnote_cell_type": "markdown",
    "tags": []
   },
   "source": [
    "## 1.3 Pipelines 👷"
   ]
  },
  {
   "cell_type": "markdown",
   "metadata": {
    "cell_id": "00025-34c61ca0-c2da-4708-90a6-d8a6919da07b",
    "deepnote_cell_type": "markdown",
    "tags": []
   },
   "source": [
    "Finalmente *Don Mora* le pregunta si seria posible realizar un pipeline para realizar una segmentación de los clientes con los nuevos datos generados, a lo que usted responde que **sí** y propone la utilización de k-means para la segmentación.\n",
    "\n",
    "A continuación siga los pasos requeridos para obtener la segmentación de clientes."
   ]
  },
  {
   "cell_type": "markdown",
   "metadata": {
    "cell_id": "00026-f8effaef-07fa-40a9-a9cc-1b2f7f4bc137",
    "deepnote_cell_type": "markdown",
    "tags": []
   },
   "source": [
    "### 1.3.1 Estandarizar Caracteristicas [0.5 puntos]"
   ]
  },
  {
   "cell_type": "markdown",
   "metadata": {
    "cell_id": "00027-278c72d0-3d92-448e-85a2-af5dab7d6d77",
    "deepnote_cell_type": "markdown",
    "tags": []
   },
   "source": [
    "Construya una clase llamada ``MinMax()`` utilizando ``BaseEstimator`` y ``TransformerMixin`` para realizar una transformación de cada una de las columnas de un DataFrame utilizando ``ColumnTransformer()`` más tarde (tome como referencia el siguiente [enlace](https://sklearn-template.readthedocs.io/en/latest/user_guide.html#transformer)).\n",
    "\n",
    "\n",
    " Para esto considere que Min-Max escaler queda dada por la ecuación:\n",
    "\n",
    "$$MinMax = \\dfrac{x-min(x)}{max(x) - min(x)}$$\n",
    "\n",
    "Con esto buscamos que los valores que componen a las columnas se muevan en el rango de valores $[0, 1]$."
   ]
  },
  {
   "cell_type": "markdown",
   "metadata": {
    "cell_id": "00028-db77257b-6ecc-4dee-9f70-4f105e6aba42",
    "deepnote_cell_type": "markdown",
    "tags": []
   },
   "source": [
    "**Respuesta:**"
   ]
  },
  {
   "cell_type": "code",
   "execution_count": 15,
   "metadata": {
    "cell_id": "00029-b78cc7d2-05a8-4f86-a882-02e13ae67762",
    "deepnote_cell_type": "code",
    "tags": []
   },
   "outputs": [
    {
     "data": {
      "text/html": [
       "<div>\n",
       "<style scoped>\n",
       "    .dataframe tbody tr th:only-of-type {\n",
       "        vertical-align: middle;\n",
       "    }\n",
       "\n",
       "    .dataframe tbody tr th {\n",
       "        vertical-align: top;\n",
       "    }\n",
       "\n",
       "    .dataframe thead th {\n",
       "        text-align: right;\n",
       "    }\n",
       "</style>\n",
       "<table border=\"1\" class=\"dataframe\">\n",
       "  <thead>\n",
       "    <tr style=\"text-align: right;\">\n",
       "      <th></th>\n",
       "      <th>Customer ID</th>\n",
       "      <th>Length</th>\n",
       "      <th>Recency</th>\n",
       "      <th>Monetary</th>\n",
       "      <th>Frequency</th>\n",
       "      <th>Periodicity</th>\n",
       "    </tr>\n",
       "  </thead>\n",
       "  <tbody>\n",
       "    <tr>\n",
       "      <th>0</th>\n",
       "      <td>0.000000</td>\n",
       "      <td>0.525469</td>\n",
       "      <td>0.822394</td>\n",
       "      <td>0.001338</td>\n",
       "      <td>0.047244</td>\n",
       "      <td>0.170486</td>\n",
       "    </tr>\n",
       "    <tr>\n",
       "      <th>1</th>\n",
       "      <td>0.000168</td>\n",
       "      <td>0.099196</td>\n",
       "      <td>0.047297</td>\n",
       "      <td>0.002393</td>\n",
       "      <td>0.007874</td>\n",
       "      <td>0.000000</td>\n",
       "    </tr>\n",
       "    <tr>\n",
       "      <th>2</th>\n",
       "      <td>0.000505</td>\n",
       "      <td>0.485255</td>\n",
       "      <td>0.416216</td>\n",
       "      <td>0.003478</td>\n",
       "      <td>0.015748</td>\n",
       "      <td>0.398351</td>\n",
       "    </tr>\n",
       "    <tr>\n",
       "      <th>3</th>\n",
       "      <td>0.001010</td>\n",
       "      <td>0.042895</td>\n",
       "      <td>0.041892</td>\n",
       "      <td>0.002459</td>\n",
       "      <td>0.007874</td>\n",
       "      <td>0.000000</td>\n",
       "    </tr>\n",
       "    <tr>\n",
       "      <th>4</th>\n",
       "      <td>0.001683</td>\n",
       "      <td>0.117962</td>\n",
       "      <td>0.083784</td>\n",
       "      <td>0.005880</td>\n",
       "      <td>0.015748</td>\n",
       "      <td>0.050536</td>\n",
       "    </tr>\n",
       "    <tr>\n",
       "      <th>5</th>\n",
       "      <td>0.001852</td>\n",
       "      <td>0.000000</td>\n",
       "      <td>0.054054</td>\n",
       "      <td>0.010238</td>\n",
       "      <td>0.000000</td>\n",
       "      <td>0.000000</td>\n",
       "    </tr>\n",
       "    <tr>\n",
       "      <th>6</th>\n",
       "      <td>0.002020</td>\n",
       "      <td>0.954424</td>\n",
       "      <td>0.497297</td>\n",
       "      <td>0.006453</td>\n",
       "      <td>0.015748</td>\n",
       "      <td>0.017282</td>\n",
       "    </tr>\n",
       "    <tr>\n",
       "      <th>7</th>\n",
       "      <td>0.002188</td>\n",
       "      <td>0.825737</td>\n",
       "      <td>0.664865</td>\n",
       "      <td>0.002863</td>\n",
       "      <td>0.039370</td>\n",
       "      <td>0.178656</td>\n",
       "    </tr>\n",
       "    <tr>\n",
       "      <th>8</th>\n",
       "      <td>0.002357</td>\n",
       "      <td>0.739946</td>\n",
       "      <td>0.418378</td>\n",
       "      <td>0.002312</td>\n",
       "      <td>0.031496</td>\n",
       "      <td>0.277614</td>\n",
       "    </tr>\n",
       "    <tr>\n",
       "      <th>9</th>\n",
       "      <td>0.002525</td>\n",
       "      <td>0.589812</td>\n",
       "      <td>0.557658</td>\n",
       "      <td>0.002145</td>\n",
       "      <td>0.015748</td>\n",
       "      <td>0.038574</td>\n",
       "    </tr>\n",
       "  </tbody>\n",
       "</table>\n",
       "</div>"
      ],
      "text/plain": [
       "   Customer ID    Length   Recency  Monetary  Frequency  Periodicity\n",
       "0     0.000000  0.525469  0.822394  0.001338   0.047244     0.170486\n",
       "1     0.000168  0.099196  0.047297  0.002393   0.007874     0.000000\n",
       "2     0.000505  0.485255  0.416216  0.003478   0.015748     0.398351\n",
       "3     0.001010  0.042895  0.041892  0.002459   0.007874     0.000000\n",
       "4     0.001683  0.117962  0.083784  0.005880   0.015748     0.050536\n",
       "5     0.001852  0.000000  0.054054  0.010238   0.000000     0.000000\n",
       "6     0.002020  0.954424  0.497297  0.006453   0.015748     0.017282\n",
       "7     0.002188  0.825737  0.664865  0.002863   0.039370     0.178656\n",
       "8     0.002357  0.739946  0.418378  0.002312   0.031496     0.277614\n",
       "9     0.002525  0.589812  0.557658  0.002145   0.015748     0.038574"
      ]
     },
     "execution_count": 15,
     "metadata": {},
     "output_type": "execute_result"
    }
   ],
   "source": [
    "class MinMax(BaseEstimator, TransformerMixin):\n",
    "    #se crea clase de estandarización\n",
    "    def fit(self,X,y=None):\n",
    "        return self\n",
    "    def transform(self,X):\n",
    "        resultado=(X.loc[:] - X.loc[:].min())/(X.loc[:].max()-X.loc[:].min())\n",
    "        return (resultado)\n",
    "    \n",
    "    pass\n",
    "\n",
    "dataset_stand=MinMax().transform(LRMFP_f)\n",
    "dataset_stand.head(10)"
   ]
  },
  {
   "cell_type": "markdown",
   "metadata": {
    "cell_id": "00032-0ca1a5f5-1aab-4290-a8d4-b19be46f81ff",
    "deepnote_cell_type": "markdown",
    "tags": []
   },
   "source": [
    "### 1.3.2 `T-SNA` Pipeline [1.0 puntos]"
   ]
  },
  {
   "cell_type": "markdown",
   "metadata": {
    "cell_id": "00033-5056169a-b068-46d2-ad1b-8b7659ab956c",
    "deepnote_cell_type": "markdown",
    "tags": []
   },
   "source": [
    "Para comenzar introduciéndose en el uso de pipeline, decide probar realizando un pipeline enfocado en la reducción de dimensionalidad y así hacer no decepcionar a Mr. Lepin con la clusterización del modelo. \n",
    "\n",
    "Configure un pipeline utilizando el algoritmo `T-SNE` sobre los datos **LRMFP**, donde, para la realización del pipeline considera los siguientes pasos:\n",
    "\n",
    "1. Como primer paso obtenga las características **LRMFP** desde el DataFrame ``df_retail_II_cleaned.pickle`` utilizando la función ``custom_features`` creada anteriormente, junto a ``FunctionTransformer()``. Considere esto como el primer paso de su pipeline.\n",
    "2. En segundo lugar usando ``ColumnTransformer()`` aplique el MinxMax scaler creado por usted sobre todas las columnas generadas en el paso anterior. \n",
    "3. Finalmente, aplique un último paso donde obtiene las 2 componentes más relevantes utilizando el algoritmo T-sne de sckit-learn.\n",
    "\n",
    "Tras aplicar las transformaciones sobre el dataset **LRMFP**, gráfique las componentes obtenidas en la reducción de dimensionalidad."
   ]
  },
  {
   "cell_type": "markdown",
   "metadata": {
    "cell_id": "00034-eb18fbe8-72dd-496b-9f30-16cfb3ab5558",
    "deepnote_cell_type": "markdown",
    "tags": []
   },
   "source": [
    "**Respuesta:**"
   ]
  },
  {
   "cell_type": "code",
   "execution_count": 16,
   "metadata": {
    "cell_id": "00035-8231e7d2-13c6-45ec-9b9d-e9ecc8c27d94",
    "deepnote_cell_type": "code",
    "tags": []
   },
   "outputs": [
    {
     "name": "stderr",
     "output_type": "stream",
     "text": [
      "/Users/christopherlara/DS_course/Labs/Lab6/testenv/lib/python3.8/site-packages/pandas/core/groupby/groupby.py:1973: FutureWarning: Treating datetime data as categorical rather than numeric in `.describe` is deprecated and will be removed in a future version of pandas. Specify `datetime_is_numeric=True` to silence this warning and adopt the future behavior now.\n",
      "  result = self.apply(lambda x: x.describe(**kwargs))\n",
      "/var/folders/tw/njmbb27s72j5p4r2vj1v0wnw0000gn/T/ipykernel_4442/4167995524.py:46: FutureWarning: casting datetime64[ns] values to int64 with .astype(...) is deprecated and will raise in a future version. Use .view(...) instead.\n",
      "  perio['seg']=perio['InvoiceDate'].astype(int)\n"
     ]
    },
    {
     "data": {
      "text/html": [
       "<div>\n",
       "<style scoped>\n",
       "    .dataframe tbody tr th:only-of-type {\n",
       "        vertical-align: middle;\n",
       "    }\n",
       "\n",
       "    .dataframe tbody tr th {\n",
       "        vertical-align: top;\n",
       "    }\n",
       "\n",
       "    .dataframe thead th {\n",
       "        text-align: right;\n",
       "    }\n",
       "</style>\n",
       "<table border=\"1\" class=\"dataframe\">\n",
       "  <thead>\n",
       "    <tr style=\"text-align: right;\">\n",
       "      <th></th>\n",
       "      <th>Customer ID</th>\n",
       "      <th>Length</th>\n",
       "      <th>Recency</th>\n",
       "      <th>Monetary</th>\n",
       "      <th>Frequency</th>\n",
       "      <th>Periodicity</th>\n",
       "    </tr>\n",
       "  </thead>\n",
       "  <tbody>\n",
       "    <tr>\n",
       "      <th>0</th>\n",
       "      <td>12346.0</td>\n",
       "      <td>196</td>\n",
       "      <td>308.285714</td>\n",
       "      <td>11.298788</td>\n",
       "      <td>7</td>\n",
       "      <td>43.601225</td>\n",
       "    </tr>\n",
       "    <tr>\n",
       "      <th>1</th>\n",
       "      <td>12347.0</td>\n",
       "      <td>37</td>\n",
       "      <td>21.500000</td>\n",
       "      <td>18.638310</td>\n",
       "      <td>2</td>\n",
       "      <td>0.000000</td>\n",
       "    </tr>\n",
       "    <tr>\n",
       "      <th>2</th>\n",
       "      <td>12349.0</td>\n",
       "      <td>181</td>\n",
       "      <td>158.000000</td>\n",
       "      <td>26.187647</td>\n",
       "      <td>3</td>\n",
       "      <td>101.876901</td>\n",
       "    </tr>\n",
       "    <tr>\n",
       "      <th>3</th>\n",
       "      <td>12352.0</td>\n",
       "      <td>16</td>\n",
       "      <td>19.500000</td>\n",
       "      <td>19.100000</td>\n",
       "      <td>2</td>\n",
       "      <td>0.000000</td>\n",
       "    </tr>\n",
       "    <tr>\n",
       "      <th>4</th>\n",
       "      <td>12356.0</td>\n",
       "      <td>44</td>\n",
       "      <td>35.000000</td>\n",
       "      <td>42.895181</td>\n",
       "      <td>3</td>\n",
       "      <td>12.924341</td>\n",
       "    </tr>\n",
       "    <tr>\n",
       "      <th>...</th>\n",
       "      <td>...</td>\n",
       "      <td>...</td>\n",
       "      <td>...</td>\n",
       "      <td>...</td>\n",
       "      <td>...</td>\n",
       "      <td>...</td>\n",
       "    </tr>\n",
       "    <tr>\n",
       "      <th>2892</th>\n",
       "      <td>18276.0</td>\n",
       "      <td>336</td>\n",
       "      <td>169.800000</td>\n",
       "      <td>16.508250</td>\n",
       "      <td>5</td>\n",
       "      <td>37.606102</td>\n",
       "    </tr>\n",
       "    <tr>\n",
       "      <th>2893</th>\n",
       "      <td>18277.0</td>\n",
       "      <td>97</td>\n",
       "      <td>71.666667</td>\n",
       "      <td>19.101250</td>\n",
       "      <td>3</td>\n",
       "      <td>41.657428</td>\n",
       "    </tr>\n",
       "    <tr>\n",
       "      <th>2894</th>\n",
       "      <td>18283.0</td>\n",
       "      <td>275</td>\n",
       "      <td>193.000000</td>\n",
       "      <td>2.854240</td>\n",
       "      <td>5</td>\n",
       "      <td>62.008786</td>\n",
       "    </tr>\n",
       "    <tr>\n",
       "      <th>2895</th>\n",
       "      <td>18286.0</td>\n",
       "      <td>247</td>\n",
       "      <td>235.500000</td>\n",
       "      <td>19.349701</td>\n",
       "      <td>2</td>\n",
       "      <td>0.000000</td>\n",
       "    </tr>\n",
       "    <tr>\n",
       "      <th>2896</th>\n",
       "      <td>18287.0</td>\n",
       "      <td>188</td>\n",
       "      <td>101.666667</td>\n",
       "      <td>27.596588</td>\n",
       "      <td>3</td>\n",
       "      <td>45.985511</td>\n",
       "    </tr>\n",
       "  </tbody>\n",
       "</table>\n",
       "<p>2897 rows × 6 columns</p>\n",
       "</div>"
      ],
      "text/plain": [
       "     Customer ID  Length     Recency   Monetary  Frequency  Periodicity\n",
       "0        12346.0     196  308.285714  11.298788          7    43.601225\n",
       "1        12347.0      37   21.500000  18.638310          2     0.000000\n",
       "2        12349.0     181  158.000000  26.187647          3   101.876901\n",
       "3        12352.0      16   19.500000  19.100000          2     0.000000\n",
       "4        12356.0      44   35.000000  42.895181          3    12.924341\n",
       "...          ...     ...         ...        ...        ...          ...\n",
       "2892     18276.0     336  169.800000  16.508250          5    37.606102\n",
       "2893     18277.0      97   71.666667  19.101250          3    41.657428\n",
       "2894     18283.0     275  193.000000   2.854240          5    62.008786\n",
       "2895     18286.0     247  235.500000  19.349701          2     0.000000\n",
       "2896     18287.0     188  101.666667  27.596588          3    45.985511\n",
       "\n",
       "[2897 rows x 6 columns]"
      ]
     },
     "execution_count": 16,
     "metadata": {},
     "output_type": "execute_result"
    }
   ],
   "source": [
    "#1\n",
    "Func_Trans = FunctionTransformer(custom_features)\n",
    "Func_Trans.transform(df_retail)"
   ]
  },
  {
   "cell_type": "code",
   "execution_count": 17,
   "metadata": {},
   "outputs": [],
   "source": [
    "\n",
    "stand_transf_column = ColumnTransformer(\n",
    "    [('Minmax', MinMax(), ['Length', 'Recency', 'Frequency','Monetary', 'Periodicity'])\n",
    "    ])\n",
    "df_pipeline = Pipeline([('estandarizacion', stand_transf_column)])"
   ]
  },
  {
   "cell_type": "code",
   "execution_count": 18,
   "metadata": {},
   "outputs": [
    {
     "name": "stderr",
     "output_type": "stream",
     "text": [
      "/Users/christopherlara/DS_course/Labs/Lab6/testenv/lib/python3.8/site-packages/sklearn/manifold/_t_sne.py:780: FutureWarning: The default initialization in TSNE will change from 'random' to 'pca' in 1.2.\n",
      "  warnings.warn(\n",
      "/Users/christopherlara/DS_course/Labs/Lab6/testenv/lib/python3.8/site-packages/sklearn/manifold/_t_sne.py:790: FutureWarning: The default learning rate in TSNE will change from 200.0 to 'auto' in 1.2.\n",
      "  warnings.warn(\n"
     ]
    },
    {
     "data": {
      "text/plain": [
       "array([[-2.4214587e+00,  2.6943893e+01],\n",
       "       [ 3.6068283e+01,  5.1464478e+01],\n",
       "       [-2.6327530e+01,  2.3925690e+01],\n",
       "       ...,\n",
       "       [-1.8721958e+01, -3.8615700e+01],\n",
       "       [ 3.1341959e-02, -4.5749474e+01],\n",
       "       [ 1.5842525e+01, -4.2117676e+01]], dtype=float32)"
      ]
     },
     "execution_count": 18,
     "metadata": {},
     "output_type": "execute_result"
    }
   ],
   "source": [
    "#3\n",
    "principal = TSNE(random_state=10)\n",
    "tsne_LRMFP_stand = principal.fit_transform(dataset_stand)\n",
    "tsne_LRMFP_stand"
   ]
  },
  {
   "cell_type": "code",
   "execution_count": 19,
   "metadata": {},
   "outputs": [
    {
     "data": {
      "image/png": "[encoded data removed]",
      "text/plain": [
       "<Figure size 432x288 with 1 Axes>"
      ]
     },
     "metadata": {
      "needs_background": "light"
     },
     "output_type": "display_data"
    }
   ],
   "source": [
    "#grafica de TSNe\n",
    "import matplotlib.pyplot as plt\n",
    "plt.scatter(tsne_LRMFP_stand[:,0], tsne_LRMFP_stand[:,1])\n",
    "plt.show()"
   ]
  },
  {
   "cell_type": "markdown",
   "metadata": {
    "cell_id": "00040-719e872a-f25c-422d-ac77-28a5cd88d28c",
    "deepnote_cell_type": "markdown",
    "tags": []
   },
   "source": [
    "### 1.3.3 Clustering"
   ]
  },
  {
   "cell_type": "markdown",
   "metadata": {
    "cell_id": "00041-8ddce401-e8d1-498d-bd79-e6d3f11d9174",
    "deepnote_cell_type": "markdown",
    "tags": []
   },
   "source": [
    "#### 1.3.3.1 Método del Codo [1 puntos]"
   ]
  },
  {
   "cell_type": "markdown",
   "metadata": {
    "cell_id": "00042-b4254feb-88f4-4a6c-8556-e11b1b5911d0",
    "deepnote_cell_type": "markdown",
    "tags": []
   },
   "source": [
    "Utilizando la clase creada para escalamiento, aplique el método del codo para visualizar cual es el número de clusters que mejor se ajustan a los datos. Realice esto utilizando el algoritmo K-means dentro de un pipeline para un $k \\in [1,20]$, donde k representa el número de clusters del k-means. Para la realización de esta sección y la próxima (1.3.3.2), considere los mismos pasos utilizados para el t-sne, pero permutando el algoritmo de reducción de dimensionalidad por k-means.\n",
    "\n",
    "A través del grafico obtenido, comente y justifique que valor de k escogería para realizar el k-means."
   ]
  },
  {
   "cell_type": "markdown",
   "metadata": {
    "cell_id": "00035-bbbef3bf-d15b-48e5-a4bb-cd9234b57e0f",
    "deepnote_cell_type": "markdown",
    "tags": []
   },
   "source": [
    "**Respuesta:**"
   ]
  },
  {
   "cell_type": "code",
   "execution_count": 20,
   "metadata": {
    "cell_id": "00035-f3c2ae6a-fc69-41da-b714-076734e1845e",
    "deepnote_cell_type": "code",
    "tags": []
   },
   "outputs": [
    {
     "data": {
      "image/png": "[encoded data removed]",
      "text/plain": [
       "<Figure size 432x288 with 1 Axes>"
      ]
     },
     "metadata": {
      "needs_background": "light"
     },
     "output_type": "display_data"
    }
   ],
   "source": [
    "#se realiza clustering para metodo del codo\n",
    "sse = []\n",
    "clusterings = list(range(1, 20))\n",
    "\n",
    "for i in clusterings:\n",
    "    \n",
    "    k_means = KMeans(n_clusters=i).fit(LRMFP_f)\n",
    "    sse.append(k_means.inertia_)\n",
    "\n",
    "plt.plot(clusterings, sse, marker=\"v\")\n",
    "plt.xlim(0,20)\n",
    "plt.title(\"Método del codo\")\n",
    "plt.xticks(clusterings)\n",
    "plt.show()"
   ]
  },
  {
   "cell_type": "code",
   "execution_count": 21,
   "metadata": {},
   "outputs": [],
   "source": [
    "#Escogería k igual a 3, ya que es en ese punto en que vemos un cambio \n",
    "#significativo en la pendiente, generando la analogía al codo de un brazo.\n",
    "#Por lo cual, acorde a lo visto en clases sobre el método, se sugiere que\n",
    "#este valor es ideal para fijar el numero de kmeans"
   ]
  },
  {
   "cell_type": "markdown",
   "metadata": {
    "cell_id": "00044-df589bc4-557f-423c-9487-748b15b95e60",
    "deepnote_cell_type": "markdown",
    "tags": []
   },
   "source": [
    "#### 1.3.3.2 Segmentación de Clientes con K-Means 🎁 [1 punto]"
   ]
  },
  {
   "cell_type": "markdown",
   "metadata": {
    "cell_id": "00045-eb892d43-2d7d-49a0-8002-164dcb56e1e1",
    "deepnote_cell_type": "markdown",
    "tags": []
   },
   "source": [
    "En base a la elección de k realizada en la sección anterior, utilice este valor escogido y entrene un modelo de K-means utilizando el mismo pipeline de scikit-learn utilizado anteriormente.\n",
    "\n",
    "Una vez ajustado los datos, genere una tabla con los promedios (o medianas) para cada uno de los atributos, agrupando estos por el clúster que pertenecen. ¿Es posible observar agrupaciones coherentes?, ¿Qué tipo de clientes posee el retail?, Justifique su respuesta y no decepcione a Mr. Lepin.\n"
   ]
  },
  {
   "cell_type": "markdown",
   "metadata": {
    "cell_id": "00046-e66d7746-b52e-4c05-b1b4-b89934c4c92c",
    "deepnote_cell_type": "markdown",
    "tags": []
   },
   "source": [
    "**Respuesta:**"
   ]
  },
  {
   "cell_type": "code",
   "execution_count": 46,
   "metadata": {
    "cell_id": "00047-48846aeb-9c0c-454e-b45c-dac210f5a007",
    "deepnote_cell_type": "code",
    "tags": []
   },
   "outputs": [
    {
     "name": "stderr",
     "output_type": "stream",
     "text": [
      "/Users/christopherlara/DS_course/Labs/Lab6/testenv/lib/python3.8/site-packages/pandas/core/groupby/groupby.py:1973: FutureWarning: Treating datetime data as categorical rather than numeric in `.describe` is deprecated and will be removed in a future version of pandas. Specify `datetime_is_numeric=True` to silence this warning and adopt the future behavior now.\n",
      "  result = self.apply(lambda x: x.describe(**kwargs))\n",
      "/var/folders/tw/njmbb27s72j5p4r2vj1v0wnw0000gn/T/ipykernel_4442/4167995524.py:46: FutureWarning: casting datetime64[ns] values to int64 with .astype(...) is deprecated and will raise in a future version. Use .view(...) instead.\n",
      "  perio['seg']=perio['InvoiceDate'].astype(int)\n"
     ]
    },
    {
     "data": {
      "text/html": [
       "<div>\n",
       "<style scoped>\n",
       "    .dataframe tbody tr th:only-of-type {\n",
       "        vertical-align: middle;\n",
       "    }\n",
       "\n",
       "    .dataframe tbody tr th {\n",
       "        vertical-align: top;\n",
       "    }\n",
       "\n",
       "    .dataframe thead th {\n",
       "        text-align: right;\n",
       "    }\n",
       "</style>\n",
       "<table border=\"1\" class=\"dataframe\">\n",
       "  <thead>\n",
       "    <tr style=\"text-align: right;\">\n",
       "      <th></th>\n",
       "      <th>Customer ID</th>\n",
       "      <th>Length</th>\n",
       "      <th>Recency</th>\n",
       "      <th>Monetary</th>\n",
       "      <th>Frequency</th>\n",
       "      <th>Periodicity</th>\n",
       "      <th>N_Cluster</th>\n",
       "    </tr>\n",
       "  </thead>\n",
       "  <tbody>\n",
       "    <tr>\n",
       "      <th>0</th>\n",
       "      <td>0.000000</td>\n",
       "      <td>0.525469</td>\n",
       "      <td>0.822394</td>\n",
       "      <td>0.001338</td>\n",
       "      <td>0.047244</td>\n",
       "      <td>0.170486</td>\n",
       "      <td>2</td>\n",
       "    </tr>\n",
       "    <tr>\n",
       "      <th>1</th>\n",
       "      <td>0.000168</td>\n",
       "      <td>0.099196</td>\n",
       "      <td>0.047297</td>\n",
       "      <td>0.002393</td>\n",
       "      <td>0.007874</td>\n",
       "      <td>0.000000</td>\n",
       "      <td>0</td>\n",
       "    </tr>\n",
       "    <tr>\n",
       "      <th>2</th>\n",
       "      <td>0.000505</td>\n",
       "      <td>0.485255</td>\n",
       "      <td>0.416216</td>\n",
       "      <td>0.003478</td>\n",
       "      <td>0.015748</td>\n",
       "      <td>0.398351</td>\n",
       "      <td>1</td>\n",
       "    </tr>\n",
       "    <tr>\n",
       "      <th>3</th>\n",
       "      <td>0.001010</td>\n",
       "      <td>0.042895</td>\n",
       "      <td>0.041892</td>\n",
       "      <td>0.002459</td>\n",
       "      <td>0.007874</td>\n",
       "      <td>0.000000</td>\n",
       "      <td>0</td>\n",
       "    </tr>\n",
       "    <tr>\n",
       "      <th>4</th>\n",
       "      <td>0.001683</td>\n",
       "      <td>0.117962</td>\n",
       "      <td>0.083784</td>\n",
       "      <td>0.005880</td>\n",
       "      <td>0.015748</td>\n",
       "      <td>0.050536</td>\n",
       "      <td>0</td>\n",
       "    </tr>\n",
       "  </tbody>\n",
       "</table>\n",
       "</div>"
      ],
      "text/plain": [
       "   Customer ID    Length   Recency  Monetary  Frequency  Periodicity  \\\n",
       "0     0.000000  0.525469  0.822394  0.001338   0.047244     0.170486   \n",
       "1     0.000168  0.099196  0.047297  0.002393   0.007874     0.000000   \n",
       "2     0.000505  0.485255  0.416216  0.003478   0.015748     0.398351   \n",
       "3     0.001010  0.042895  0.041892  0.002459   0.007874     0.000000   \n",
       "4     0.001683  0.117962  0.083784  0.005880   0.015748     0.050536   \n",
       "\n",
       "   N_Cluster  \n",
       "0          2  \n",
       "1          0  \n",
       "2          1  \n",
       "3          0  \n",
       "4          0  "
      ]
     },
     "metadata": {},
     "output_type": "display_data"
    }
   ],
   "source": [
    "#df2=df_retail.drop(['StockCode', 'Quantity','Price','Description', 'Country'])\n",
    "kmeans_pipeline = Pipeline([('LRMFP', Func_Trans),\n",
    "                            ('estandarizacion', stand_transf_column),\n",
    "                            ('clustering', KMeans(n_clusters=3)),\n",
    "                           ])\n",
    "clusters = kmeans_pipeline.fit_predict(df_retail)\n",
    "dataset_stand['N_Cluster'] = clusters\n",
    "display(dataset_stand.head(5))"
   ]
  },
  {
   "cell_type": "code",
   "execution_count": 47,
   "metadata": {},
   "outputs": [
    {
     "data": {
      "text/html": [
       "<div>\n",
       "<style scoped>\n",
       "    .dataframe tbody tr th:only-of-type {\n",
       "        vertical-align: middle;\n",
       "    }\n",
       "\n",
       "    .dataframe tbody tr th {\n",
       "        vertical-align: top;\n",
       "    }\n",
       "\n",
       "    .dataframe thead th {\n",
       "        text-align: right;\n",
       "    }\n",
       "</style>\n",
       "<table border=\"1\" class=\"dataframe\">\n",
       "  <thead>\n",
       "    <tr style=\"text-align: right;\">\n",
       "      <th></th>\n",
       "      <th>Customer ID</th>\n",
       "      <th>Length</th>\n",
       "      <th>Recency</th>\n",
       "      <th>Monetary</th>\n",
       "      <th>Frequency</th>\n",
       "      <th>Periodicity</th>\n",
       "    </tr>\n",
       "    <tr>\n",
       "      <th>N_Cluster</th>\n",
       "      <th></th>\n",
       "      <th></th>\n",
       "      <th></th>\n",
       "      <th></th>\n",
       "      <th></th>\n",
       "      <th></th>\n",
       "    </tr>\n",
       "  </thead>\n",
       "  <tbody>\n",
       "    <tr>\n",
       "      <th>0</th>\n",
       "      <td>0.516307</td>\n",
       "      <td>0.214339</td>\n",
       "      <td>0.198974</td>\n",
       "      <td>0.004354</td>\n",
       "      <td>0.015371</td>\n",
       "      <td>0.041718</td>\n",
       "    </tr>\n",
       "    <tr>\n",
       "      <th>1</th>\n",
       "      <td>0.502714</td>\n",
       "      <td>0.790781</td>\n",
       "      <td>0.466257</td>\n",
       "      <td>0.004509</td>\n",
       "      <td>0.052362</td>\n",
       "      <td>0.169002</td>\n",
       "    </tr>\n",
       "    <tr>\n",
       "      <th>2</th>\n",
       "      <td>0.498163</td>\n",
       "      <td>0.320961</td>\n",
       "      <td>0.613567</td>\n",
       "      <td>0.006458</td>\n",
       "      <td>0.014973</td>\n",
       "      <td>0.050473</td>\n",
       "    </tr>\n",
       "  </tbody>\n",
       "</table>\n",
       "</div>"
      ],
      "text/plain": [
       "           Customer ID    Length   Recency  Monetary  Frequency  Periodicity\n",
       "N_Cluster                                                                   \n",
       "0             0.516307  0.214339  0.198974  0.004354   0.015371     0.041718\n",
       "1             0.502714  0.790781  0.466257  0.004509   0.052362     0.169002\n",
       "2             0.498163  0.320961  0.613567  0.006458   0.014973     0.050473"
      ]
     },
     "execution_count": 47,
     "metadata": {},
     "output_type": "execute_result"
    }
   ],
   "source": [
    "dataset_stand.groupby('N_Cluster').mean()"
   ]
  },
  {
   "cell_type": "code",
   "execution_count": 48,
   "metadata": {},
   "outputs": [],
   "source": [
    "#Del cluster tenemos 3 tipos de clientes, donde los llamaremos 0,1,2 \n",
    "#acorde al numero de clusters\n",
    "#tenemos clientes que asisten con mayor frecuencia, mientras que otros\n",
    "#2 lo hacen con menor frecuencia. A su vez, dentro de los que lo hacen\n",
    "#con menor frecuencia tienen distinta cantidad de gasto. Pero a su vez,\n",
    "#el gasto del cliente más frecuente es similar a uno de los que tiene \n",
    "#menor frecuencia. Además el cliente de mayor frecuencia tiene una mayor\n",
    "#periodicidad. Mientras que la periodicidad de los de menor frecuencia\n",
    "#es distinta.\n",
    "#Por lo cual, a partir de los clauster podemos desprender diferentes\n",
    "#conclusiones, lo que es coherente a tener distintos perfiles."
   ]
  },
  {
   "cell_type": "markdown",
   "metadata": {
    "cell_id": "00053-4802e3b0-f4e2-4235-909a-43e607f46997",
    "deepnote_cell_type": "markdown",
    "tags": []
   },
   "source": [
    "**Respuesta Esperada:**\n",
    "\n",
    "|         | Length  | Recency   | Frequency | Monetary | Periodicity |       |\n",
    "|---------|---------|-----------|----------|-------------|-------|-------|\n",
    "| Cluster |         |           |          |             |       |       |\n",
    "|    0    |   258.8 |      45.2 |     76.1 |      1107.7 | 107.6 |   449 |\n",
    "|    1    |    76.1 |     217.6 |     45.5 |       791.7 |  14.1 |   466 |\n",
    "|    2    |   368.5 |       4.8 |   2715.0 |    226621.6 |   4.2 |     4 |\n",
    "|    3    |    85.3 |      45.7 |     65.8 |      1047.0 |  10.5 |   987 |\n",
    "|    4    |   347.2 |      15.9 |   1658.0 |     35829.3 |   8.0 |    25 |\n",
    "|    5    |   298.0 |      29.8 |    183.8 |      3639.9 |  32.0 |  1188 |"
   ]
  },
  {
   "cell_type": "markdown",
   "metadata": {
    "cell_id": "00042-95fcbe7f-ad2e-4116-92da-49ae755a4311",
    "deepnote_cell_type": "markdown",
    "tags": []
   },
   "source": [
    "#### 1.3.3.3 Plot de K-Means 📈 [0.5 puntos]\n",
    "\n"
   ]
  },
  {
   "cell_type": "markdown",
   "metadata": {
    "cell_id": "00043-33a035f7-7aaf-4aad-98a2-0c4295fa136f",
    "deepnote_cell_type": "markdown",
    "tags": []
   },
   "source": [
    "Por último, Mr. Lepin, impaciente de no entender lo que usted intenta explicarle, le solicita que por favor muestre algún resultado \"visual\" de los grupos encontrados.\n",
    "\n",
    "Para esto, grafique nuevamente las características encontradas usando `T-SNE` (no calcule de nuevo, simplemente utilice las proyecciones encontradas) y agregue las labels calculadas con kmeans como el argumento `color`.   \n",
    "\n",
    "Comente: ¿Se separan bien los distintos clusters en la visualización?\n"
   ]
  },
  {
   "cell_type": "markdown",
   "metadata": {
    "cell_id": "00044-d04e1a07-81ac-4440-9cf0-65f9f8dd6a8c",
    "deepnote_cell_type": "markdown",
    "tags": []
   },
   "source": [
    "**Respuesta:**"
   ]
  },
  {
   "cell_type": "code",
   "execution_count": 49,
   "metadata": {
    "cell_id": "00043-f95cb727-b787-474b-845d-b3d85199bea9",
    "deepnote_cell_type": "code",
    "tags": []
   },
   "outputs": [
    {
     "data": {
      "image/png": "[encoded data removed]",
      "text/plain": [
       "<Figure size 432x288 with 1 Axes>"
      ]
     },
     "metadata": {
      "needs_background": "light"
     },
     "output_type": "display_data"
    }
   ],
   "source": [
    "plt.scatter(tsne_LRMFP_stand[:,0], tsne_LRMFP_stand[:,1], c=clusters)\n",
    "plt.show()"
   ]
  },
  {
   "cell_type": "code",
   "execution_count": null,
   "metadata": {},
   "outputs": [],
   "source": [
    "#se separan muy bien los cluster"
   ]
  },
  {
   "cell_type": "markdown",
   "metadata": {
    "cell_id": "00054-62f72afd-24c1-45b9-b80c-8b252273717c",
    "deepnote_cell_type": "markdown",
    "id": "Rg4ZMq8ezAH6"
   },
   "source": [
    "# Conclusión\n",
    "Eso ha sido todo para el lab de hoy, recuerden que el laboratorio tiene un plazo de entrega de una semana y que **los días de atraso no se pueden utilizar para entregas de lab** solo para tareas. Cualquier duda del laboratorio, no duden en contactarnos por mail o U-cursos.\n",
    "\n",
    "![Gracias Totales!](https://i.pinimg.com/originals/65/ae/27/65ae270df87c3c4adcea997e48f60852.gif \"bruno\")\n"
   ]
  },
  {
   "cell_type": "markdown",
   "metadata": {
    "cell_id": "00055-fea25dcb-f3c3-4a66-9ca6-5d64924d7396",
    "deepnote_cell_type": "markdown",
    "id": "wCL1lACBzAH7"
   },
   "source": [
    "<br>\n",
    "<center>\n",
    "<img src=\"https://i.kym-cdn.com/photos/images/original/001/194/195/b18.png\" width=100 height=50 />\n",
    "</center>\n",
    "<br>"
   ]
  },
  {
   "cell_type": "markdown",
   "metadata": {
    "created_in_deepnote_cell": true,
    "deepnote_cell_type": "markdown",
    "tags": []
   },
   "source": [
    "<a style='text-decoration:none;line-height:16px;display:flex;color:#5B5B62;padding:10px;justify-content:end;' href='https://deepnote.com?utm_source=created-in-deepnote-cell&projectId=87110296-876e-426f-b91d-aaf681223468' target=\"_blank\">\n",
    "<img alt='Created in deepnote.com' style='display:inline;max-height:16px;margin:0px;margin-right:7.5px;' src='data:image/svg+xml;base64,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' > </img>\n",
    "Created in <span style='font-weight:600;margin-left:4px;'>Deepnote</span></a>"
   ]
  }
 ],
 "metadata": {
  "colab": {
   "collapsed_sections": [
    "Rcjs-dd1V-1u",
    "dkyp81nkBghF",
    "THmFfYs1AhAW"
   ],
   "name": "Copia de Tarea1.ipynb",
   "provenance": [],
   "toc_visible": true
  },
  "deepnote": {},
  "deepnote_execution_queue": [],
  "deepnote_notebook_id": "6bca2ca1-e14e-4a2d-8402-3bcc01d1af35",
  "kernelspec": {
   "display_name": "Python 3 (ipykernel)",
   "language": "python",
   "name": "python3"
  },
  "language_info": {
   "codemirror_mode": {
    "name": "ipython",
    "version": 3
   },
   "file_extension": ".py",
   "mimetype": "text/x-python",
   "name": "python",
   "nbconvert_exporter": "python",
   "pygments_lexer": "ipython3",
   "version": "3.8.0"
  },
  "toc": {
   "base_numbering": 1,
   "nav_menu": {},
   "number_sections": true,
   "sideBar": true,
   "skip_h1_title": true,
   "title_cell": "Tabla de Contenidos",
   "title_sidebar": "Contenidos",
   "toc_cell": false,
   "toc_position": {
    "height": "calc(100% - 180px)",
    "left": "10px",
    "top": "150px",
    "width": "241.867px"
   },
   "toc_section_display": true,
   "toc_window_display": true
  },
  "varInspector": {
   "cols": {
    "lenName": 16,
    "lenType": 16,
    "lenVar": 40
   },
   "kernels_config": {
    "python": {
     "delete_cmd_postfix": "",
     "delete_cmd_prefix": "del ",
     "library": "var_list.py",
     "varRefreshCmd": "print(var_dic_list())"
    },
    "r": {
     "delete_cmd_postfix": ") ",
     "delete_cmd_prefix": "rm(",
     "library": "var_list.r",
     "varRefreshCmd": "cat(var_dic_list()) "
    }
   },
   "types_to_exclude": [
    "module",
    "function",
    "builtin_function_or_method",
    "instance",
    "_Feature"
   ],
   "window_display": false
  }
 },
 "nbformat": 4,
 "nbformat_minor": 1
}
